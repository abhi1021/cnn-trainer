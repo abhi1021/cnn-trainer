{
 "cells": [
  {
   "cell_type": "markdown",
   "metadata": {},
   "source": [
    "# Push PyTorch Model to Hugging Face Hub from Colab"
   ]
  },
  {
   "cell_type": "code",
   "execution_count": null,
   "metadata": {},
   "outputs": [],
   "source": [
    "pip install huggingface_hub"
   ]
  },
  {
   "cell_type": "code",
   "execution_count": null,
   "metadata": {},
   "outputs": [],
   "source": [
    "from huggingface_hub import notebook_login\\n",
    "notebook_login()"
   ]
  },
  {
   "cell_type": "code",
   "execution_count": null,
   "metadata": {},
   "outputs": [],
   "source": [
    "import torch\\n",
    "import torch.nn as nn\\n",
    "from huggingface_hub import PyTorchModelHubMixin\\n",
    "\\n",
    "class MyModel(nn.Module, PyTorchModelHubMixin):\\n",
    "    def __init__(self, config):\\n",
    "        super().__init__()\\n",
    "        # ... your architecture ...\\n",
    "\\n",
    "    def forward(self, x):\\n",
    "        # ... forward pass ...\\n",
    "\\n",
    "# After training, save and push:\\n",
    "model.save_pretrained(\\"my-awesome-model\\")\\n",
    "model.push_to_hub(\\"your-username/my-awesome-model\\")"
   ]
  }
 ],
 "metadata": {
  "kernelspec": {
   "display_name": "Python 3",
   "language": "python",
   "name": "python3"
  },
  "language_info": {
   "name": "python",
   "version": "3.x"
  }
 },
 "nbformat": 4,
 "nbformat_minor": 0
}