{
  "nbformat": 4,
  "nbformat_minor": 0,
  "metadata": {
    "colab": {
      "provenance": [],
      "gpuType": "T4"
    },
    "kernelspec": {
      "name": "python3",
      "display_name": "Python 3"
    },
    "language_info": {
      "name": "python"
    },
    "accelerator": "GPU"
  },
  "cells": [
    {
      "cell_type": "code",
      "execution_count": null,
      "metadata": {
        "colab": {
          "base_uri": "https://localhost:8080/",
          "height": 1000
        },
        "id": "QNNO1QwLh8b9",
        "outputId": "753ee7b1-9281-4b7e-9443-0aa215cd029f"
      },
      "outputs": [
        {
          "output_type": "stream",
          "name": "stderr",
          "text": [
            "/tmp/ipython-input-3012144169.py:96: UserWarning: Argument(s) 'value' are not valid for transform PadIfNeeded\n",
            "  A.PadIfNeeded(min_height=40, min_width=40, border_mode=0, value=0, p=1.0),  # Pad first\n",
            "/tmp/ipython-input-3012144169.py:101: UserWarning: Argument(s) 'max_holes, max_height, max_width, min_height, min_width, fill_value' are not valid for transform CoarseDropout\n",
            "  A.CoarseDropout(\n",
            "/tmp/ipython-input-3012144169.py:110: UserWarning: Argument(s) 'var_limit' are not valid for transform GaussNoise\n",
            "  A.GaussNoise(var_limit=(10.0, 50.0), p=1.0),\n"
          ]
        },
        {
          "output_type": "stream",
          "name": "stdout",
          "text": [
            "CUDA Available? True\n"
          ]
        },
        {
          "output_type": "stream",
          "name": "stderr",
          "text": [
            "WARNING:matplotlib.image:Clipping input data to the valid range for imshow with RGB data ([0..1] for floats or [0..255] for integers). Got range [8.106231241811201e-10..1.000000023317337].\n"
          ]
        },
        {
          "output_type": "stream",
          "name": "stdout",
          "text": [
            "torch.Size([128, 3, 32, 32])\n",
            "torch.Size([128])\n",
            "whale spider camel elephant\n"
          ]
        },
        {
          "output_type": "display_data",
          "data": {
            "text/plain": [
              "<Figure size 640x480 with 1 Axes>"
            ],
            "image/png": "[encoded data removed]"
          },
          "metadata": {}
        },
        {
          "output_type": "stream",
          "name": "stdout",
          "text": [
            "cuda\n",
            "----------------------------------------------------------------\n",
            "        Layer (type)               Output Shape         Param #\n",
            "================================================================\n",
            "            Conv2d-1           [-1, 64, 32, 32]           1,728\n",
            "       BatchNorm2d-2           [-1, 64, 32, 32]             128\n",
            "              ReLU-3           [-1, 64, 32, 32]               0\n",
            "            Conv2d-4           [-1, 64, 32, 32]          36,864\n",
            "       BatchNorm2d-5           [-1, 64, 32, 32]             128\n",
            "              ReLU-6           [-1, 64, 32, 32]               0\n",
            "            Conv2d-7           [-1, 64, 32, 32]          36,864\n",
            "       BatchNorm2d-8           [-1, 64, 32, 32]             128\n",
            "              ReLU-9           [-1, 64, 32, 32]               0\n",
            "    ResidualBlock-10           [-1, 64, 32, 32]               0\n",
            "           Conv2d-11           [-1, 64, 32, 32]          36,864\n",
            "      BatchNorm2d-12           [-1, 64, 32, 32]             128\n",
            "             ReLU-13           [-1, 64, 32, 32]               0\n",
            "           Conv2d-14           [-1, 64, 32, 32]          36,864\n",
            "      BatchNorm2d-15           [-1, 64, 32, 32]             128\n",
            "             ReLU-16           [-1, 64, 32, 32]               0\n",
            "    ResidualBlock-17           [-1, 64, 32, 32]               0\n",
            "           Conv2d-18           [-1, 64, 32, 32]          36,864\n",
            "      BatchNorm2d-19           [-1, 64, 32, 32]             128\n",
            "             ReLU-20           [-1, 64, 32, 32]               0\n",
            "           Conv2d-21           [-1, 64, 32, 32]          36,864\n",
            "      BatchNorm2d-22           [-1, 64, 32, 32]             128\n",
            "             ReLU-23           [-1, 64, 32, 32]               0\n",
            "    ResidualBlock-24           [-1, 64, 32, 32]               0\n",
            "           Conv2d-25           [-1, 64, 32, 32]          36,864\n",
            "      BatchNorm2d-26           [-1, 64, 32, 32]             128\n",
            "             ReLU-27           [-1, 64, 32, 32]               0\n",
            "           Conv2d-28           [-1, 64, 32, 32]          36,864\n",
            "      BatchNorm2d-29           [-1, 64, 32, 32]             128\n",
            "             ReLU-30           [-1, 64, 32, 32]               0\n",
            "    ResidualBlock-31           [-1, 64, 32, 32]               0\n",
            "           Conv2d-32           [-1, 64, 32, 32]          36,864\n",
            "      BatchNorm2d-33           [-1, 64, 32, 32]             128\n",
            "             ReLU-34           [-1, 64, 32, 32]               0\n",
            "           Conv2d-35           [-1, 64, 32, 32]          36,864\n",
            "      BatchNorm2d-36           [-1, 64, 32, 32]             128\n",
            "             ReLU-37           [-1, 64, 32, 32]               0\n",
            "    ResidualBlock-38           [-1, 64, 32, 32]               0\n",
            "           Conv2d-39          [-1, 128, 16, 16]           8,192\n",
            "      BatchNorm2d-40          [-1, 128, 16, 16]             256\n",
            "           Conv2d-41          [-1, 128, 16, 16]          73,728\n",
            "      BatchNorm2d-42          [-1, 128, 16, 16]             256\n",
            "             ReLU-43          [-1, 128, 16, 16]               0\n",
            "           Conv2d-44          [-1, 128, 16, 16]         147,456\n",
            "      BatchNorm2d-45          [-1, 128, 16, 16]             256\n",
            "             ReLU-46          [-1, 128, 16, 16]               0\n",
            "    ResidualBlock-47          [-1, 128, 16, 16]               0\n",
            "           Conv2d-48          [-1, 128, 16, 16]         147,456\n",
            "      BatchNorm2d-49          [-1, 128, 16, 16]             256\n",
            "             ReLU-50          [-1, 128, 16, 16]               0\n",
            "           Conv2d-51          [-1, 128, 16, 16]         147,456\n",
            "      BatchNorm2d-52          [-1, 128, 16, 16]             256\n",
            "             ReLU-53          [-1, 128, 16, 16]               0\n",
            "    ResidualBlock-54          [-1, 128, 16, 16]               0\n",
            "           Conv2d-55          [-1, 128, 16, 16]         147,456\n",
            "      BatchNorm2d-56          [-1, 128, 16, 16]             256\n",
            "             ReLU-57          [-1, 128, 16, 16]               0\n",
            "           Conv2d-58          [-1, 128, 16, 16]         147,456\n",
            "      BatchNorm2d-59          [-1, 128, 16, 16]             256\n",
            "             ReLU-60          [-1, 128, 16, 16]               0\n",
            "    ResidualBlock-61          [-1, 128, 16, 16]               0\n",
            "           Conv2d-62          [-1, 128, 16, 16]         147,456\n",
            "      BatchNorm2d-63          [-1, 128, 16, 16]             256\n",
            "             ReLU-64          [-1, 128, 16, 16]               0\n",
            "           Conv2d-65          [-1, 128, 16, 16]         147,456\n",
            "      BatchNorm2d-66          [-1, 128, 16, 16]             256\n",
            "             ReLU-67          [-1, 128, 16, 16]               0\n",
            "    ResidualBlock-68          [-1, 128, 16, 16]               0\n",
            "           Conv2d-69          [-1, 128, 16, 16]         147,456\n",
            "      BatchNorm2d-70          [-1, 128, 16, 16]             256\n",
            "             ReLU-71          [-1, 128, 16, 16]               0\n",
            "           Conv2d-72          [-1, 128, 16, 16]         147,456\n",
            "      BatchNorm2d-73          [-1, 128, 16, 16]             256\n",
            "             ReLU-74          [-1, 128, 16, 16]               0\n",
            "    ResidualBlock-75          [-1, 128, 16, 16]               0\n",
            "           Conv2d-76            [-1, 256, 8, 8]          32,768\n",
            "      BatchNorm2d-77            [-1, 256, 8, 8]             512\n",
            "           Conv2d-78            [-1, 256, 8, 8]         294,912\n",
            "      BatchNorm2d-79            [-1, 256, 8, 8]             512\n",
            "             ReLU-80            [-1, 256, 8, 8]               0\n",
            "           Conv2d-81            [-1, 256, 8, 8]         589,824\n",
            "      BatchNorm2d-82            [-1, 256, 8, 8]             512\n",
            "             ReLU-83            [-1, 256, 8, 8]               0\n",
            "    ResidualBlock-84            [-1, 256, 8, 8]               0\n",
            "           Conv2d-85            [-1, 256, 8, 8]         589,824\n",
            "      BatchNorm2d-86            [-1, 256, 8, 8]             512\n",
            "             ReLU-87            [-1, 256, 8, 8]               0\n",
            "           Conv2d-88            [-1, 256, 8, 8]         589,824\n",
            "      BatchNorm2d-89            [-1, 256, 8, 8]             512\n",
            "             ReLU-90            [-1, 256, 8, 8]               0\n",
            "    ResidualBlock-91            [-1, 256, 8, 8]               0\n",
            "           Conv2d-92            [-1, 256, 8, 8]         589,824\n",
            "      BatchNorm2d-93            [-1, 256, 8, 8]             512\n",
            "             ReLU-94            [-1, 256, 8, 8]               0\n",
            "           Conv2d-95            [-1, 256, 8, 8]         589,824\n",
            "      BatchNorm2d-96            [-1, 256, 8, 8]             512\n",
            "             ReLU-97            [-1, 256, 8, 8]               0\n",
            "    ResidualBlock-98            [-1, 256, 8, 8]               0\n",
            "           Conv2d-99            [-1, 256, 8, 8]         589,824\n",
            "     BatchNorm2d-100            [-1, 256, 8, 8]             512\n",
            "            ReLU-101            [-1, 256, 8, 8]               0\n",
            "          Conv2d-102            [-1, 256, 8, 8]         589,824\n",
            "     BatchNorm2d-103            [-1, 256, 8, 8]             512\n",
            "            ReLU-104            [-1, 256, 8, 8]               0\n",
            "   ResidualBlock-105            [-1, 256, 8, 8]               0\n",
            "          Conv2d-106            [-1, 256, 8, 8]         589,824\n",
            "     BatchNorm2d-107            [-1, 256, 8, 8]             512\n",
            "            ReLU-108            [-1, 256, 8, 8]               0\n",
            "          Conv2d-109            [-1, 256, 8, 8]         589,824\n",
            "     BatchNorm2d-110            [-1, 256, 8, 8]             512\n",
            "            ReLU-111            [-1, 256, 8, 8]               0\n",
            "   ResidualBlock-112            [-1, 256, 8, 8]               0\n",
            "          Conv2d-113            [-1, 512, 4, 4]         131,072\n",
            "     BatchNorm2d-114            [-1, 512, 4, 4]           1,024\n",
            "          Conv2d-115            [-1, 512, 4, 4]       1,179,648\n",
            "     BatchNorm2d-116            [-1, 512, 4, 4]           1,024\n",
            "            ReLU-117            [-1, 512, 4, 4]               0\n",
            "          Conv2d-118            [-1, 512, 4, 4]       2,359,296\n",
            "     BatchNorm2d-119            [-1, 512, 4, 4]           1,024\n",
            "            ReLU-120            [-1, 512, 4, 4]               0\n",
            "   ResidualBlock-121            [-1, 512, 4, 4]               0\n",
            "          Conv2d-122            [-1, 512, 4, 4]       2,359,296\n",
            "     BatchNorm2d-123            [-1, 512, 4, 4]           1,024\n",
            "            ReLU-124            [-1, 512, 4, 4]               0\n",
            "          Conv2d-125            [-1, 512, 4, 4]       2,359,296\n",
            "     BatchNorm2d-126            [-1, 512, 4, 4]           1,024\n",
            "            ReLU-127            [-1, 512, 4, 4]               0\n",
            "   ResidualBlock-128            [-1, 512, 4, 4]               0\n",
            "          Conv2d-129            [-1, 512, 4, 4]       2,359,296\n",
            "     BatchNorm2d-130            [-1, 512, 4, 4]           1,024\n",
            "            ReLU-131            [-1, 512, 4, 4]               0\n",
            "          Conv2d-132            [-1, 512, 4, 4]       2,359,296\n",
            "     BatchNorm2d-133            [-1, 512, 4, 4]           1,024\n",
            "            ReLU-134            [-1, 512, 4, 4]               0\n",
            "   ResidualBlock-135            [-1, 512, 4, 4]               0\n",
            "          Conv2d-136            [-1, 512, 4, 4]       2,359,296\n",
            "     BatchNorm2d-137            [-1, 512, 4, 4]           1,024\n",
            "            ReLU-138            [-1, 512, 4, 4]               0\n",
            "          Conv2d-139            [-1, 512, 4, 4]       2,359,296\n",
            "     BatchNorm2d-140            [-1, 512, 4, 4]           1,024\n",
            "            ReLU-141            [-1, 512, 4, 4]               0\n",
            "   ResidualBlock-142            [-1, 512, 4, 4]               0\n",
            "          Conv2d-143            [-1, 512, 4, 4]       2,359,296\n",
            "     BatchNorm2d-144            [-1, 512, 4, 4]           1,024\n",
            "            ReLU-145            [-1, 512, 4, 4]               0\n",
            "          Conv2d-146            [-1, 512, 4, 4]       2,359,296\n",
            "     BatchNorm2d-147            [-1, 512, 4, 4]           1,024\n",
            "            ReLU-148            [-1, 512, 4, 4]               0\n",
            "   ResidualBlock-149            [-1, 512, 4, 4]               0\n",
            "AdaptiveAvgPool2d-150            [-1, 512, 1, 1]               0\n",
            "         Dropout-151                  [-1, 512]               0\n",
            "          Linear-152                  [-1, 100]          51,300\n",
            "================================================================\n",
            "Total params: 30,032,292\n",
            "Trainable params: 30,032,292\n",
            "Non-trainable params: 0\n",
            "----------------------------------------------------------------\n",
            "Input size (MB): 0.01\n",
            "Forward/backward pass size (MB): 35.20\n",
            "Params size (MB): 114.56\n",
            "Estimated Total Size (MB): 149.77\n",
            "----------------------------------------------------------------\n",
            "EPOCH: 0\n"
          ]
        },
        {
          "output_type": "stream",
          "name": "stderr",
          "text": [
            "Loss=4.062119483947754 Batch_id=390 Accuracy=5.11: 100%|██████████| 391/391 [01:26<00:00,  4.50it/s]\n"
          ]
        },
        {
          "output_type": "stream",
          "name": "stdout",
          "text": [
            "\n",
            "Test set: Average loss: 3.7973, Accuracy: 1120/10000 (11.20%)\n",
            "\n",
            "Epoch 0: Train loss 4.3367, Train acc 5.11%, Test loss 3.7973, Test acc 11.20%\n",
            "EPOCH: 1\n"
          ]
        },
        {
          "output_type": "stream",
          "name": "stderr",
          "text": [
            "Loss=3.6976451873779297 Batch_id=390 Accuracy=10.73: 100%|██████████| 391/391 [01:25<00:00,  4.58it/s]\n"
          ]
        },
        {
          "output_type": "stream",
          "name": "stdout",
          "text": [
            "\n",
            "Test set: Average loss: 3.5884, Accuracy: 1628/10000 (16.28%)\n",
            "\n",
            "Epoch 1: Train loss 3.9792, Train acc 10.73%, Test loss 3.5884, Test acc 16.28%\n",
            "EPOCH: 2\n"
          ]
        },
        {
          "output_type": "stream",
          "name": "stderr",
          "text": [
            "Loss=3.6955058574676514 Batch_id=390 Accuracy=14.39: 100%|██████████| 391/391 [01:25<00:00,  4.57it/s]\n"
          ]
        },
        {
          "output_type": "stream",
          "name": "stdout",
          "text": [
            "\n",
            "Test set: Average loss: 3.2527, Accuracy: 2117/10000 (21.17%)\n",
            "\n",
            "Epoch 2: Train loss 3.7980, Train acc 14.39%, Test loss 3.2527, Test acc 21.17%\n",
            "EPOCH: 3\n"
          ]
        },
        {
          "output_type": "stream",
          "name": "stderr",
          "text": [
            "Loss=3.558255672454834 Batch_id=390 Accuracy=18.60: 100%|██████████| 391/391 [01:25<00:00,  4.55it/s]\n"
          ]
        },
        {
          "output_type": "stream",
          "name": "stdout",
          "text": [
            "\n",
            "Test set: Average loss: 3.0464, Accuracy: 2581/10000 (25.81%)\n",
            "\n",
            "Epoch 3: Train loss 3.6121, Train acc 18.60%, Test loss 3.0464, Test acc 25.81%\n",
            "EPOCH: 4\n"
          ]
        },
        {
          "output_type": "stream",
          "name": "stderr",
          "text": [
            "Loss=3.3058018684387207 Batch_id=390 Accuracy=22.19: 100%|██████████| 391/391 [01:25<00:00,  4.55it/s]\n"
          ]
        },
        {
          "output_type": "stream",
          "name": "stdout",
          "text": [
            "\n",
            "Test set: Average loss: 2.7197, Accuracy: 3090/10000 (30.90%)\n",
            "\n",
            "Epoch 4: Train loss 3.4554, Train acc 22.19%, Test loss 2.7197, Test acc 30.90%\n",
            "EPOCH: 5\n"
          ]
        },
        {
          "output_type": "stream",
          "name": "stderr",
          "text": [
            "Loss=3.3205249309539795 Batch_id=390 Accuracy=25.63: 100%|██████████| 391/391 [01:26<00:00,  4.55it/s]\n"
          ]
        },
        {
          "output_type": "stream",
          "name": "stdout",
          "text": [
            "\n",
            "Test set: Average loss: 2.9007, Accuracy: 3348/10000 (33.48%)\n",
            "\n",
            "Epoch 5: Train loss 3.3007, Train acc 25.63%, Test loss 2.9007, Test acc 33.48%\n",
            "EPOCH: 6\n"
          ]
        },
        {
          "output_type": "stream",
          "name": "stderr",
          "text": [
            "Loss=3.067979574203491 Batch_id=390 Accuracy=28.65: 100%|██████████| 391/391 [01:26<00:00,  4.54it/s]\n"
          ]
        },
        {
          "output_type": "stream",
          "name": "stdout",
          "text": [
            "\n",
            "Test set: Average loss: 2.5260, Accuracy: 3925/10000 (39.25%)\n",
            "\n",
            "Epoch 6: Train loss 3.1972, Train acc 28.65%, Test loss 2.5260, Test acc 39.25%\n",
            "EPOCH: 7\n"
          ]
        },
        {
          "output_type": "stream",
          "name": "stderr",
          "text": [
            "Loss=3.0295019149780273 Batch_id=390 Accuracy=30.89: 100%|██████████| 391/391 [01:25<00:00,  4.56it/s]\n"
          ]
        },
        {
          "output_type": "stream",
          "name": "stdout",
          "text": [
            "\n",
            "Test set: Average loss: 2.2363, Accuracy: 4171/10000 (41.71%)\n",
            "\n",
            "Epoch 7: Train loss 3.1039, Train acc 30.89%, Test loss 2.2363, Test acc 41.71%\n",
            "EPOCH: 8\n"
          ]
        },
        {
          "output_type": "stream",
          "name": "stderr",
          "text": [
            "Loss=2.8491671085357666 Batch_id=390 Accuracy=32.94: 100%|██████████| 391/391 [01:25<00:00,  4.56it/s]\n"
          ]
        },
        {
          "output_type": "stream",
          "name": "stdout",
          "text": [
            "\n",
            "Test set: Average loss: 2.1561, Accuracy: 4276/10000 (42.76%)\n",
            "\n",
            "Epoch 8: Train loss 3.0226, Train acc 32.94%, Test loss 2.1561, Test acc 42.76%\n",
            "EPOCH: 9\n"
          ]
        },
        {
          "output_type": "stream",
          "name": "stderr",
          "text": [
            "Loss=4.060159206390381 Batch_id=390 Accuracy=36.46: 100%|██████████| 391/391 [01:25<00:00,  4.56it/s]\n"
          ]
        },
        {
          "output_type": "stream",
          "name": "stdout",
          "text": [
            "\n",
            "Test set: Average loss: 2.0526, Accuracy: 4632/10000 (46.32%)\n",
            "\n",
            "Epoch 9: Train loss 2.9007, Train acc 36.46%, Test loss 2.0526, Test acc 46.32%\n",
            "EPOCH: 10\n"
          ]
        },
        {
          "output_type": "stream",
          "name": "stderr",
          "text": [
            "Loss=2.8891255855560303 Batch_id=390 Accuracy=36.66: 100%|██████████| 391/391 [01:25<00:00,  4.56it/s]\n"
          ]
        },
        {
          "output_type": "stream",
          "name": "stdout",
          "text": [
            "\n",
            "Test set: Average loss: 2.0149, Accuracy: 4643/10000 (46.43%)\n",
            "\n",
            "Epoch 10: Train loss 2.8911, Train acc 36.66%, Test loss 2.0149, Test acc 46.43%\n",
            "EPOCH: 11\n"
          ]
        },
        {
          "output_type": "stream",
          "name": "stderr",
          "text": [
            "Loss=2.8079915046691895 Batch_id=390 Accuracy=37.92: 100%|██████████| 391/391 [01:26<00:00,  4.54it/s]\n"
          ]
        },
        {
          "output_type": "stream",
          "name": "stdout",
          "text": [
            "\n",
            "Test set: Average loss: 1.8862, Accuracy: 5017/10000 (50.17%)\n",
            "\n",
            "Epoch 11: Train loss 2.8712, Train acc 37.92%, Test loss 1.8862, Test acc 50.17%\n",
            "EPOCH: 12\n"
          ]
        },
        {
          "output_type": "stream",
          "name": "stderr",
          "text": [
            "Loss=2.7384257316589355 Batch_id=390 Accuracy=39.81: 100%|██████████| 391/391 [01:26<00:00,  4.55it/s]\n"
          ]
        },
        {
          "output_type": "stream",
          "name": "stdout",
          "text": [
            "\n",
            "Test set: Average loss: 1.9075, Accuracy: 4920/10000 (49.20%)\n",
            "\n",
            "Epoch 12: Train loss 2.7912, Train acc 39.81%, Test loss 1.9075, Test acc 49.20%\n",
            "EPOCH: 13\n"
          ]
        },
        {
          "output_type": "stream",
          "name": "stderr",
          "text": [
            "Loss=2.626460075378418 Batch_id=390 Accuracy=41.61: 100%|██████████| 391/391 [01:25<00:00,  4.55it/s]\n"
          ]
        },
        {
          "output_type": "stream",
          "name": "stdout",
          "text": [
            "\n",
            "Test set: Average loss: 1.9546, Accuracy: 4818/10000 (48.18%)\n",
            "\n",
            "Epoch 13: Train loss 2.7089, Train acc 41.61%, Test loss 1.9546, Test acc 48.18%\n",
            "EPOCH: 14\n"
          ]
        },
        {
          "output_type": "stream",
          "name": "stderr",
          "text": [
            "Loss=2.6324095726013184 Batch_id=390 Accuracy=41.90: 100%|██████████| 391/391 [01:25<00:00,  4.55it/s]\n"
          ]
        },
        {
          "output_type": "stream",
          "name": "stdout",
          "text": [
            "\n",
            "Test set: Average loss: 1.7445, Accuracy: 5316/10000 (53.16%)\n",
            "\n",
            "Epoch 14: Train loss 2.6897, Train acc 41.90%, Test loss 1.7445, Test acc 53.16%\n",
            "EPOCH: 15\n"
          ]
        },
        {
          "output_type": "stream",
          "name": "stderr",
          "text": [
            "Loss=2.38157320022583 Batch_id=390 Accuracy=42.90: 100%|██████████| 391/391 [01:26<00:00,  4.52it/s]\n"
          ]
        },
        {
          "output_type": "stream",
          "name": "stdout",
          "text": [
            "\n",
            "Test set: Average loss: 1.7475, Accuracy: 5383/10000 (53.83%)\n",
            "\n",
            "Epoch 15: Train loss 2.6727, Train acc 42.90%, Test loss 1.7475, Test acc 53.83%\n",
            "EPOCH: 16\n"
          ]
        },
        {
          "output_type": "stream",
          "name": "stderr",
          "text": [
            "Loss=3.1600022315979004 Batch_id=390 Accuracy=43.59: 100%|██████████| 391/391 [01:26<00:00,  4.54it/s]\n"
          ]
        },
        {
          "output_type": "stream",
          "name": "stdout",
          "text": [
            "\n",
            "Test set: Average loss: 1.7443, Accuracy: 5361/10000 (53.61%)\n",
            "\n",
            "Epoch 16: Train loss 2.6641, Train acc 43.59%, Test loss 1.7443, Test acc 53.61%\n",
            "EPOCH: 17\n"
          ]
        },
        {
          "output_type": "stream",
          "name": "stderr",
          "text": [
            "Loss=2.373722791671753 Batch_id=390 Accuracy=43.13: 100%|██████████| 391/391 [01:25<00:00,  4.55it/s]\n"
          ]
        },
        {
          "output_type": "stream",
          "name": "stdout",
          "text": [
            "\n",
            "Test set: Average loss: 1.8403, Accuracy: 5172/10000 (51.72%)\n",
            "\n",
            "Epoch 17: Train loss 2.6591, Train acc 43.13%, Test loss 1.8403, Test acc 51.72%\n",
            "EPOCH: 18\n"
          ]
        },
        {
          "output_type": "stream",
          "name": "stderr",
          "text": [
            "Loss=3.096524715423584 Batch_id=390 Accuracy=44.78: 100%|██████████| 391/391 [01:25<00:00,  4.56it/s]\n"
          ]
        },
        {
          "output_type": "stream",
          "name": "stdout",
          "text": [
            "\n",
            "Test set: Average loss: 1.6826, Accuracy: 5622/10000 (56.22%)\n",
            "\n",
            "Epoch 18: Train loss 2.6152, Train acc 44.78%, Test loss 1.6826, Test acc 56.22%\n",
            "EPOCH: 19\n"
          ]
        },
        {
          "output_type": "stream",
          "name": "stderr",
          "text": [
            "Loss=2.2893829345703125 Batch_id=390 Accuracy=46.13: 100%|██████████| 391/391 [01:25<00:00,  4.56it/s]\n"
          ]
        },
        {
          "output_type": "stream",
          "name": "stdout",
          "text": [
            "\n",
            "Test set: Average loss: 1.7259, Accuracy: 5393/10000 (53.93%)\n",
            "\n",
            "Epoch 19: Train loss 2.5746, Train acc 46.13%, Test loss 1.7259, Test acc 53.93%\n",
            "EPOCH: 20\n"
          ]
        },
        {
          "output_type": "stream",
          "name": "stderr",
          "text": [
            "Loss=2.7213242053985596 Batch_id=390 Accuracy=47.22: 100%|██████████| 391/391 [01:25<00:00,  4.56it/s]\n"
          ]
        },
        {
          "output_type": "stream",
          "name": "stdout",
          "text": [
            "\n",
            "Test set: Average loss: 1.6283, Accuracy: 5727/10000 (57.27%)\n",
            "\n",
            "Epoch 20: Train loss 2.5259, Train acc 47.22%, Test loss 1.6283, Test acc 57.27%\n",
            "EPOCH: 21\n"
          ]
        },
        {
          "output_type": "stream",
          "name": "stderr",
          "text": [
            "Loss=2.609081745147705 Batch_id=390 Accuracy=47.21: 100%|██████████| 391/391 [01:25<00:00,  4.56it/s]\n"
          ]
        },
        {
          "output_type": "stream",
          "name": "stdout",
          "text": [
            "\n",
            "Test set: Average loss: 1.7809, Accuracy: 5253/10000 (52.53%)\n",
            "\n",
            "Epoch 21: Train loss 2.5263, Train acc 47.21%, Test loss 1.7809, Test acc 52.53%\n",
            "EPOCH: 22\n"
          ]
        },
        {
          "output_type": "stream",
          "name": "stderr",
          "text": [
            "Loss=2.5075035095214844 Batch_id=390 Accuracy=48.04: 100%|██████████| 391/391 [01:25<00:00,  4.56it/s]\n"
          ]
        },
        {
          "output_type": "stream",
          "name": "stdout",
          "text": [
            "\n",
            "Test set: Average loss: 1.7908, Accuracy: 5288/10000 (52.88%)\n",
            "\n",
            "Epoch 22: Train loss 2.5169, Train acc 48.04%, Test loss 1.7908, Test acc 52.88%\n",
            "EPOCH: 23\n"
          ]
        },
        {
          "output_type": "stream",
          "name": "stderr",
          "text": [
            "Loss=2.4355101585388184 Batch_id=390 Accuracy=48.18: 100%|██████████| 391/391 [01:25<00:00,  4.55it/s]\n"
          ]
        },
        {
          "output_type": "stream",
          "name": "stdout",
          "text": [
            "\n",
            "Test set: Average loss: 1.6011, Accuracy: 5763/10000 (57.63%)\n",
            "\n",
            "Epoch 23: Train loss 2.4842, Train acc 48.18%, Test loss 1.6011, Test acc 57.63%\n",
            "EPOCH: 24\n"
          ]
        },
        {
          "output_type": "stream",
          "name": "stderr",
          "text": [
            "Loss=2.5558483600616455 Batch_id=390 Accuracy=47.54: 100%|██████████| 391/391 [01:25<00:00,  4.57it/s]\n"
          ]
        },
        {
          "output_type": "stream",
          "name": "stdout",
          "text": [
            "\n",
            "Test set: Average loss: 1.6715, Accuracy: 5534/10000 (55.34%)\n",
            "\n",
            "Epoch 24: Train loss 2.5398, Train acc 47.54%, Test loss 1.6715, Test acc 55.34%\n",
            "EPOCH: 25\n"
          ]
        },
        {
          "output_type": "stream",
          "name": "stderr",
          "text": [
            "Loss=2.320584297180176 Batch_id=390 Accuracy=48.47: 100%|██████████| 391/391 [01:25<00:00,  4.57it/s]\n"
          ]
        },
        {
          "output_type": "stream",
          "name": "stdout",
          "text": [
            "\n",
            "Test set: Average loss: 1.6540, Accuracy: 5647/10000 (56.47%)\n",
            "\n",
            "Epoch 25: Train loss 2.4889, Train acc 48.47%, Test loss 1.6540, Test acc 56.47%\n",
            "EPOCH: 26\n"
          ]
        },
        {
          "output_type": "stream",
          "name": "stderr",
          "text": [
            "Loss=2.1275670528411865 Batch_id=390 Accuracy=48.87: 100%|██████████| 391/391 [01:25<00:00,  4.56it/s]\n"
          ]
        },
        {
          "output_type": "stream",
          "name": "stdout",
          "text": [
            "\n",
            "Test set: Average loss: 1.6042, Accuracy: 5696/10000 (56.96%)\n",
            "\n",
            "Epoch 26: Train loss 2.4529, Train acc 48.87%, Test loss 1.6042, Test acc 56.96%\n",
            "EPOCH: 27\n"
          ]
        },
        {
          "output_type": "stream",
          "name": "stderr",
          "text": [
            "Loss=3.2975549697875977 Batch_id=390 Accuracy=49.18: 100%|██████████| 391/391 [01:25<00:00,  4.56it/s]\n"
          ]
        },
        {
          "output_type": "stream",
          "name": "stdout",
          "text": [
            "\n",
            "Test set: Average loss: 1.6603, Accuracy: 5686/10000 (56.86%)\n",
            "\n",
            "Epoch 27: Train loss 2.4730, Train acc 49.18%, Test loss 1.6603, Test acc 56.86%\n",
            "EPOCH: 28\n"
          ]
        },
        {
          "output_type": "stream",
          "name": "stderr",
          "text": [
            "Loss=1.856998085975647 Batch_id=390 Accuracy=48.76: 100%|██████████| 391/391 [01:25<00:00,  4.56it/s]\n"
          ]
        },
        {
          "output_type": "stream",
          "name": "stdout",
          "text": [
            "\n",
            "Test set: Average loss: 1.7136, Accuracy: 5560/10000 (55.60%)\n",
            "\n",
            "Epoch 28: Train loss 2.4928, Train acc 48.76%, Test loss 1.7136, Test acc 55.60%\n",
            "EPOCH: 29\n"
          ]
        },
        {
          "output_type": "stream",
          "name": "stderr",
          "text": [
            "Loss=3.3385326862335205 Batch_id=390 Accuracy=48.86: 100%|██████████| 391/391 [01:25<00:00,  4.57it/s]\n"
          ]
        },
        {
          "output_type": "stream",
          "name": "stdout",
          "text": [
            "\n",
            "Test set: Average loss: 1.8584, Accuracy: 5248/10000 (52.48%)\n",
            "\n",
            "Epoch 29: Train loss 2.4837, Train acc 48.86%, Test loss 1.8584, Test acc 52.48%\n",
            "EPOCH: 30\n"
          ]
        },
        {
          "output_type": "stream",
          "name": "stderr",
          "text": [
            "Loss=2.3967907428741455 Batch_id=390 Accuracy=50.51: 100%|██████████| 391/391 [01:25<00:00,  4.58it/s]\n"
          ]
        },
        {
          "output_type": "stream",
          "name": "stdout",
          "text": [
            "\n",
            "Test set: Average loss: 1.6819, Accuracy: 5662/10000 (56.62%)\n",
            "\n",
            "Epoch 30: Train loss 2.4171, Train acc 50.51%, Test loss 1.6819, Test acc 56.62%\n",
            "EPOCH: 31\n"
          ]
        },
        {
          "output_type": "stream",
          "name": "stderr",
          "text": [
            "Loss=2.1764705181121826 Batch_id=390 Accuracy=49.99: 100%|██████████| 391/391 [01:25<00:00,  4.58it/s]\n"
          ]
        },
        {
          "output_type": "stream",
          "name": "stdout",
          "text": [
            "\n",
            "Test set: Average loss: 1.7165, Accuracy: 5491/10000 (54.91%)\n",
            "\n",
            "Epoch 31: Train loss 2.4577, Train acc 49.99%, Test loss 1.7165, Test acc 54.91%\n",
            "EPOCH: 32\n"
          ]
        },
        {
          "output_type": "stream",
          "name": "stderr",
          "text": [
            "Loss=2.2321696281433105 Batch_id=390 Accuracy=50.44: 100%|██████████| 391/391 [01:25<00:00,  4.58it/s]\n"
          ]
        },
        {
          "output_type": "stream",
          "name": "stdout",
          "text": [
            "\n",
            "Test set: Average loss: 1.8152, Accuracy: 5332/10000 (53.32%)\n",
            "\n",
            "Epoch 32: Train loss 2.4359, Train acc 50.44%, Test loss 1.8152, Test acc 53.32%\n",
            "EPOCH: 33\n"
          ]
        },
        {
          "output_type": "stream",
          "name": "stderr",
          "text": [
            "Loss=2.231154680252075 Batch_id=390 Accuracy=50.02: 100%|██████████| 391/391 [01:25<00:00,  4.58it/s]\n"
          ]
        },
        {
          "output_type": "stream",
          "name": "stdout",
          "text": [
            "\n",
            "Test set: Average loss: 1.7814, Accuracy: 5513/10000 (55.13%)\n",
            "\n",
            "Epoch 33: Train loss 2.4307, Train acc 50.02%, Test loss 1.7814, Test acc 55.13%\n",
            "EPOCH: 34\n"
          ]
        },
        {
          "output_type": "stream",
          "name": "stderr",
          "text": [
            "Loss=3.6383919715881348 Batch_id=390 Accuracy=49.51: 100%|██████████| 391/391 [01:25<00:00,  4.58it/s]\n"
          ]
        },
        {
          "output_type": "stream",
          "name": "stdout",
          "text": [
            "\n",
            "Test set: Average loss: 1.6691, Accuracy: 5669/10000 (56.69%)\n",
            "\n",
            "Epoch 34: Train loss 2.4796, Train acc 49.51%, Test loss 1.6691, Test acc 56.69%\n",
            "EPOCH: 35\n"
          ]
        },
        {
          "output_type": "stream",
          "name": "stderr",
          "text": [
            "Loss=2.3399908542633057 Batch_id=390 Accuracy=50.45: 100%|██████████| 391/391 [01:25<00:00,  4.57it/s]\n"
          ]
        },
        {
          "output_type": "stream",
          "name": "stdout",
          "text": [
            "\n",
            "Test set: Average loss: 1.7281, Accuracy: 5533/10000 (55.33%)\n",
            "\n",
            "Epoch 35: Train loss 2.4197, Train acc 50.45%, Test loss 1.7281, Test acc 55.33%\n",
            "EPOCH: 36\n"
          ]
        },
        {
          "output_type": "stream",
          "name": "stderr",
          "text": [
            "Loss=2.2610228061676025 Batch_id=390 Accuracy=49.56: 100%|██████████| 391/391 [01:25<00:00,  4.59it/s]\n"
          ]
        },
        {
          "output_type": "stream",
          "name": "stdout",
          "text": [
            "\n",
            "Test set: Average loss: 1.7327, Accuracy: 5520/10000 (55.20%)\n",
            "\n",
            "Epoch 36: Train loss 2.4378, Train acc 49.56%, Test loss 1.7327, Test acc 55.20%\n",
            "EPOCH: 37\n"
          ]
        },
        {
          "output_type": "stream",
          "name": "stderr",
          "text": [
            "Loss=2.3416359424591064 Batch_id=390 Accuracy=51.96: 100%|██████████| 391/391 [01:25<00:00,  4.59it/s]\n"
          ]
        },
        {
          "output_type": "stream",
          "name": "stdout",
          "text": [
            "\n",
            "Test set: Average loss: 1.5917, Accuracy: 5781/10000 (57.81%)\n",
            "\n",
            "Epoch 37: Train loss 2.3603, Train acc 51.96%, Test loss 1.5917, Test acc 57.81%\n",
            "EPOCH: 38\n"
          ]
        },
        {
          "output_type": "stream",
          "name": "stderr",
          "text": [
            "Loss=2.3971798419952393 Batch_id=390 Accuracy=50.37: 100%|██████████| 391/391 [01:25<00:00,  4.58it/s]\n"
          ]
        },
        {
          "output_type": "stream",
          "name": "stdout",
          "text": [
            "\n",
            "Test set: Average loss: 1.6999, Accuracy: 5582/10000 (55.82%)\n",
            "\n",
            "Epoch 38: Train loss 2.4344, Train acc 50.37%, Test loss 1.6999, Test acc 55.82%\n",
            "EPOCH: 39\n"
          ]
        },
        {
          "output_type": "stream",
          "name": "stderr",
          "text": [
            "Loss=2.2404279708862305 Batch_id=390 Accuracy=51.83: 100%|██████████| 391/391 [01:25<00:00,  4.58it/s]\n"
          ]
        },
        {
          "output_type": "stream",
          "name": "stdout",
          "text": [
            "\n",
            "Test set: Average loss: 1.5422, Accuracy: 5932/10000 (59.32%)\n",
            "\n",
            "Epoch 39: Train loss 2.3689, Train acc 51.83%, Test loss 1.5422, Test acc 59.32%\n",
            "EPOCH: 40\n"
          ]
        },
        {
          "output_type": "stream",
          "name": "stderr",
          "text": [
            "Loss=2.065234899520874 Batch_id=390 Accuracy=52.01: 100%|██████████| 391/391 [01:25<00:00,  4.58it/s]\n"
          ]
        },
        {
          "output_type": "stream",
          "name": "stdout",
          "text": [
            "\n",
            "Test set: Average loss: 1.6921, Accuracy: 5661/10000 (56.61%)\n",
            "\n",
            "Epoch 40: Train loss 2.3628, Train acc 52.01%, Test loss 1.6921, Test acc 56.61%\n",
            "EPOCH: 41\n"
          ]
        },
        {
          "output_type": "stream",
          "name": "stderr",
          "text": [
            "Loss=2.070162773132324 Batch_id=390 Accuracy=51.52: 100%|██████████| 391/391 [01:25<00:00,  4.58it/s]\n"
          ]
        },
        {
          "output_type": "stream",
          "name": "stdout",
          "text": [
            "\n",
            "Test set: Average loss: 1.6503, Accuracy: 5815/10000 (58.15%)\n",
            "\n",
            "Epoch 41: Train loss 2.3859, Train acc 51.52%, Test loss 1.6503, Test acc 58.15%\n",
            "EPOCH: 42\n"
          ]
        },
        {
          "output_type": "stream",
          "name": "stderr",
          "text": [
            "Loss=2.156371593475342 Batch_id=390 Accuracy=51.91: 100%|██████████| 391/391 [01:25<00:00,  4.57it/s]\n"
          ]
        },
        {
          "output_type": "stream",
          "name": "stdout",
          "text": [
            "\n",
            "Test set: Average loss: 1.5361, Accuracy: 5919/10000 (59.19%)\n",
            "\n",
            "Epoch 42: Train loss 2.3762, Train acc 51.91%, Test loss 1.5361, Test acc 59.19%\n",
            "EPOCH: 43\n"
          ]
        },
        {
          "output_type": "stream",
          "name": "stderr",
          "text": [
            "Loss=2.342341661453247 Batch_id=390 Accuracy=52.20: 100%|██████████| 391/391 [01:25<00:00,  4.58it/s]\n"
          ]
        },
        {
          "output_type": "stream",
          "name": "stdout",
          "text": [
            "\n",
            "Test set: Average loss: 1.5999, Accuracy: 5820/10000 (58.20%)\n",
            "\n",
            "Epoch 43: Train loss 2.3798, Train acc 52.20%, Test loss 1.5999, Test acc 58.20%\n",
            "EPOCH: 44\n"
          ]
        },
        {
          "output_type": "stream",
          "name": "stderr",
          "text": [
            "Loss=1.8239991664886475 Batch_id=390 Accuracy=51.52: 100%|██████████| 391/391 [01:25<00:00,  4.58it/s]\n"
          ]
        },
        {
          "output_type": "stream",
          "name": "stdout",
          "text": [
            "\n",
            "Test set: Average loss: 1.6201, Accuracy: 5848/10000 (58.48%)\n",
            "\n",
            "Epoch 44: Train loss 2.3863, Train acc 51.52%, Test loss 1.6201, Test acc 58.48%\n",
            "EPOCH: 45\n"
          ]
        },
        {
          "output_type": "stream",
          "name": "stderr",
          "text": [
            "Loss=2.2058629989624023 Batch_id=390 Accuracy=51.34: 100%|██████████| 391/391 [01:25<00:00,  4.58it/s]\n"
          ]
        },
        {
          "output_type": "stream",
          "name": "stdout",
          "text": [
            "\n",
            "Test set: Average loss: 1.5706, Accuracy: 5891/10000 (58.91%)\n",
            "\n",
            "Epoch 45: Train loss 2.4093, Train acc 51.34%, Test loss 1.5706, Test acc 58.91%\n",
            "EPOCH: 46\n"
          ]
        },
        {
          "output_type": "stream",
          "name": "stderr",
          "text": [
            "Loss=2.2604641914367676 Batch_id=390 Accuracy=51.18: 100%|██████████| 391/391 [01:25<00:00,  4.59it/s]\n"
          ]
        },
        {
          "output_type": "stream",
          "name": "stdout",
          "text": [
            "\n",
            "Test set: Average loss: 1.6924, Accuracy: 5622/10000 (56.22%)\n",
            "\n",
            "Epoch 46: Train loss 2.3797, Train acc 51.18%, Test loss 1.6924, Test acc 56.22%\n",
            "EPOCH: 47\n"
          ]
        },
        {
          "output_type": "stream",
          "name": "stderr",
          "text": [
            "Loss=2.1583590507507324 Batch_id=390 Accuracy=52.97: 100%|██████████| 391/391 [01:25<00:00,  4.59it/s]\n"
          ]
        },
        {
          "output_type": "stream",
          "name": "stdout",
          "text": [
            "\n",
            "Test set: Average loss: 1.5994, Accuracy: 5889/10000 (58.89%)\n",
            "\n",
            "Epoch 47: Train loss 2.3445, Train acc 52.97%, Test loss 1.5994, Test acc 58.89%\n",
            "EPOCH: 48\n"
          ]
        },
        {
          "output_type": "stream",
          "name": "stderr",
          "text": [
            "Loss=3.1098241806030273 Batch_id=390 Accuracy=52.50: 100%|██████████| 391/391 [01:25<00:00,  4.59it/s]\n"
          ]
        },
        {
          "output_type": "stream",
          "name": "stdout",
          "text": [
            "\n",
            "Test set: Average loss: 1.6317, Accuracy: 5793/10000 (57.93%)\n",
            "\n",
            "Epoch 48: Train loss 2.3606, Train acc 52.50%, Test loss 1.6317, Test acc 57.93%\n",
            "EPOCH: 49\n"
          ]
        },
        {
          "output_type": "stream",
          "name": "stderr",
          "text": [
            "Loss=2.2863998413085938 Batch_id=390 Accuracy=52.44: 100%|██████████| 391/391 [01:25<00:00,  4.59it/s]\n"
          ]
        },
        {
          "output_type": "stream",
          "name": "stdout",
          "text": [
            "\n",
            "Test set: Average loss: 1.6317, Accuracy: 5747/10000 (57.47%)\n",
            "\n",
            "Epoch 49: Train loss 2.3647, Train acc 52.44%, Test loss 1.6317, Test acc 57.47%\n",
            "EPOCH: 50\n"
          ]
        },
        {
          "output_type": "stream",
          "name": "stderr",
          "text": [
            "Loss=1.9525723457336426 Batch_id=390 Accuracy=52.58: 100%|██████████| 391/391 [01:25<00:00,  4.58it/s]\n"
          ]
        },
        {
          "output_type": "stream",
          "name": "stdout",
          "text": [
            "\n",
            "Test set: Average loss: 1.5597, Accuracy: 5982/10000 (59.82%)\n",
            "\n",
            "Epoch 50: Train loss 2.3575, Train acc 52.58%, Test loss 1.5597, Test acc 59.82%\n",
            "EPOCH: 51\n"
          ]
        },
        {
          "output_type": "stream",
          "name": "stderr",
          "text": [
            "Loss=2.050222873687744 Batch_id=390 Accuracy=54.26: 100%|██████████| 391/391 [01:25<00:00,  4.57it/s]\n"
          ]
        },
        {
          "output_type": "stream",
          "name": "stdout",
          "text": [
            "\n",
            "Test set: Average loss: 1.4974, Accuracy: 6080/10000 (60.80%)\n",
            "\n",
            "Epoch 51: Train loss 2.2918, Train acc 54.26%, Test loss 1.4974, Test acc 60.80%\n",
            "EPOCH: 52\n"
          ]
        },
        {
          "output_type": "stream",
          "name": "stderr",
          "text": [
            "Loss=2.0976243019104004 Batch_id=390 Accuracy=52.95: 100%|██████████| 391/391 [01:25<00:00,  4.58it/s]\n"
          ]
        },
        {
          "output_type": "stream",
          "name": "stdout",
          "text": [
            "\n",
            "Test set: Average loss: 1.6452, Accuracy: 5729/10000 (57.29%)\n",
            "\n",
            "Epoch 52: Train loss 2.3320, Train acc 52.95%, Test loss 1.6452, Test acc 57.29%\n",
            "EPOCH: 53\n"
          ]
        },
        {
          "output_type": "stream",
          "name": "stderr",
          "text": [
            "Loss=2.0541059970855713 Batch_id=390 Accuracy=53.97: 100%|██████████| 391/391 [01:25<00:00,  4.59it/s]\n"
          ]
        },
        {
          "output_type": "stream",
          "name": "stdout",
          "text": [
            "\n",
            "Test set: Average loss: 1.5430, Accuracy: 6000/10000 (60.00%)\n",
            "\n",
            "Epoch 53: Train loss 2.3155, Train acc 53.97%, Test loss 1.5430, Test acc 60.00%\n",
            "EPOCH: 54\n"
          ]
        },
        {
          "output_type": "stream",
          "name": "stderr",
          "text": [
            "Loss=2.106590747833252 Batch_id=390 Accuracy=54.14: 100%|██████████| 391/391 [01:25<00:00,  4.59it/s]\n"
          ]
        },
        {
          "output_type": "stream",
          "name": "stdout",
          "text": [
            "\n",
            "Test set: Average loss: 1.7030, Accuracy: 5631/10000 (56.31%)\n",
            "\n",
            "Epoch 54: Train loss 2.2913, Train acc 54.14%, Test loss 1.7030, Test acc 56.31%\n",
            "EPOCH: 55\n"
          ]
        },
        {
          "output_type": "stream",
          "name": "stderr",
          "text": [
            "Loss=2.3407342433929443 Batch_id=390 Accuracy=53.23: 100%|██████████| 391/391 [01:25<00:00,  4.58it/s]\n"
          ]
        },
        {
          "output_type": "stream",
          "name": "stdout",
          "text": [
            "\n",
            "Test set: Average loss: 1.5580, Accuracy: 5953/10000 (59.53%)\n",
            "\n",
            "Epoch 55: Train loss 2.3276, Train acc 53.23%, Test loss 1.5580, Test acc 59.53%\n",
            "EPOCH: 56\n"
          ]
        },
        {
          "output_type": "stream",
          "name": "stderr",
          "text": [
            "Loss=1.9347195625305176 Batch_id=390 Accuracy=53.46: 100%|██████████| 391/391 [01:25<00:00,  4.58it/s]\n"
          ]
        },
        {
          "output_type": "stream",
          "name": "stdout",
          "text": [
            "\n",
            "Test set: Average loss: 1.5027, Accuracy: 6124/10000 (61.24%)\n",
            "\n",
            "Epoch 56: Train loss 2.3392, Train acc 53.46%, Test loss 1.5027, Test acc 61.24%\n",
            "EPOCH: 57\n"
          ]
        },
        {
          "output_type": "stream",
          "name": "stderr",
          "text": [
            "Loss=2.0826170444488525 Batch_id=390 Accuracy=53.61: 100%|██████████| 391/391 [01:25<00:00,  4.58it/s]\n"
          ]
        },
        {
          "output_type": "stream",
          "name": "stdout",
          "text": [
            "\n",
            "Test set: Average loss: 1.5509, Accuracy: 5922/10000 (59.22%)\n",
            "\n",
            "Epoch 57: Train loss 2.3089, Train acc 53.61%, Test loss 1.5509, Test acc 59.22%\n",
            "EPOCH: 58\n"
          ]
        },
        {
          "output_type": "stream",
          "name": "stderr",
          "text": [
            "Loss=2.237177848815918 Batch_id=390 Accuracy=52.77: 100%|██████████| 391/391 [01:25<00:00,  4.58it/s]\n"
          ]
        },
        {
          "output_type": "stream",
          "name": "stdout",
          "text": [
            "\n",
            "Test set: Average loss: 1.5335, Accuracy: 6002/10000 (60.02%)\n",
            "\n",
            "Epoch 58: Train loss 2.3530, Train acc 52.77%, Test loss 1.5335, Test acc 60.02%\n",
            "EPOCH: 59\n"
          ]
        },
        {
          "output_type": "stream",
          "name": "stderr",
          "text": [
            "Loss=2.2464728355407715 Batch_id=390 Accuracy=54.07: 100%|██████████| 391/391 [01:25<00:00,  4.59it/s]\n"
          ]
        },
        {
          "output_type": "stream",
          "name": "stdout",
          "text": [
            "\n",
            "Test set: Average loss: 1.4048, Accuracy: 6277/10000 (62.77%)\n",
            "\n",
            "Epoch 59: Train loss 2.2966, Train acc 54.07%, Test loss 1.4048, Test acc 62.77%\n",
            "EPOCH: 60\n"
          ]
        },
        {
          "output_type": "stream",
          "name": "stderr",
          "text": [
            "Loss=2.4264614582061768 Batch_id=390 Accuracy=54.65: 100%|██████████| 391/391 [01:25<00:00,  4.59it/s]\n"
          ]
        },
        {
          "output_type": "stream",
          "name": "stdout",
          "text": [
            "\n",
            "Test set: Average loss: 1.4837, Accuracy: 6115/10000 (61.15%)\n",
            "\n",
            "Epoch 60: Train loss 2.2894, Train acc 54.65%, Test loss 1.4837, Test acc 61.15%\n",
            "EPOCH: 61\n"
          ]
        },
        {
          "output_type": "stream",
          "name": "stderr",
          "text": [
            "Loss=2.9882614612579346 Batch_id=390 Accuracy=54.08: 100%|██████████| 391/391 [01:25<00:00,  4.58it/s]\n"
          ]
        },
        {
          "output_type": "stream",
          "name": "stdout",
          "text": [
            "\n",
            "Test set: Average loss: 1.6069, Accuracy: 5853/10000 (58.53%)\n",
            "\n",
            "Epoch 61: Train loss 2.3288, Train acc 54.08%, Test loss 1.6069, Test acc 58.53%\n",
            "EPOCH: 62\n"
          ]
        },
        {
          "output_type": "stream",
          "name": "stderr",
          "text": [
            "Loss=2.1616649627685547 Batch_id=390 Accuracy=53.68: 100%|██████████| 391/391 [01:25<00:00,  4.59it/s]\n"
          ]
        },
        {
          "output_type": "stream",
          "name": "stdout",
          "text": [
            "\n",
            "Test set: Average loss: 1.4899, Accuracy: 6124/10000 (61.24%)\n",
            "\n",
            "Epoch 62: Train loss 2.3163, Train acc 53.68%, Test loss 1.4899, Test acc 61.24%\n",
            "EPOCH: 63\n"
          ]
        },
        {
          "output_type": "stream",
          "name": "stderr",
          "text": [
            "Loss=2.266937732696533 Batch_id=390 Accuracy=54.18: 100%|██████████| 391/391 [01:25<00:00,  4.59it/s]\n"
          ]
        },
        {
          "output_type": "stream",
          "name": "stdout",
          "text": [
            "\n",
            "Test set: Average loss: 1.4673, Accuracy: 6099/10000 (60.99%)\n",
            "\n",
            "Epoch 63: Train loss 2.2890, Train acc 54.18%, Test loss 1.4673, Test acc 60.99%\n",
            "EPOCH: 64\n"
          ]
        },
        {
          "output_type": "stream",
          "name": "stderr",
          "text": [
            "Loss=2.2646758556365967 Batch_id=390 Accuracy=54.42: 100%|██████████| 391/391 [01:25<00:00,  4.59it/s]\n"
          ]
        },
        {
          "output_type": "stream",
          "name": "stdout",
          "text": [
            "\n",
            "Test set: Average loss: 1.7148, Accuracy: 5549/10000 (55.49%)\n",
            "\n",
            "Epoch 64: Train loss 2.3091, Train acc 54.42%, Test loss 1.7148, Test acc 55.49%\n",
            "EPOCH: 65\n"
          ]
        },
        {
          "output_type": "stream",
          "name": "stderr",
          "text": [
            "Loss=2.757720947265625 Batch_id=390 Accuracy=54.67: 100%|██████████| 391/391 [01:25<00:00,  4.58it/s]\n"
          ]
        },
        {
          "output_type": "stream",
          "name": "stdout",
          "text": [
            "\n",
            "Test set: Average loss: 1.6209, Accuracy: 5795/10000 (57.95%)\n",
            "\n",
            "Epoch 65: Train loss 2.2607, Train acc 54.67%, Test loss 1.6209, Test acc 57.95%\n",
            "EPOCH: 66\n"
          ]
        },
        {
          "output_type": "stream",
          "name": "stderr",
          "text": [
            "Loss=2.2822861671447754 Batch_id=390 Accuracy=54.03: 100%|██████████| 391/391 [01:25<00:00,  4.59it/s]\n"
          ]
        },
        {
          "output_type": "stream",
          "name": "stdout",
          "text": [
            "\n",
            "Test set: Average loss: 1.5394, Accuracy: 6023/10000 (60.23%)\n",
            "\n",
            "Epoch 66: Train loss 2.3156, Train acc 54.03%, Test loss 1.5394, Test acc 60.23%\n",
            "EPOCH: 67\n"
          ]
        },
        {
          "output_type": "stream",
          "name": "stderr",
          "text": [
            "Loss=3.5868613719940186 Batch_id=390 Accuracy=55.35: 100%|██████████| 391/391 [01:25<00:00,  4.58it/s]\n"
          ]
        },
        {
          "output_type": "stream",
          "name": "stdout",
          "text": [
            "\n",
            "Test set: Average loss: 1.5602, Accuracy: 5955/10000 (59.55%)\n",
            "\n",
            "Epoch 67: Train loss 2.2714, Train acc 55.35%, Test loss 1.5602, Test acc 59.55%\n",
            "EPOCH: 68\n"
          ]
        },
        {
          "output_type": "stream",
          "name": "stderr",
          "text": [
            "Loss=3.6160671710968018 Batch_id=390 Accuracy=55.01: 100%|██████████| 391/391 [01:25<00:00,  4.58it/s]\n"
          ]
        },
        {
          "output_type": "stream",
          "name": "stdout",
          "text": [
            "\n",
            "Test set: Average loss: 1.6915, Accuracy: 5729/10000 (57.29%)\n",
            "\n",
            "Epoch 68: Train loss 2.2808, Train acc 55.01%, Test loss 1.6915, Test acc 57.29%\n",
            "EPOCH: 69\n"
          ]
        },
        {
          "output_type": "stream",
          "name": "stderr",
          "text": [
            "Loss=3.5342400074005127 Batch_id=390 Accuracy=54.16: 100%|██████████| 391/391 [01:25<00:00,  4.58it/s]\n"
          ]
        },
        {
          "output_type": "stream",
          "name": "stdout",
          "text": [
            "\n",
            "Test set: Average loss: 1.4996, Accuracy: 6156/10000 (61.56%)\n",
            "\n",
            "Epoch 69: Train loss 2.3206, Train acc 54.16%, Test loss 1.4996, Test acc 61.56%\n",
            "EPOCH: 70\n"
          ]
        },
        {
          "output_type": "stream",
          "name": "stderr",
          "text": [
            "Loss=2.790924072265625 Batch_id=390 Accuracy=53.75: 100%|██████████| 391/391 [01:25<00:00,  4.58it/s]\n"
          ]
        },
        {
          "output_type": "stream",
          "name": "stdout",
          "text": [
            "\n",
            "Test set: Average loss: 1.6081, Accuracy: 5869/10000 (58.69%)\n",
            "\n",
            "Epoch 70: Train loss 2.3131, Train acc 53.75%, Test loss 1.6081, Test acc 58.69%\n",
            "EPOCH: 71\n"
          ]
        },
        {
          "output_type": "stream",
          "name": "stderr",
          "text": [
            "Loss=2.2124156951904297 Batch_id=390 Accuracy=55.21: 100%|██████████| 391/391 [01:25<00:00,  4.59it/s]\n"
          ]
        },
        {
          "output_type": "stream",
          "name": "stdout",
          "text": [
            "\n",
            "Test set: Average loss: 1.4423, Accuracy: 6235/10000 (62.35%)\n",
            "\n",
            "Epoch 71: Train loss 2.2760, Train acc 55.21%, Test loss 1.4423, Test acc 62.35%\n",
            "EPOCH: 72\n"
          ]
        },
        {
          "output_type": "stream",
          "name": "stderr",
          "text": [
            "Loss=2.2605555057525635 Batch_id=390 Accuracy=55.09: 100%|██████████| 391/391 [01:25<00:00,  4.59it/s]\n"
          ]
        },
        {
          "output_type": "stream",
          "name": "stdout",
          "text": [
            "\n",
            "Test set: Average loss: 1.5045, Accuracy: 6085/10000 (60.85%)\n",
            "\n",
            "Epoch 72: Train loss 2.2700, Train acc 55.09%, Test loss 1.5045, Test acc 60.85%\n",
            "EPOCH: 73\n"
          ]
        },
        {
          "output_type": "stream",
          "name": "stderr",
          "text": [
            "Loss=2.0347962379455566 Batch_id=390 Accuracy=55.00: 100%|██████████| 391/391 [01:25<00:00,  4.58it/s]\n"
          ]
        },
        {
          "output_type": "stream",
          "name": "stdout",
          "text": [
            "\n",
            "Test set: Average loss: 1.5797, Accuracy: 5896/10000 (58.96%)\n",
            "\n",
            "Epoch 73: Train loss 2.2954, Train acc 55.00%, Test loss 1.5797, Test acc 58.96%\n",
            "EPOCH: 74\n"
          ]
        },
        {
          "output_type": "stream",
          "name": "stderr",
          "text": [
            "Loss=2.0759615898132324 Batch_id=390 Accuracy=55.18: 100%|██████████| 391/391 [01:25<00:00,  4.59it/s]\n"
          ]
        },
        {
          "output_type": "stream",
          "name": "stdout",
          "text": [
            "\n",
            "Test set: Average loss: 1.5227, Accuracy: 6039/10000 (60.39%)\n",
            "\n",
            "Epoch 74: Train loss 2.2687, Train acc 55.18%, Test loss 1.5227, Test acc 60.39%\n",
            "EPOCH: 75\n"
          ]
        },
        {
          "output_type": "stream",
          "name": "stderr",
          "text": [
            "Loss=1.9334040880203247 Batch_id=390 Accuracy=54.42: 100%|██████████| 391/391 [01:25<00:00,  4.59it/s]\n"
          ]
        },
        {
          "output_type": "stream",
          "name": "stdout",
          "text": [
            "\n",
            "Test set: Average loss: 1.4774, Accuracy: 6074/10000 (60.74%)\n",
            "\n",
            "Epoch 75: Train loss 2.2977, Train acc 54.42%, Test loss 1.4774, Test acc 60.74%\n",
            "EPOCH: 76\n"
          ]
        },
        {
          "output_type": "stream",
          "name": "stderr",
          "text": [
            "Loss=1.9411497116088867 Batch_id=390 Accuracy=55.75: 100%|██████████| 391/391 [01:25<00:00,  4.59it/s]\n"
          ]
        },
        {
          "output_type": "stream",
          "name": "stdout",
          "text": [
            "\n",
            "Test set: Average loss: 1.5000, Accuracy: 6046/10000 (60.46%)\n",
            "\n",
            "Epoch 76: Train loss 2.2505, Train acc 55.75%, Test loss 1.5000, Test acc 60.46%\n",
            "EPOCH: 77\n"
          ]
        },
        {
          "output_type": "stream",
          "name": "stderr",
          "text": [
            "Loss=1.993443250656128 Batch_id=390 Accuracy=55.80: 100%|██████████| 391/391 [01:25<00:00,  4.58it/s]\n"
          ]
        },
        {
          "output_type": "stream",
          "name": "stdout",
          "text": [
            "\n",
            "Test set: Average loss: 1.3802, Accuracy: 6392/10000 (63.92%)\n",
            "\n",
            "Epoch 77: Train loss 2.2341, Train acc 55.80%, Test loss 1.3802, Test acc 63.92%\n",
            "EPOCH: 78\n"
          ]
        },
        {
          "output_type": "stream",
          "name": "stderr",
          "text": [
            "Loss=1.9603197574615479 Batch_id=390 Accuracy=54.31: 100%|██████████| 391/391 [01:25<00:00,  4.59it/s]\n"
          ]
        },
        {
          "output_type": "stream",
          "name": "stdout",
          "text": [
            "\n",
            "Test set: Average loss: 1.5289, Accuracy: 6049/10000 (60.49%)\n",
            "\n",
            "Epoch 78: Train loss 2.2957, Train acc 54.31%, Test loss 1.5289, Test acc 60.49%\n",
            "EPOCH: 79\n"
          ]
        },
        {
          "output_type": "stream",
          "name": "stderr",
          "text": [
            "Loss=2.0380730628967285 Batch_id=390 Accuracy=54.83: 100%|██████████| 391/391 [01:25<00:00,  4.58it/s]\n"
          ]
        },
        {
          "output_type": "stream",
          "name": "stdout",
          "text": [
            "\n",
            "Test set: Average loss: 1.6201, Accuracy: 5879/10000 (58.79%)\n",
            "\n",
            "Epoch 79: Train loss 2.2675, Train acc 54.83%, Test loss 1.6201, Test acc 58.79%\n",
            "EPOCH: 80\n"
          ]
        },
        {
          "output_type": "stream",
          "name": "stderr",
          "text": [
            "Loss=2.060241222381592 Batch_id=390 Accuracy=55.85: 100%|██████████| 391/391 [01:25<00:00,  4.59it/s]\n"
          ]
        },
        {
          "output_type": "stream",
          "name": "stdout",
          "text": [
            "\n",
            "Test set: Average loss: 1.3955, Accuracy: 6339/10000 (63.39%)\n",
            "\n",
            "Epoch 80: Train loss 2.2549, Train acc 55.85%, Test loss 1.3955, Test acc 63.39%\n",
            "EPOCH: 81\n"
          ]
        },
        {
          "output_type": "stream",
          "name": "stderr",
          "text": [
            "Loss=3.335737705230713 Batch_id=390 Accuracy=55.67: 100%|██████████| 391/391 [01:25<00:00,  4.58it/s]\n"
          ]
        },
        {
          "output_type": "stream",
          "name": "stdout",
          "text": [
            "\n",
            "Test set: Average loss: 1.4299, Accuracy: 6260/10000 (62.60%)\n",
            "\n",
            "Epoch 81: Train loss 2.2612, Train acc 55.67%, Test loss 1.4299, Test acc 62.60%\n",
            "EPOCH: 82\n"
          ]
        },
        {
          "output_type": "stream",
          "name": "stderr",
          "text": [
            "Loss=2.1499247550964355 Batch_id=390 Accuracy=54.41: 100%|██████████| 391/391 [01:25<00:00,  4.59it/s]\n"
          ]
        },
        {
          "output_type": "stream",
          "name": "stdout",
          "text": [
            "\n",
            "Test set: Average loss: 1.4781, Accuracy: 6258/10000 (62.58%)\n",
            "\n",
            "Epoch 82: Train loss 2.2875, Train acc 54.41%, Test loss 1.4781, Test acc 62.58%\n",
            "EPOCH: 83\n"
          ]
        },
        {
          "output_type": "stream",
          "name": "stderr",
          "text": [
            "Loss=2.015388250350952 Batch_id=390 Accuracy=54.72: 100%|██████████| 391/391 [01:25<00:00,  4.59it/s]\n"
          ]
        },
        {
          "output_type": "stream",
          "name": "stdout",
          "text": [
            "\n",
            "Test set: Average loss: 1.6012, Accuracy: 5949/10000 (59.49%)\n",
            "\n",
            "Epoch 83: Train loss 2.2810, Train acc 54.72%, Test loss 1.6012, Test acc 59.49%\n",
            "EPOCH: 84\n"
          ]
        },
        {
          "output_type": "stream",
          "name": "stderr",
          "text": [
            "Loss=2.1472225189208984 Batch_id=390 Accuracy=56.42: 100%|██████████| 391/391 [01:25<00:00,  4.58it/s]\n"
          ]
        },
        {
          "output_type": "stream",
          "name": "stdout",
          "text": [
            "\n",
            "Test set: Average loss: 1.5015, Accuracy: 6079/10000 (60.79%)\n",
            "\n",
            "Epoch 84: Train loss 2.2112, Train acc 56.42%, Test loss 1.5015, Test acc 60.79%\n",
            "EPOCH: 85\n"
          ]
        },
        {
          "output_type": "stream",
          "name": "stderr",
          "text": [
            "Loss=2.3339388370513916 Batch_id=390 Accuracy=56.28: 100%|██████████| 391/391 [01:25<00:00,  4.57it/s]\n"
          ]
        },
        {
          "output_type": "stream",
          "name": "stdout",
          "text": [
            "\n",
            "Test set: Average loss: 1.4892, Accuracy: 6157/10000 (61.57%)\n",
            "\n",
            "Epoch 85: Train loss 2.2230, Train acc 56.28%, Test loss 1.4892, Test acc 61.57%\n",
            "EPOCH: 86\n"
          ]
        },
        {
          "output_type": "stream",
          "name": "stderr",
          "text": [
            "Loss=3.0822529792785645 Batch_id=390 Accuracy=55.80: 100%|██████████| 391/391 [01:25<00:00,  4.59it/s]\n"
          ]
        },
        {
          "output_type": "stream",
          "name": "stdout",
          "text": [
            "\n",
            "Test set: Average loss: 1.4938, Accuracy: 6105/10000 (61.05%)\n",
            "\n",
            "Epoch 86: Train loss 2.2274, Train acc 55.80%, Test loss 1.4938, Test acc 61.05%\n",
            "EPOCH: 87\n"
          ]
        },
        {
          "output_type": "stream",
          "name": "stderr",
          "text": [
            "Loss=3.3473143577575684 Batch_id=390 Accuracy=55.59: 100%|██████████| 391/391 [01:25<00:00,  4.58it/s]\n"
          ]
        },
        {
          "output_type": "stream",
          "name": "stdout",
          "text": [
            "\n",
            "Test set: Average loss: 1.5709, Accuracy: 6079/10000 (60.79%)\n",
            "\n",
            "Epoch 87: Train loss 2.2576, Train acc 55.59%, Test loss 1.5709, Test acc 60.79%\n",
            "EPOCH: 88\n"
          ]
        },
        {
          "output_type": "stream",
          "name": "stderr",
          "text": [
            "Loss=2.0770254135131836 Batch_id=390 Accuracy=56.88: 100%|██████████| 391/391 [01:25<00:00,  4.58it/s]\n"
          ]
        },
        {
          "output_type": "stream",
          "name": "stdout",
          "text": [
            "\n",
            "Test set: Average loss: 1.3739, Accuracy: 6389/10000 (63.89%)\n",
            "\n",
            "Epoch 88: Train loss 2.2233, Train acc 56.88%, Test loss 1.3739, Test acc 63.89%\n",
            "EPOCH: 89\n"
          ]
        },
        {
          "output_type": "stream",
          "name": "stderr",
          "text": [
            "Loss=2.046323299407959 Batch_id=390 Accuracy=56.45: 100%|██████████| 391/391 [01:25<00:00,  4.59it/s]\n"
          ]
        },
        {
          "output_type": "stream",
          "name": "stdout",
          "text": [
            "\n",
            "Test set: Average loss: 1.4869, Accuracy: 6159/10000 (61.59%)\n",
            "\n",
            "Epoch 89: Train loss 2.2012, Train acc 56.45%, Test loss 1.4869, Test acc 61.59%\n",
            "EPOCH: 90\n"
          ]
        },
        {
          "output_type": "stream",
          "name": "stderr",
          "text": [
            "Loss=1.9091055393218994 Batch_id=390 Accuracy=56.46: 100%|██████████| 391/391 [01:25<00:00,  4.58it/s]\n"
          ]
        },
        {
          "output_type": "stream",
          "name": "stdout",
          "text": [
            "\n",
            "Test set: Average loss: 1.4211, Accuracy: 6272/10000 (62.72%)\n",
            "\n",
            "Epoch 90: Train loss 2.2456, Train acc 56.46%, Test loss 1.4211, Test acc 62.72%\n",
            "EPOCH: 91\n"
          ]
        },
        {
          "output_type": "stream",
          "name": "stderr",
          "text": [
            "Loss=2.181635618209839 Batch_id=390 Accuracy=56.20: 100%|██████████| 391/391 [01:25<00:00,  4.59it/s]\n"
          ]
        },
        {
          "output_type": "stream",
          "name": "stdout",
          "text": [
            "\n",
            "Test set: Average loss: 1.5189, Accuracy: 6146/10000 (61.46%)\n",
            "\n",
            "Epoch 91: Train loss 2.2357, Train acc 56.20%, Test loss 1.5189, Test acc 61.46%\n",
            "EPOCH: 92\n"
          ]
        },
        {
          "output_type": "stream",
          "name": "stderr",
          "text": [
            "Loss=3.6532726287841797 Batch_id=390 Accuracy=55.07: 100%|██████████| 391/391 [01:25<00:00,  4.58it/s]\n"
          ]
        },
        {
          "output_type": "stream",
          "name": "stdout",
          "text": [
            "\n",
            "Test set: Average loss: 1.4096, Accuracy: 6350/10000 (63.50%)\n",
            "\n",
            "Epoch 92: Train loss 2.2647, Train acc 55.07%, Test loss 1.4096, Test acc 63.50%\n",
            "EPOCH: 93\n"
          ]
        },
        {
          "output_type": "stream",
          "name": "stderr",
          "text": [
            "Loss=1.9977717399597168 Batch_id=390 Accuracy=56.18: 100%|██████████| 391/391 [01:25<00:00,  4.56it/s]\n"
          ]
        },
        {
          "output_type": "stream",
          "name": "stdout",
          "text": [
            "\n",
            "Test set: Average loss: 1.4218, Accuracy: 6325/10000 (63.25%)\n",
            "\n",
            "Epoch 93: Train loss 2.2463, Train acc 56.18%, Test loss 1.4218, Test acc 63.25%\n",
            "EPOCH: 94\n"
          ]
        },
        {
          "output_type": "stream",
          "name": "stderr",
          "text": [
            "Loss=2.4708919525146484 Batch_id=390 Accuracy=56.41: 100%|██████████| 391/391 [01:25<00:00,  4.58it/s]\n"
          ]
        },
        {
          "output_type": "stream",
          "name": "stdout",
          "text": [
            "\n",
            "Test set: Average loss: 1.5100, Accuracy: 6109/10000 (61.09%)\n",
            "\n",
            "Epoch 94: Train loss 2.2011, Train acc 56.41%, Test loss 1.5100, Test acc 61.09%\n",
            "EPOCH: 95\n"
          ]
        },
        {
          "output_type": "stream",
          "name": "stderr",
          "text": [
            "Loss=2.1047887802124023 Batch_id=390 Accuracy=57.20: 100%|██████████| 391/391 [01:25<00:00,  4.55it/s]\n"
          ]
        },
        {
          "output_type": "stream",
          "name": "stdout",
          "text": [
            "\n",
            "Test set: Average loss: 1.3816, Accuracy: 6466/10000 (64.66%)\n",
            "\n",
            "Epoch 95: Train loss 2.2193, Train acc 57.20%, Test loss 1.3816, Test acc 64.66%\n",
            "EPOCH: 96\n"
          ]
        },
        {
          "output_type": "stream",
          "name": "stderr",
          "text": [
            "Loss=3.180579900741577 Batch_id=390 Accuracy=56.45: 100%|██████████| 391/391 [01:25<00:00,  4.58it/s]\n"
          ]
        },
        {
          "output_type": "stream",
          "name": "stdout",
          "text": [
            "\n",
            "Test set: Average loss: 1.3886, Accuracy: 6393/10000 (63.93%)\n",
            "\n",
            "Epoch 96: Train loss 2.2200, Train acc 56.45%, Test loss 1.3886, Test acc 63.93%\n",
            "EPOCH: 97\n"
          ]
        },
        {
          "output_type": "stream",
          "name": "stderr",
          "text": [
            "Loss=1.9214493036270142 Batch_id=390 Accuracy=57.66: 100%|██████████| 391/391 [01:25<00:00,  4.58it/s]\n"
          ]
        },
        {
          "output_type": "stream",
          "name": "stdout",
          "text": [
            "\n",
            "Test set: Average loss: 1.4674, Accuracy: 6197/10000 (61.97%)\n",
            "\n",
            "Epoch 97: Train loss 2.1979, Train acc 57.66%, Test loss 1.4674, Test acc 61.97%\n",
            "EPOCH: 98\n"
          ]
        },
        {
          "output_type": "stream",
          "name": "stderr",
          "text": [
            "Loss=1.9547622203826904 Batch_id=390 Accuracy=58.49: 100%|██████████| 391/391 [01:25<00:00,  4.58it/s]\n"
          ]
        },
        {
          "output_type": "stream",
          "name": "stdout",
          "text": [
            "\n",
            "Test set: Average loss: 1.4152, Accuracy: 6367/10000 (63.67%)\n",
            "\n",
            "Epoch 98: Train loss 2.1636, Train acc 58.49%, Test loss 1.4152, Test acc 63.67%\n",
            "EPOCH: 99\n"
          ]
        },
        {
          "output_type": "stream",
          "name": "stderr",
          "text": [
            "Loss=2.076022148132324 Batch_id=390 Accuracy=56.69: 100%|██████████| 391/391 [01:25<00:00,  4.59it/s]\n"
          ]
        },
        {
          "output_type": "stream",
          "name": "stdout",
          "text": [
            "\n",
            "Test set: Average loss: 1.5096, Accuracy: 6030/10000 (60.30%)\n",
            "\n",
            "Epoch 99: Train loss 2.2071, Train acc 56.69%, Test loss 1.5096, Test acc 60.30%\n",
            "EPOCH: 100\n"
          ]
        },
        {
          "output_type": "stream",
          "name": "stderr",
          "text": [
            "Loss=2.935736656188965 Batch_id=390 Accuracy=57.75: 100%|██████████| 391/391 [01:25<00:00,  4.58it/s]\n"
          ]
        },
        {
          "output_type": "stream",
          "name": "stdout",
          "text": [
            "\n",
            "Test set: Average loss: 1.5273, Accuracy: 6146/10000 (61.46%)\n",
            "\n",
            "Epoch 100: Train loss 2.1955, Train acc 57.75%, Test loss 1.5273, Test acc 61.46%\n",
            "EPOCH: 101\n"
          ]
        },
        {
          "output_type": "stream",
          "name": "stderr",
          "text": [
            "Loss=2.0333096981048584 Batch_id=390 Accuracy=57.68: 100%|██████████| 391/391 [01:25<00:00,  4.58it/s]\n"
          ]
        },
        {
          "output_type": "stream",
          "name": "stdout",
          "text": [
            "\n",
            "Test set: Average loss: 1.4851, Accuracy: 6190/10000 (61.90%)\n",
            "\n",
            "Epoch 101: Train loss 2.2001, Train acc 57.68%, Test loss 1.4851, Test acc 61.90%\n",
            "EPOCH: 102\n"
          ]
        },
        {
          "output_type": "stream",
          "name": "stderr",
          "text": [
            "Loss=2.1379666328430176 Batch_id=390 Accuracy=56.92: 100%|██████████| 391/391 [01:25<00:00,  4.57it/s]\n"
          ]
        },
        {
          "output_type": "stream",
          "name": "stdout",
          "text": [
            "\n",
            "Test set: Average loss: 1.3944, Accuracy: 6433/10000 (64.33%)\n",
            "\n",
            "Epoch 102: Train loss 2.1941, Train acc 56.92%, Test loss 1.3944, Test acc 64.33%\n",
            "EPOCH: 103\n"
          ]
        },
        {
          "output_type": "stream",
          "name": "stderr",
          "text": [
            "Loss=2.2885358333587646 Batch_id=390 Accuracy=57.27: 100%|██████████| 391/391 [01:25<00:00,  4.58it/s]\n"
          ]
        },
        {
          "output_type": "stream",
          "name": "stdout",
          "text": [
            "\n",
            "Test set: Average loss: 1.3998, Accuracy: 6341/10000 (63.41%)\n",
            "\n",
            "Epoch 103: Train loss 2.2034, Train acc 57.27%, Test loss 1.3998, Test acc 63.41%\n",
            "EPOCH: 104\n"
          ]
        },
        {
          "output_type": "stream",
          "name": "stderr",
          "text": [
            "Loss=2.0725293159484863 Batch_id=390 Accuracy=57.49: 100%|██████████| 391/391 [01:25<00:00,  4.59it/s]\n"
          ]
        },
        {
          "output_type": "stream",
          "name": "stdout",
          "text": [
            "\n",
            "Test set: Average loss: 1.2916, Accuracy: 6636/10000 (66.36%)\n",
            "\n",
            "Epoch 104: Train loss 2.1702, Train acc 57.49%, Test loss 1.2916, Test acc 66.36%\n",
            "EPOCH: 105\n"
          ]
        },
        {
          "output_type": "stream",
          "name": "stderr",
          "text": [
            "Loss=1.8626765012741089 Batch_id=390 Accuracy=56.14: 100%|██████████| 391/391 [01:25<00:00,  4.58it/s]\n"
          ]
        },
        {
          "output_type": "stream",
          "name": "stdout",
          "text": [
            "\n",
            "Test set: Average loss: 1.4698, Accuracy: 6246/10000 (62.46%)\n",
            "\n",
            "Epoch 105: Train loss 2.2412, Train acc 56.14%, Test loss 1.4698, Test acc 62.46%\n",
            "EPOCH: 106\n"
          ]
        },
        {
          "output_type": "stream",
          "name": "stderr",
          "text": [
            "Loss=3.16574764251709 Batch_id=390 Accuracy=57.01: 100%|██████████| 391/391 [01:25<00:00,  4.59it/s]\n"
          ]
        },
        {
          "output_type": "stream",
          "name": "stdout",
          "text": [
            "\n",
            "Test set: Average loss: 1.3673, Accuracy: 6472/10000 (64.72%)\n",
            "\n",
            "Epoch 106: Train loss 2.1911, Train acc 57.01%, Test loss 1.3673, Test acc 64.72%\n",
            "EPOCH: 107\n"
          ]
        },
        {
          "output_type": "stream",
          "name": "stderr",
          "text": [
            "Loss=2.140306234359741 Batch_id=390 Accuracy=57.08: 100%|██████████| 391/391 [01:25<00:00,  4.59it/s]\n"
          ]
        },
        {
          "output_type": "stream",
          "name": "stdout",
          "text": [
            "\n",
            "Test set: Average loss: 1.4168, Accuracy: 6250/10000 (62.50%)\n",
            "\n",
            "Epoch 107: Train loss 2.2003, Train acc 57.08%, Test loss 1.4168, Test acc 62.50%\n",
            "EPOCH: 108\n"
          ]
        },
        {
          "output_type": "stream",
          "name": "stderr",
          "text": [
            "Loss=1.9644527435302734 Batch_id=390 Accuracy=58.07: 100%|██████████| 391/391 [01:25<00:00,  4.58it/s]\n"
          ]
        },
        {
          "output_type": "stream",
          "name": "stdout",
          "text": [
            "\n",
            "Test set: Average loss: 1.3738, Accuracy: 6455/10000 (64.55%)\n",
            "\n",
            "Epoch 108: Train loss 2.1521, Train acc 58.07%, Test loss 1.3738, Test acc 64.55%\n",
            "EPOCH: 109\n"
          ]
        },
        {
          "output_type": "stream",
          "name": "stderr",
          "text": [
            "Loss=2.04775071144104 Batch_id=390 Accuracy=58.17: 100%|██████████| 391/391 [01:25<00:00,  4.58it/s]\n"
          ]
        },
        {
          "output_type": "stream",
          "name": "stdout",
          "text": [
            "\n",
            "Test set: Average loss: 1.3396, Accuracy: 6509/10000 (65.09%)\n",
            "\n",
            "Epoch 109: Train loss 2.1696, Train acc 58.17%, Test loss 1.3396, Test acc 65.09%\n",
            "EPOCH: 110\n"
          ]
        },
        {
          "output_type": "stream",
          "name": "stderr",
          "text": [
            "Loss=2.1665377616882324 Batch_id=390 Accuracy=57.98: 100%|██████████| 391/391 [01:25<00:00,  4.58it/s]\n"
          ]
        },
        {
          "output_type": "stream",
          "name": "stdout",
          "text": [
            "\n",
            "Test set: Average loss: 1.3068, Accuracy: 6543/10000 (65.43%)\n",
            "\n",
            "Epoch 110: Train loss 2.1767, Train acc 57.98%, Test loss 1.3068, Test acc 65.43%\n",
            "EPOCH: 111\n"
          ]
        },
        {
          "output_type": "stream",
          "name": "stderr",
          "text": [
            "Loss=3.1528849601745605 Batch_id=390 Accuracy=59.71: 100%|██████████| 391/391 [01:25<00:00,  4.58it/s]\n"
          ]
        },
        {
          "output_type": "stream",
          "name": "stdout",
          "text": [
            "\n",
            "Test set: Average loss: 1.4588, Accuracy: 6243/10000 (62.43%)\n",
            "\n",
            "Epoch 111: Train loss 2.1244, Train acc 59.71%, Test loss 1.4588, Test acc 62.43%\n",
            "EPOCH: 112\n"
          ]
        },
        {
          "output_type": "stream",
          "name": "stderr",
          "text": [
            "Loss=2.176358938217163 Batch_id=390 Accuracy=58.30: 100%|██████████| 391/391 [01:25<00:00,  4.57it/s]\n"
          ]
        },
        {
          "output_type": "stream",
          "name": "stdout",
          "text": [
            "\n",
            "Test set: Average loss: 1.3431, Accuracy: 6511/10000 (65.11%)\n",
            "\n",
            "Epoch 112: Train loss 2.1732, Train acc 58.30%, Test loss 1.3431, Test acc 65.11%\n",
            "EPOCH: 113\n"
          ]
        },
        {
          "output_type": "stream",
          "name": "stderr",
          "text": [
            "Loss=3.554291009902954 Batch_id=390 Accuracy=57.62: 100%|██████████| 391/391 [01:25<00:00,  4.58it/s]\n"
          ]
        },
        {
          "output_type": "stream",
          "name": "stdout",
          "text": [
            "\n",
            "Test set: Average loss: 1.3069, Accuracy: 6617/10000 (66.17%)\n",
            "\n",
            "Epoch 113: Train loss 2.1988, Train acc 57.62%, Test loss 1.3069, Test acc 66.17%\n",
            "EPOCH: 114\n"
          ]
        },
        {
          "output_type": "stream",
          "name": "stderr",
          "text": [
            "Loss=2.0204579830169678 Batch_id=390 Accuracy=57.82: 100%|██████████| 391/391 [01:25<00:00,  4.58it/s]\n"
          ]
        },
        {
          "output_type": "stream",
          "name": "stdout",
          "text": [
            "\n",
            "Test set: Average loss: 1.3129, Accuracy: 6609/10000 (66.09%)\n",
            "\n",
            "Epoch 114: Train loss 2.1791, Train acc 57.82%, Test loss 1.3129, Test acc 66.09%\n",
            "EPOCH: 115\n"
          ]
        },
        {
          "output_type": "stream",
          "name": "stderr",
          "text": [
            "Loss=1.8197004795074463 Batch_id=390 Accuracy=59.55: 100%|██████████| 391/391 [01:25<00:00,  4.59it/s]\n"
          ]
        },
        {
          "output_type": "stream",
          "name": "stdout",
          "text": [
            "\n",
            "Test set: Average loss: 1.3891, Accuracy: 6408/10000 (64.08%)\n",
            "\n",
            "Epoch 115: Train loss 2.1260, Train acc 59.55%, Test loss 1.3891, Test acc 64.08%\n",
            "EPOCH: 116\n"
          ]
        },
        {
          "output_type": "stream",
          "name": "stderr",
          "text": [
            "Loss=2.0254430770874023 Batch_id=390 Accuracy=59.46: 100%|██████████| 391/391 [01:25<00:00,  4.59it/s]\n"
          ]
        },
        {
          "output_type": "stream",
          "name": "stdout",
          "text": [
            "\n",
            "Test set: Average loss: 1.4265, Accuracy: 6346/10000 (63.46%)\n",
            "\n",
            "Epoch 116: Train loss 2.1189, Train acc 59.46%, Test loss 1.4265, Test acc 63.46%\n",
            "EPOCH: 117\n"
          ]
        },
        {
          "output_type": "stream",
          "name": "stderr",
          "text": [
            "Loss=1.9351398944854736 Batch_id=390 Accuracy=59.13: 100%|██████████| 391/391 [01:25<00:00,  4.58it/s]\n"
          ]
        },
        {
          "output_type": "stream",
          "name": "stdout",
          "text": [
            "\n",
            "Test set: Average loss: 1.3216, Accuracy: 6540/10000 (65.40%)\n",
            "\n",
            "Epoch 117: Train loss 2.1222, Train acc 59.13%, Test loss 1.3216, Test acc 65.40%\n",
            "EPOCH: 118\n"
          ]
        },
        {
          "output_type": "stream",
          "name": "stderr",
          "text": [
            "Loss=1.890010118484497 Batch_id=390 Accuracy=59.46: 100%|██████████| 391/391 [01:25<00:00,  4.59it/s]\n"
          ]
        },
        {
          "output_type": "stream",
          "name": "stdout",
          "text": [
            "\n",
            "Test set: Average loss: 1.2247, Accuracy: 6770/10000 (67.70%)\n",
            "\n",
            "Epoch 118: Train loss 2.1173, Train acc 59.46%, Test loss 1.2247, Test acc 67.70%\n",
            "EPOCH: 119\n"
          ]
        },
        {
          "output_type": "stream",
          "name": "stderr",
          "text": [
            "Loss=2.001295328140259 Batch_id=390 Accuracy=58.35: 100%|██████████| 391/391 [01:25<00:00,  4.58it/s]\n"
          ]
        },
        {
          "output_type": "stream",
          "name": "stdout",
          "text": [
            "\n",
            "Test set: Average loss: 1.2935, Accuracy: 6593/10000 (65.93%)\n",
            "\n",
            "Epoch 119: Train loss 2.1532, Train acc 58.35%, Test loss 1.2935, Test acc 65.93%\n",
            "EPOCH: 120\n"
          ]
        },
        {
          "output_type": "stream",
          "name": "stderr",
          "text": [
            "Loss=1.9587639570236206 Batch_id=390 Accuracy=60.04: 100%|██████████| 391/391 [01:25<00:00,  4.57it/s]\n"
          ]
        },
        {
          "output_type": "stream",
          "name": "stdout",
          "text": [
            "\n",
            "Test set: Average loss: 1.3475, Accuracy: 6518/10000 (65.18%)\n",
            "\n",
            "Epoch 120: Train loss 2.1029, Train acc 60.04%, Test loss 1.3475, Test acc 65.18%\n",
            "EPOCH: 121\n"
          ]
        },
        {
          "output_type": "stream",
          "name": "stderr",
          "text": [
            "Loss=2.092663526535034 Batch_id=390 Accuracy=59.73: 100%|██████████| 391/391 [01:25<00:00,  4.58it/s]\n"
          ]
        },
        {
          "output_type": "stream",
          "name": "stdout",
          "text": [
            "\n",
            "Test set: Average loss: 1.3708, Accuracy: 6463/10000 (64.63%)\n",
            "\n",
            "Epoch 121: Train loss 2.1248, Train acc 59.73%, Test loss 1.3708, Test acc 64.63%\n",
            "EPOCH: 122\n"
          ]
        },
        {
          "output_type": "stream",
          "name": "stderr",
          "text": [
            "Loss=1.8423089981079102 Batch_id=390 Accuracy=59.43: 100%|██████████| 391/391 [01:25<00:00,  4.57it/s]\n"
          ]
        },
        {
          "output_type": "stream",
          "name": "stdout",
          "text": [
            "\n",
            "Test set: Average loss: 1.2943, Accuracy: 6584/10000 (65.84%)\n",
            "\n",
            "Epoch 122: Train loss 2.1248, Train acc 59.43%, Test loss 1.2943, Test acc 65.84%\n",
            "EPOCH: 123\n"
          ]
        },
        {
          "output_type": "stream",
          "name": "stderr",
          "text": [
            "Loss=1.973442554473877 Batch_id=390 Accuracy=61.31: 100%|██████████| 391/391 [01:25<00:00,  4.58it/s]\n"
          ]
        },
        {
          "output_type": "stream",
          "name": "stdout",
          "text": [
            "\n",
            "Test set: Average loss: 1.2277, Accuracy: 6784/10000 (67.84%)\n",
            "\n",
            "Epoch 123: Train loss 2.0668, Train acc 61.31%, Test loss 1.2277, Test acc 67.84%\n",
            "EPOCH: 124\n"
          ]
        },
        {
          "output_type": "stream",
          "name": "stderr",
          "text": [
            "Loss=1.9795801639556885 Batch_id=390 Accuracy=60.16: 100%|██████████| 391/391 [01:25<00:00,  4.58it/s]\n"
          ]
        },
        {
          "output_type": "stream",
          "name": "stdout",
          "text": [
            "\n",
            "Test set: Average loss: 1.3231, Accuracy: 6592/10000 (65.92%)\n",
            "\n",
            "Epoch 124: Train loss 2.0857, Train acc 60.16%, Test loss 1.3231, Test acc 65.92%\n",
            "EPOCH: 125\n"
          ]
        },
        {
          "output_type": "stream",
          "name": "stderr",
          "text": [
            "Loss=1.7632009983062744 Batch_id=390 Accuracy=61.05: 100%|██████████| 391/391 [01:25<00:00,  4.58it/s]\n"
          ]
        },
        {
          "output_type": "stream",
          "name": "stdout",
          "text": [
            "\n",
            "Test set: Average loss: 1.2801, Accuracy: 6688/10000 (66.88%)\n",
            "\n",
            "Epoch 125: Train loss 2.0684, Train acc 61.05%, Test loss 1.2801, Test acc 66.88%\n",
            "EPOCH: 126\n"
          ]
        },
        {
          "output_type": "stream",
          "name": "stderr",
          "text": [
            "Loss=1.842910647392273 Batch_id=390 Accuracy=59.07: 100%|██████████| 391/391 [01:25<00:00,  4.58it/s]\n"
          ]
        },
        {
          "output_type": "stream",
          "name": "stdout",
          "text": [
            "\n",
            "Test set: Average loss: 1.3222, Accuracy: 6643/10000 (66.43%)\n",
            "\n",
            "Epoch 126: Train loss 2.1278, Train acc 59.07%, Test loss 1.3222, Test acc 66.43%\n",
            "EPOCH: 127\n"
          ]
        },
        {
          "output_type": "stream",
          "name": "stderr",
          "text": [
            "Loss=3.1302738189697266 Batch_id=390 Accuracy=61.14: 100%|██████████| 391/391 [01:25<00:00,  4.58it/s]\n"
          ]
        },
        {
          "output_type": "stream",
          "name": "stdout",
          "text": [
            "\n",
            "Test set: Average loss: 1.3798, Accuracy: 6471/10000 (64.71%)\n",
            "\n",
            "Epoch 127: Train loss 2.0745, Train acc 61.14%, Test loss 1.3798, Test acc 64.71%\n",
            "EPOCH: 128\n"
          ]
        },
        {
          "output_type": "stream",
          "name": "stderr",
          "text": [
            "Loss=1.934943437576294 Batch_id=390 Accuracy=61.36: 100%|██████████| 391/391 [01:25<00:00,  4.58it/s]\n"
          ]
        },
        {
          "output_type": "stream",
          "name": "stdout",
          "text": [
            "\n",
            "Test set: Average loss: 1.3323, Accuracy: 6520/10000 (65.20%)\n",
            "\n",
            "Epoch 128: Train loss 2.0671, Train acc 61.36%, Test loss 1.3323, Test acc 65.20%\n",
            "EPOCH: 129\n"
          ]
        },
        {
          "output_type": "stream",
          "name": "stderr",
          "text": [
            "Loss=3.53263258934021 Batch_id=390 Accuracy=60.35: 100%|██████████| 391/391 [01:25<00:00,  4.58it/s]\n"
          ]
        },
        {
          "output_type": "stream",
          "name": "stdout",
          "text": [
            "\n",
            "Test set: Average loss: 1.2877, Accuracy: 6651/10000 (66.51%)\n",
            "\n",
            "Epoch 129: Train loss 2.0964, Train acc 60.35%, Test loss 1.2877, Test acc 66.51%\n",
            "EPOCH: 130\n"
          ]
        },
        {
          "output_type": "stream",
          "name": "stderr",
          "text": [
            "Loss=1.982128381729126 Batch_id=390 Accuracy=61.60: 100%|██████████| 391/391 [01:25<00:00,  4.57it/s]\n"
          ]
        },
        {
          "output_type": "stream",
          "name": "stdout",
          "text": [
            "\n",
            "Test set: Average loss: 1.3882, Accuracy: 6455/10000 (64.55%)\n",
            "\n",
            "Epoch 130: Train loss 2.0655, Train acc 61.60%, Test loss 1.3882, Test acc 64.55%\n",
            "EPOCH: 131\n"
          ]
        },
        {
          "output_type": "stream",
          "name": "stderr",
          "text": [
            "Loss=2.2976410388946533 Batch_id=390 Accuracy=60.17: 100%|██████████| 391/391 [01:25<00:00,  4.57it/s]\n"
          ]
        },
        {
          "output_type": "stream",
          "name": "stdout",
          "text": [
            "\n",
            "Test set: Average loss: 1.2982, Accuracy: 6625/10000 (66.25%)\n",
            "\n",
            "Epoch 131: Train loss 2.1009, Train acc 60.17%, Test loss 1.2982, Test acc 66.25%\n",
            "EPOCH: 132\n"
          ]
        },
        {
          "output_type": "stream",
          "name": "stderr",
          "text": [
            "Loss=2.055997610092163 Batch_id=390 Accuracy=61.19: 100%|██████████| 391/391 [01:25<00:00,  4.55it/s]\n"
          ]
        },
        {
          "output_type": "stream",
          "name": "stdout",
          "text": [
            "\n",
            "Test set: Average loss: 1.3290, Accuracy: 6556/10000 (65.56%)\n",
            "\n",
            "Epoch 132: Train loss 2.0571, Train acc 61.19%, Test loss 1.3290, Test acc 65.56%\n",
            "EPOCH: 133\n"
          ]
        },
        {
          "output_type": "stream",
          "name": "stderr",
          "text": [
            "Loss=1.9740869998931885 Batch_id=390 Accuracy=61.48: 100%|██████████| 391/391 [01:25<00:00,  4.57it/s]\n"
          ]
        },
        {
          "output_type": "stream",
          "name": "stdout",
          "text": [
            "\n",
            "Test set: Average loss: 1.2222, Accuracy: 6836/10000 (68.36%)\n",
            "\n",
            "Epoch 133: Train loss 2.0634, Train acc 61.48%, Test loss 1.2222, Test acc 68.36%\n",
            "EPOCH: 134\n"
          ]
        },
        {
          "output_type": "stream",
          "name": "stderr",
          "text": [
            "Loss=3.647042751312256 Batch_id=390 Accuracy=62.93: 100%|██████████| 391/391 [01:25<00:00,  4.58it/s]\n"
          ]
        },
        {
          "output_type": "stream",
          "name": "stdout",
          "text": [
            "\n",
            "Test set: Average loss: 1.2915, Accuracy: 6665/10000 (66.65%)\n",
            "\n",
            "Epoch 134: Train loss 2.0012, Train acc 62.93%, Test loss 1.2915, Test acc 66.65%\n",
            "EPOCH: 135\n"
          ]
        },
        {
          "output_type": "stream",
          "name": "stderr",
          "text": [
            "Loss=1.9118623733520508 Batch_id=390 Accuracy=61.74: 100%|██████████| 391/391 [01:25<00:00,  4.58it/s]\n"
          ]
        },
        {
          "output_type": "stream",
          "name": "stdout",
          "text": [
            "\n",
            "Test set: Average loss: 1.2003, Accuracy: 6875/10000 (68.75%)\n",
            "\n",
            "Epoch 135: Train loss 2.0327, Train acc 61.74%, Test loss 1.2003, Test acc 68.75%\n",
            "EPOCH: 136\n"
          ]
        },
        {
          "output_type": "stream",
          "name": "stderr",
          "text": [
            "Loss=1.992127537727356 Batch_id=390 Accuracy=62.58: 100%|██████████| 391/391 [01:25<00:00,  4.57it/s]\n"
          ]
        },
        {
          "output_type": "stream",
          "name": "stdout",
          "text": [
            "\n",
            "Test set: Average loss: 1.2138, Accuracy: 6881/10000 (68.81%)\n",
            "\n",
            "Epoch 136: Train loss 2.0353, Train acc 62.58%, Test loss 1.2138, Test acc 68.81%\n",
            "EPOCH: 137\n"
          ]
        },
        {
          "output_type": "stream",
          "name": "stderr",
          "text": [
            "Loss=1.848518967628479 Batch_id=390 Accuracy=63.21: 100%|██████████| 391/391 [01:25<00:00,  4.58it/s]\n"
          ]
        },
        {
          "output_type": "stream",
          "name": "stdout",
          "text": [
            "\n",
            "Test set: Average loss: 1.3117, Accuracy: 6642/10000 (66.42%)\n",
            "\n",
            "Epoch 137: Train loss 2.0069, Train acc 63.21%, Test loss 1.3117, Test acc 66.42%\n",
            "EPOCH: 138\n"
          ]
        },
        {
          "output_type": "stream",
          "name": "stderr",
          "text": [
            "Loss=3.5590643882751465 Batch_id=390 Accuracy=64.43: 100%|██████████| 391/391 [01:25<00:00,  4.58it/s]\n"
          ]
        },
        {
          "output_type": "stream",
          "name": "stdout",
          "text": [
            "\n",
            "Test set: Average loss: 1.2091, Accuracy: 6882/10000 (68.82%)\n",
            "\n",
            "Epoch 138: Train loss 1.9550, Train acc 64.43%, Test loss 1.2091, Test acc 68.82%\n",
            "EPOCH: 139\n"
          ]
        },
        {
          "output_type": "stream",
          "name": "stderr",
          "text": [
            "Loss=1.8058183193206787 Batch_id=390 Accuracy=63.28: 100%|██████████| 391/391 [01:25<00:00,  4.58it/s]\n"
          ]
        },
        {
          "output_type": "stream",
          "name": "stdout",
          "text": [
            "\n",
            "Test set: Average loss: 1.2254, Accuracy: 6834/10000 (68.34%)\n",
            "\n",
            "Epoch 139: Train loss 2.0039, Train acc 63.28%, Test loss 1.2254, Test acc 68.34%\n",
            "EPOCH: 140\n"
          ]
        },
        {
          "output_type": "stream",
          "name": "stderr",
          "text": [
            "Loss=1.6372590065002441 Batch_id=390 Accuracy=62.63: 100%|██████████| 391/391 [01:25<00:00,  4.59it/s]\n"
          ]
        },
        {
          "output_type": "stream",
          "name": "stdout",
          "text": [
            "\n",
            "Test set: Average loss: 1.1560, Accuracy: 6973/10000 (69.73%)\n",
            "\n",
            "Epoch 140: Train loss 1.9855, Train acc 62.63%, Test loss 1.1560, Test acc 69.73%\n",
            "EPOCH: 141\n"
          ]
        },
        {
          "output_type": "stream",
          "name": "stderr",
          "text": [
            "Loss=1.1716877222061157 Batch_id=390 Accuracy=62.37: 100%|██████████| 391/391 [01:25<00:00,  4.59it/s]\n"
          ]
        },
        {
          "output_type": "stream",
          "name": "stdout",
          "text": [
            "\n",
            "Test set: Average loss: 1.2593, Accuracy: 6792/10000 (67.92%)\n",
            "\n",
            "Epoch 141: Train loss 2.0187, Train acc 62.37%, Test loss 1.2593, Test acc 67.92%\n",
            "EPOCH: 142\n"
          ]
        },
        {
          "output_type": "stream",
          "name": "stderr",
          "text": [
            "Loss=2.010221242904663 Batch_id=390 Accuracy=63.78: 100%|██████████| 391/391 [01:25<00:00,  4.59it/s]\n"
          ]
        },
        {
          "output_type": "stream",
          "name": "stdout",
          "text": [
            "\n",
            "Test set: Average loss: 1.1826, Accuracy: 6935/10000 (69.35%)\n",
            "\n",
            "Epoch 142: Train loss 1.9973, Train acc 63.78%, Test loss 1.1826, Test acc 69.35%\n",
            "EPOCH: 143\n"
          ]
        },
        {
          "output_type": "stream",
          "name": "stderr",
          "text": [
            "Loss=3.2827935218811035 Batch_id=390 Accuracy=63.23: 100%|██████████| 391/391 [01:25<00:00,  4.58it/s]\n"
          ]
        },
        {
          "output_type": "stream",
          "name": "stdout",
          "text": [
            "\n",
            "Test set: Average loss: 1.2109, Accuracy: 6873/10000 (68.73%)\n",
            "\n",
            "Epoch 143: Train loss 1.9544, Train acc 63.23%, Test loss 1.2109, Test acc 68.73%\n",
            "EPOCH: 144\n"
          ]
        },
        {
          "output_type": "stream",
          "name": "stderr",
          "text": [
            "Loss=2.0212643146514893 Batch_id=390 Accuracy=64.27: 100%|██████████| 391/391 [01:25<00:00,  4.58it/s]\n"
          ]
        },
        {
          "output_type": "stream",
          "name": "stdout",
          "text": [
            "\n",
            "Test set: Average loss: 1.3078, Accuracy: 6680/10000 (66.80%)\n",
            "\n",
            "Epoch 144: Train loss 1.9760, Train acc 64.27%, Test loss 1.3078, Test acc 66.80%\n",
            "EPOCH: 145\n"
          ]
        },
        {
          "output_type": "stream",
          "name": "stderr",
          "text": [
            "Loss=1.9080450534820557 Batch_id=390 Accuracy=65.10: 100%|██████████| 391/391 [01:25<00:00,  4.57it/s]\n"
          ]
        },
        {
          "output_type": "stream",
          "name": "stdout",
          "text": [
            "\n",
            "Test set: Average loss: 1.1723, Accuracy: 7025/10000 (70.25%)\n",
            "\n",
            "Epoch 145: Train loss 1.9493, Train acc 65.10%, Test loss 1.1723, Test acc 70.25%\n",
            "EPOCH: 146\n"
          ]
        },
        {
          "output_type": "stream",
          "name": "stderr",
          "text": [
            "Loss=1.6218127012252808 Batch_id=390 Accuracy=63.55: 100%|██████████| 391/391 [01:25<00:00,  4.58it/s]\n"
          ]
        },
        {
          "output_type": "stream",
          "name": "stdout",
          "text": [
            "\n",
            "Test set: Average loss: 1.1505, Accuracy: 6941/10000 (69.41%)\n",
            "\n",
            "Epoch 146: Train loss 1.9860, Train acc 63.55%, Test loss 1.1505, Test acc 69.41%\n",
            "EPOCH: 147\n"
          ]
        },
        {
          "output_type": "stream",
          "name": "stderr",
          "text": [
            "Loss=1.823746681213379 Batch_id=390 Accuracy=65.93: 100%|██████████| 391/391 [01:25<00:00,  4.58it/s]\n"
          ]
        },
        {
          "output_type": "stream",
          "name": "stdout",
          "text": [
            "\n",
            "Test set: Average loss: 1.2266, Accuracy: 6831/10000 (68.31%)\n",
            "\n",
            "Epoch 147: Train loss 1.8990, Train acc 65.93%, Test loss 1.2266, Test acc 68.31%\n",
            "EPOCH: 148\n"
          ]
        },
        {
          "output_type": "stream",
          "name": "stderr",
          "text": [
            "Loss=1.7681686878204346 Batch_id=390 Accuracy=65.48: 100%|██████████| 391/391 [01:25<00:00,  4.57it/s]\n"
          ]
        },
        {
          "output_type": "stream",
          "name": "stdout",
          "text": [
            "\n",
            "Test set: Average loss: 1.1628, Accuracy: 6987/10000 (69.87%)\n",
            "\n",
            "Epoch 148: Train loss 1.9177, Train acc 65.48%, Test loss 1.1628, Test acc 69.87%\n",
            "EPOCH: 149\n"
          ]
        },
        {
          "output_type": "stream",
          "name": "stderr",
          "text": [
            "Loss=1.758363962173462 Batch_id=390 Accuracy=64.93: 100%|██████████| 391/391 [01:25<00:00,  4.57it/s]\n"
          ]
        },
        {
          "output_type": "stream",
          "name": "stdout",
          "text": [
            "\n",
            "Test set: Average loss: 1.1322, Accuracy: 7060/10000 (70.60%)\n",
            "\n",
            "Epoch 149: Train loss 1.9459, Train acc 64.93%, Test loss 1.1322, Test acc 70.60%\n",
            "EPOCH: 150\n"
          ]
        },
        {
          "output_type": "stream",
          "name": "stderr",
          "text": [
            "Loss=1.7556850910186768 Batch_id=390 Accuracy=66.11: 100%|██████████| 391/391 [01:25<00:00,  4.59it/s]\n"
          ]
        },
        {
          "output_type": "stream",
          "name": "stdout",
          "text": [
            "\n",
            "Test set: Average loss: 1.1800, Accuracy: 7027/10000 (70.27%)\n",
            "\n",
            "Epoch 150: Train loss 1.8932, Train acc 66.11%, Test loss 1.1800, Test acc 70.27%\n",
            "EPOCH: 151\n"
          ]
        },
        {
          "output_type": "stream",
          "name": "stderr",
          "text": [
            "Loss=1.7220866680145264 Batch_id=390 Accuracy=64.95: 100%|██████████| 391/391 [01:25<00:00,  4.59it/s]\n"
          ]
        },
        {
          "output_type": "stream",
          "name": "stdout",
          "text": [
            "\n",
            "Test set: Average loss: 1.0936, Accuracy: 7183/10000 (71.83%)\n",
            "\n",
            "Epoch 151: Train loss 1.9229, Train acc 64.95%, Test loss 1.0936, Test acc 71.83%\n",
            "EPOCH: 152\n"
          ]
        },
        {
          "output_type": "stream",
          "name": "stderr",
          "text": [
            "Loss=1.513843059539795 Batch_id=390 Accuracy=66.61: 100%|██████████| 391/391 [01:25<00:00,  4.59it/s]\n"
          ]
        },
        {
          "output_type": "stream",
          "name": "stdout",
          "text": [
            "\n",
            "Test set: Average loss: 1.1009, Accuracy: 7185/10000 (71.85%)\n",
            "\n",
            "Epoch 152: Train loss 1.8827, Train acc 66.61%, Test loss 1.1009, Test acc 71.85%\n",
            "EPOCH: 153\n"
          ]
        },
        {
          "output_type": "stream",
          "name": "stderr",
          "text": [
            "Loss=1.6987946033477783 Batch_id=390 Accuracy=67.73: 100%|██████████| 391/391 [01:25<00:00,  4.59it/s]\n"
          ]
        },
        {
          "output_type": "stream",
          "name": "stdout",
          "text": [
            "\n",
            "Test set: Average loss: 1.1231, Accuracy: 7113/10000 (71.13%)\n",
            "\n",
            "Epoch 153: Train loss 1.8590, Train acc 67.73%, Test loss 1.1231, Test acc 71.13%\n",
            "EPOCH: 154\n"
          ]
        },
        {
          "output_type": "stream",
          "name": "stderr",
          "text": [
            "Loss=1.6237713098526 Batch_id=390 Accuracy=66.24: 100%|██████████| 391/391 [01:25<00:00,  4.59it/s]\n"
          ]
        },
        {
          "output_type": "stream",
          "name": "stdout",
          "text": [
            "\n",
            "Test set: Average loss: 1.0646, Accuracy: 7251/10000 (72.51%)\n",
            "\n",
            "Epoch 154: Train loss 1.9008, Train acc 66.24%, Test loss 1.0646, Test acc 72.51%\n",
            "EPOCH: 155\n"
          ]
        },
        {
          "output_type": "stream",
          "name": "stderr",
          "text": [
            "Loss=2.4937915802001953 Batch_id=390 Accuracy=67.47: 100%|██████████| 391/391 [01:25<00:00,  4.58it/s]\n"
          ]
        },
        {
          "output_type": "stream",
          "name": "stdout",
          "text": [
            "\n",
            "Test set: Average loss: 1.1022, Accuracy: 7157/10000 (71.57%)\n",
            "\n",
            "Epoch 155: Train loss 1.8661, Train acc 67.47%, Test loss 1.1022, Test acc 71.57%\n",
            "EPOCH: 156\n"
          ]
        },
        {
          "output_type": "stream",
          "name": "stderr",
          "text": [
            "Loss=1.9190421104431152 Batch_id=390 Accuracy=65.95: 100%|██████████| 391/391 [01:25<00:00,  4.59it/s]\n"
          ]
        },
        {
          "output_type": "stream",
          "name": "stdout",
          "text": [
            "\n",
            "Test set: Average loss: 1.1314, Accuracy: 7089/10000 (70.89%)\n",
            "\n",
            "Epoch 156: Train loss 1.9127, Train acc 65.95%, Test loss 1.1314, Test acc 70.89%\n",
            "EPOCH: 157\n"
          ]
        },
        {
          "output_type": "stream",
          "name": "stderr",
          "text": [
            "Loss=1.7601759433746338 Batch_id=390 Accuracy=67.41: 100%|██████████| 391/391 [01:25<00:00,  4.59it/s]\n"
          ]
        },
        {
          "output_type": "stream",
          "name": "stdout",
          "text": [
            "\n",
            "Test set: Average loss: 1.0681, Accuracy: 7254/10000 (72.54%)\n",
            "\n",
            "Epoch 157: Train loss 1.8583, Train acc 67.41%, Test loss 1.0681, Test acc 72.54%\n",
            "EPOCH: 158\n"
          ]
        },
        {
          "output_type": "stream",
          "name": "stderr",
          "text": [
            "Loss=1.8168740272521973 Batch_id=390 Accuracy=68.73: 100%|██████████| 391/391 [01:25<00:00,  4.57it/s]\n"
          ]
        },
        {
          "output_type": "stream",
          "name": "stdout",
          "text": [
            "\n",
            "Test set: Average loss: 1.0420, Accuracy: 7318/10000 (73.18%)\n",
            "\n",
            "Epoch 158: Train loss 1.7881, Train acc 68.73%, Test loss 1.0420, Test acc 73.18%\n",
            "EPOCH: 159\n"
          ]
        },
        {
          "output_type": "stream",
          "name": "stderr",
          "text": [
            "Loss=1.6684870719909668 Batch_id=390 Accuracy=69.20: 100%|██████████| 391/391 [01:25<00:00,  4.57it/s]\n"
          ]
        },
        {
          "output_type": "stream",
          "name": "stdout",
          "text": [
            "\n",
            "Test set: Average loss: 1.0739, Accuracy: 7210/10000 (72.10%)\n",
            "\n",
            "Epoch 159: Train loss 1.8119, Train acc 69.20%, Test loss 1.0739, Test acc 72.10%\n",
            "EPOCH: 160\n"
          ]
        },
        {
          "output_type": "stream",
          "name": "stderr",
          "text": [
            "Loss=1.5614380836486816 Batch_id=390 Accuracy=68.51: 100%|██████████| 391/391 [01:25<00:00,  4.59it/s]\n"
          ]
        },
        {
          "output_type": "stream",
          "name": "stdout",
          "text": [
            "\n",
            "Test set: Average loss: 1.1263, Accuracy: 7155/10000 (71.55%)\n",
            "\n",
            "Epoch 160: Train loss 1.8116, Train acc 68.51%, Test loss 1.1263, Test acc 71.55%\n",
            "EPOCH: 161\n"
          ]
        },
        {
          "output_type": "stream",
          "name": "stderr",
          "text": [
            "Loss=3.3007521629333496 Batch_id=390 Accuracy=70.27: 100%|██████████| 391/391 [01:25<00:00,  4.59it/s]\n"
          ]
        },
        {
          "output_type": "stream",
          "name": "stdout",
          "text": [
            "\n",
            "Test set: Average loss: 1.1194, Accuracy: 7162/10000 (71.62%)\n",
            "\n",
            "Epoch 161: Train loss 1.7691, Train acc 70.27%, Test loss 1.1194, Test acc 71.62%\n",
            "EPOCH: 162\n"
          ]
        },
        {
          "output_type": "stream",
          "name": "stderr",
          "text": [
            "Loss=2.3561058044433594 Batch_id=390 Accuracy=70.71: 100%|██████████| 391/391 [01:25<00:00,  4.59it/s]\n"
          ]
        },
        {
          "output_type": "stream",
          "name": "stdout",
          "text": [
            "\n",
            "Test set: Average loss: 1.0241, Accuracy: 7376/10000 (73.76%)\n",
            "\n",
            "Epoch 162: Train loss 1.7272, Train acc 70.71%, Test loss 1.0241, Test acc 73.76%\n",
            "EPOCH: 163\n"
          ]
        },
        {
          "output_type": "stream",
          "name": "stderr",
          "text": [
            "Loss=2.7666311264038086 Batch_id=390 Accuracy=70.17: 100%|██████████| 391/391 [01:25<00:00,  4.59it/s]\n"
          ]
        },
        {
          "output_type": "stream",
          "name": "stdout",
          "text": [
            "\n",
            "Test set: Average loss: 1.0771, Accuracy: 7245/10000 (72.45%)\n",
            "\n",
            "Epoch 163: Train loss 1.7320, Train acc 70.17%, Test loss 1.0771, Test acc 72.45%\n",
            "EPOCH: 164\n"
          ]
        },
        {
          "output_type": "stream",
          "name": "stderr",
          "text": [
            "Loss=1.71745765209198 Batch_id=390 Accuracy=71.22: 100%|██████████| 391/391 [01:25<00:00,  4.58it/s]\n"
          ]
        },
        {
          "output_type": "stream",
          "name": "stdout",
          "text": [
            "\n",
            "Test set: Average loss: 1.0261, Accuracy: 7368/10000 (73.68%)\n",
            "\n",
            "Epoch 164: Train loss 1.7215, Train acc 71.22%, Test loss 1.0261, Test acc 73.68%\n",
            "EPOCH: 165\n"
          ]
        },
        {
          "output_type": "stream",
          "name": "stderr",
          "text": [
            "Loss=1.6093485355377197 Batch_id=390 Accuracy=72.06: 100%|██████████| 391/391 [01:25<00:00,  4.58it/s]\n"
          ]
        },
        {
          "output_type": "stream",
          "name": "stdout",
          "text": [
            "\n",
            "Test set: Average loss: 1.0112, Accuracy: 7497/10000 (74.97%)\n",
            "\n",
            "Epoch 165: Train loss 1.7005, Train acc 72.06%, Test loss 1.0112, Test acc 74.97%\n",
            "EPOCH: 166\n"
          ]
        },
        {
          "output_type": "stream",
          "name": "stderr",
          "text": [
            "Loss=1.6470683813095093 Batch_id=390 Accuracy=72.04: 100%|██████████| 391/391 [01:25<00:00,  4.59it/s]\n"
          ]
        },
        {
          "output_type": "stream",
          "name": "stdout",
          "text": [
            "\n",
            "Test set: Average loss: 1.0317, Accuracy: 7394/10000 (73.94%)\n",
            "\n",
            "Epoch 166: Train loss 1.6961, Train acc 72.04%, Test loss 1.0317, Test acc 73.94%\n",
            "EPOCH: 167\n"
          ]
        },
        {
          "output_type": "stream",
          "name": "stderr",
          "text": [
            "Loss=1.3662433624267578 Batch_id=390 Accuracy=71.30: 100%|██████████| 391/391 [01:25<00:00,  4.59it/s]\n"
          ]
        },
        {
          "output_type": "stream",
          "name": "stdout",
          "text": [
            "\n",
            "Test set: Average loss: 0.9798, Accuracy: 7506/10000 (75.06%)\n",
            "\n",
            "Epoch 167: Train loss 1.7267, Train acc 71.30%, Test loss 0.9798, Test acc 75.06%\n",
            "EPOCH: 168\n"
          ]
        },
        {
          "output_type": "stream",
          "name": "stderr",
          "text": [
            "Loss=1.4515188932418823 Batch_id=390 Accuracy=74.39: 100%|██████████| 391/391 [01:25<00:00,  4.58it/s]\n"
          ]
        },
        {
          "output_type": "stream",
          "name": "stdout",
          "text": [
            "\n",
            "Test set: Average loss: 0.9835, Accuracy: 7545/10000 (75.45%)\n",
            "\n",
            "Epoch 168: Train loss 1.6377, Train acc 74.39%, Test loss 0.9835, Test acc 75.45%\n",
            "EPOCH: 169\n"
          ]
        },
        {
          "output_type": "stream",
          "name": "stderr",
          "text": [
            "Loss=1.4754769802093506 Batch_id=390 Accuracy=74.49: 100%|██████████| 391/391 [01:25<00:00,  4.59it/s]\n"
          ]
        },
        {
          "output_type": "stream",
          "name": "stdout",
          "text": [
            "\n",
            "Test set: Average loss: 0.9715, Accuracy: 7611/10000 (76.11%)\n",
            "\n",
            "Epoch 169: Train loss 1.6316, Train acc 74.49%, Test loss 0.9715, Test acc 76.11%\n",
            "EPOCH: 170\n"
          ]
        },
        {
          "output_type": "stream",
          "name": "stderr",
          "text": [
            "Loss=3.3532347679138184 Batch_id=390 Accuracy=72.32: 100%|██████████| 391/391 [01:25<00:00,  4.59it/s]\n"
          ]
        },
        {
          "output_type": "stream",
          "name": "stdout",
          "text": [
            "\n",
            "Test set: Average loss: 0.9686, Accuracy: 7581/10000 (75.81%)\n",
            "\n",
            "Epoch 170: Train loss 1.6840, Train acc 72.32%, Test loss 0.9686, Test acc 75.81%\n",
            "EPOCH: 171\n"
          ]
        },
        {
          "output_type": "stream",
          "name": "stderr",
          "text": [
            "Loss=1.4586360454559326 Batch_id=390 Accuracy=75.13: 100%|██████████| 391/391 [01:25<00:00,  4.59it/s]\n"
          ]
        },
        {
          "output_type": "stream",
          "name": "stdout",
          "text": [
            "\n",
            "Test set: Average loss: 0.9730, Accuracy: 7561/10000 (75.61%)\n",
            "\n",
            "Epoch 171: Train loss 1.6012, Train acc 75.13%, Test loss 0.9730, Test acc 75.61%\n",
            "EPOCH: 172\n"
          ]
        },
        {
          "output_type": "stream",
          "name": "stderr",
          "text": [
            "Loss=1.3998719453811646 Batch_id=390 Accuracy=75.31: 100%|██████████| 391/391 [01:25<00:00,  4.57it/s]\n"
          ]
        },
        {
          "output_type": "stream",
          "name": "stdout",
          "text": [
            "\n",
            "Test set: Average loss: 0.9918, Accuracy: 7517/10000 (75.17%)\n",
            "\n",
            "Epoch 172: Train loss 1.6005, Train acc 75.31%, Test loss 0.9918, Test acc 75.17%\n",
            "EPOCH: 173\n"
          ]
        },
        {
          "output_type": "stream",
          "name": "stderr",
          "text": [
            "Loss=1.4590731859207153 Batch_id=390 Accuracy=75.53: 100%|██████████| 391/391 [01:25<00:00,  4.58it/s]\n"
          ]
        },
        {
          "output_type": "stream",
          "name": "stdout",
          "text": [
            "\n",
            "Test set: Average loss: 0.9431, Accuracy: 7673/10000 (76.73%)\n",
            "\n",
            "Epoch 173: Train loss 1.5793, Train acc 75.53%, Test loss 0.9431, Test acc 76.73%\n",
            "EPOCH: 174\n"
          ]
        },
        {
          "output_type": "stream",
          "name": "stderr",
          "text": [
            "Loss=1.548583745956421 Batch_id=390 Accuracy=77.94: 100%|██████████| 391/391 [01:25<00:00,  4.60it/s]\n"
          ]
        },
        {
          "output_type": "stream",
          "name": "stdout",
          "text": [
            "\n",
            "Test set: Average loss: 0.9441, Accuracy: 7660/10000 (76.60%)\n",
            "\n",
            "Epoch 174: Train loss 1.5470, Train acc 77.94%, Test loss 0.9441, Test acc 76.60%\n",
            "EPOCH: 175\n"
          ]
        },
        {
          "output_type": "stream",
          "name": "stderr",
          "text": [
            "Loss=2.151564359664917 Batch_id=390 Accuracy=77.66: 100%|██████████| 391/391 [01:25<00:00,  4.58it/s]\n"
          ]
        },
        {
          "output_type": "stream",
          "name": "stdout",
          "text": [
            "\n",
            "Test set: Average loss: 0.9197, Accuracy: 7711/10000 (77.11%)\n",
            "\n",
            "Epoch 175: Train loss 1.5505, Train acc 77.66%, Test loss 0.9197, Test acc 77.11%\n",
            "EPOCH: 176\n"
          ]
        },
        {
          "output_type": "stream",
          "name": "stderr",
          "text": [
            "Loss=1.448063611984253 Batch_id=390 Accuracy=77.56: 100%|██████████| 391/391 [01:25<00:00,  4.58it/s]\n"
          ]
        },
        {
          "output_type": "stream",
          "name": "stdout",
          "text": [
            "\n",
            "Test set: Average loss: 0.9218, Accuracy: 7744/10000 (77.44%)\n",
            "\n",
            "Epoch 176: Train loss 1.5474, Train acc 77.56%, Test loss 0.9218, Test acc 77.44%\n",
            "EPOCH: 177\n"
          ]
        },
        {
          "output_type": "stream",
          "name": "stderr",
          "text": [
            "Loss=1.3978114128112793 Batch_id=390 Accuracy=76.60: 100%|██████████| 391/391 [01:25<00:00,  4.58it/s]\n"
          ]
        },
        {
          "output_type": "stream",
          "name": "stdout",
          "text": [
            "\n",
            "Test set: Average loss: 0.9237, Accuracy: 7687/10000 (76.87%)\n",
            "\n",
            "Epoch 177: Train loss 1.5522, Train acc 76.60%, Test loss 0.9237, Test acc 76.87%\n",
            "EPOCH: 178\n"
          ]
        },
        {
          "output_type": "stream",
          "name": "stderr",
          "text": [
            "Loss=1.3634406328201294 Batch_id=390 Accuracy=77.82: 100%|██████████| 391/391 [01:25<00:00,  4.58it/s]\n"
          ]
        },
        {
          "output_type": "stream",
          "name": "stdout",
          "text": [
            "\n",
            "Test set: Average loss: 0.9028, Accuracy: 7771/10000 (77.71%)\n",
            "\n",
            "Epoch 178: Train loss 1.5225, Train acc 77.82%, Test loss 0.9028, Test acc 77.71%\n",
            "EPOCH: 179\n"
          ]
        },
        {
          "output_type": "stream",
          "name": "stderr",
          "text": [
            "Loss=1.2002922296524048 Batch_id=390 Accuracy=78.67: 100%|██████████| 391/391 [01:25<00:00,  4.58it/s]\n"
          ]
        },
        {
          "output_type": "stream",
          "name": "stdout",
          "text": [
            "\n",
            "Test set: Average loss: 0.8860, Accuracy: 7830/10000 (78.30%)\n",
            "\n",
            "Epoch 179: Train loss 1.4788, Train acc 78.67%, Test loss 0.8860, Test acc 78.30%\n",
            "EPOCH: 180\n"
          ]
        },
        {
          "output_type": "stream",
          "name": "stderr",
          "text": [
            "Loss=1.4850146770477295 Batch_id=390 Accuracy=78.97: 100%|██████████| 391/391 [01:25<00:00,  4.59it/s]\n"
          ]
        },
        {
          "output_type": "stream",
          "name": "stdout",
          "text": [
            "\n",
            "Test set: Average loss: 0.9073, Accuracy: 7801/10000 (78.01%)\n",
            "\n",
            "Epoch 180: Train loss 1.4734, Train acc 78.97%, Test loss 0.9073, Test acc 78.01%\n",
            "EPOCH: 181\n"
          ]
        },
        {
          "output_type": "stream",
          "name": "stderr",
          "text": [
            "Loss=1.183557152748108 Batch_id=390 Accuracy=80.06: 100%|██████████| 391/391 [01:25<00:00,  4.58it/s]\n"
          ]
        },
        {
          "output_type": "stream",
          "name": "stdout",
          "text": [
            "\n",
            "Test set: Average loss: 0.8756, Accuracy: 7907/10000 (79.07%)\n",
            "\n",
            "Epoch 181: Train loss 1.4573, Train acc 80.06%, Test loss 0.8756, Test acc 79.07%\n",
            "EPOCH: 182\n"
          ]
        },
        {
          "output_type": "stream",
          "name": "stderr",
          "text": [
            "Loss=1.2200562953948975 Batch_id=390 Accuracy=80.40: 100%|██████████| 391/391 [01:25<00:00,  4.59it/s]\n"
          ]
        },
        {
          "output_type": "stream",
          "name": "stdout",
          "text": [
            "\n",
            "Test set: Average loss: 0.8595, Accuracy: 7912/10000 (79.12%)\n",
            "\n",
            "Epoch 182: Train loss 1.4343, Train acc 80.40%, Test loss 0.8595, Test acc 79.12%\n",
            "EPOCH: 183\n"
          ]
        },
        {
          "output_type": "stream",
          "name": "stderr",
          "text": [
            "Loss=1.6840893030166626 Batch_id=390 Accuracy=80.75: 100%|██████████| 391/391 [01:25<00:00,  4.59it/s]\n"
          ]
        },
        {
          "output_type": "stream",
          "name": "stdout",
          "text": [
            "\n",
            "Test set: Average loss: 0.8683, Accuracy: 7906/10000 (79.06%)\n",
            "\n",
            "Epoch 183: Train loss 1.4130, Train acc 80.75%, Test loss 0.8683, Test acc 79.06%\n",
            "EPOCH: 184\n"
          ]
        },
        {
          "output_type": "stream",
          "name": "stderr",
          "text": [
            "Loss=1.205739140510559 Batch_id=390 Accuracy=81.30: 100%|██████████| 391/391 [01:25<00:00,  4.58it/s]\n"
          ]
        },
        {
          "output_type": "stream",
          "name": "stdout",
          "text": [
            "\n",
            "Test set: Average loss: 0.8799, Accuracy: 7913/10000 (79.13%)\n",
            "\n",
            "Epoch 184: Train loss 1.4009, Train acc 81.30%, Test loss 0.8799, Test acc 79.13%\n",
            "EPOCH: 185\n"
          ]
        },
        {
          "output_type": "stream",
          "name": "stderr",
          "text": [
            "Loss=1.0160356760025024 Batch_id=390 Accuracy=81.42: 100%|██████████| 391/391 [01:25<00:00,  4.59it/s]\n"
          ]
        },
        {
          "output_type": "stream",
          "name": "stdout",
          "text": [
            "\n",
            "Test set: Average loss: 0.8476, Accuracy: 7916/10000 (79.16%)\n",
            "\n",
            "Epoch 185: Train loss 1.3793, Train acc 81.42%, Test loss 0.8476, Test acc 79.16%\n",
            "EPOCH: 186\n"
          ]
        },
        {
          "output_type": "stream",
          "name": "stderr",
          "text": [
            "Loss=1.3195819854736328 Batch_id=390 Accuracy=82.51: 100%|██████████| 391/391 [01:25<00:00,  4.59it/s]\n"
          ]
        },
        {
          "output_type": "stream",
          "name": "stdout",
          "text": [
            "\n",
            "Test set: Average loss: 0.8662, Accuracy: 7938/10000 (79.38%)\n",
            "\n",
            "Epoch 186: Train loss 1.3484, Train acc 82.51%, Test loss 0.8662, Test acc 79.38%\n",
            "EPOCH: 187\n"
          ]
        },
        {
          "output_type": "stream",
          "name": "stderr",
          "text": [
            "Loss=2.6117963790893555 Batch_id=390 Accuracy=83.81: 100%|██████████| 391/391 [01:25<00:00,  4.58it/s]\n"
          ]
        },
        {
          "output_type": "stream",
          "name": "stdout",
          "text": [
            "\n",
            "Test set: Average loss: 0.8568, Accuracy: 7985/10000 (79.85%)\n",
            "\n",
            "Epoch 187: Train loss 1.3387, Train acc 83.81%, Test loss 0.8568, Test acc 79.85%\n",
            "EPOCH: 188\n"
          ]
        },
        {
          "output_type": "stream",
          "name": "stderr",
          "text": [
            "Loss=2.3913073539733887 Batch_id=390 Accuracy=83.97: 100%|██████████| 391/391 [01:25<00:00,  4.57it/s]\n"
          ]
        },
        {
          "output_type": "stream",
          "name": "stdout",
          "text": [
            "\n",
            "Test set: Average loss: 0.8406, Accuracy: 8017/10000 (80.17%)\n",
            "\n",
            "Epoch 188: Train loss 1.3315, Train acc 83.97%, Test loss 0.8406, Test acc 80.17%\n",
            "EPOCH: 189\n"
          ]
        },
        {
          "output_type": "stream",
          "name": "stderr",
          "text": [
            "Loss=1.1916797161102295 Batch_id=390 Accuracy=82.13: 100%|██████████| 391/391 [01:25<00:00,  4.59it/s]\n"
          ]
        },
        {
          "output_type": "stream",
          "name": "stdout",
          "text": [
            "\n",
            "Test set: Average loss: 0.8398, Accuracy: 8007/10000 (80.07%)\n",
            "\n",
            "Epoch 189: Train loss 1.3483, Train acc 82.13%, Test loss 0.8398, Test acc 80.07%\n",
            "EPOCH: 190\n"
          ]
        },
        {
          "output_type": "stream",
          "name": "stderr",
          "text": [
            "Loss=1.2814011573791504 Batch_id=390 Accuracy=83.58: 100%|██████████| 391/391 [01:25<00:00,  4.59it/s]\n"
          ]
        },
        {
          "output_type": "stream",
          "name": "stdout",
          "text": [
            "\n",
            "Test set: Average loss: 0.8232, Accuracy: 8060/10000 (80.60%)\n",
            "\n",
            "Epoch 190: Train loss 1.3573, Train acc 83.58%, Test loss 0.8232, Test acc 80.60%\n",
            "EPOCH: 191\n"
          ]
        },
        {
          "output_type": "stream",
          "name": "stderr",
          "text": [
            "Loss=2.7700181007385254 Batch_id=390 Accuracy=81.54: 100%|██████████| 391/391 [01:25<00:00,  4.58it/s]\n"
          ]
        },
        {
          "output_type": "stream",
          "name": "stdout",
          "text": [
            "\n",
            "Test set: Average loss: 0.8513, Accuracy: 8050/10000 (80.50%)\n",
            "\n",
            "Epoch 191: Train loss 1.3900, Train acc 81.54%, Test loss 0.8513, Test acc 80.50%\n",
            "EPOCH: 192\n"
          ]
        },
        {
          "output_type": "stream",
          "name": "stderr",
          "text": [
            "Loss=1.210206389427185 Batch_id=390 Accuracy=84.26: 100%|██████████| 391/391 [01:25<00:00,  4.59it/s]\n"
          ]
        },
        {
          "output_type": "stream",
          "name": "stdout",
          "text": [
            "\n",
            "Test set: Average loss: 0.8290, Accuracy: 8071/10000 (80.71%)\n",
            "\n",
            "Epoch 192: Train loss 1.3174, Train acc 84.26%, Test loss 0.8290, Test acc 80.71%\n",
            "EPOCH: 193\n"
          ]
        },
        {
          "output_type": "stream",
          "name": "stderr",
          "text": [
            "Loss=1.0966168642044067 Batch_id=390 Accuracy=82.29: 100%|██████████| 391/391 [01:25<00:00,  4.60it/s]\n"
          ]
        },
        {
          "output_type": "stream",
          "name": "stdout",
          "text": [
            "\n",
            "Test set: Average loss: 0.8182, Accuracy: 8091/10000 (80.91%)\n",
            "\n",
            "Epoch 193: Train loss 1.3910, Train acc 82.29%, Test loss 0.8182, Test acc 80.91%\n",
            "EPOCH: 194\n"
          ]
        },
        {
          "output_type": "stream",
          "name": "stderr",
          "text": [
            "Loss=1.3065015077590942 Batch_id=390 Accuracy=82.85: 100%|██████████| 391/391 [01:25<00:00,  4.59it/s]\n"
          ]
        },
        {
          "output_type": "stream",
          "name": "stdout",
          "text": [
            "\n",
            "Test set: Average loss: 0.8202, Accuracy: 8088/10000 (80.88%)\n",
            "\n",
            "Epoch 194: Train loss 1.3349, Train acc 82.85%, Test loss 0.8202, Test acc 80.88%\n",
            "EPOCH: 195\n"
          ]
        },
        {
          "output_type": "stream",
          "name": "stderr",
          "text": [
            "Loss=1.1819236278533936 Batch_id=390 Accuracy=81.64: 100%|██████████| 391/391 [01:25<00:00,  4.59it/s]\n"
          ]
        },
        {
          "output_type": "stream",
          "name": "stdout",
          "text": [
            "\n",
            "Test set: Average loss: 0.8139, Accuracy: 8103/10000 (81.03%)\n",
            "\n",
            "Epoch 195: Train loss 1.3495, Train acc 81.64%, Test loss 0.8139, Test acc 81.03%\n",
            "EPOCH: 196\n"
          ]
        },
        {
          "output_type": "stream",
          "name": "stderr",
          "text": [
            "Loss=2.649639368057251 Batch_id=390 Accuracy=84.80: 100%|██████████| 391/391 [01:25<00:00,  4.59it/s]\n"
          ]
        },
        {
          "output_type": "stream",
          "name": "stdout",
          "text": [
            "\n",
            "Test set: Average loss: 0.8253, Accuracy: 8101/10000 (81.01%)\n",
            "\n",
            "Epoch 196: Train loss 1.2965, Train acc 84.80%, Test loss 0.8253, Test acc 81.01%\n",
            "EPOCH: 197\n"
          ]
        },
        {
          "output_type": "stream",
          "name": "stderr",
          "text": [
            "Loss=1.1383676528930664 Batch_id=390 Accuracy=82.36: 100%|██████████| 391/391 [01:25<00:00,  4.59it/s]\n"
          ]
        },
        {
          "output_type": "stream",
          "name": "stdout",
          "text": [
            "\n",
            "Test set: Average loss: 0.8143, Accuracy: 8099/10000 (80.99%)\n",
            "\n",
            "Epoch 197: Train loss 1.3438, Train acc 82.36%, Test loss 0.8143, Test acc 80.99%\n",
            "EPOCH: 198\n"
          ]
        },
        {
          "output_type": "stream",
          "name": "stderr",
          "text": [
            "Loss=1.116129994392395 Batch_id=390 Accuracy=84.26: 100%|██████████| 391/391 [01:25<00:00,  4.59it/s]\n"
          ]
        },
        {
          "output_type": "stream",
          "name": "stdout",
          "text": [
            "\n",
            "Test set: Average loss: 0.8256, Accuracy: 8085/10000 (80.85%)\n",
            "\n",
            "Epoch 198: Train loss 1.3021, Train acc 84.26%, Test loss 0.8256, Test acc 80.85%\n",
            "EPOCH: 199\n"
          ]
        },
        {
          "output_type": "stream",
          "name": "stderr",
          "text": [
            "Loss=1.1405147314071655 Batch_id=390 Accuracy=83.59: 100%|██████████| 391/391 [01:25<00:00,  4.58it/s]\n"
          ]
        },
        {
          "output_type": "stream",
          "name": "stdout",
          "text": [
            "\n",
            "Test set: Average loss: 0.8237, Accuracy: 8088/10000 (80.88%)\n",
            "\n",
            "Epoch 199: Train loss 1.3414, Train acc 83.59%, Test loss 0.8237, Test acc 80.88%\n",
            "Loaded best checkpoint with test_acc=80.88\n"
          ]
        },
        {
          "output_type": "stream",
          "name": "stderr",
          "text": [
            "/usr/local/lib/python3.12/dist-packages/torch/utils/data/dataloader.py:627: UserWarning: This DataLoader will create 4 worker processes in total. Our suggested max number of worker in current system is 2, which is smaller than what this DataLoader is going to create. Please be aware that excessive worker creation might get DataLoader running slow or even freeze, lower the worker number to avoid potential slowness/freeze if necessary.\n",
            "  warnings.warn(\n",
            "Exception ignored in: <function BaseCAM.__del__ at 0x7c218bc60540>\n",
            "Traceback (most recent call last):\n",
            "  File \"/usr/local/lib/python3.12/dist-packages/pytorch_grad_cam/base_cam.py\", line 212, in __del__\n",
            "    self.activations_and_grads.release()\n",
            "    ^^^^^^^^^^^^^^^^^^^^^^^^^^\n",
            "AttributeError: 'GradCAM' object has no attribute 'activations_and_grads'\n"
          ]
        },
        {
          "output_type": "stream",
          "name": "stdout",
          "text": [
            "Grad-CAM helper not available or failed: GradCAM.__init__() got an unexpected keyword argument 'target_layer'\n"
          ]
        },
        {
          "output_type": "display_data",
          "data": {
            "text/plain": [
              "<Figure size 1500x1000 with 4 Axes>"
            ],
            "image/png": "[encoded data removed]"
          },
          "metadata": {}
        }
      ],
      "source": [
        "from __future__ import print_function\n",
        "from torchvision import datasets, transforms, utils\n",
        "from albumentations.pytorch import ToTensorV2\n",
        "import matplotlib.pyplot as plt\n",
        "import albumentations as A\n",
        "import torch\n",
        "import torch.nn as nn\n",
        "import torch.nn.functional as F\n",
        "import torch.optim as optim\n",
        "import numpy as np\n",
        "import random\n",
        "from torch.distributions.beta import Beta\n",
        "\n",
        "class ResidualBlock(nn.Module):\n",
        "    def __init__(self, in_channels, out_channels, stride=1, downsample=None):\n",
        "        super(ResidualBlock, self).__init__()\n",
        "\n",
        "        self.conv1 = nn.Conv2d(in_channels, out_channels, kernel_size=3, stride=stride, padding=1, bias=False)\n",
        "        self.bn1 = nn.BatchNorm2d(out_channels)\n",
        "\n",
        "        self.conv2 = nn.Conv2d(out_channels, out_channels, kernel_size=3, stride=1, padding=1, bias=False)\n",
        "        self.bn2 = nn.BatchNorm2d(out_channels)\n",
        "        self.downsample = downsample # To match dimensions if needed\n",
        "\n",
        "        self.relu = nn.ReLU(inplace=True)\n",
        "\n",
        "    def forward(self, x):\n",
        "        identity = x if self.downsample is None else self.downsample(x)\n",
        "        out = self.conv1(x)\n",
        "        out = self.bn1(out)\n",
        "        out = self.relu(out)\n",
        "        out = self.conv2(out)\n",
        "        out = self.bn2(out)\n",
        "        out += identity # Residual connection\n",
        "        out = self.relu(out) # Final activation after addition. Reset V1\n",
        "\n",
        "        return out\n",
        "\n",
        "class Net(nn.Module):\n",
        "    def __init__(self, block, layers, num_classes=100):\n",
        "        super(Net, self).__init__()\n",
        "        self.in_channels = 64  # Increased from 16\n",
        "\n",
        "        # IMPROVEMENT 1: Remove aggressive MaxPool, use stride in conv1\n",
        "        self.conv1 = nn.Conv2d(3, 64, kernel_size=3, stride=1, padding=1, bias=False)\n",
        "        self.bn1 = nn.BatchNorm2d(64)\n",
        "        self.relu = nn.ReLU(inplace=True)\n",
        "        # No maxpool here for CIFAR-100\n",
        "\n",
        "        # IMPROVEMENT 2: Wider architecture with 4 stages\n",
        "        self.layer1 = self._make_layer(block, 64, layers[0], stride=1)\n",
        "        self.layer2 = self._make_layer(block, 128, layers[1], stride=2)\n",
        "        self.layer3 = self._make_layer(block, 256, layers[2], stride=2)\n",
        "        self.layer4 = self._make_layer(block, 512, layers[3], stride=2)\n",
        "\n",
        "        self.avgpool = nn.AdaptiveAvgPool2d((1, 1))\n",
        "        self.dropout_fc = nn.Dropout(0.3)  # Reduced from 0.4\n",
        "        self.fc = nn.Linear(512, num_classes)\n",
        "\n",
        "    def _make_layer(self, block, out_channels, blocks, stride=1):\n",
        "        downsample = None\n",
        "        if stride != 1 or self.in_channels != out_channels:\n",
        "            downsample = nn.Sequential(\n",
        "                nn.Conv2d(self.in_channels, out_channels, kernel_size=1, stride=stride, bias=False),\n",
        "                nn.BatchNorm2d(out_channels)\n",
        "            )\n",
        "        layers = []\n",
        "        layers.append(ResidualBlock(self.in_channels, out_channels, stride, downsample))\n",
        "        self.in_channels = out_channels\n",
        "        for _ in range(1, blocks):\n",
        "            layers.append(block(out_channels, out_channels))\n",
        "        return nn.Sequential(*layers)\n",
        "\n",
        "    def forward(self, x):\n",
        "        x = self.conv1(x)\n",
        "        x = self.bn1(x)\n",
        "        x = self.relu(x)\n",
        "        # No maxpool\n",
        "\n",
        "        x = self.layer1(x)\n",
        "        x = self.layer2(x)\n",
        "        x = self.layer3(x)\n",
        "        x = self.layer4(x)\n",
        "\n",
        "        x = self.avgpool(x)\n",
        "        x = x.view(x.size(0), -1)\n",
        "        x = self.dropout_fc(x)\n",
        "        x = self.fc(x)\n",
        "\n",
        "        return x\n",
        "\n",
        "\n",
        "# Train Phase transformations\n",
        "\n",
        "train_transforms = A.Compose([\n",
        "    A.PadIfNeeded(min_height=40, min_width=40, border_mode=0, value=0, p=1.0),  # Pad first\n",
        "    A.RandomCrop(32, 32, p=1.0),  # Then crop\n",
        "    A.HorizontalFlip(p=0.5),\n",
        "    A.ShiftScaleRotate(shift_limit=0.1, scale_limit=0.15, rotate_limit=15, p=0.5),\n",
        "    A.OneOf([\n",
        "        A.CoarseDropout(\n",
        "            max_holes=1,\n",
        "            max_height=16,\n",
        "            max_width=16,\n",
        "            min_height=8,\n",
        "            min_width=8,\n",
        "            fill_value=tuple([int(x * 255) for x in [0.5071, 0.4867, 0.4408]]),\n",
        "            p=1.0\n",
        "        ),\n",
        "        A.GaussNoise(var_limit=(10.0, 50.0), p=1.0),\n",
        "    ], p=0.3),\n",
        "    A.Normalize((0.5071, 0.4867, 0.4408), (0.2675, 0.2565, 0.2761)),\n",
        "    ToTensorV2(),\n",
        "])\n",
        "\n",
        "def transform_wrapper(pil_img):\n",
        "    \"\"\"\n",
        "    Wraps the Albumentations pipeline for torchvision datasets.\n",
        "\n",
        "    1. Converts PIL Image -> NumPy Array (Albumentations input format).\n",
        "    2. Runs the Albumentations pipeline (using the 'image=' named argument).\n",
        "    3. Returns the augmented PyTorch Tensor.\n",
        "    \"\"\"\n",
        "    # Convert PIL Image to NumPy array (H x W x C)\n",
        "    image_np = np.array(pil_img)\n",
        "\n",
        "    # Run the Albumentations pipeline, passing the image as a named argument\n",
        "    augmented = train_transforms(image=image_np)\n",
        "\n",
        "    # Return the PyTorch Tensor\n",
        "    return augmented['image']\n",
        "\n",
        "# Test Phase transformations\n",
        "test_transforms = transforms.Compose([\n",
        "  transforms.ToTensor(),\n",
        "    transforms.Normalize((0.5071, 0.4867, 0.4408), (0.2675, 0.2565, 0.2761))\n",
        "])\n",
        "\n",
        "# Dataset and Creating Train/Test Split\n",
        "# Use CIFAR-100 dataset (fine labels) instead of CIFAR-10\n",
        "train = datasets.CIFAR100('./data', train=True, download=True, transform=transform_wrapper)\n",
        "test = datasets.CIFAR100('./data', train=False, download=True, transform=test_transforms)\n",
        "\n",
        "# Dataloader Arguments & Test/Train Dataloaders\n",
        "SEED = 1\n",
        "\n",
        "# CUDA?\n",
        "cuda = torch.cuda.is_available()\n",
        "print(\"CUDA Available?\", cuda)\n",
        "\n",
        "# For reproducibility\n",
        "torch.manual_seed(SEED)\n",
        "\n",
        "if cuda:\n",
        "    torch.cuda.manual_seed(SEED)\n",
        "\n",
        "# dataloader arguments - something you'll fetch these from cmdprmt\n",
        "dataloader_args = dict(shuffle=True, batch_size=128, num_workers=4, pin_memory=True) if cuda else dict(shuffle=True, batch_size=64)\n",
        "\n",
        "# train dataloader\n",
        "train_loader = torch.utils.data.DataLoader(train, **dataloader_args)\n",
        "\n",
        "# test dataloader\n",
        "test_loader = torch.utils.data.DataLoader(test, **dataloader_args)\n",
        "\n",
        "# # We'd need to convert it into Numpy! Remember above we have converted it into tensors already\n",
        "# train_data = train.train_data\n",
        "# train_data = train.transform(train_data.numpy())\n",
        "\n",
        "# print('[Train]')\n",
        "# print(' - Numpy Shape:', train.train_data.cpu().numpy().shape)\n",
        "# print(' - Tensor Shape:', train.train_data.size())\n",
        "# print(' - min:', torch.min(train_data))\n",
        "# print(' - max:', torch.max(train_data))\n",
        "# print(' - mean:', torch.mean(train_data))\n",
        "# print(' - std:', torch.std(train_data))\n",
        "# print(' - var:', torch.var(train_data))\n",
        "\n",
        "dataiter = iter(train_loader)\n",
        "images, labels = next(dataiter)\n",
        "\n",
        "print(images.shape)\n",
        "print(labels.shape)\n",
        "\n",
        "# Let's visualize some of the images\n",
        "\n",
        "# Function to show an image\n",
        "def imshow(img):\n",
        "\n",
        "    # img: torch.Tensor (C,H,W) normalized with CIFAR-100 mean/std\n",
        "    img = img.clone().cpu()\n",
        "    npimg = img.numpy()\n",
        "    mean = np.array([0.5071, 0.4867, 0.4408]).reshape(3,1,1)\n",
        "    std = np.array([0.2675, 0.2565, 0.2761]).reshape(3,1,1)\n",
        "    npimg = (npimg * std) + mean\n",
        "    npimg = np.transpose(npimg, (1, 2, 0))\n",
        "    plt.imshow(npimg)\n",
        "    plt.show()\n",
        "# Define class names for CIFAR-100 (use fine_label names from the dataset)\n",
        "# torchvision's CIFAR100 stores class names in the dataset's 'classes' attribute\n",
        "classes = train.classes if hasattr(train, 'classes') else []\n",
        "\n",
        "# Show images from the batch\n",
        "print(' '.join(f'{classes[labels[j]]:5s}' for j in range(4)))\n",
        "imshow(utils.make_grid(images[:4]))\n",
        "\n",
        "from torchsummary import summary\n",
        "use_cuda = torch.cuda.is_available()\n",
        "device = torch.device(\"cuda\" if use_cuda else \"cpu\")\n",
        "print(device)\n",
        "if use_cuda:\n",
        "    torch.backends.cudnn.benchmark = True\n",
        "\n",
        "def ResNet_34(num_classes=100):\n",
        "    return Net(ResidualBlock, [5, 5, 5, 5], num_classes=num_classes)   # depth = 44\n",
        "\n",
        "# Create model once and ensure num_classes=100\n",
        "model = ResNet_34(num_classes=100).to(device)\n",
        "summary(model, input_size=(3, 32, 32))\n",
        "\n",
        "# Training and Testing\n",
        "from tqdm import tqdm\n",
        "\n",
        "train_losses = []\n",
        "test_losses = []\n",
        "train_acc = []\n",
        "test_acc = []\n",
        "train_losses_epoch = []\n",
        "\n",
        "def train(model, device, train_loader, optimizer, epoch, scheduler=None):\n",
        "    model.train()\n",
        "    pbar = tqdm(train_loader)\n",
        "    correct = 0\n",
        "    processed = 0\n",
        "    batch_losses = []\n",
        "    # CutMix params\n",
        "    cutmix_prob = 0.3\n",
        "    cutmix_alpha = 1.0\n",
        "    for batch_idx, (data, target) in enumerate(pbar):\n",
        "        # get samples\n",
        "        data, target = data.to(device), target.to(device)\n",
        "\n",
        "        # Init\n",
        "        optimizer.zero_grad()\n",
        "\n",
        "        # Apply CutMix with some probability\n",
        "        use_cutmix = np.random.rand() < cutmix_prob\n",
        "        if use_cutmix:\n",
        "            # sample lambda\n",
        "            lam = Beta(cutmix_alpha, cutmix_alpha).sample().item()\n",
        "            batch_size = data.size(0)\n",
        "            index = torch.randperm(batch_size).to(data.device)\n",
        "            # bounding box\n",
        "            H, W = data.size(2), data.size(3)\n",
        "            cut_rat = np.sqrt(1. - lam)\n",
        "            cut_w = int(W * cut_rat)\n",
        "            cut_h = int(H * cut_rat)\n",
        "            cx = np.random.randint(W)\n",
        "            cy = np.random.randint(H)\n",
        "            x1 = np.clip(cx - cut_w // 2, 0, W)\n",
        "            x2 = np.clip(cx + cut_w // 2, 0, W)\n",
        "            y1 = np.clip(cy - cut_h // 2, 0, H)\n",
        "            y2 = np.clip(cy + cut_h // 2, 0, H)\n",
        "            data[:, :, y1:y2, x1:x2] = data[index, :, y1:y2, x1:x2]\n",
        "            # correct lambda to actual area\n",
        "            lam = 1 - ((x2 - x1) * (y2 - y1) / (W * H))\n",
        "            # Predict\n",
        "            y_pred = model(data)\n",
        "            # Mix loss\n",
        "            loss = lam * F.cross_entropy(y_pred, target) + (1 - lam) * F.cross_entropy(y_pred, target[index])\n",
        "        else:\n",
        "            # Predict\n",
        "            y_pred = model(data)\n",
        "            # Calculate loss (CrossEntropyLoss accepts raw logits)\n",
        "            loss = F.cross_entropy(y_pred, target, label_smoothing=0.1)\n",
        "        batch_losses.append(loss.item())\n",
        "        train_losses.append(loss.item())\n",
        "\n",
        "        # Backpropagation\n",
        "        loss.backward()\n",
        "        optimizer.step()\n",
        "\n",
        "        # Step the scheduler per batch if provided (OneCycleLR steps every batch)\n",
        "        if scheduler is not None:\n",
        "            scheduler.step()\n",
        "\n",
        "        # Update pbar-tqdm\n",
        "        pred = y_pred.argmax(dim=1, keepdim=True)  # get the index of the max log-probability\n",
        "        correct += pred.eq(target.view_as(pred)).sum().item()\n",
        "        processed += len(data)\n",
        "\n",
        "        pbar.set_description(desc= f'Loss={loss.item()} Batch_id={batch_idx} Accuracy={100*correct/processed:0.2f}')\n",
        "        train_acc.append(100*correct/processed)\n",
        "\n",
        "    # epoch-level metrics\n",
        "    epoch_loss = float(np.mean(batch_losses)) if len(batch_losses) > 0 else 0.0\n",
        "    epoch_acc = 100. * correct / processed if processed > 0 else 0.0\n",
        "    # record epoch-level loss\n",
        "    train_losses_epoch.append(epoch_loss)\n",
        "    return epoch_loss, epoch_acc\n",
        "\n",
        "def test(model, device, test_loader):\n",
        "    model.eval()\n",
        "    test_loss = 0\n",
        "    correct = 0\n",
        "    with torch.no_grad():\n",
        "        for data, target in test_loader:\n",
        "            data, target = data.to(device), target.to(device)\n",
        "            output = model(data)\n",
        "            test_loss += F.cross_entropy(output, target, reduction='sum').item()  # sum up batch loss\n",
        "            pred = output.argmax(dim=1, keepdim=True)  # get the index of the max log-probability\n",
        "            correct += pred.eq(target.view_as(pred)).sum().item()\n",
        "\n",
        "    test_loss /= len(test_loader.dataset)\n",
        "    test_losses.append(test_loss)\n",
        "\n",
        "    print('\\nTest set: Average loss: {:.4f}, Accuracy: {}/{} ({:.2f}%)\\n'.format(\n",
        "        test_loss, correct, len(test_loader.dataset),\n",
        "        100. * correct / len(test_loader.dataset)))\n",
        "\n",
        "    test_acc.append(100. * correct / len(test_loader.dataset))\n",
        "    epoch_acc = 100. * correct / len(test_loader.dataset)\n",
        "    return test_loss, epoch_acc\n",
        "\n",
        "# Train and test model\n",
        "#from torch.optim.lr_scheduler import StepLR\n",
        "from torch.optim.lr_scheduler import OneCycleLR\n",
        "\n",
        "# Switch to SGD + momentum (recommended baseline for ResNets)\n",
        "optimizer = optim.SGD(model.parameters(), lr=0.1, momentum=0.9, weight_decay=5e-4)\n",
        "EPOCHS = 200\n",
        "\n",
        "# OneCycleLR with a max_lr suitable for SGD\n",
        "scheduler = OneCycleLR(\n",
        "    optimizer,\n",
        "    max_lr=0.1,\n",
        "    epochs=EPOCHS,\n",
        "    steps_per_epoch=len(train_loader),\n",
        "    pct_start=0.2,\n",
        "    div_factor=25,\n",
        "    final_div_factor=1000\n",
        ")\n",
        "\n",
        "for epoch in range(EPOCHS):\n",
        "    print(\"EPOCH:\", epoch)\n",
        "    train_loss, train_accuracy = train(model, device, train_loader, optimizer, epoch, scheduler=scheduler)\n",
        "    test_loss, test_accuracy = test(model, device, test_loader)\n",
        "    print(f\"Epoch {epoch}: Train loss {train_loss:.4f}, Train acc {train_accuracy:.2f}%, Test loss {test_loss:.4f}, Test acc {test_accuracy:.2f}%\")\n",
        "\n",
        "# Save best model checkpoint by validation accuracy\n",
        "best_acc = 0.0\n",
        "try:\n",
        "    # find best epoch and save (we only have last epoch metrics in memory here)\n",
        "    # Instead, save if current test_accuracy is best\n",
        "    if test_accuracy > best_acc:\n",
        "        best_acc = test_accuracy\n",
        "        torch.save({'model_state_dict': model.state_dict(), 'optimizer_state_dict': optimizer.state_dict(), 'epoch': epoch, 'test_acc': test_accuracy}, 'best.pth')\n",
        "except Exception:\n",
        "    pass\n",
        "\n",
        "import matplotlib.pyplot as plt\n",
        "fig, axs = plt.subplots(2,2,figsize=(15,10))\n",
        "# Plot epoch-level training loss if available, otherwise per-batch\n",
        "if len(train_losses_epoch) > 0:\n",
        "    axs[0, 0].plot(train_losses_epoch)\n",
        "else:\n",
        "    axs[0, 0].plot(train_losses)\n",
        "axs[0, 0].set_title(\"Training Loss\")\n",
        "axs[1, 0].plot(train_acc)\n",
        "axs[1, 0].set_title(\"Training Accuracy\")\n",
        "axs[0, 1].plot(test_losses)\n",
        "axs[0, 1].set_title(\"Test Loss\")\n",
        "axs[1, 1].plot(test_acc)\n",
        "axs[1, 1].set_title(\"Test Accuracy\")\n",
        "\n",
        "\n",
        "try:\n",
        "    from pytorch_grad_cam import GradCAM\n",
        "    from pytorch_grad_cam.utils.model_targets import ClassifierOutputTarget\n",
        "    from pytorch_grad_cam.utils.image import show_cam_on_image\n",
        "except Exception as e:\n",
        "    raise ImportError(\"Please install pytorch-grad-cam: pip install grad-cam\") from e\n",
        "\n",
        "\n",
        "def _find_target_layer(model):\n",
        "    # heuristic: last Conv2d\n",
        "    import torch.nn as nn\n",
        "    for name, module in reversed(list(model.named_modules())):\n",
        "        if isinstance(module, nn.Conv2d):\n",
        "            return module\n",
        "    return None\n",
        "\n",
        "\n",
        "def show_gradcam_batch(model, device, loader, classes=None, target_layer=None, n=4):\n",
        "    model.to(device)\n",
        "    model.eval()\n",
        "\n",
        "    if target_layer is None:\n",
        "        target_layer = _find_target_layer(model)\n",
        "        if target_layer is None:\n",
        "            raise RuntimeError(\"Couldn't find a Conv2d target layer automatically. Pass target_layer explicitly.\")\n",
        "\n",
        "    data_iter = iter(loader)\n",
        "    images, labels = next(data_iter)\n",
        "    images = images[:n].to(device)\n",
        "    labels = labels[:n].to(device)\n",
        "\n",
        "    # prepare images for visualization (unnormalize)\n",
        "    mean = np.array([0.5071, 0.4867, 0.4408]).reshape(3,1,1)\n",
        "    std = np.array([0.2675, 0.2565, 0.2761]).reshape(3,1,1)\n",
        "    imgs_np = images.detach().cpu().numpy()\n",
        "    imgs_vis = []\n",
        "    for i in range(imgs_np.shape[0]):\n",
        "        im = imgs_np[i]\n",
        "        im = (im * std) + mean\n",
        "        im = np.transpose(im, (1,2,0))\n",
        "        imgs_vis.append(im)\n",
        "\n",
        "    cam = GradCAM(model=model, target_layer=target_layer, use_cuda=(device.type=='cuda'))\n",
        "    targets = [ClassifierOutputTarget(int(labels[i].item())) for i in range(len(labels))]\n",
        "    grayscale_cams = cam(input_tensor=images, targets=targets)\n",
        "\n",
        "    plt.figure(figsize=(12, 3*n))\n",
        "    for i in range(n):\n",
        "        gcam = grayscale_cams[i]\n",
        "        img_vis = imgs_vis[i]\n",
        "        cam_image = show_cam_on_image(img_vis, gcam, use_rgb=True)\n",
        "\n",
        "        ax = plt.subplot(n, 3, 3*i+1)\n",
        "        plt.imshow(img_vis)\n",
        "        plt.title(f\"GT: {classes[labels[i].item()] if classes is not None else labels[i].item()}\")\n",
        "        plt.axis('off')\n",
        "\n",
        "        ax = plt.subplot(n, 3, 3*i+2)\n",
        "        plt.imshow(gcam, cmap='jet')\n",
        "        plt.title('Grad-CAM')\n",
        "        plt.axis('off')\n",
        "\n",
        "        ax = plt.subplot(n, 3, 3*i+3)\n",
        "        plt.imshow(cam_image)\n",
        "        # compute predicted class\n",
        "        with torch.no_grad():\n",
        "            out = model(images[i:i+1])\n",
        "            pred = int(out.argmax(dim=1).item())\n",
        "        plt.title(f\"Pred: {classes[pred] if classes is not None else pred}\")\n",
        "        plt.axis('off')\n",
        "\n",
        "    plt.tight_layout()\n",
        "    plt.show()\n",
        "# Try to run Grad-CAM on the best checkpoint if the helper is available\n",
        "try:\n",
        "\n",
        "    # load best checkpoint if exists\n",
        "    import os\n",
        "    if os.path.exists('best.pth'):\n",
        "        checkpoint = torch.load('best.pth', map_location=device)\n",
        "        model.load_state_dict(checkpoint['model_state_dict'])\n",
        "        print(f\"Loaded best checkpoint with test_acc={checkpoint.get('test_acc')}\")\n",
        "    else:\n",
        "        print('No best.pth checkpoint found — running Grad-CAM on current model')\n",
        "    show_gradcam_batch(model, device, test_loader, classes=classes, n=6)\n",
        "except Exception as e:\n",
        "    print('Grad-CAM helper not available or failed:', e)"
      ]
    }
  ]
}