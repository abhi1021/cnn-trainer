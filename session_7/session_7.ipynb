{
 "nbformat": 4,
 "nbformat_minor": 0,
 "metadata": {
  "colab": {
   "provenance": []
  },
  "kernelspec": {
   "name": "python3",
   "display_name": "Python 3"
  },
  "accelerator": "GPU"
 },
 "cells": [
  {
   "cell_type": "markdown",
   "metadata": {
    "id": "aO-7t1Y7-hV4"
   },
   "source": [
    "# Import Libraries"
   ]
  },
  {
   "cell_type": "code",
   "metadata": {
    "id": "8kH16rnZ7wt_"
   },
   "source": [
    "from __future__ import print_function\n",
    "import torch\n",
    "import torch.nn as nn\n",
    "import torch.nn.functional as F\n",
    "import torch.optim as optim\n",
    "from torchvision import datasets, transforms"
   ],
   "execution_count": null,
   "outputs": []
  },
  {
   "cell_type": "code",
   "metadata": {
    "id": "C8OLDR79DrHG",
    "outputId": "9e9e8a59-b4b4-4398-fdbb-c8a43d12fdbd",
    "colab": {
     "base_uri": "https://localhost:8080/"
    }
   },
   "source": [
    "SEED = 1\n",
    "\n",
    "# CUDA?\n",
    "cuda = torch.cuda.is_available()\n",
    "print(\"CUDA Available?\", cuda)\n",
    "\n",
    "# For reproducibility\n",
    "torch.manual_seed(SEED)\n",
    "\n",
    "if cuda:\n",
    "    torch.cuda.manual_seed(SEED)\n",
    "\n",
    "# dataloader arguments - something you'll fetch these from cmdprmt\n",
    "dataloader_args = dict(shuffle=True, batch_size=128, num_workers=4, pin_memory=True) if cuda else dict(shuffle=True, batch_size=64)\n",
    "\n",
    "# train dataloader\n",
    "train_loader = torch.utils.data.DataLoader(train, **dataloader_args)\n",
    "\n",
    "# test dataloader\n",
    "test_loader = torch.utils.data.DataLoader(test, **dataloader_args)"
   ],
   "execution_count": null,
   "outputs": [
    {
     "output_type": "stream",
     "name": "stdout",
     "text": [
      "CUDA Available? True\n"
     ]
    },
    {
     "output_type": "stream",
     "name": "stderr",
     "text": [
      "/usr/local/lib/python3.12/dist-packages/torch/utils/data/dataloader.py:627: UserWarning: This DataLoader will create 4 worker processes in total. Our suggested max number of worker in current system is 2, which is smaller than what this DataLoader is going to create. Please be aware that excessive worker creation might get DataLoader running slow or even freeze, lower the worker number to avoid potential slowness/freeze if necessary.\n",
      "  warnings.warn(\n"
     ]
    }
   ]
  },
  {
   "cell_type": "markdown",
   "metadata": {
    "id": "1__x_SbrL7z3"
   },
   "source": [
    "# Training and Testing\n",
    "\n",
    "Looking at logs can be boring, so we'll introduce **tqdm** progressbar to get cooler logs.\n",
    "\n",
    "Let's write train and test functions"
   ]
  },
  {
   "cell_type": "code",
   "metadata": {
    "id": "fbkF2nN_LYIb"
   },
   "source": [
    "from tqdm import tqdm\n",
    "\n",
    "train_losses = []\n",
    "test_losses = []\n",
    "train_acc = []\n",
    "test_acc = []\n",
    "\n",
    "def train(model, device, train_loader, optimizer, epoch):\n",
    "  model.train()\n",
    "  pbar = tqdm(train_loader)\n",
    "  correct = 0\n",
    "  processed = 0\n",
    "  for batch_idx, (data, target) in enumerate(pbar):\n",
    "    # get samples\n",
    "    data, target = data.to(device), target.to(device)\n",
    "\n",
    "    # Init\n",
    "    optimizer.zero_grad()\n",
    "    # In PyTorch, we need to set the gradients to zero before starting to do backpropragation because PyTorch accumulates the gradients on subsequent backward passes.\n",
    "    # Because of this, when you start your training loop, ideally you should zero out the gradients so that you do the parameter update correctly.\n",
    "\n",
    "    # Predict\n",
    "    y_pred = model(data)\n",
    "\n",
    "    # Calculate loss\n",
    "    loss = F.nll_loss(y_pred, target)\n",
    "    train_losses.append(loss)\n",
    "\n",
    "    # Backpropagation\n",
    "    loss.backward()\n",
    "    optimizer.step()\n",
    "\n",
    "    # Update pbar-tqdm\n",
    "\n",
    "    pred = y_pred.argmax(dim=1, keepdim=True)  # get the index of the max log-probability\n",
    "    correct += pred.eq(target.view_as(pred)).sum().item()\n",
    "    processed += len(data)\n",
    "\n",
    "    pbar.set_description(desc= f'Loss={loss.item()} Batch_id={batch_idx} Accuracy={100*correct/processed:0.2f}')\n",
    "    train_acc.append(100*correct/processed)\n",
    "\n",
    "def test(model, device, test_loader):\n",
    "    model.eval()\n",
    "    test_loss = 0\n",
    "    correct = 0\n",
    "    with torch.no_grad():\n",
    "        for data, target in test_loader:\n",
    "            data, target = data.to(device), target.to(device)\n",
    "            output = model(data)\n",
    "            test_loss += F.nll_loss(output, target, reduction='sum').item()  # sum up batch loss\n",
    "            pred = output.argmax(dim=1, keepdim=True)  # get the index of the max log-probability\n",
    "            correct += pred.eq(target.view_as(pred)).sum().item()\n",
    "\n",
    "    test_loss /= len(test_loader.dataset)\n",
    "    test_losses.append(test_loss)\n",
    "\n",
    "    print('\\nTest set: Average loss: {:.4f}, Accuracy: {}/{} ({:.2f}%)\\n'.format(\n",
    "        test_loss, correct, len(test_loader.dataset),\n",
    "        100. * correct / len(test_loader.dataset)))\n",
    "\n",
    "    test_acc.append(100. * correct / len(test_loader.dataset))"
   ],
   "execution_count": null,
   "outputs": []
  },
  {
   "cell_type": "code",
   "source": [
    "import albumentations as A\n",
    "from albumentations.pytorch import ToTensorV2\n",
    "import numpy as np\n",
    "\n",
    "class AlbumentationsTransforms:\n",
    "    def __init__(self, mean, std):\n",
    "        self.aug = A.Compose([\n",
    "            A.HorizontalFlip(p=0.5),\n",
    "            A.ShiftScaleRotate(shift_limit=0.0625, scale_limit=0.1, rotate_limit=7, p=0.5),\n",
    "            A.CoarseDropout(\n",
    "                max_holes=1, max_height=16, max_width=16,\n",
    "                min_holes=1, min_height=16, min_width=16,\n",
    "                fill_value=mean,\n",
    "                mask_fill_value=None,\n",
    "                p=0.5\n",
    "            ),\n",
    "            A.Normalize(mean=mean, std=std),\n",
    "            ToTensorV2()\n",
    "        ])\n",
    "\n",
    "    def __call__(self, image):\n",
    "        image = np.array(image)\n",
    "        return self.aug(image=image)[\"image\"]"
   ],
   "metadata": {
    "id": "rXLl1rDsTY3X"
   },
   "execution_count": null,
   "outputs": []
  },
  {
   "cell_type": "code",
   "source": [
    "mean = (0.4914, 0.4822, 0.4465)\n",
    "std = (0.2023, 0.1994, 0.2010)"
   ],
   "metadata": {
    "id": "w_fwYgjyUxtP"
   },
   "execution_count": null,
   "outputs": []
  },
  {
   "cell_type": "code",
   "source": [
    "from torchvision import datasets\n",
    "from torch.utils.data import DataLoader\n",
    "\n",
    "train_transforms = AlbumentationsTransforms(mean=mean, std=std)\n",
    "\n",
    "test_transforms = A.Compose([\n",
    "    A.Normalize(mean=mean, std=std),\n",
    "    ToTensorV2()\n",
    "])\n",
    "\n",
    "class TestTransformWrapper:\n",
    "    def __init__(self, aug):\n",
    "        self.aug = aug\n",
    "\n",
    "    def __call__(self, img):\n",
    "        img = np.array(img)\n",
    "        return self.aug(image=img)[\"image\"]\n",
    "\n",
    "# Load datasets\n",
    "train_dataset = datasets.CIFAR10('./data', train=True, download=True, transform=train_transforms)\n",
    "test_dataset = datasets.CIFAR10('./data', train=False, download=True, transform=TestTransformWrapper(test_transforms))\n",
    "\n",
    "train_loader = DataLoader(train_dataset, batch_size=128, shuffle=True)\n",
    "test_loader = DataLoader(test_dataset, batch_size=128, shuffle=False)"
   ],
   "metadata": {
    "colab": {
     "base_uri": "https://localhost:8080/"
    },
    "id": "Q8Z1KswdT55I",
    "outputId": "805f0dfa-4459-4ae6-c934-7c9f2c7c6f10"
   },
   "execution_count": null,
   "outputs": [
    {
     "output_type": "stream",
     "name": "stderr",
     "text": [
      "/usr/local/lib/python3.12/dist-packages/albumentations/core/validation.py:114: UserWarning: ShiftScaleRotate is a special case of Affine transform. Please use Affine transform instead.\n",
      "  original_init(self, **validated_kwargs)\n",
      "/tmp/ipython-input-3076466830.py:10: UserWarning: Argument(s) 'max_holes, max_height, max_width, min_holes, min_height, min_width, fill_value, mask_fill_value' are not valid for transform CoarseDropout\n",
      "  A.CoarseDropout(\n",
      "100%|██████████| 170M/170M [00:06<00:00, 26.0MB/s]\n"
     ]
    }
   ]
  },
  {
   "cell_type": "code",
   "source": [
    "import matplotlib.pyplot as plt\n",
    "import numpy as np\n",
    "\n",
    "batch_data, batch_label = next(iter(train_loader))\n",
    "\n",
    "fig = plt.figure()\n",
    "\n",
    "for i in range(12):\n",
    "  plt.subplot(3,4,i+1)\n",
    "  plt.tight_layout()\n",
    "  # CIFAR images are 3 channels, need to transpose for matplotlib\n",
    "  plt.imshow(np.transpose(batch_data[i].numpy(), (1, 2, 0)))\n",
    "  plt.title(batch_label[i].item())\n",
    "  plt.xticks([])\n",
    "  plt.yticks([])"
   ],
   "metadata": {
    "colab": {
     "base_uri": "https://localhost:8080/",
     "height": 697
    },
    "id": "6SryXIofWEzh",
    "outputId": "87a14cda-167b-466c-d16d-44439af8151f"
   },
   "execution_count": null,
   "outputs": [
    {
     "output_type": "stream",
     "name": "stderr",
     "text": [
      "WARNING:matplotlib.image:Clipping input data to the valid range for imshow with RGB data ([0..1] for floats or [0..255] for integers). Got range [-2.2412534..2.494703].\n",
      "WARNING:matplotlib.image:Clipping input data to the valid range for imshow with RGB data ([0..1] for floats or [0..255] for integers). Got range [-2.4290657..2.7537313].\n",
      "WARNING:matplotlib.image:Clipping input data to the valid range for imshow with RGB data ([0..1] for floats or [0..255] for integers). Got range [-1.651248..2.2427874].\n",
      "WARNING:matplotlib.image:Clipping input data to the valid range for imshow with RGB data ([0..1] for floats or [0..255] for integers). Got range [-2.4290657..2.4753182].\n",
      "WARNING:matplotlib.image:Clipping input data to the valid range for imshow with RGB data ([0..1] for floats or [0..255] for integers). Got range [-2.4290657..2.7537313].\n",
      "WARNING:matplotlib.image:Clipping input data to the valid range for imshow with RGB data ([0..1] for floats or [0..255] for integers). Got range [-1.6751049..2.4559333].\n",
      "WARNING:matplotlib.image:Clipping input data to the valid range for imshow with RGB data ([0..1] for floats or [0..255] for integers). Got range [-2.4290657..1.99283].\n",
      "WARNING:matplotlib.image:Clipping input data to the valid range for imshow with RGB data ([0..1] for floats or [0..255] for integers). Got range [-2.4290657..2.2039294].\n",
      "WARNING:matplotlib.image:Clipping input data to the valid range for imshow with RGB data ([0..1] for floats or [0..255] for integers). Got range [-2.4290657..2.461077].\n",
      "WARNING:matplotlib.image:Clipping input data to the valid range for imshow with RGB data ([0..1] for floats or [0..255] for integers). Got range [-2.0413675..2.7147107].\n",
      "WARNING:matplotlib.image:Clipping input data to the valid range for imshow with RGB data ([0..1] for floats or [0..255] for integers). Got range [-2.4290657..2.734221].\n",
      "WARNING:matplotlib.image:Clipping input data to the valid range for imshow with RGB data ([0..1] for floats or [0..255] for integers). Got range [-1.9265838..2.6366696].\n"
     ]
    },
    {
     "output_type": "display_data",
     "data": {
      "text/plain": [
       "<Figure size 640x480 with 12 Axes>"
      ],
      "image/png": "[encoded data removed]"
     },
     "metadata": {}
    }
   ]
  },
  {
   "cell_type": "code",
   "source": [
    "import torch.nn as nn\n",
    "import torch.nn.functional as F\n",
    "# ------------------------------\n",
    "# Model Definition\n",
    "# ------------------------------\n",
    "dropout_value = 0.05\n",
    "class Net(nn.Module):\n",
    "    def __init__(self):\n",
    "        super(Net, self).__init__()\n",
    "\n",
    "        # CONVOLUTION BLOCK 1 (C1) — RF: 3 → 9\n",
    "        self.c1 = nn.Sequential(\n",
    "            nn.Conv2d(3, 32, kernel_size=3, padding=0, bias=False),   # 32x32x3 → 30x30x32, RF=3\n",
    "            nn.ReLU(),\n",
    "            nn.BatchNorm2d(32),\n",
    "            nn.Dropout(dropout_value),\n",
    "\n",
    "            nn.Conv2d(32, 64, kernel_size=3, padding=0, bias=False),  # 30x30x32 → 28x28x64, RF=5\n",
    "            nn.ReLU(),\n",
    "            nn.BatchNorm2d(64),\n",
    "            nn.Dropout(dropout_value),\n",
    "\n",
    "            nn.Conv2d(64, 64, kernel_size=3, padding=0, dilation=2, bias=False),  # 28x28x64 → 24x24x64, RF=9\n",
    "            nn.ReLU(),\n",
    "            nn.BatchNorm2d(64),\n",
    "            nn.Dropout(dropout_value),\n",
    "\n",
    "            nn.Conv2d(64, 32, kernel_size=1, padding=0, bias=False),  # 24x24x64 → 24x24x32\n",
    "        )\n",
    "\n",
    "        # CONVOLUTION BLOCK 2 (C2) — RF: 11 → 17\n",
    "        self.c2 = nn.Sequential(\n",
    "            nn.Conv2d(32, 32, kernel_size=3, padding=1, groups=32, bias=False),  # Depthwise → 24x24x32, RF=11\n",
    "            nn.ReLU(),\n",
    "            nn.BatchNorm2d(32),\n",
    "\n",
    "            nn.Conv2d(32, 64, kernel_size=1, padding=0, bias=False),  # Pointwise → 24x24x64, RF=11\n",
    "            nn.ReLU(),\n",
    "            nn.BatchNorm2d(64),\n",
    "            nn.Dropout(dropout_value),\n",
    "\n",
    "            nn.Conv2d(64, 64, kernel_size=3, padding=0, bias=False),  # 24x24x64 → 22x22x64, RF=13\n",
    "            nn.ReLU(),\n",
    "            nn.BatchNorm2d(64),\n",
    "            nn.Dropout(dropout_value),\n",
    "\n",
    "            nn.Conv2d(64, 64, kernel_size=3, padding=0, stride=2, bias=False),  # 22x22x64 → 10x10x64, RF=17\n",
    "            nn.ReLU(),\n",
    "            nn.BatchNorm2d(64),\n",
    "            nn.Dropout(dropout_value),\n",
    "        )\n",
    "\n",
    "        # CONVOLUTION BLOCK 3 (C3) — RF: 21 → 29\n",
    "        self.c3 = nn.Sequential(\n",
    "            nn.Conv2d(64, 32, kernel_size=1, padding=0, bias=False),  # 10x10x64 → 10x10x32, RF=17\n",
    "            nn.AvgPool2d(2, 2),                                       # 10x10x32 → 5x5x32, RF=21\n",
    "\n",
    "            nn.Conv2d(32, 64, kernel_size=3, padding=1, bias=False),  # 5x5x32 → 5x5x64, RF=25\n",
    "            nn.ReLU(),\n",
    "            nn.BatchNorm2d(64),\n",
    "            nn.Dropout(dropout_value),\n",
    "\n",
    "            nn.Conv2d(64, 64, kernel_size=3, padding=1, bias=False),  # 5x5x64 → 5x5x64, RF=29\n",
    "            nn.ReLU(),\n",
    "            nn.BatchNorm2d(64),\n",
    "            nn.Dropout(dropout_value),\n",
    "        )\n",
    "\n",
    "        # CONVOLUTION BLOCK 4 (C4) — RF: 44\n",
    "        self.c4 = nn.Sequential(\n",
    "            nn.AvgPool2d(kernel_size=5)  # 5x5x64 → 1x1x64, RF=44 (covers full input)\n",
    "        )\n",
    "\n",
    "        # OUTPUT BLOCK\n",
    "        self.output = nn.Sequential(\n",
    "            nn.Conv2d(64, 10, kernel_size=1, padding=0, bias=False)  # 1x1x64 → 1x1x10\n",
    "        )\n",
    "\n",
    "    def forward(self, x):\n",
    "        x = self.c1(x)       # → 24x24x32\n",
    "        x = self.c2(x)       # → 10x10x64\n",
    "        x = self.c3(x)       # → 5x5 → 1x1x64\n",
    "        x = self.c4(x)       # → 1x1x64\n",
    "        x = self.output(x)   # → 1x1x10\n",
    "        x = x.view(-1, 10)\n",
    "        return F.log_softmax(x, dim=-1)\n",
    "\n",
    "import torch\n",
    "from torchsummary import summary\n",
    "use_cuda = torch.cuda.is_available()\n",
    "device = torch.device(\"cuda\" if use_cuda else \"cpu\")\n",
    "print(device)\n",
    "model = Net().to(device)\n",
    "summary(model, input_size=(3, 32, 32))"
   ],
   "metadata": {
    "colab": {
     "base_uri": "https://localhost:8080/"
    },
    "id": "IxkyRrIT9-jz",
    "outputId": "45a98038-50ac-4fe8-863c-95a24b2005c5"
   },
   "execution_count": null,
   "outputs": [
    {
     "output_type": "stream",
     "name": "stdout",
     "text": [
      "cuda\n",
      "----------------------------------------------------------------\n",
      "        Layer (type)               Output Shape         Param #\n",
      "================================================================\n",
      "            Conv2d-1           [-1, 32, 30, 30]             864\n",
      "              ReLU-2           [-1, 32, 30, 30]               0\n",
      "       BatchNorm2d-3           [-1, 32, 30, 30]              64\n",
      "           Dropout-4           [-1, 32, 30, 30]               0\n",
      "            Conv2d-5           [-1, 64, 28, 28]          18,432\n",
      "              ReLU-6           [-1, 64, 28, 28]               0\n",
      "       BatchNorm2d-7           [-1, 64, 28, 28]             128\n",
      "           Dropout-8           [-1, 64, 28, 28]               0\n",
      "            Conv2d-9           [-1, 64, 24, 24]          36,864\n",
      "             ReLU-10           [-1, 64, 24, 24]               0\n",
      "      BatchNorm2d-11           [-1, 64, 24, 24]             128\n",
      "          Dropout-12           [-1, 64, 24, 24]               0\n",
      "           Conv2d-13           [-1, 32, 24, 24]           2,048\n",
      "           Conv2d-14           [-1, 32, 24, 24]             288\n",
      "             ReLU-15           [-1, 32, 24, 24]               0\n",
      "      BatchNorm2d-16           [-1, 32, 24, 24]              64\n",
      "           Conv2d-17           [-1, 64, 24, 24]           2,048\n",
      "             ReLU-18           [-1, 64, 24, 24]               0\n",
      "      BatchNorm2d-19           [-1, 64, 24, 24]             128\n",
      "          Dropout-20           [-1, 64, 24, 24]               0\n",
      "           Conv2d-21           [-1, 64, 22, 22]          36,864\n",
      "             ReLU-22           [-1, 64, 22, 22]               0\n",
      "      BatchNorm2d-23           [-1, 64, 22, 22]             128\n",
      "          Dropout-24           [-1, 64, 22, 22]               0\n",
      "           Conv2d-25           [-1, 64, 10, 10]          36,864\n",
      "             ReLU-26           [-1, 64, 10, 10]               0\n",
      "      BatchNorm2d-27           [-1, 64, 10, 10]             128\n",
      "          Dropout-28           [-1, 64, 10, 10]               0\n",
      "           Conv2d-29           [-1, 32, 10, 10]           2,048\n",
      "        AvgPool2d-30             [-1, 32, 5, 5]               0\n",
      "           Conv2d-31             [-1, 64, 5, 5]          18,432\n",
      "             ReLU-32             [-1, 64, 5, 5]               0\n",
      "      BatchNorm2d-33             [-1, 64, 5, 5]             128\n",
      "          Dropout-34             [-1, 64, 5, 5]               0\n",
      "           Conv2d-35             [-1, 64, 5, 5]          36,864\n",
      "             ReLU-36             [-1, 64, 5, 5]               0\n",
      "      BatchNorm2d-37             [-1, 64, 5, 5]             128\n",
      "          Dropout-38             [-1, 64, 5, 5]               0\n",
      "        AvgPool2d-39             [-1, 64, 1, 1]               0\n",
      "           Conv2d-40             [-1, 10, 1, 1]             640\n",
      "================================================================\n",
      "Total params: 193,280\n",
      "Trainable params: 193,280\n",
      "Non-trainable params: 0\n",
      "----------------------------------------------------------------\n",
      "Input size (MB): 0.01\n",
      "Forward/backward pass size (MB): 6.49\n",
      "Params size (MB): 0.74\n",
      "Estimated Total Size (MB): 7.24\n",
      "----------------------------------------------------------------\n"
     ]
    }
   ]
  },
  {
   "cell_type": "code",
   "source": [
    "\n",
    "import torch.optim as optim\n",
    "from torch.optim.lr_scheduler import OneCycleLR\n",
    "from tqdm import tqdm\n",
    "\n",
    "# ------------------------------\n",
    "# Training & Testing\n",
    "# ------------------------------\n",
    "def train(model, device, train_loader, optimizer, scheduler, epoch):\n",
    "    model.train()\n",
    "    pbar = tqdm(train_loader)\n",
    "    correct = 0\n",
    "    processed = 0\n",
    "    for batch_idx, (data, target) in enumerate(pbar):\n",
    "        data, target = data.to(device), target.to(device)\n",
    "        optimizer.zero_grad()\n",
    "        y_pred = model(data)\n",
    "        loss = F.nll_loss(y_pred, target)\n",
    "        loss.backward()\n",
    "        optimizer.step()\n",
    "        scheduler.step()\n",
    "\n",
    "        pred = y_pred.argmax(dim=1, keepdim=True)\n",
    "        correct += pred.eq(target.view_as(pred)).sum().item()\n",
    "        processed += len(data)\n",
    "        pbar.set_description(f\"Epoch {epoch} Loss={loss.item():.4f} Acc={100*correct/processed:.2f}\")\n",
    "\n",
    "def test(model, device, test_loader):\n",
    "    model.eval()\n",
    "    test_loss = 0\n",
    "    correct = 0\n",
    "    with torch.no_grad():\n",
    "        for data, target in test_loader:\n",
    "            data, target = data.to(device), target.to(device)\n",
    "            output = model(data)\n",
    "            test_loss += F.nll_loss(output, target, reduction='sum').item()\n",
    "            pred = output.argmax(dim=1, keepdim=True)\n",
    "            correct += pred.eq(target.view_as(pred)).sum().item()\n",
    "    test_loss /= len(test_loader.dataset)\n",
    "    acc = 100. * correct / len(test_loader.dataset)\n",
    "    print(f\"\\nTest set: Average loss: {test_loss:.4f}, Accuracy: {correct}/{len(test_loader.dataset)} ({acc:.2f}%)\\n\")\n",
    "    return acc\n",
    "\n",
    "# ------------------------------\n",
    "# Run Training\n",
    "# ------------------------------\n",
    "device = torch.device(\"cuda\" if torch.cuda.is_available() else \"cpu\")\n",
    "model = Net().to(device)\n",
    "optimizer = optim.SGD(model.parameters(), lr=0.01, momentum=0.9, weight_decay=1e-4)\n",
    "\n",
    "# OneCycleLR\n",
    "scheduler = OneCycleLR(\n",
    "    optimizer,\n",
    "    max_lr=0.05,\n",
    "    steps_per_epoch=len(train_loader),\n",
    "    epochs=30\n",
    ")\n",
    "\n",
    "EPOCHS = 30\n",
    "for epoch in range(1, EPOCHS+1):\n",
    "    train(model, device, train_loader, optimizer, scheduler, epoch)\n",
    "    acc = test(model, device, test_loader)\n"
   ],
   "metadata": {
    "colab": {
     "base_uri": "https://localhost:8080/"
    },
    "id": "zha0sqqi-R-J",
    "outputId": "0a279739-7bcd-4975-a910-41641da9c397"
   },
   "execution_count": null,
   "outputs": [
    {
     "output_type": "stream",
     "name": "stderr",
     "text": [
      "Epoch 1 Loss=1.2894 Acc=41.61: 100%|██████████| 391/391 [00:35<00:00, 10.88it/s]\n"
     ]
    },
    {
     "output_type": "stream",
     "name": "stdout",
     "text": [
      "\n",
      "Test set: Average loss: 1.2453, Accuracy: 5507/10000 (55.07%)\n",
      "\n"
     ]
    },
    {
     "output_type": "stream",
     "name": "stderr",
     "text": [
      "Epoch 2 Loss=1.1974 Acc=57.29: 100%|██████████| 391/391 [00:34<00:00, 11.50it/s]\n"
     ]
    },
    {
     "output_type": "stream",
     "name": "stdout",
     "text": [
      "\n",
      "Test set: Average loss: 1.0588, Accuracy: 6184/10000 (61.84%)\n",
      "\n"
     ]
    },
    {
     "output_type": "stream",
     "name": "stderr",
     "text": [
      "Epoch 3 Loss=1.2359 Acc=63.20: 100%|██████████| 391/391 [00:33<00:00, 11.62it/s]\n"
     ]
    },
    {
     "output_type": "stream",
     "name": "stdout",
     "text": [
      "\n",
      "Test set: Average loss: 0.9969, Accuracy: 6522/10000 (65.22%)\n",
      "\n"
     ]
    },
    {
     "output_type": "stream",
     "name": "stderr",
     "text": [
      "Epoch 4 Loss=1.1301 Acc=67.32: 100%|██████████| 391/391 [00:33<00:00, 11.56it/s]\n"
     ]
    },
    {
     "output_type": "stream",
     "name": "stdout",
     "text": [
      "\n",
      "Test set: Average loss: 0.8256, Accuracy: 7113/10000 (71.13%)\n",
      "\n"
     ]
    },
    {
     "output_type": "stream",
     "name": "stderr",
     "text": [
      "Epoch 5 Loss=0.9605 Acc=70.21: 100%|██████████| 391/391 [00:37<00:00, 10.30it/s]\n"
     ]
    },
    {
     "output_type": "stream",
     "name": "stdout",
     "text": [
      "\n",
      "Test set: Average loss: 0.7894, Accuracy: 7240/10000 (72.40%)\n",
      "\n"
     ]
    },
    {
     "output_type": "stream",
     "name": "stderr",
     "text": [
      "Epoch 6 Loss=0.6668 Acc=72.46: 100%|██████████| 391/391 [00:33<00:00, 11.60it/s]\n"
     ]
    },
    {
     "output_type": "stream",
     "name": "stdout",
     "text": [
      "\n",
      "Test set: Average loss: 0.7311, Accuracy: 7437/10000 (74.37%)\n",
      "\n"
     ]
    },
    {
     "output_type": "stream",
     "name": "stderr",
     "text": [
      "Epoch 7 Loss=0.7755 Acc=73.89: 100%|██████████| 391/391 [00:36<00:00, 10.80it/s]\n"
     ]
    },
    {
     "output_type": "stream",
     "name": "stdout",
     "text": [
      "\n",
      "Test set: Average loss: 0.6951, Accuracy: 7624/10000 (76.24%)\n",
      "\n"
     ]
    },
    {
     "output_type": "stream",
     "name": "stderr",
     "text": [
      "Epoch 8 Loss=0.5864 Acc=75.85: 100%|██████████| 391/391 [00:34<00:00, 11.49it/s]\n"
     ]
    },
    {
     "output_type": "stream",
     "name": "stdout",
     "text": [
      "\n",
      "Test set: Average loss: 0.6362, Accuracy: 7767/10000 (77.67%)\n",
      "\n"
     ]
    },
    {
     "output_type": "stream",
     "name": "stderr",
     "text": [
      "Epoch 9 Loss=0.5895 Acc=76.79: 100%|██████████| 391/391 [00:34<00:00, 11.42it/s]\n"
     ]
    },
    {
     "output_type": "stream",
     "name": "stdout",
     "text": [
      "\n",
      "Test set: Average loss: 0.6237, Accuracy: 7857/10000 (78.57%)\n",
      "\n"
     ]
    },
    {
     "output_type": "stream",
     "name": "stderr",
     "text": [
      "Epoch 10 Loss=0.4804 Acc=78.26: 100%|██████████| 391/391 [00:34<00:00, 11.41it/s]\n"
     ]
    },
    {
     "output_type": "stream",
     "name": "stdout",
     "text": [
      "\n",
      "Test set: Average loss: 0.5944, Accuracy: 7927/10000 (79.27%)\n",
      "\n"
     ]
    },
    {
     "output_type": "stream",
     "name": "stderr",
     "text": [
      "Epoch 11 Loss=0.7880 Acc=78.86: 100%|██████████| 391/391 [00:34<00:00, 11.40it/s]\n"
     ]
    },
    {
     "output_type": "stream",
     "name": "stdout",
     "text": [
      "\n",
      "Test set: Average loss: 0.5817, Accuracy: 7990/10000 (79.90%)\n",
      "\n"
     ]
    },
    {
     "output_type": "stream",
     "name": "stderr",
     "text": [
      "Epoch 12 Loss=0.5641 Acc=79.84: 100%|██████████| 391/391 [00:34<00:00, 11.21it/s]\n"
     ]
    },
    {
     "output_type": "stream",
     "name": "stdout",
     "text": [
      "\n",
      "Test set: Average loss: 0.5676, Accuracy: 8056/10000 (80.56%)\n",
      "\n"
     ]
    },
    {
     "output_type": "stream",
     "name": "stderr",
     "text": [
      "Epoch 13 Loss=0.5475 Acc=80.45: 100%|██████████| 391/391 [00:35<00:00, 11.10it/s]\n"
     ]
    },
    {
     "output_type": "stream",
     "name": "stdout",
     "text": [
      "\n",
      "Test set: Average loss: 0.5388, Accuracy: 8188/10000 (81.88%)\n",
      "\n"
     ]
    },
    {
     "output_type": "stream",
     "name": "stderr",
     "text": [
      "Epoch 14 Loss=0.4938 Acc=81.16: 100%|██████████| 391/391 [00:34<00:00, 11.44it/s]\n"
     ]
    },
    {
     "output_type": "stream",
     "name": "stdout",
     "text": [
      "\n",
      "Test set: Average loss: 0.5317, Accuracy: 8172/10000 (81.72%)\n",
      "\n"
     ]
    },
    {
     "output_type": "stream",
     "name": "stderr",
     "text": [
      "Epoch 15 Loss=0.3596 Acc=81.51: 100%|██████████| 391/391 [00:37<00:00, 10.31it/s]\n"
     ]
    },
    {
     "output_type": "stream",
     "name": "stdout",
     "text": [
      "\n",
      "Test set: Average loss: 0.5274, Accuracy: 8165/10000 (81.65%)\n",
      "\n"
     ]
    },
    {
     "output_type": "stream",
     "name": "stderr",
     "text": [
      "Epoch 16 Loss=0.3903 Acc=82.47: 100%|██████████| 391/391 [00:36<00:00, 10.60it/s]\n"
     ]
    },
    {
     "output_type": "stream",
     "name": "stdout",
     "text": [
      "\n",
      "Test set: Average loss: 0.4904, Accuracy: 8313/10000 (83.13%)\n",
      "\n"
     ]
    },
    {
     "output_type": "stream",
     "name": "stderr",
     "text": [
      "Epoch 17 Loss=0.4814 Acc=82.73: 100%|██████████| 391/391 [00:33<00:00, 11.59it/s]\n"
     ]
    },
    {
     "output_type": "stream",
     "name": "stdout",
     "text": [
      "\n",
      "Test set: Average loss: 0.4875, Accuracy: 8296/10000 (82.96%)\n",
      "\n"
     ]
    },
    {
     "output_type": "stream",
     "name": "stderr",
     "text": [
      "Epoch 18 Loss=0.5352 Acc=83.27: 100%|██████████| 391/391 [00:33<00:00, 11.60it/s]\n"
     ]
    },
    {
     "output_type": "stream",
     "name": "stdout",
     "text": [
      "\n",
      "Test set: Average loss: 0.5051, Accuracy: 8303/10000 (83.03%)\n",
      "\n"
     ]
    },
    {
     "output_type": "stream",
     "name": "stderr",
     "text": [
      "Epoch 19 Loss=0.4681 Acc=83.84: 100%|██████████| 391/391 [00:34<00:00, 11.19it/s]\n"
     ]
    },
    {
     "output_type": "stream",
     "name": "stdout",
     "text": [
      "\n",
      "Test set: Average loss: 0.4723, Accuracy: 8394/10000 (83.94%)\n",
      "\n"
     ]
    },
    {
     "output_type": "stream",
     "name": "stderr",
     "text": [
      "Epoch 20 Loss=0.3308 Acc=84.31: 100%|██████████| 391/391 [00:33<00:00, 11.62it/s]\n"
     ]
    },
    {
     "output_type": "stream",
     "name": "stdout",
     "text": [
      "\n",
      "Test set: Average loss: 0.4732, Accuracy: 8398/10000 (83.98%)\n",
      "\n"
     ]
    },
    {
     "output_type": "stream",
     "name": "stderr",
     "text": [
      "Epoch 21 Loss=0.6557 Acc=84.89: 100%|██████████| 391/391 [00:33<00:00, 11.62it/s]\n"
     ]
    },
    {
     "output_type": "stream",
     "name": "stdout",
     "text": [
      "\n",
      "Test set: Average loss: 0.4662, Accuracy: 8414/10000 (84.14%)\n",
      "\n"
     ]
    },
    {
     "output_type": "stream",
     "name": "stderr",
     "text": [
      "Epoch 22 Loss=0.3532 Acc=85.34: 100%|██████████| 391/391 [00:33<00:00, 11.71it/s]\n"
     ]
    },
    {
     "output_type": "stream",
     "name": "stdout",
     "text": [
      "\n",
      "Test set: Average loss: 0.4514, Accuracy: 8487/10000 (84.87%)\n",
      "\n"
     ]
    },
    {
     "output_type": "stream",
     "name": "stderr",
     "text": [
      "Epoch 23 Loss=0.3095 Acc=85.71: 100%|██████████| 391/391 [00:33<00:00, 11.52it/s]\n"
     ]
    },
    {
     "output_type": "stream",
     "name": "stdout",
     "text": [
      "\n",
      "Test set: Average loss: 0.4381, Accuracy: 8479/10000 (84.79%)\n",
      "\n"
     ]
    },
    {
     "output_type": "stream",
     "name": "stderr",
     "text": [
      "Epoch 24 Loss=0.3466 Acc=86.58: 100%|██████████| 391/391 [00:33<00:00, 11.71it/s]\n"
     ]
    },
    {
     "output_type": "stream",
     "name": "stdout",
     "text": [
      "\n",
      "Test set: Average loss: 0.4238, Accuracy: 8558/10000 (85.58%)\n",
      "\n"
     ]
    },
    {
     "output_type": "stream",
     "name": "stderr",
     "text": [
      "Epoch 25 Loss=0.3084 Acc=87.29: 100%|██████████| 391/391 [00:33<00:00, 11.60it/s]\n"
     ]
    },
    {
     "output_type": "stream",
     "name": "stdout",
     "text": [
      "\n",
      "Test set: Average loss: 0.4067, Accuracy: 8608/10000 (86.08%)\n",
      "\n"
     ]
    },
    {
     "output_type": "stream",
     "name": "stderr",
     "text": [
      "Epoch 26 Loss=0.4132 Acc=87.89: 100%|██████████| 391/391 [00:33<00:00, 11.63it/s]\n"
     ]
    },
    {
     "output_type": "stream",
     "name": "stdout",
     "text": [
      "\n",
      "Test set: Average loss: 0.4061, Accuracy: 8634/10000 (86.34%)\n",
      "\n"
     ]
    },
    {
     "output_type": "stream",
     "name": "stderr",
     "text": [
      "Epoch 27 Loss=0.3834 Acc=88.27: 100%|██████████| 391/391 [00:33<00:00, 11.61it/s]\n"
     ]
    },
    {
     "output_type": "stream",
     "name": "stdout",
     "text": [
      "\n",
      "Test set: Average loss: 0.4006, Accuracy: 8654/10000 (86.54%)\n",
      "\n"
     ]
    },
    {
     "output_type": "stream",
     "name": "stderr",
     "text": [
      "Epoch 28 Loss=0.3412 Acc=88.87: 100%|██████████| 391/391 [00:33<00:00, 11.69it/s]\n"
     ]
    },
    {
     "output_type": "stream",
     "name": "stdout",
     "text": [
      "\n",
      "Test set: Average loss: 0.3910, Accuracy: 8663/10000 (86.63%)\n",
      "\n"
     ]
    },
    {
     "output_type": "stream",
     "name": "stderr",
     "text": [
      "Epoch 29 Loss=0.2414 Acc=89.15: 100%|██████████| 391/391 [00:33<00:00, 11.74it/s]\n"
     ]
    },
    {
     "output_type": "stream",
     "name": "stdout",
     "text": [
      "\n",
      "Test set: Average loss: 0.3860, Accuracy: 8695/10000 (86.95%)\n",
      "\n"
     ]
    },
    {
     "output_type": "stream",
     "name": "stderr",
     "text": [
      "Epoch 30 Loss=0.3222 Acc=89.55: 100%|██████████| 391/391 [00:33<00:00, 11.57it/s]\n"
     ]
    },
    {
     "output_type": "stream",
     "name": "stdout",
     "text": [
      "\n",
      "Test set: Average loss: 0.3850, Accuracy: 8701/10000 (87.01%)\n",
      "\n"
     ]
    }
   ]
  },
  {
   "cell_type": "code",
   "source": [
    "import torch.nn as nn\n",
    "import torch.nn.functional as F\n",
    "# ------------------------------\n",
    "# Model Definition\n",
    "# ------------------------------\n",
    "dropout_value = 0.05\n",
    "\n",
    "class Net(nn.Module):\n",
    "    def __init__(self):\n",
    "        super(Net, self).__init__()\n",
    "\n",
    "        # CONVOLUTION BLOCK 1 (C1) — RF: 9\n",
    "        self.c1 = nn.Sequential(\n",
    "            nn.Conv2d(3, 32, kernel_size=3, padding=0, bias=False),  # 32x32 → 30x30, RF=3\n",
    "            nn.ReLU(),\n",
    "            nn.BatchNorm2d(32),\n",
    "            nn.Dropout(dropout_value),\n",
    "\n",
    "            nn.Conv2d(32, 64, kernel_size=3, padding=0, bias=False), # 30x30 → 28x28, RF=5\n",
    "            nn.ReLU(),\n",
    "            nn.BatchNorm2d(64),\n",
    "            nn.Dropout(dropout_value),\n",
    "\n",
    "            nn.Conv2d(64, 64, kernel_size=3, padding=0, dilation=2, bias=False), # 28x28 → 24x24, RF=9\n",
    "            nn.ReLU(),\n",
    "            nn.BatchNorm2d(64),\n",
    "            nn.Dropout(dropout_value)\n",
    "        )\n",
    "\n",
    "        # CONVOLUTION BLOCK 2 (C2) — RF: 13\n",
    "        self.c2 = nn.Sequential(\n",
    "            nn.Conv2d(64, 32, kernel_size=1, padding=0, bias=False), # 24x24 → 24x24, RF=9\n",
    "            nn.Conv2d(32, 32, kernel_size=3, padding=1, groups=32, bias=False),  # Depthwise, RF=11\n",
    "            nn.ReLU(),\n",
    "            nn.BatchNorm2d(32),\n",
    "\n",
    "            nn.Conv2d(32, 64, kernel_size=1, padding=0, bias=False),  # Pointwise, RF=11\n",
    "            nn.ReLU(),\n",
    "            nn.BatchNorm2d(64),\n",
    "            nn.Dropout(dropout_value),\n",
    "\n",
    "            nn.Conv2d(64, 64, kernel_size=3, padding=0, bias=False), # 24x24 → 22x22, RF=13\n",
    "            nn.ReLU(),\n",
    "            nn.BatchNorm2d(64),\n",
    "            nn.Dropout(dropout_value)\n",
    "        )\n",
    "\n",
    "        # CONVOLUTION BLOCK 3 (C3) — RF: 21\n",
    "        self.c3 = nn.Sequential(\n",
    "            nn.Conv2d(64, 64, kernel_size=3, padding=0, stride=2, bias=False), # 22x22 → 10x10, RF=17\n",
    "            nn.ReLU(),\n",
    "            nn.BatchNorm2d(64),\n",
    "            nn.Dropout(dropout_value),\n",
    "\n",
    "            nn.Conv2d(64, 32, kernel_size=1, padding=0, bias=False), # 10x10 → 10x10, RF=17\n",
    "            nn.AvgPool2d(2, 2)  # 10x10 → 5x5, RF=21\n",
    "        )\n",
    "\n",
    "        # CONVOLUTION BLOCK 4 (C4) — RF: 44\n",
    "        self.c4 = nn.Sequential(\n",
    "            nn.Conv2d(32, 64, kernel_size=3, padding=1, bias=False),  # 5x5 → 5x5, RF=25\n",
    "            nn.ReLU(),\n",
    "            nn.BatchNorm2d(64),\n",
    "            nn.Dropout(dropout_value),\n",
    "\n",
    "            nn.Conv2d(64, 64, kernel_size=3, padding=1, bias=False),  # 5x5 → 5x5, RF=29\n",
    "            nn.ReLU(),\n",
    "            nn.BatchNorm2d(64),\n",
    "            nn.Dropout(dropout_value),\n",
    "\n",
    "            nn.AvgPool2d(kernel_size=5)  # 5x5 → 1x1, RF=44\n",
    "        )\n",
    "\n",
    "        # OUTPUT BLOCK (O) — 1x1x10\n",
    "        self.output = nn.Conv2d(64, 10, kernel_size=1, padding=0, bias=False)\n",
    "\n",
    "    def forward(self, x):\n",
    "        x = self.c1(x)       # → 24x24x64\n",
    "        x = self.c2(x)       # → 22x22x64\n",
    "        x = self.c3(x)       # → 5x5x32\n",
    "        x = self.c4(x)       # → 1x1x64\n",
    "        x = self.output(x)   # → 1x1x10\n",
    "        x = x.view(-1, 10)\n",
    "        return F.log_softmax(x, dim=-1)\n",
    "\n",
    "import torch\n",
    "from torchsummary import summary\n",
    "use_cuda = torch.cuda.is_available()\n",
    "device = torch.device(\"cuda\" if use_cuda else \"cpu\")\n",
    "print(device)\n",
    "model = Net().to(device)\n",
    "summary(model, input_size=(3, 32, 32))"
   ],
   "metadata": {
    "colab": {
     "base_uri": "https://localhost:8080/"
    },
    "id": "HqSqB4VvATct",
    "outputId": "864ce6d7-b537-4a86-9693-de40d1d15475"
   },
   "execution_count": null,
   "outputs": [
    {
     "output_type": "stream",
     "name": "stdout",
     "text": [
      "cuda\n",
      "----------------------------------------------------------------\n",
      "        Layer (type)               Output Shape         Param #\n",
      "================================================================\n",
      "            Conv2d-1           [-1, 32, 30, 30]             864\n",
      "              ReLU-2           [-1, 32, 30, 30]               0\n",
      "       BatchNorm2d-3           [-1, 32, 30, 30]              64\n",
      "           Dropout-4           [-1, 32, 30, 30]               0\n",
      "            Conv2d-5           [-1, 64, 28, 28]          18,432\n",
      "              ReLU-6           [-1, 64, 28, 28]               0\n",
      "       BatchNorm2d-7           [-1, 64, 28, 28]             128\n",
      "           Dropout-8           [-1, 64, 28, 28]               0\n",
      "            Conv2d-9           [-1, 64, 24, 24]          36,864\n",
      "             ReLU-10           [-1, 64, 24, 24]               0\n",
      "      BatchNorm2d-11           [-1, 64, 24, 24]             128\n",
      "          Dropout-12           [-1, 64, 24, 24]               0\n",
      "           Conv2d-13           [-1, 32, 24, 24]           2,048\n",
      "           Conv2d-14           [-1, 32, 24, 24]             288\n",
      "             ReLU-15           [-1, 32, 24, 24]               0\n",
      "      BatchNorm2d-16           [-1, 32, 24, 24]              64\n",
      "           Conv2d-17           [-1, 64, 24, 24]           2,048\n",
      "             ReLU-18           [-1, 64, 24, 24]               0\n",
      "      BatchNorm2d-19           [-1, 64, 24, 24]             128\n",
      "          Dropout-20           [-1, 64, 24, 24]               0\n",
      "           Conv2d-21           [-1, 64, 22, 22]          36,864\n",
      "             ReLU-22           [-1, 64, 22, 22]               0\n",
      "      BatchNorm2d-23           [-1, 64, 22, 22]             128\n",
      "          Dropout-24           [-1, 64, 22, 22]               0\n",
      "           Conv2d-25           [-1, 64, 10, 10]          36,864\n",
      "             ReLU-26           [-1, 64, 10, 10]               0\n",
      "      BatchNorm2d-27           [-1, 64, 10, 10]             128\n",
      "          Dropout-28           [-1, 64, 10, 10]               0\n",
      "           Conv2d-29           [-1, 32, 10, 10]           2,048\n",
      "        AvgPool2d-30             [-1, 32, 5, 5]               0\n",
      "           Conv2d-31             [-1, 64, 5, 5]          18,432\n",
      "             ReLU-32             [-1, 64, 5, 5]               0\n",
      "      BatchNorm2d-33             [-1, 64, 5, 5]             128\n",
      "          Dropout-34             [-1, 64, 5, 5]               0\n",
      "           Conv2d-35             [-1, 64, 5, 5]          36,864\n",
      "             ReLU-36             [-1, 64, 5, 5]               0\n",
      "      BatchNorm2d-37             [-1, 64, 5, 5]             128\n",
      "          Dropout-38             [-1, 64, 5, 5]               0\n",
      "        AvgPool2d-39             [-1, 64, 1, 1]               0\n",
      "           Conv2d-40             [-1, 10, 1, 1]             640\n",
      "================================================================\n",
      "Total params: 193,280\n",
      "Trainable params: 193,280\n",
      "Non-trainable params: 0\n",
      "----------------------------------------------------------------\n",
      "Input size (MB): 0.01\n",
      "Forward/backward pass size (MB): 6.49\n",
      "Params size (MB): 0.74\n",
      "Estimated Total Size (MB): 7.24\n",
      "----------------------------------------------------------------\n"
     ]
    }
   ]
  }
 ]
}
