{
  "cells": [
    {
      "cell_type": "markdown",
      "metadata": {
        "id": "zRrf4KmOzpN2"
      },
      "source": [
        "# CIFAR-100 Training - Optimized for 74% Accuracy with HuggingFace Integration\n",
        "\n",
        "## Key Improvements:\n",
        "- Fixed data augmentation (proper Cutout implementation)\n",
        "- Cosine annealing scheduler with warmup\n",
        "- Optimized hyperparameters (batch size 256, MixUp alpha 0.2)\n",
        "- Label smoothing (0.1)\n",
        "- Gradient clipping\n",
        "- Mixed precision training\n",
        "- Model checkpointing and early stopping\n",
        "- WideResNet-28-10 (36.5M parameters)\n",
        "- **HuggingFace Hub integration with checkpoint uploads at breakpoints**"
      ]
    },
    {
      "cell_type": "code",
      "execution_count": 1,
      "metadata": {
        "colab": {
          "base_uri": "https://localhost:8080/"
        },
        "id": "-1vL6xQrzpN2",
        "outputId": "62f97d35-e611-4e32-81ad-0dd0cbb9a845"
      },
      "outputs": [
        {
          "output_type": "stream",
          "name": "stdout",
          "text": [
            "Device: cpu\n"
          ]
        }
      ],
      "source": [
        "# Import Libraries\n",
        "import torch\n",
        "import numpy as np\n",
        "from torchvision import datasets, transforms\n",
        "from torch.utils.data import DataLoader\n",
        "import albumentations as A\n",
        "from albumentations.pytorch import ToTensorV2\n",
        "from PIL import Image\n",
        "import torch.optim as optim\n",
        "from torch.optim.lr_scheduler import CosineAnnealingWarmRestarts\n",
        "from tqdm import tqdm\n",
        "import torch.nn.functional as F\n",
        "import torch.nn as nn\n",
        "from torchsummary import summary\n",
        "from torch.cuda.amp import autocast, GradScaler\n",
        "import matplotlib.pyplot as plt\n",
        "import os\n",
        "import json\n",
        "from datetime import datetime\n",
        "\n",
        "# CIFAR-100 Mean and Std\n",
        "cifar100_mean = (0.5071, 0.4865, 0.4409)\n",
        "cifar100_std = (0.2673, 0.2564, 0.2761)\n",
        "\n",
        "# Use GPU if available\n",
        "device = torch.device(\"cuda\" if torch.cuda.is_available() else \"cpu\")\n",
        "print(\"Device:\", device)"
      ]
    },
    {
      "cell_type": "code",
      "source": [
        "from google.colab import drive\n",
        "drive.mount('/content/drive/')"
      ],
      "metadata": {
        "colab": {
          "base_uri": "https://localhost:8080/"
        },
        "id": "jaMHmoCAfGJP",
        "outputId": "16431b4e-d374-46ef-8196-3523aa4273ea"
      },
      "execution_count": 2,
      "outputs": [
        {
          "output_type": "stream",
          "name": "stdout",
          "text": [
            "Mounted at /content/drive/\n"
          ]
        }
      ]
    },
    {
      "cell_type": "code",
      "source": [
        "checkpoint_dir = './drive/MyDrive/erav4'\n",
        "\n",
        "# HuggingFace Setup - Get token from Colab secrets\n",
        "try:\n",
        "    from google.colab import userdata\n",
        "    HF_TOKEN = userdata.get('HF_TOKEN')\n",
        "    print(\"✓ HuggingFace token retrieved from Colab secrets\")\n",
        "except Exception as e:\n",
        "    print(f\"Warning: Could not retrieve HF_TOKEN from secrets: {e}\")\n",
        "    print(\"Please add HF_TOKEN to Colab secrets for model upload\")\n",
        "    HF_TOKEN = None\n",
        "\n",
        "# Install huggingface_hub if needed\n",
        "try:\n",
        "    from huggingface_hub import HfApi, create_repo, upload_file\n",
        "except ImportError:\n",
        "    !pip install -q huggingface_hub\n",
        "    from huggingface_hub import HfApi, create_repo, upload_file\n",
        "\n",
        "# Configure HuggingFace repository\n",
        "REPO_ID = 'agileabhi/resnet-cifar100-custom'\n",
        "api = HfApi()\n",
        "\n",
        "# Login and create repository\n",
        "if HF_TOKEN:\n",
        "    try:\n",
        "        create_repo(repo_id=REPO_ID, repo_type=\"model\", exist_ok=True, token=HF_TOKEN)\n",
        "        print(f\"✓ Repository ready: https://huggingface.co/{REPO_ID}\")\n",
        "    except Exception as e:\n",
        "        print(f\"Warning: Could not create repository: {e}\")\n",
        "else:\n",
        "    print(\"⚠ HuggingFace upload will be skipped (no token available)\")"
      ],
      "metadata": {
        "colab": {
          "base_uri": "https://localhost:8080/"
        },
        "id": "g7q8Jwq-aKPl",
        "outputId": "ba832932-0319-47d2-968d-dc61e094daf7"
      },
      "execution_count": 11,
      "outputs": [
        {
          "output_type": "stream",
          "name": "stdout",
          "text": [
            "✓ HuggingFace token retrieved from Colab secrets\n",
            "✓ Repository ready: https://huggingface.co/agileabhi/resnet-cifar100-custom\n"
          ]
        }
      ]
    },
    {
      "cell_type": "code",
      "execution_count": 14,
      "metadata": {
        "colab": {
          "base_uri": "https://localhost:8080/"
        },
        "id": "UfJ4IGAJzpN2",
        "outputId": "f586461e-81bf-4730-f9e4-49b915af0549"
      },
      "outputs": [
        {
          "output_type": "stream",
          "name": "stderr",
          "text": [
            "/usr/local/lib/python3.12/dist-packages/albumentations/core/validation.py:114: UserWarning: ShiftScaleRotate is a special case of Affine transform. Please use Affine transform instead.\n",
            "  original_init(self, **validated_kwargs)\n",
            "/tmp/ipython-input-1751441270.py:7: UserWarning: Argument(s) 'height, width' are not valid for transform RandomResizedCrop\n",
            "  A.RandomResizedCrop(height=32, width=32, scale=(0.8, 1.0), ratio=(0.9, 1.1), p=0.5, size=(32, 32)),\n",
            "/tmp/ipython-input-1751441270.py:8: UserWarning: Argument(s) 'max_holes, max_height, max_width' are not valid for transform CoarseDropout\n",
            "  A.CoarseDropout(max_holes=1, max_height=8, max_width=8, p=0.5),  # Cutout\n",
            "100%|██████████| 169M/169M [00:02<00:00, 79.7MB/s]\n",
            "/usr/local/lib/python3.12/dist-packages/torch/utils/data/dataloader.py:627: UserWarning: This DataLoader will create 4 worker processes in total. Our suggested max number of worker in current system is 2, which is smaller than what this DataLoader is going to create. Please be aware that excessive worker creation might get DataLoader running slow or even freeze, lower the worker number to avoid potential slowness/freeze if necessary.\n",
            "  warnings.warn(\n"
          ]
        },
        {
          "output_type": "stream",
          "name": "stdout",
          "text": [
            "Training batches: 196, Test batches: 40\n"
          ]
        }
      ],
      "source": [
        "# Improved Data Augmentation\n",
        "class ImprovedAlbumentationsTransforms:\n",
        "    def __init__(self, mean, std):\n",
        "        self.aug = A.Compose([\n",
        "            A.HorizontalFlip(p=0.5),\n",
        "            A.ShiftScaleRotate(shift_limit=0.0625, scale_limit=0.1, rotate_limit=15, p=0.5),\n",
        "            A.RandomResizedCrop(height=32, width=32, scale=(0.8, 1.0), ratio=(0.9, 1.1), p=0.5, size=(32, 32)),\n",
        "            A.CoarseDropout(max_holes=1, max_height=8, max_width=8, p=0.5),  # Cutout\n",
        "            A.RandomBrightnessContrast(brightness_limit=0.2, contrast_limit=0.2, p=0.3),\n",
        "            A.HueSaturationValue(hue_shift_limit=10, sat_shift_limit=20, val_shift_limit=10, p=0.3),\n",
        "            A.Normalize(mean=mean, std=std),\n",
        "            ToTensorV2()\n",
        "        ])\n",
        "\n",
        "    def __call__(self, img):\n",
        "        image = np.array(img)\n",
        "        return self.aug(image=image)[\"image\"]\n",
        "\n",
        "# Instantiate transforms\n",
        "train_transforms = ImprovedAlbumentationsTransforms(mean=cifar100_mean, std=cifar100_std)\n",
        "\n",
        "test_transforms = transforms.Compose([\n",
        "    transforms.ToTensor(),\n",
        "    transforms.Normalize(mean=cifar100_mean, std=cifar100_std)\n",
        "])\n",
        "\n",
        "# CIFAR-100 Dataset with increased batch size\n",
        "train_dataset = datasets.CIFAR100(root='./data', train=True, download=True, transform=train_transforms)\n",
        "test_dataset = datasets.CIFAR100(root='./data', train=False, download=True, transform=test_transforms)\n",
        "\n",
        "# DataLoaders with batch size 256\n",
        "BATCH_SIZE = 256\n",
        "train_loader = DataLoader(train_dataset, batch_size=BATCH_SIZE, shuffle=True, num_workers=4, pin_memory=True)\n",
        "test_loader = DataLoader(test_dataset, batch_size=BATCH_SIZE, shuffle=False, num_workers=4, pin_memory=True)\n",
        "\n",
        "cifar100_classes = datasets.CIFAR100(root='./data', train=False).classes\n",
        "print(f\"Training batches: {len(train_loader)}, Test batches: {len(test_loader)}\")"
      ]
    },
    {
      "cell_type": "code",
      "execution_count": 15,
      "metadata": {
        "colab": {
          "base_uri": "https://localhost:8080/",
          "height": 862
        },
        "id": "x8qTq_qtzpN2",
        "outputId": "717345e6-c74a-4299-a5bd-90ba9052c926"
      },
      "outputs": [
        {
          "output_type": "stream",
          "name": "stderr",
          "text": [
            "/usr/local/lib/python3.12/dist-packages/torch/utils/data/dataloader.py:666: UserWarning: 'pin_memory' argument is set as true but no accelerator is found, then device pinned memory won't be used.\n",
            "  warnings.warn(warn_msg)\n"
          ]
        },
        {
          "output_type": "display_data",
          "data": {
            "text/plain": [
              "<Figure size 1200x800 with 12 Axes>"
            ],
            "image/png": "[encoded data removed]"
          },
          "metadata": {}
        }
      ],
      "source": [
        "# Visualize augmented samples\n",
        "import matplotlib.pyplot as plt\n",
        "import numpy as np\n",
        "\n",
        "batch_data, batch_label = next(iter(train_loader))\n",
        "batch_data = batch_data.cpu().detach()\n",
        "\n",
        "fig = plt.figure(figsize=(12, 8))\n",
        "for i in range(12):\n",
        "    img = batch_data[i].numpy().transpose((1, 2, 0))\n",
        "    # Denormalize\n",
        "    img = img * np.array(cifar100_std) + np.array(cifar100_mean)\n",
        "    img = np.clip(img, 0, 1)\n",
        "\n",
        "    plt.subplot(3, 4, i + 1)\n",
        "    plt.imshow(img)\n",
        "    plt.title(f\"Class: {cifar100_classes[batch_label[i]]}\")\n",
        "    plt.axis('off')\n",
        "\n",
        "plt.tight_layout()\n",
        "plt.show()"
      ]
    },
    {
      "cell_type": "code",
      "execution_count": 16,
      "metadata": {
        "id": "8TFLgbp5zpN3"
      },
      "outputs": [],
      "source": [
        "# WideResNet Architecture\n",
        "class BasicBlock(nn.Module):\n",
        "    def __init__(self, in_planes, out_planes, stride, dropRate=0.0):\n",
        "        super(BasicBlock, self).__init__()\n",
        "        self.equalInOut = in_planes == out_planes\n",
        "        self.conv1 = nn.Conv2d(in_planes, out_planes, kernel_size=3, stride=stride,\n",
        "                               padding=1, bias=False)\n",
        "        self.bn1 = nn.BatchNorm2d(in_planes)\n",
        "        self.relu1 = nn.ReLU(inplace=True)\n",
        "        self.conv2 = nn.Conv2d(out_planes, out_planes, kernel_size=3, stride=1,\n",
        "                               padding=1, bias=False)\n",
        "        self.bn2 = nn.BatchNorm2d(out_planes)\n",
        "        self.relu2 = nn.ReLU(inplace=True)\n",
        "        self.dropRate = dropRate\n",
        "        self.shortcut = (not self.equalInOut) and nn.Conv2d(in_planes, out_planes, 1, stride=stride, bias=False) or None\n",
        "\n",
        "    def forward(self, x):\n",
        "        if not self.equalInOut:\n",
        "            x = self.relu1(self.bn1(x))\n",
        "        else:\n",
        "            out = self.relu1(self.bn1(x))\n",
        "        out = self.conv1(out if self.equalInOut else x)\n",
        "        out = self.relu2(self.bn2(out))\n",
        "        if self.dropRate > 0:\n",
        "            out = F.dropout(out, p=self.dropRate, training=self.training)\n",
        "        out = self.conv2(out)\n",
        "        return out + (x if self.equalInOut else self.shortcut(x))\n",
        "\n",
        "\n",
        "class NetworkBlock(nn.Module):\n",
        "    def __init__(self, nb_layers, in_planes, out_planes, block, stride, dropRate=0.0):\n",
        "        super(NetworkBlock, self).__init__()\n",
        "        self.layer = self._make_layer(block, in_planes, out_planes, nb_layers, stride, dropRate)\n",
        "\n",
        "    def _make_layer(self, block, in_planes, out_planes, nb_layers, stride, dropRate):\n",
        "        layers = []\n",
        "        for i in range(nb_layers):\n",
        "            layers.append(block(i == 0 and in_planes or out_planes, out_planes,\n",
        "                                i == 0 and stride or 1, dropRate))\n",
        "        return nn.Sequential(*layers)\n",
        "\n",
        "    def forward(self, x):\n",
        "        return self.layer(x)\n",
        "\n",
        "\n",
        "class WideResNet(nn.Module):\n",
        "    def __init__(self, depth=28, num_classes=100, widen_factor=10, dropRate=0.3):\n",
        "        super(WideResNet, self).__init__()\n",
        "        nChannels = [16, 16*widen_factor, 32*widen_factor, 64*widen_factor]\n",
        "        assert ((depth - 4) % 6 == 0)\n",
        "        n = (depth - 4) // 6\n",
        "        block = BasicBlock\n",
        "        self.conv1 = nn.Conv2d(3, nChannels[0], kernel_size=3, stride=1,\n",
        "                               padding=1, bias=False)\n",
        "        self.block1 = NetworkBlock(n, nChannels[0], nChannels[1], block, 1, dropRate)\n",
        "        self.block2 = NetworkBlock(n, nChannels[1], nChannels[2], block, 2, dropRate)\n",
        "        self.block3 = NetworkBlock(n, nChannels[2], nChannels[3], block, 2, dropRate)\n",
        "        self.bn1 = nn.BatchNorm2d(nChannels[3])\n",
        "        self.relu = nn.ReLU(inplace=True)\n",
        "        self.fc = nn.Linear(nChannels[3], num_classes)\n",
        "        self.nChannels = nChannels[3]\n",
        "\n",
        "        for m in self.modules():\n",
        "            if isinstance(m, nn.Conv2d):\n",
        "                nn.init.kaiming_normal_(m.weight, mode='fan_out')\n",
        "            elif isinstance(m, nn.BatchNorm2d):\n",
        "                nn.init.constant_(m.weight, 1)\n",
        "                nn.init.constant_(m.bias, 0)\n",
        "            elif isinstance(m, nn.Linear):\n",
        "                nn.init.xavier_uniform_(m.weight)\n",
        "                nn.init.constant_(m.bias, 0)\n",
        "\n",
        "    def forward(self, x):\n",
        "        out = self.conv1(x)\n",
        "        out = self.block1(out)\n",
        "        out = self.block2(out)\n",
        "        out = self.block3(out)\n",
        "        out = self.relu(self.bn1(out))\n",
        "        out = F.adaptive_avg_pool2d(out, 1)\n",
        "        out = out.view(-1, self.nChannels)\n",
        "        return self.fc(out)"
      ]
    },
    {
      "cell_type": "code",
      "execution_count": 17,
      "metadata": {
        "colab": {
          "base_uri": "https://localhost:8080/"
        },
        "id": "kCowuIKFzpN3",
        "outputId": "6408dfc4-0068-4978-d56e-9d9dd89aff71"
      },
      "outputs": [
        {
          "output_type": "stream",
          "name": "stdout",
          "text": [
            "----------------------------------------------------------------\n",
            "        Layer (type)               Output Shape         Param #\n",
            "================================================================\n",
            "            Conv2d-1           [-1, 16, 32, 32]             432\n",
            "       BatchNorm2d-2           [-1, 16, 32, 32]              32\n",
            "              ReLU-3           [-1, 16, 32, 32]               0\n",
            "            Conv2d-4          [-1, 160, 32, 32]          23,040\n",
            "       BatchNorm2d-5          [-1, 160, 32, 32]             320\n",
            "              ReLU-6          [-1, 160, 32, 32]               0\n",
            "            Conv2d-7          [-1, 160, 32, 32]         230,400\n",
            "            Conv2d-8          [-1, 160, 32, 32]           2,560\n",
            "        BasicBlock-9          [-1, 160, 32, 32]               0\n",
            "      BatchNorm2d-10          [-1, 160, 32, 32]             320\n",
            "             ReLU-11          [-1, 160, 32, 32]               0\n",
            "           Conv2d-12          [-1, 160, 32, 32]         230,400\n",
            "      BatchNorm2d-13          [-1, 160, 32, 32]             320\n",
            "             ReLU-14          [-1, 160, 32, 32]               0\n",
            "           Conv2d-15          [-1, 160, 32, 32]         230,400\n",
            "       BasicBlock-16          [-1, 160, 32, 32]               0\n",
            "      BatchNorm2d-17          [-1, 160, 32, 32]             320\n",
            "             ReLU-18          [-1, 160, 32, 32]               0\n",
            "           Conv2d-19          [-1, 160, 32, 32]         230,400\n",
            "      BatchNorm2d-20          [-1, 160, 32, 32]             320\n",
            "             ReLU-21          [-1, 160, 32, 32]               0\n",
            "           Conv2d-22          [-1, 160, 32, 32]         230,400\n",
            "       BasicBlock-23          [-1, 160, 32, 32]               0\n",
            "      BatchNorm2d-24          [-1, 160, 32, 32]             320\n",
            "             ReLU-25          [-1, 160, 32, 32]               0\n",
            "           Conv2d-26          [-1, 160, 32, 32]         230,400\n",
            "      BatchNorm2d-27          [-1, 160, 32, 32]             320\n",
            "             ReLU-28          [-1, 160, 32, 32]               0\n",
            "           Conv2d-29          [-1, 160, 32, 32]         230,400\n",
            "       BasicBlock-30          [-1, 160, 32, 32]               0\n",
            "     NetworkBlock-31          [-1, 160, 32, 32]               0\n",
            "      BatchNorm2d-32          [-1, 160, 32, 32]             320\n",
            "             ReLU-33          [-1, 160, 32, 32]               0\n",
            "           Conv2d-34          [-1, 320, 16, 16]         460,800\n",
            "      BatchNorm2d-35          [-1, 320, 16, 16]             640\n",
            "             ReLU-36          [-1, 320, 16, 16]               0\n",
            "           Conv2d-37          [-1, 320, 16, 16]         921,600\n",
            "           Conv2d-38          [-1, 320, 16, 16]          51,200\n",
            "       BasicBlock-39          [-1, 320, 16, 16]               0\n",
            "      BatchNorm2d-40          [-1, 320, 16, 16]             640\n",
            "             ReLU-41          [-1, 320, 16, 16]               0\n",
            "           Conv2d-42          [-1, 320, 16, 16]         921,600\n",
            "      BatchNorm2d-43          [-1, 320, 16, 16]             640\n",
            "             ReLU-44          [-1, 320, 16, 16]               0\n",
            "           Conv2d-45          [-1, 320, 16, 16]         921,600\n",
            "       BasicBlock-46          [-1, 320, 16, 16]               0\n",
            "      BatchNorm2d-47          [-1, 320, 16, 16]             640\n",
            "             ReLU-48          [-1, 320, 16, 16]               0\n",
            "           Conv2d-49          [-1, 320, 16, 16]         921,600\n",
            "      BatchNorm2d-50          [-1, 320, 16, 16]             640\n",
            "             ReLU-51          [-1, 320, 16, 16]               0\n",
            "           Conv2d-52          [-1, 320, 16, 16]         921,600\n",
            "       BasicBlock-53          [-1, 320, 16, 16]               0\n",
            "      BatchNorm2d-54          [-1, 320, 16, 16]             640\n",
            "             ReLU-55          [-1, 320, 16, 16]               0\n",
            "           Conv2d-56          [-1, 320, 16, 16]         921,600\n",
            "      BatchNorm2d-57          [-1, 320, 16, 16]             640\n",
            "             ReLU-58          [-1, 320, 16, 16]               0\n",
            "           Conv2d-59          [-1, 320, 16, 16]         921,600\n",
            "       BasicBlock-60          [-1, 320, 16, 16]               0\n",
            "     NetworkBlock-61          [-1, 320, 16, 16]               0\n",
            "      BatchNorm2d-62          [-1, 320, 16, 16]             640\n",
            "             ReLU-63          [-1, 320, 16, 16]               0\n",
            "           Conv2d-64            [-1, 640, 8, 8]       1,843,200\n",
            "      BatchNorm2d-65            [-1, 640, 8, 8]           1,280\n",
            "             ReLU-66            [-1, 640, 8, 8]               0\n",
            "           Conv2d-67            [-1, 640, 8, 8]       3,686,400\n",
            "           Conv2d-68            [-1, 640, 8, 8]         204,800\n",
            "       BasicBlock-69            [-1, 640, 8, 8]               0\n",
            "      BatchNorm2d-70            [-1, 640, 8, 8]           1,280\n",
            "             ReLU-71            [-1, 640, 8, 8]               0\n",
            "           Conv2d-72            [-1, 640, 8, 8]       3,686,400\n",
            "      BatchNorm2d-73            [-1, 640, 8, 8]           1,280\n",
            "             ReLU-74            [-1, 640, 8, 8]               0\n",
            "           Conv2d-75            [-1, 640, 8, 8]       3,686,400\n",
            "       BasicBlock-76            [-1, 640, 8, 8]               0\n",
            "      BatchNorm2d-77            [-1, 640, 8, 8]           1,280\n",
            "             ReLU-78            [-1, 640, 8, 8]               0\n",
            "           Conv2d-79            [-1, 640, 8, 8]       3,686,400\n",
            "      BatchNorm2d-80            [-1, 640, 8, 8]           1,280\n",
            "             ReLU-81            [-1, 640, 8, 8]               0\n",
            "           Conv2d-82            [-1, 640, 8, 8]       3,686,400\n",
            "       BasicBlock-83            [-1, 640, 8, 8]               0\n",
            "      BatchNorm2d-84            [-1, 640, 8, 8]           1,280\n",
            "             ReLU-85            [-1, 640, 8, 8]               0\n",
            "           Conv2d-86            [-1, 640, 8, 8]       3,686,400\n",
            "      BatchNorm2d-87            [-1, 640, 8, 8]           1,280\n",
            "             ReLU-88            [-1, 640, 8, 8]               0\n",
            "           Conv2d-89            [-1, 640, 8, 8]       3,686,400\n",
            "       BasicBlock-90            [-1, 640, 8, 8]               0\n",
            "     NetworkBlock-91            [-1, 640, 8, 8]               0\n",
            "      BatchNorm2d-92            [-1, 640, 8, 8]           1,280\n",
            "             ReLU-93            [-1, 640, 8, 8]               0\n",
            "           Linear-94                  [-1, 100]          64,100\n",
            "================================================================\n",
            "Total params: 36,536,884\n",
            "Trainable params: 36,536,884\n",
            "Non-trainable params: 0\n",
            "----------------------------------------------------------------\n",
            "Input size (MB): 0.01\n",
            "Forward/backward pass size (MB): 66.00\n",
            "Params size (MB): 139.38\n",
            "Estimated Total Size (MB): 205.39\n",
            "----------------------------------------------------------------\n"
          ]
        }
      ],
      "source": [
        "# Initialize model\n",
        "model = WideResNet(depth=28, widen_factor=10, dropRate=0.3, num_classes=100).to(device)\n",
        "summary(model, input_size=(3, 32, 32))"
      ]
    },
    {
      "cell_type": "code",
      "execution_count": 18,
      "metadata": {
        "id": "FP2HzievzpN3"
      },
      "outputs": [],
      "source": [
        "# MixUp function\n",
        "def mixup_data(x, y, alpha=0.2, device='cuda'):\n",
        "    '''Returns mixed inputs, pairs of targets, and lambda'''\n",
        "    if alpha > 0:\n",
        "        lam = np.random.beta(alpha, alpha)\n",
        "    else:\n",
        "        lam = 1.0\n",
        "    batch_size = x.size(0)\n",
        "    index = torch.randperm(batch_size).to(device)\n",
        "\n",
        "    mixed_x = lam * x + (1 - lam) * x[index, :]\n",
        "    y_a, y_b = y, y[index]\n",
        "    return mixed_x, y_a, y_b, lam"
      ]
    },
    {
      "cell_type": "code",
      "execution_count": 19,
      "metadata": {
        "id": "0cQvSDqizpN3"
      },
      "outputs": [],
      "source": [
        "# Learning Rate Warmup Scheduler\n",
        "class WarmupScheduler:\n",
        "    def __init__(self, optimizer, warmup_epochs, initial_lr, target_lr, steps_per_epoch):\n",
        "        self.optimizer = optimizer\n",
        "        self.warmup_steps = warmup_epochs * steps_per_epoch\n",
        "        self.initial_lr = initial_lr\n",
        "        self.target_lr = target_lr\n",
        "        self.current_step = 0\n",
        "\n",
        "    def step(self):\n",
        "        if self.current_step < self.warmup_steps:\n",
        "            lr = self.initial_lr + (self.target_lr - self.initial_lr) * self.current_step / self.warmup_steps\n",
        "            for param_group in self.optimizer.param_groups:\n",
        "                param_group['lr'] = lr\n",
        "        self.current_step += 1\n",
        "\n",
        "    def is_warmup(self):\n",
        "        return self.current_step < self.warmup_steps"
      ]
    },
    {
      "cell_type": "code",
      "execution_count": 20,
      "metadata": {
        "id": "UmZv7ACkzpN3"
      },
      "outputs": [],
      "source": [
        "# Training function with mixed precision and gradient clipping\n",
        "def train(model, device, train_loader, optimizer, scheduler, warmup_scheduler, scaler, epoch,\n",
        "          use_mixup=True, mixup_alpha=0.2, label_smoothing=0.1):\n",
        "    model.train()\n",
        "    pbar = tqdm(train_loader)\n",
        "    correct = 0\n",
        "    processed = 0\n",
        "    total_loss = 0\n",
        "\n",
        "    for batch_idx, (data, target) in enumerate(pbar):\n",
        "        data, target = data.to(device), target.to(device)\n",
        "        optimizer.zero_grad()\n",
        "\n",
        "        # Mixed precision training\n",
        "        with autocast():\n",
        "            if use_mixup:\n",
        "                inputs, targets_a, targets_b, lam = mixup_data(data, target, alpha=mixup_alpha, device=device)\n",
        "                outputs = model(inputs)\n",
        "                loss = lam * F.cross_entropy(outputs, targets_a, label_smoothing=label_smoothing) + \\\n",
        "                       (1 - lam) * F.cross_entropy(outputs, targets_b, label_smoothing=label_smoothing)\n",
        "            else:\n",
        "                outputs = model(data)\n",
        "                loss = F.cross_entropy(outputs, target, label_smoothing=label_smoothing)\n",
        "\n",
        "        # Backward pass with gradient scaling\n",
        "        scaler.scale(loss).backward()\n",
        "\n",
        "        # Gradient clipping\n",
        "        scaler.unscale_(optimizer)\n",
        "        torch.nn.utils.clip_grad_norm_(model.parameters(), max_norm=1.0)\n",
        "\n",
        "        scaler.step(optimizer)\n",
        "        scaler.update()\n",
        "\n",
        "        # Update learning rate\n",
        "        if warmup_scheduler.is_warmup():\n",
        "            warmup_scheduler.step()\n",
        "        else:\n",
        "            scheduler.step()\n",
        "\n",
        "        # Accuracy tracking\n",
        "        _, pred = outputs.max(1)\n",
        "        if use_mixup:\n",
        "            correct += lam * pred.eq(targets_a).sum().item() + (1 - lam) * pred.eq(targets_b).sum().item()\n",
        "        else:\n",
        "            correct += pred.eq(target).sum().item()\n",
        "        processed += len(data)\n",
        "        total_loss += loss.item()\n",
        "\n",
        "        current_lr = optimizer.param_groups[0]['lr']\n",
        "        pbar.set_description(f\"Epoch {epoch} Loss={loss.item():.4f} Acc={100*correct/processed:.2f}% LR={current_lr:.6f}\")\n",
        "\n",
        "    avg_loss = total_loss / len(train_loader)\n",
        "    accuracy = 100. * correct / processed\n",
        "    return avg_loss, accuracy\n",
        "\n",
        "\n",
        "def test(model, device, test_loader):\n",
        "    model.eval()\n",
        "    test_loss = 0\n",
        "    correct = 0\n",
        "\n",
        "    with torch.no_grad():\n",
        "        for data, target in test_loader:\n",
        "            data, target = data.to(device), target.to(device)\n",
        "            output = model(data)\n",
        "            test_loss += F.cross_entropy(output, target, reduction='sum').item()\n",
        "            pred = output.argmax(dim=1, keepdim=True)\n",
        "            correct += pred.eq(target.view_as(pred)).sum().item()\n",
        "\n",
        "    test_loss /= len(test_loader.dataset)\n",
        "    accuracy = 100. * correct / len(test_loader.dataset)\n",
        "    print(f\"\\nTest set: Average loss: {test_loss:.4f}, Accuracy: {correct}/{len(test_loader.dataset)} ({accuracy:.2f}%)\\n\")\n",
        "    return test_loss, accuracy"
      ]
    },
    {
      "cell_type": "code",
      "execution_count": 21,
      "metadata": {
        "colab": {
          "base_uri": "https://localhost:8080/"
        },
        "id": "eVJ_yL6GzpN3",
        "outputId": "ed9e1655-ea53-4f57-da89-1aebe9d40518"
      },
      "outputs": [
        {
          "output_type": "stream",
          "name": "stdout",
          "text": [
            "======================================================================\n",
            "Training Configuration:\n",
            "======================================================================\n",
            "Model: WideResNet-28-10 (36.5M parameters)\n",
            "Batch Size: 256\n",
            "MixUp Alpha: 0.2\n",
            "Label Smoothing: 0.1\n",
            "Weight Decay: 1e-3\n",
            "Gradient Clipping: 1.0\n",
            "Scheduler: CosineAnnealingWarmRestarts\n",
            "Warmup: 5 epochs (0.01 -> 0.1)\n",
            "Mixed Precision: Enabled\n",
            "======================================================================\n"
          ]
        },
        {
          "output_type": "stream",
          "name": "stderr",
          "text": [
            "/tmp/ipython-input-1447931344.py:32: FutureWarning: `torch.cuda.amp.GradScaler(args...)` is deprecated. Please use `torch.amp.GradScaler('cuda', args...)` instead.\n",
            "  scaler = GradScaler()\n",
            "/usr/local/lib/python3.12/dist-packages/torch/amp/grad_scaler.py:136: UserWarning: torch.cuda.amp.GradScaler is enabled, but CUDA is not available.  Disabling.\n",
            "  warnings.warn(\n"
          ]
        }
      ],
      "source": [
        "# Training Configuration\n",
        "print(\"=\" * 70)\n",
        "print(\"Training Configuration:\")\n",
        "print(\"=\" * 70)\n",
        "print(f\"Model: WideResNet-28-10 (36.5M parameters)\")\n",
        "print(f\"Batch Size: {BATCH_SIZE}\")\n",
        "print(f\"MixUp Alpha: 0.2\")\n",
        "print(f\"Label Smoothing: 0.1\")\n",
        "print(f\"Weight Decay: 1e-3\")\n",
        "print(f\"Gradient Clipping: 1.0\")\n",
        "print(f\"Scheduler: CosineAnnealingWarmRestarts\")\n",
        "print(f\"Warmup: 5 epochs (0.01 -> 0.1)\")\n",
        "print(f\"Mixed Precision: Enabled\")\n",
        "print(\"=\" * 70)\n",
        "\n",
        "# Optimizer and Scheduler\n",
        "EPOCHS = 100\n",
        "WARMUP_EPOCHS = 5\n",
        "INITIAL_LR = 0.01\n",
        "MAX_LR = 0.1\n",
        "MIN_LR = 1e-4\n",
        "\n",
        "optimizer = optim.SGD(model.parameters(), lr=INITIAL_LR, momentum=0.9, weight_decay=1e-3)\n",
        "\n",
        "# Cosine annealing with warm restarts (T_0 = 25 epochs per cycle)\n",
        "scheduler = CosineAnnealingWarmRestarts(optimizer, T_0=25, T_mult=1, eta_min=MIN_LR)\n",
        "\n",
        "# Warmup scheduler\n",
        "warmup_scheduler = WarmupScheduler(optimizer, WARMUP_EPOCHS, INITIAL_LR, MAX_LR, len(train_loader))\n",
        "\n",
        "# Gradient scaler for mixed precision\n",
        "scaler = GradScaler()\n",
        "\n",
        "# Tracking variables\n",
        "train_losses = []\n",
        "test_losses = []\n",
        "train_accuracies = []\n",
        "test_accuracies = []\n",
        "learning_rates = []\n",
        "\n",
        "# Early stopping and checkpointing\n",
        "best_test_acc = 0.0\n",
        "patience = 15\n",
        "patience_counter = 0\n",
        "os.makedirs(checkpoint_dir, exist_ok=True)"
      ]
    },
    {
      "cell_type": "code",
      "execution_count": 40,
      "metadata": {
        "colab": {
          "base_uri": "https://localhost:8080/"
        },
        "id": "n-R-iGCpzpN3",
        "outputId": "c2303699-f65d-4229-ee36-24c3099a8eec"
      },
      "outputs": [
        {
          "output_type": "stream",
          "name": "stdout",
          "text": [
            "\n",
            "Starting training...\n",
            "\n"
          ]
        },
        {
          "output_type": "stream",
          "name": "stderr",
          "text": [
            "\r  0%|          | 0/196 [00:00<?, ?it/s]/tmp/ipython-input-1052289112.py:15: FutureWarning: `torch.cuda.amp.autocast(args...)` is deprecated. Please use `torch.amp.autocast('cuda', args...)` instead.\n",
            "  with autocast():\n",
            "Epoch 1 Loss=4.1180 Acc=9.51% LR=0.027908: 100%|██████████| 196/196 [01:56<00:00,  1.69it/s]\n"
          ]
        },
        {
          "output_type": "stream",
          "name": "stdout",
          "text": [
            "\n",
            "Test set: Average loss: 3.8212, Accuracy: 1139/10000 (11.39%)\n",
            "\n",
            "*** New best model saved! Test Accuracy: 11.39% ***\n",
            "Best Test Accuracy so far: 11.39% | Patience: 0/15\n",
            "\n"
          ]
        },
        {
          "output_type": "stream",
          "name": "stderr",
          "text": [
            "Epoch 2 Loss=3.6456 Acc=12.64% LR=0.045908: 100%|██████████| 196/196 [01:55<00:00,  1.69it/s]\n"
          ]
        },
        {
          "output_type": "stream",
          "name": "stdout",
          "text": [
            "\n",
            "Test set: Average loss: 3.4934, Accuracy: 1699/10000 (16.99%)\n",
            "\n",
            "*** New best model saved! Test Accuracy: 16.99% ***\n",
            "Best Test Accuracy so far: 16.99% | Patience: 0/15\n",
            "\n"
          ]
        },
        {
          "output_type": "stream",
          "name": "stderr",
          "text": [
            "Epoch 3 Loss=3.5458 Acc=18.46% LR=0.063908: 100%|██████████| 196/196 [01:55<00:00,  1.69it/s]\n"
          ]
        },
        {
          "output_type": "stream",
          "name": "stdout",
          "text": [
            "\n",
            "Test set: Average loss: 3.2174, Accuracy: 2122/10000 (21.22%)\n",
            "\n",
            "*** New best model saved! Test Accuracy: 21.22% ***\n",
            "Best Test Accuracy so far: 21.22% | Patience: 0/15\n",
            "\n"
          ]
        },
        {
          "output_type": "stream",
          "name": "stderr",
          "text": [
            "Epoch 4 Loss=3.4197 Acc=23.13% LR=0.081908: 100%|██████████| 196/196 [01:55<00:00,  1.70it/s]\n"
          ]
        },
        {
          "output_type": "stream",
          "name": "stdout",
          "text": [
            "\n",
            "Test set: Average loss: 3.0677, Accuracy: 2547/10000 (25.47%)\n",
            "\n",
            "*** New best model saved! Test Accuracy: 25.47% ***\n",
            "Best Test Accuracy so far: 25.47% | Patience: 0/15\n",
            "\n"
          ]
        },
        {
          "output_type": "stream",
          "name": "stderr",
          "text": [
            "Epoch 5 Loss=3.4668 Acc=26.86% LR=0.099908: 100%|██████████| 196/196 [01:55<00:00,  1.70it/s]\n"
          ]
        },
        {
          "output_type": "stream",
          "name": "stdout",
          "text": [
            "\n",
            "Test set: Average loss: 2.8401, Accuracy: 2838/10000 (28.38%)\n",
            "\n",
            "*** New best model saved! Test Accuracy: 28.38% ***\n",
            "Best Test Accuracy so far: 28.38% | Patience: 0/15\n",
            "\n"
          ]
        },
        {
          "output_type": "stream",
          "name": "stderr",
          "text": [
            "Epoch 6 Loss=2.7612 Acc=35.33% LR=0.000712: 100%|██████████| 196/196 [01:55<00:00,  1.69it/s]\n"
          ]
        },
        {
          "output_type": "stream",
          "name": "stdout",
          "text": [
            "\n",
            "Test set: Average loss: 2.1779, Accuracy: 4347/10000 (43.47%)\n",
            "\n",
            "*** New best model saved! Test Accuracy: 43.47% ***\n",
            "Best Test Accuracy so far: 43.47% | Patience: 0/15\n",
            "\n"
          ]
        },
        {
          "output_type": "stream",
          "name": "stderr",
          "text": [
            "Epoch 7 Loss=3.3170 Acc=36.27% LR=0.002398: 100%|██████████| 196/196 [01:55<00:00,  1.70it/s]\n"
          ]
        },
        {
          "output_type": "stream",
          "name": "stdout",
          "text": [
            "\n",
            "Test set: Average loss: 2.1392, Accuracy: 4452/10000 (44.52%)\n",
            "\n",
            "*** New best model saved! Test Accuracy: 44.52% ***\n",
            "Best Test Accuracy so far: 44.52% | Patience: 0/15\n",
            "\n"
          ]
        },
        {
          "output_type": "stream",
          "name": "stderr",
          "text": [
            "Epoch 8 Loss=2.6149 Acc=38.32% LR=0.004739: 100%|██████████| 196/196 [01:55<00:00,  1.69it/s]\n"
          ]
        },
        {
          "output_type": "stream",
          "name": "stdout",
          "text": [
            "\n",
            "Test set: Average loss: 2.1003, Accuracy: 4516/10000 (45.16%)\n",
            "\n",
            "*** New best model saved! Test Accuracy: 45.16% ***\n",
            "Best Test Accuracy so far: 45.16% | Patience: 0/15\n",
            "\n"
          ]
        },
        {
          "output_type": "stream",
          "name": "stderr",
          "text": [
            "Epoch 9 Loss=2.8060 Acc=39.26% LR=0.007158: 100%|██████████| 196/196 [01:55<00:00,  1.70it/s]\n"
          ]
        },
        {
          "output_type": "stream",
          "name": "stdout",
          "text": [
            "\n",
            "Test set: Average loss: 2.0680, Accuracy: 4627/10000 (46.27%)\n",
            "\n",
            "*** New best model saved! Test Accuracy: 46.27% ***\n",
            "Best Test Accuracy so far: 46.27% | Patience: 0/15\n",
            "\n"
          ]
        },
        {
          "output_type": "stream",
          "name": "stderr",
          "text": [
            "Epoch 10 Loss=2.7944 Acc=42.39% LR=0.009055: 100%|██████████| 196/196 [01:55<00:00,  1.70it/s]\n"
          ]
        },
        {
          "output_type": "stream",
          "name": "stdout",
          "text": [
            "\n",
            "Test set: Average loss: 1.9973, Accuracy: 4773/10000 (47.73%)\n",
            "\n",
            "*** New best model saved! Test Accuracy: 47.73% ***\n",
            "Best Test Accuracy so far: 47.73% | Patience: 0/15\n",
            "\n"
          ]
        },
        {
          "output_type": "stream",
          "name": "stderr",
          "text": [
            "Epoch 11 Loss=2.4442 Acc=40.47% LR=0.009961: 100%|██████████| 196/196 [01:55<00:00,  1.70it/s]\n"
          ]
        },
        {
          "output_type": "stream",
          "name": "stdout",
          "text": [
            "\n",
            "Test set: Average loss: 1.9654, Accuracy: 4859/10000 (48.59%)\n",
            "\n",
            "*** New best model saved! Test Accuracy: 48.59% ***\n",
            "Best Test Accuracy so far: 48.59% | Patience: 0/15\n",
            "\n"
          ]
        },
        {
          "output_type": "stream",
          "name": "stderr",
          "text": [
            "Epoch 12 Loss=2.8898 Acc=41.40% LR=0.000448: 100%|██████████| 196/196 [01:55<00:00,  1.70it/s]\n"
          ]
        },
        {
          "output_type": "stream",
          "name": "stdout",
          "text": [
            "\n",
            "Test set: Average loss: 1.9418, Accuracy: 4932/10000 (49.32%)\n",
            "\n",
            "*** New best model saved! Test Accuracy: 49.32% ***\n",
            "Best Test Accuracy so far: 49.32% | Patience: 0/15\n",
            "\n"
          ]
        },
        {
          "output_type": "stream",
          "name": "stderr",
          "text": [
            "Epoch 13 Loss=2.6249 Acc=39.90% LR=0.001895: 100%|██████████| 196/196 [01:55<00:00,  1.70it/s]\n"
          ]
        },
        {
          "output_type": "stream",
          "name": "stdout",
          "text": [
            "\n",
            "Test set: Average loss: 1.9442, Accuracy: 4920/10000 (49.20%)\n",
            "\n",
            "Best Test Accuracy so far: 49.32% | Patience: 1/15\n",
            "\n"
          ]
        },
        {
          "output_type": "stream",
          "name": "stderr",
          "text": [
            "Epoch 14 Loss=3.3180 Acc=42.49% LR=0.004122: 100%|██████████| 196/196 [01:55<00:00,  1.70it/s]\n"
          ]
        },
        {
          "output_type": "stream",
          "name": "stdout",
          "text": [
            "\n",
            "Test set: Average loss: 1.9196, Accuracy: 4968/10000 (49.68%)\n",
            "\n",
            "*** New best model saved! Test Accuracy: 49.68% ***\n",
            "Best Test Accuracy so far: 49.68% | Patience: 0/15\n",
            "\n"
          ]
        },
        {
          "output_type": "stream",
          "name": "stderr",
          "text": [
            "Epoch 15 Loss=2.4154 Acc=42.14% LR=0.006580: 100%|██████████| 196/196 [01:55<00:00,  1.70it/s]\n"
          ]
        },
        {
          "output_type": "stream",
          "name": "stdout",
          "text": [
            "\n",
            "Test set: Average loss: 1.9039, Accuracy: 4993/10000 (49.93%)\n",
            "\n",
            "*** New best model saved! Test Accuracy: 49.93% ***\n",
            "Best Test Accuracy so far: 49.93% | Patience: 0/15\n",
            "\n"
          ]
        },
        {
          "output_type": "stream",
          "name": "stderr",
          "text": [
            "Epoch 16 Loss=2.8537 Acc=43.68% LR=0.008658: 100%|██████████| 196/196 [01:55<00:00,  1.70it/s]\n"
          ]
        },
        {
          "output_type": "stream",
          "name": "stdout",
          "text": [
            "\n",
            "Test set: Average loss: 1.8649, Accuracy: 5114/10000 (51.14%)\n",
            "\n",
            "*** New best model saved! Test Accuracy: 51.14% ***\n",
            "Best Test Accuracy so far: 51.14% | Patience: 0/15\n",
            "\n"
          ]
        },
        {
          "output_type": "stream",
          "name": "stderr",
          "text": [
            "Epoch 17 Loss=2.9818 Acc=44.86% LR=0.009844: 100%|██████████| 196/196 [01:55<00:00,  1.70it/s]\n"
          ]
        },
        {
          "output_type": "stream",
          "name": "stdout",
          "text": [
            "\n",
            "Test set: Average loss: 1.8279, Accuracy: 5166/10000 (51.66%)\n",
            "\n",
            "*** New best model saved! Test Accuracy: 51.66% ***\n",
            "Best Test Accuracy so far: 51.66% | Patience: 0/15\n",
            "\n"
          ]
        },
        {
          "output_type": "stream",
          "name": "stderr",
          "text": [
            "Epoch 18 Loss=3.0895 Acc=44.44% LR=0.000256: 100%|██████████| 196/196 [01:55<00:00,  1.70it/s]\n"
          ]
        },
        {
          "output_type": "stream",
          "name": "stdout",
          "text": [
            "\n",
            "Test set: Average loss: 1.8047, Accuracy: 5240/10000 (52.40%)\n",
            "\n",
            "*** New best model saved! Test Accuracy: 52.40% ***\n",
            "Best Test Accuracy so far: 52.40% | Patience: 0/15\n",
            "\n"
          ]
        },
        {
          "output_type": "stream",
          "name": "stderr",
          "text": [
            "Epoch 19 Loss=2.3300 Acc=45.21% LR=0.001442: 100%|██████████| 196/196 [01:55<00:00,  1.69it/s]\n"
          ]
        },
        {
          "output_type": "stream",
          "name": "stdout",
          "text": [
            "\n",
            "Test set: Average loss: 1.7876, Accuracy: 5287/10000 (52.87%)\n",
            "\n",
            "*** New best model saved! Test Accuracy: 52.87% ***\n",
            "Best Test Accuracy so far: 52.87% | Patience: 0/15\n",
            "\n"
          ]
        },
        {
          "output_type": "stream",
          "name": "stderr",
          "text": [
            "Epoch 20 Loss=2.3875 Acc=45.21% LR=0.003520: 100%|██████████| 196/196 [01:55<00:00,  1.70it/s]\n"
          ]
        },
        {
          "output_type": "stream",
          "name": "stdout",
          "text": [
            "\n",
            "Test set: Average loss: 1.7808, Accuracy: 5267/10000 (52.67%)\n",
            "\n",
            "Best Test Accuracy so far: 52.87% | Patience: 1/15\n",
            "\n"
          ]
        },
        {
          "output_type": "stream",
          "name": "stderr",
          "text": [
            "Epoch 21 Loss=2.3627 Acc=45.67% LR=0.005978: 100%|██████████| 196/196 [01:55<00:00,  1.70it/s]\n"
          ]
        },
        {
          "output_type": "stream",
          "name": "stdout",
          "text": [
            "\n",
            "Test set: Average loss: 1.7881, Accuracy: 5255/10000 (52.55%)\n",
            "\n",
            "Best Test Accuracy so far: 52.87% | Patience: 2/15\n",
            "\n"
          ]
        },
        {
          "output_type": "stream",
          "name": "stderr",
          "text": [
            "Epoch 22 Loss=2.2009 Acc=47.27% LR=0.008205: 100%|██████████| 196/196 [01:55<00:00,  1.70it/s]\n"
          ]
        },
        {
          "output_type": "stream",
          "name": "stdout",
          "text": [
            "\n",
            "Test set: Average loss: 1.8362, Accuracy: 5203/10000 (52.03%)\n",
            "\n",
            "Best Test Accuracy so far: 52.87% | Patience: 3/15\n",
            "\n"
          ]
        },
        {
          "output_type": "stream",
          "name": "stderr",
          "text": [
            "Epoch 23 Loss=2.4727 Acc=46.39% LR=0.009652: 100%|██████████| 196/196 [01:55<00:00,  1.69it/s]\n"
          ]
        },
        {
          "output_type": "stream",
          "name": "stdout",
          "text": [
            "\n",
            "Test set: Average loss: 1.7775, Accuracy: 5276/10000 (52.76%)\n",
            "\n",
            "Best Test Accuracy so far: 52.87% | Patience: 4/15\n",
            "\n"
          ]
        },
        {
          "output_type": "stream",
          "name": "stderr",
          "text": [
            "Epoch 24 Loss=3.9073 Acc=46.98% LR=0.000139: 100%|██████████| 196/196 [01:55<00:00,  1.70it/s]\n"
          ]
        },
        {
          "output_type": "stream",
          "name": "stdout",
          "text": [
            "\n",
            "Test set: Average loss: 1.7043, Accuracy: 5481/10000 (54.81%)\n",
            "\n",
            "*** New best model saved! Test Accuracy: 54.81% ***\n",
            "Best Test Accuracy so far: 54.81% | Patience: 0/15\n",
            "\n"
          ]
        },
        {
          "output_type": "stream",
          "name": "stderr",
          "text": [
            "Epoch 25 Loss=2.2692 Acc=48.82% LR=0.001045: 100%|██████████| 196/196 [01:55<00:00,  1.69it/s]\n"
          ]
        },
        {
          "output_type": "stream",
          "name": "stdout",
          "text": [
            "\n",
            "Test set: Average loss: 1.6881, Accuracy: 5522/10000 (55.22%)\n",
            "\n",
            "*** New best model saved! Test Accuracy: 55.22% ***\n",
            "Best Test Accuracy so far: 55.22% | Patience: 0/15\n",
            "\n"
          ]
        },
        {
          "output_type": "stream",
          "name": "stderr",
          "text": [
            "Epoch 26 Loss=3.9930 Acc=48.29% LR=0.002942: 100%|██████████| 196/196 [01:55<00:00,  1.70it/s]\n"
          ]
        },
        {
          "output_type": "stream",
          "name": "stdout",
          "text": [
            "\n",
            "Test set: Average loss: 1.7140, Accuracy: 5482/10000 (54.82%)\n",
            "\n",
            "Best Test Accuracy so far: 55.22% | Patience: 1/15\n",
            "\n"
          ]
        },
        {
          "output_type": "stream",
          "name": "stderr",
          "text": [
            "Epoch 27 Loss=2.9630 Acc=47.26% LR=0.005361: 100%|██████████| 196/196 [01:55<00:00,  1.70it/s]\n"
          ]
        },
        {
          "output_type": "stream",
          "name": "stdout",
          "text": [
            "\n",
            "Test set: Average loss: 1.6877, Accuracy: 5558/10000 (55.58%)\n",
            "\n",
            "*** New best model saved! Test Accuracy: 55.58% ***\n",
            "Best Test Accuracy so far: 55.58% | Patience: 0/15\n",
            "\n"
          ]
        },
        {
          "output_type": "stream",
          "name": "stderr",
          "text": [
            "Epoch 28 Loss=2.5313 Acc=47.21% LR=0.007702: 100%|██████████| 196/196 [01:55<00:00,  1.70it/s]\n"
          ]
        },
        {
          "output_type": "stream",
          "name": "stdout",
          "text": [
            "\n",
            "Test set: Average loss: 1.7674, Accuracy: 5392/10000 (53.92%)\n",
            "\n",
            "Best Test Accuracy so far: 55.58% | Patience: 1/15\n",
            "\n"
          ]
        },
        {
          "output_type": "stream",
          "name": "stderr",
          "text": [
            "Epoch 29 Loss=3.4260 Acc=47.61% LR=0.009388: 100%|██████████| 196/196 [01:55<00:00,  1.70it/s]\n"
          ]
        },
        {
          "output_type": "stream",
          "name": "stdout",
          "text": [
            "\n",
            "Test set: Average loss: 1.6729, Accuracy: 5592/10000 (55.92%)\n",
            "\n",
            "*** New best model saved! Test Accuracy: 55.92% ***\n",
            "Best Test Accuracy so far: 55.92% | Patience: 0/15\n",
            "\n"
          ]
        },
        {
          "output_type": "stream",
          "name": "stderr",
          "text": [
            "Epoch 30 Loss=2.3529 Acc=48.54% LR=0.010000: 100%|██████████| 196/196 [01:55<00:00,  1.70it/s]\n"
          ]
        },
        {
          "output_type": "stream",
          "name": "stdout",
          "text": [
            "\n",
            "Test set: Average loss: 1.6419, Accuracy: 5698/10000 (56.98%)\n",
            "\n",
            "*** New best model saved! Test Accuracy: 56.98% ***\n",
            "Best Test Accuracy so far: 56.98% | Patience: 0/15\n",
            "\n"
          ]
        },
        {
          "output_type": "stream",
          "name": "stderr",
          "text": [
            "Epoch 31 Loss=2.2228 Acc=49.29% LR=0.000712: 100%|██████████| 196/196 [01:55<00:00,  1.70it/s]\n"
          ]
        },
        {
          "output_type": "stream",
          "name": "stdout",
          "text": [
            "\n",
            "Test set: Average loss: 1.6512, Accuracy: 5634/10000 (56.34%)\n",
            "\n",
            "Best Test Accuracy so far: 56.98% | Patience: 1/15\n",
            "\n"
          ]
        },
        {
          "output_type": "stream",
          "name": "stderr",
          "text": [
            "Epoch 32 Loss=2.3055 Acc=48.47% LR=0.002398: 100%|██████████| 196/196 [01:55<00:00,  1.70it/s]\n"
          ]
        },
        {
          "output_type": "stream",
          "name": "stdout",
          "text": [
            "\n",
            "Test set: Average loss: 1.6528, Accuracy: 5686/10000 (56.86%)\n",
            "\n",
            "Best Test Accuracy so far: 56.98% | Patience: 2/15\n",
            "\n"
          ]
        },
        {
          "output_type": "stream",
          "name": "stderr",
          "text": [
            "Epoch 33 Loss=2.4222 Acc=48.86% LR=0.004739: 100%|██████████| 196/196 [01:55<00:00,  1.70it/s]\n"
          ]
        },
        {
          "output_type": "stream",
          "name": "stdout",
          "text": [
            "\n",
            "Test set: Average loss: 1.6692, Accuracy: 5701/10000 (57.01%)\n",
            "\n",
            "*** New best model saved! Test Accuracy: 57.01% ***\n",
            "Best Test Accuracy so far: 57.01% | Patience: 0/15\n",
            "\n"
          ]
        },
        {
          "output_type": "stream",
          "name": "stderr",
          "text": [
            "Epoch 34 Loss=3.1544 Acc=51.13% LR=0.007158: 100%|██████████| 196/196 [01:55<00:00,  1.70it/s]\n"
          ]
        },
        {
          "output_type": "stream",
          "name": "stdout",
          "text": [
            "\n",
            "Test set: Average loss: 1.6885, Accuracy: 5630/10000 (56.30%)\n",
            "\n",
            "Best Test Accuracy so far: 57.01% | Patience: 1/15\n",
            "\n"
          ]
        },
        {
          "output_type": "stream",
          "name": "stderr",
          "text": [
            "Epoch 35 Loss=2.2589 Acc=51.17% LR=0.009055: 100%|██████████| 196/196 [01:55<00:00,  1.70it/s]\n"
          ]
        },
        {
          "output_type": "stream",
          "name": "stdout",
          "text": [
            "\n",
            "Test set: Average loss: 1.6048, Accuracy: 5826/10000 (58.26%)\n",
            "\n",
            "*** New best model saved! Test Accuracy: 58.26% ***\n",
            "Best Test Accuracy so far: 58.26% | Patience: 0/15\n",
            "\n"
          ]
        },
        {
          "output_type": "stream",
          "name": "stderr",
          "text": [
            "Epoch 36 Loss=2.2183 Acc=50.28% LR=0.009961: 100%|██████████| 196/196 [01:55<00:00,  1.70it/s]\n"
          ]
        },
        {
          "output_type": "stream",
          "name": "stdout",
          "text": [
            "\n",
            "Test set: Average loss: 1.5668, Accuracy: 5924/10000 (59.24%)\n",
            "\n",
            "*** New best model saved! Test Accuracy: 59.24% ***\n",
            "Best Test Accuracy so far: 59.24% | Patience: 0/15\n",
            "\n"
          ]
        },
        {
          "output_type": "stream",
          "name": "stderr",
          "text": [
            "Epoch 37 Loss=3.5772 Acc=51.70% LR=0.000448: 100%|██████████| 196/196 [01:55<00:00,  1.69it/s]\n"
          ]
        },
        {
          "output_type": "stream",
          "name": "stdout",
          "text": [
            "\n",
            "Test set: Average loss: 1.5838, Accuracy: 5900/10000 (59.00%)\n",
            "\n",
            "Best Test Accuracy so far: 59.24% | Patience: 1/15\n",
            "\n"
          ]
        },
        {
          "output_type": "stream",
          "name": "stderr",
          "text": [
            "Epoch 38 Loss=3.2068 Acc=51.04% LR=0.001895: 100%|██████████| 196/196 [01:55<00:00,  1.70it/s]\n"
          ]
        },
        {
          "output_type": "stream",
          "name": "stdout",
          "text": [
            "\n",
            "Test set: Average loss: 1.6044, Accuracy: 5841/10000 (58.41%)\n",
            "\n",
            "Best Test Accuracy so far: 59.24% | Patience: 2/15\n",
            "\n"
          ]
        },
        {
          "output_type": "stream",
          "name": "stderr",
          "text": [
            "Epoch 39 Loss=2.4903 Acc=52.37% LR=0.004122: 100%|██████████| 196/196 [01:55<00:00,  1.70it/s]\n"
          ]
        },
        {
          "output_type": "stream",
          "name": "stdout",
          "text": [
            "\n",
            "Test set: Average loss: 1.5995, Accuracy: 5841/10000 (58.41%)\n",
            "\n",
            "Best Test Accuracy so far: 59.24% | Patience: 3/15\n",
            "\n"
          ]
        },
        {
          "output_type": "stream",
          "name": "stderr",
          "text": [
            "Epoch 40 Loss=2.0655 Acc=51.52% LR=0.006580: 100%|██████████| 196/196 [01:55<00:00,  1.70it/s]\n"
          ]
        },
        {
          "output_type": "stream",
          "name": "stdout",
          "text": [
            "\n",
            "Test set: Average loss: 1.5860, Accuracy: 5912/10000 (59.12%)\n",
            "\n",
            "Best Test Accuracy so far: 59.24% | Patience: 4/15\n",
            "\n"
          ]
        },
        {
          "output_type": "stream",
          "name": "stderr",
          "text": [
            "Epoch 41 Loss=2.1450 Acc=53.86% LR=0.008658: 100%|██████████| 196/196 [01:55<00:00,  1.70it/s]\n"
          ]
        },
        {
          "output_type": "stream",
          "name": "stdout",
          "text": [
            "\n",
            "Test set: Average loss: 1.5934, Accuracy: 5927/10000 (59.27%)\n",
            "\n",
            "*** New best model saved! Test Accuracy: 59.27% ***\n",
            "Best Test Accuracy so far: 59.27% | Patience: 0/15\n",
            "\n"
          ]
        },
        {
          "output_type": "stream",
          "name": "stderr",
          "text": [
            "Epoch 42 Loss=2.1204 Acc=53.33% LR=0.009844: 100%|██████████| 196/196 [01:55<00:00,  1.70it/s]\n"
          ]
        },
        {
          "output_type": "stream",
          "name": "stdout",
          "text": [
            "\n",
            "Test set: Average loss: 1.5501, Accuracy: 6030/10000 (60.30%)\n",
            "\n",
            "*** New best model saved! Test Accuracy: 60.30% ***\n",
            "Best Test Accuracy so far: 60.30% | Patience: 0/15\n",
            "\n"
          ]
        },
        {
          "output_type": "stream",
          "name": "stderr",
          "text": [
            "Epoch 43 Loss=3.1664 Acc=54.26% LR=0.000256: 100%|██████████| 196/196 [01:55<00:00,  1.69it/s]\n"
          ]
        },
        {
          "output_type": "stream",
          "name": "stdout",
          "text": [
            "\n",
            "Test set: Average loss: 1.5503, Accuracy: 6020/10000 (60.20%)\n",
            "\n",
            "Best Test Accuracy so far: 60.30% | Patience: 1/15\n",
            "\n"
          ]
        },
        {
          "output_type": "stream",
          "name": "stderr",
          "text": [
            "Epoch 44 Loss=2.0900 Acc=52.79% LR=0.001442: 100%|██████████| 196/196 [01:55<00:00,  1.69it/s]\n"
          ]
        },
        {
          "output_type": "stream",
          "name": "stdout",
          "text": [
            "\n",
            "Test set: Average loss: 1.5936, Accuracy: 5960/10000 (59.60%)\n",
            "\n",
            "Best Test Accuracy so far: 60.30% | Patience: 2/15\n",
            "\n"
          ]
        },
        {
          "output_type": "stream",
          "name": "stderr",
          "text": [
            "Epoch 45 Loss=2.9061 Acc=54.08% LR=0.003520: 100%|██████████| 196/196 [01:55<00:00,  1.69it/s]\n"
          ]
        },
        {
          "output_type": "stream",
          "name": "stdout",
          "text": [
            "\n",
            "Test set: Average loss: 1.5342, Accuracy: 6094/10000 (60.94%)\n",
            "\n",
            "*** New best model saved! Test Accuracy: 60.94% ***\n",
            "Best Test Accuracy so far: 60.94% | Patience: 0/15\n",
            "\n"
          ]
        },
        {
          "output_type": "stream",
          "name": "stderr",
          "text": [
            "Epoch 46 Loss=2.3277 Acc=53.71% LR=0.005978: 100%|██████████| 196/196 [01:55<00:00,  1.70it/s]\n"
          ]
        },
        {
          "output_type": "stream",
          "name": "stdout",
          "text": [
            "\n",
            "Test set: Average loss: 1.5908, Accuracy: 5962/10000 (59.62%)\n",
            "\n",
            "Best Test Accuracy so far: 60.94% | Patience: 1/15\n",
            "\n"
          ]
        },
        {
          "output_type": "stream",
          "name": "stderr",
          "text": [
            "Epoch 47 Loss=3.7163 Acc=54.46% LR=0.008205: 100%|██████████| 196/196 [01:55<00:00,  1.70it/s]\n"
          ]
        },
        {
          "output_type": "stream",
          "name": "stdout",
          "text": [
            "\n",
            "Test set: Average loss: 1.5722, Accuracy: 6033/10000 (60.33%)\n",
            "\n",
            "Best Test Accuracy so far: 60.94% | Patience: 2/15\n",
            "\n"
          ]
        },
        {
          "output_type": "stream",
          "name": "stderr",
          "text": [
            "Epoch 48 Loss=1.9520 Acc=54.91% LR=0.009652: 100%|██████████| 196/196 [01:55<00:00,  1.70it/s]\n"
          ]
        },
        {
          "output_type": "stream",
          "name": "stdout",
          "text": [
            "\n",
            "Test set: Average loss: 1.5106, Accuracy: 6156/10000 (61.56%)\n",
            "\n",
            "*** New best model saved! Test Accuracy: 61.56% ***\n",
            "Best Test Accuracy so far: 61.56% | Patience: 0/15\n",
            "\n"
          ]
        },
        {
          "output_type": "stream",
          "name": "stderr",
          "text": [
            "Epoch 49 Loss=3.6781 Acc=54.69% LR=0.000139: 100%|██████████| 196/196 [01:55<00:00,  1.70it/s]\n"
          ]
        },
        {
          "output_type": "stream",
          "name": "stdout",
          "text": [
            "\n",
            "Test set: Average loss: 1.5064, Accuracy: 6182/10000 (61.82%)\n",
            "\n",
            "*** New best model saved! Test Accuracy: 61.82% ***\n",
            "Best Test Accuracy so far: 61.82% | Patience: 0/15\n",
            "\n"
          ]
        },
        {
          "output_type": "stream",
          "name": "stderr",
          "text": [
            "Epoch 50 Loss=1.9533 Acc=57.06% LR=0.001045: 100%|██████████| 196/196 [01:55<00:00,  1.70it/s]\n"
          ]
        },
        {
          "output_type": "stream",
          "name": "stdout",
          "text": [
            "\n",
            "Test set: Average loss: 1.4966, Accuracy: 6221/10000 (62.21%)\n",
            "\n",
            "*** New best model saved! Test Accuracy: 62.21% ***\n",
            "Best Test Accuracy so far: 62.21% | Patience: 0/15\n",
            "\n"
          ]
        },
        {
          "output_type": "stream",
          "name": "stderr",
          "text": [
            "Epoch 51 Loss=3.4245 Acc=56.95% LR=0.002942: 100%|██████████| 196/196 [01:55<00:00,  1.70it/s]\n"
          ]
        },
        {
          "output_type": "stream",
          "name": "stdout",
          "text": [
            "\n",
            "Test set: Average loss: 1.5169, Accuracy: 6176/10000 (61.76%)\n",
            "\n",
            "Best Test Accuracy so far: 62.21% | Patience: 1/15\n",
            "\n"
          ]
        },
        {
          "output_type": "stream",
          "name": "stderr",
          "text": [
            "Epoch 52 Loss=2.0984 Acc=55.98% LR=0.005361: 100%|██████████| 196/196 [01:55<00:00,  1.70it/s]\n"
          ]
        },
        {
          "output_type": "stream",
          "name": "stdout",
          "text": [
            "\n",
            "Test set: Average loss: 1.5663, Accuracy: 6170/10000 (61.70%)\n",
            "\n",
            "Best Test Accuracy so far: 62.21% | Patience: 2/15\n",
            "\n"
          ]
        },
        {
          "output_type": "stream",
          "name": "stderr",
          "text": [
            "Epoch 53 Loss=2.1309 Acc=57.62% LR=0.007702: 100%|██████████| 196/196 [01:55<00:00,  1.70it/s]\n"
          ]
        },
        {
          "output_type": "stream",
          "name": "stdout",
          "text": [
            "\n",
            "Test set: Average loss: 1.5222, Accuracy: 6226/10000 (62.26%)\n",
            "\n",
            "*** New best model saved! Test Accuracy: 62.26% ***\n",
            "Best Test Accuracy so far: 62.26% | Patience: 0/15\n",
            "\n"
          ]
        },
        {
          "output_type": "stream",
          "name": "stderr",
          "text": [
            "Epoch 54 Loss=1.8263 Acc=56.78% LR=0.009388: 100%|██████████| 196/196 [01:55<00:00,  1.70it/s]\n"
          ]
        },
        {
          "output_type": "stream",
          "name": "stdout",
          "text": [
            "\n",
            "Test set: Average loss: 1.4843, Accuracy: 6264/10000 (62.64%)\n",
            "\n",
            "*** New best model saved! Test Accuracy: 62.64% ***\n",
            "Best Test Accuracy so far: 62.64% | Patience: 0/15\n",
            "\n"
          ]
        },
        {
          "output_type": "stream",
          "name": "stderr",
          "text": [
            "Epoch 55 Loss=1.8590 Acc=57.13% LR=0.010000: 100%|██████████| 196/196 [01:55<00:00,  1.70it/s]\n"
          ]
        },
        {
          "output_type": "stream",
          "name": "stdout",
          "text": [
            "\n",
            "Test set: Average loss: 1.4652, Accuracy: 6373/10000 (63.73%)\n",
            "\n",
            "*** New best model saved! Test Accuracy: 63.73% ***\n",
            "Best Test Accuracy so far: 63.73% | Patience: 0/15\n",
            "\n"
          ]
        },
        {
          "output_type": "stream",
          "name": "stderr",
          "text": [
            "Epoch 56 Loss=1.8645 Acc=57.52% LR=0.000712: 100%|██████████| 196/196 [01:55<00:00,  1.69it/s]\n"
          ]
        },
        {
          "output_type": "stream",
          "name": "stdout",
          "text": [
            "\n",
            "Test set: Average loss: 1.4574, Accuracy: 6400/10000 (64.00%)\n",
            "\n",
            "*** New best model saved! Test Accuracy: 64.00% ***\n",
            "Best Test Accuracy so far: 64.00% | Patience: 0/15\n",
            "\n"
          ]
        },
        {
          "output_type": "stream",
          "name": "stderr",
          "text": [
            "Epoch 57 Loss=1.9232 Acc=58.04% LR=0.002398: 100%|██████████| 196/196 [01:55<00:00,  1.69it/s]\n"
          ]
        },
        {
          "output_type": "stream",
          "name": "stdout",
          "text": [
            "\n",
            "Test set: Average loss: 1.4767, Accuracy: 6384/10000 (63.84%)\n",
            "\n",
            "Best Test Accuracy so far: 64.00% | Patience: 1/15\n",
            "\n"
          ]
        },
        {
          "output_type": "stream",
          "name": "stderr",
          "text": [
            "Epoch 58 Loss=1.9769 Acc=56.91% LR=0.004739: 100%|██████████| 196/196 [01:55<00:00,  1.69it/s]\n"
          ]
        },
        {
          "output_type": "stream",
          "name": "stdout",
          "text": [
            "\n",
            "Test set: Average loss: 1.5099, Accuracy: 6246/10000 (62.46%)\n",
            "\n",
            "Best Test Accuracy so far: 64.00% | Patience: 2/15\n",
            "\n"
          ]
        },
        {
          "output_type": "stream",
          "name": "stderr",
          "text": [
            "Epoch 59 Loss=3.6320 Acc=57.71% LR=0.007158: 100%|██████████| 196/196 [01:55<00:00,  1.69it/s]\n"
          ]
        },
        {
          "output_type": "stream",
          "name": "stdout",
          "text": [
            "\n",
            "Test set: Average loss: 1.5161, Accuracy: 6270/10000 (62.70%)\n",
            "\n",
            "Best Test Accuracy so far: 64.00% | Patience: 3/15\n",
            "\n"
          ]
        },
        {
          "output_type": "stream",
          "name": "stderr",
          "text": [
            "Epoch 60 Loss=3.6924 Acc=57.07% LR=0.009055: 100%|██████████| 196/196 [01:55<00:00,  1.70it/s]\n"
          ]
        },
        {
          "output_type": "stream",
          "name": "stdout",
          "text": [
            "\n",
            "Test set: Average loss: 1.4885, Accuracy: 6304/10000 (63.04%)\n",
            "\n",
            "Best Test Accuracy so far: 64.00% | Patience: 4/15\n",
            "\n"
          ]
        },
        {
          "output_type": "stream",
          "name": "stderr",
          "text": [
            "Epoch 61 Loss=2.0911 Acc=56.93% LR=0.009961: 100%|██████████| 196/196 [01:55<00:00,  1.69it/s]\n"
          ]
        },
        {
          "output_type": "stream",
          "name": "stdout",
          "text": [
            "\n",
            "Test set: Average loss: 1.4300, Accuracy: 6516/10000 (65.16%)\n",
            "\n",
            "*** New best model saved! Test Accuracy: 65.16% ***\n",
            "Best Test Accuracy so far: 65.16% | Patience: 0/15\n",
            "\n"
          ]
        },
        {
          "output_type": "stream",
          "name": "stderr",
          "text": [
            "Epoch 62 Loss=2.0719 Acc=58.39% LR=0.000448: 100%|██████████| 196/196 [01:56<00:00,  1.69it/s]\n"
          ]
        },
        {
          "output_type": "stream",
          "name": "stdout",
          "text": [
            "\n",
            "Test set: Average loss: 1.4366, Accuracy: 6525/10000 (65.25%)\n",
            "\n",
            "*** New best model saved! Test Accuracy: 65.25% ***\n",
            "Best Test Accuracy so far: 65.25% | Patience: 0/15\n",
            "\n"
          ]
        },
        {
          "output_type": "stream",
          "name": "stderr",
          "text": [
            "Epoch 63 Loss=1.9547 Acc=57.96% LR=0.001895: 100%|██████████| 196/196 [01:55<00:00,  1.69it/s]\n"
          ]
        },
        {
          "output_type": "stream",
          "name": "stdout",
          "text": [
            "\n",
            "Test set: Average loss: 1.4470, Accuracy: 6542/10000 (65.42%)\n",
            "\n",
            "*** New best model saved! Test Accuracy: 65.42% ***\n",
            "Best Test Accuracy so far: 65.42% | Patience: 0/15\n",
            "\n"
          ]
        },
        {
          "output_type": "stream",
          "name": "stderr",
          "text": [
            "Epoch 64 Loss=2.1126 Acc=58.01% LR=0.004122: 100%|██████████| 196/196 [01:55<00:00,  1.69it/s]\n"
          ]
        },
        {
          "output_type": "stream",
          "name": "stdout",
          "text": [
            "\n",
            "Test set: Average loss: 1.4670, Accuracy: 6443/10000 (64.43%)\n",
            "\n",
            "Best Test Accuracy so far: 65.42% | Patience: 1/15\n",
            "\n"
          ]
        },
        {
          "output_type": "stream",
          "name": "stderr",
          "text": [
            "Epoch 65 Loss=1.9994 Acc=59.39% LR=0.006580: 100%|██████████| 196/196 [01:55<00:00,  1.69it/s]\n"
          ]
        },
        {
          "output_type": "stream",
          "name": "stdout",
          "text": [
            "\n",
            "Test set: Average loss: 1.5335, Accuracy: 6329/10000 (63.29%)\n",
            "\n",
            "Best Test Accuracy so far: 65.42% | Patience: 2/15\n",
            "\n"
          ]
        },
        {
          "output_type": "stream",
          "name": "stderr",
          "text": [
            "Epoch 66 Loss=1.8539 Acc=60.93% LR=0.008658: 100%|██████████| 196/196 [01:55<00:00,  1.69it/s]\n"
          ]
        },
        {
          "output_type": "stream",
          "name": "stdout",
          "text": [
            "\n",
            "Test set: Average loss: 1.5512, Accuracy: 6221/10000 (62.21%)\n",
            "\n",
            "Best Test Accuracy so far: 65.42% | Patience: 3/15\n",
            "\n"
          ]
        },
        {
          "output_type": "stream",
          "name": "stderr",
          "text": [
            "Epoch 67 Loss=2.1609 Acc=59.90% LR=0.009844: 100%|██████████| 196/196 [01:55<00:00,  1.70it/s]\n"
          ]
        },
        {
          "output_type": "stream",
          "name": "stdout",
          "text": [
            "\n",
            "Test set: Average loss: 1.4270, Accuracy: 6573/10000 (65.73%)\n",
            "\n",
            "*** New best model saved! Test Accuracy: 65.73% ***\n",
            "Best Test Accuracy so far: 65.73% | Patience: 0/15\n",
            "\n"
          ]
        },
        {
          "output_type": "stream",
          "name": "stderr",
          "text": [
            "Epoch 68 Loss=2.5488 Acc=61.49% LR=0.000256: 100%|██████████| 196/196 [01:55<00:00,  1.69it/s]\n"
          ]
        },
        {
          "output_type": "stream",
          "name": "stdout",
          "text": [
            "\n",
            "Test set: Average loss: 1.3981, Accuracy: 6671/10000 (66.71%)\n",
            "\n",
            "*** New best model saved! Test Accuracy: 66.71% ***\n",
            "Best Test Accuracy so far: 66.71% | Patience: 0/15\n",
            "\n"
          ]
        },
        {
          "output_type": "stream",
          "name": "stderr",
          "text": [
            "Epoch 69 Loss=3.5282 Acc=61.05% LR=0.001442: 100%|██████████| 196/196 [01:55<00:00,  1.70it/s]\n"
          ]
        },
        {
          "output_type": "stream",
          "name": "stdout",
          "text": [
            "\n",
            "Test set: Average loss: 1.4608, Accuracy: 6526/10000 (65.26%)\n",
            "\n",
            "Best Test Accuracy so far: 66.71% | Patience: 1/15\n",
            "\n"
          ]
        },
        {
          "output_type": "stream",
          "name": "stderr",
          "text": [
            "Epoch 70 Loss=2.5335 Acc=61.27% LR=0.003520: 100%|██████████| 196/196 [01:55<00:00,  1.70it/s]\n"
          ]
        },
        {
          "output_type": "stream",
          "name": "stdout",
          "text": [
            "\n",
            "Test set: Average loss: 1.4890, Accuracy: 6540/10000 (65.40%)\n",
            "\n",
            "Best Test Accuracy so far: 66.71% | Patience: 2/15\n",
            "\n"
          ]
        },
        {
          "output_type": "stream",
          "name": "stderr",
          "text": [
            "Epoch 71 Loss=1.8502 Acc=58.86% LR=0.005978: 100%|██████████| 196/196 [01:55<00:00,  1.70it/s]\n"
          ]
        },
        {
          "output_type": "stream",
          "name": "stdout",
          "text": [
            "\n",
            "Test set: Average loss: 1.5618, Accuracy: 6384/10000 (63.84%)\n",
            "\n",
            "Best Test Accuracy so far: 66.71% | Patience: 3/15\n",
            "\n"
          ]
        },
        {
          "output_type": "stream",
          "name": "stderr",
          "text": [
            "Epoch 72 Loss=1.9096 Acc=59.27% LR=0.008205: 100%|██████████| 196/196 [01:55<00:00,  1.70it/s]\n"
          ]
        },
        {
          "output_type": "stream",
          "name": "stdout",
          "text": [
            "\n",
            "Test set: Average loss: 1.5699, Accuracy: 6379/10000 (63.79%)\n",
            "\n",
            "Best Test Accuracy so far: 66.71% | Patience: 4/15\n",
            "\n"
          ]
        },
        {
          "output_type": "stream",
          "name": "stderr",
          "text": [
            "Epoch 73 Loss=1.6692 Acc=63.08% LR=0.009652: 100%|██████████| 196/196 [01:55<00:00,  1.70it/s]\n"
          ]
        },
        {
          "output_type": "stream",
          "name": "stdout",
          "text": [
            "\n",
            "Test set: Average loss: 1.4490, Accuracy: 6658/10000 (66.58%)\n",
            "\n",
            "Best Test Accuracy so far: 66.71% | Patience: 5/15\n",
            "\n"
          ]
        },
        {
          "output_type": "stream",
          "name": "stderr",
          "text": [
            "Epoch 74 Loss=2.6851 Acc=63.56% LR=0.000139: 100%|██████████| 196/196 [01:55<00:00,  1.70it/s]\n"
          ]
        },
        {
          "output_type": "stream",
          "name": "stdout",
          "text": [
            "\n",
            "Test set: Average loss: 1.3670, Accuracy: 6725/10000 (67.25%)\n",
            "\n",
            "*** New best model saved! Test Accuracy: 67.25% ***\n",
            "Best Test Accuracy so far: 67.25% | Patience: 0/15\n",
            "\n"
          ]
        },
        {
          "output_type": "stream",
          "name": "stderr",
          "text": [
            "Epoch 75 Loss=1.7068 Acc=63.37% LR=0.001045: 100%|██████████| 196/196 [01:55<00:00,  1.70it/s]\n"
          ]
        },
        {
          "output_type": "stream",
          "name": "stdout",
          "text": [
            "\n",
            "Test set: Average loss: 1.3954, Accuracy: 6660/10000 (66.60%)\n",
            "\n",
            "Best Test Accuracy so far: 67.25% | Patience: 1/15\n",
            "\n"
          ]
        },
        {
          "output_type": "stream",
          "name": "stderr",
          "text": [
            "Epoch 76 Loss=1.7424 Acc=61.40% LR=0.002942: 100%|██████████| 196/196 [01:55<00:00,  1.70it/s]\n"
          ]
        },
        {
          "output_type": "stream",
          "name": "stdout",
          "text": [
            "\n",
            "Test set: Average loss: 1.4549, Accuracy: 6631/10000 (66.31%)\n",
            "\n",
            "Best Test Accuracy so far: 67.25% | Patience: 2/15\n",
            "\n"
          ]
        },
        {
          "output_type": "stream",
          "name": "stderr",
          "text": [
            "Epoch 77 Loss=1.8328 Acc=63.20% LR=0.005361: 100%|██████████| 196/196 [01:55<00:00,  1.70it/s]\n"
          ]
        },
        {
          "output_type": "stream",
          "name": "stdout",
          "text": [
            "\n",
            "Test set: Average loss: 1.4829, Accuracy: 6513/10000 (65.13%)\n",
            "\n",
            "Best Test Accuracy so far: 67.25% | Patience: 3/15\n",
            "\n"
          ]
        },
        {
          "output_type": "stream",
          "name": "stderr",
          "text": [
            "Epoch 78 Loss=3.7013 Acc=62.74% LR=0.007702: 100%|██████████| 196/196 [01:55<00:00,  1.70it/s]\n"
          ]
        },
        {
          "output_type": "stream",
          "name": "stdout",
          "text": [
            "\n",
            "Test set: Average loss: 1.5242, Accuracy: 6444/10000 (64.44%)\n",
            "\n",
            "Best Test Accuracy so far: 67.25% | Patience: 4/15\n",
            "\n"
          ]
        },
        {
          "output_type": "stream",
          "name": "stderr",
          "text": [
            "Epoch 79 Loss=1.8686 Acc=62.60% LR=0.009388: 100%|██████████| 196/196 [01:55<00:00,  1.70it/s]\n"
          ]
        },
        {
          "output_type": "stream",
          "name": "stdout",
          "text": [
            "\n",
            "Test set: Average loss: 1.4966, Accuracy: 6484/10000 (64.84%)\n",
            "\n",
            "Best Test Accuracy so far: 67.25% | Patience: 5/15\n",
            "\n"
          ]
        },
        {
          "output_type": "stream",
          "name": "stderr",
          "text": [
            "Epoch 80 Loss=2.1726 Acc=63.84% LR=0.010000: 100%|██████████| 196/196 [01:55<00:00,  1.70it/s]\n"
          ]
        },
        {
          "output_type": "stream",
          "name": "stdout",
          "text": [
            "\n",
            "Test set: Average loss: 1.3792, Accuracy: 6769/10000 (67.69%)\n",
            "\n",
            "*** New best model saved! Test Accuracy: 67.69% ***\n",
            "Best Test Accuracy so far: 67.69% | Patience: 0/15\n",
            "\n"
          ]
        },
        {
          "output_type": "stream",
          "name": "stderr",
          "text": [
            "Epoch 81 Loss=2.0646 Acc=64.96% LR=0.000712: 100%|██████████| 196/196 [01:55<00:00,  1.70it/s]\n"
          ]
        },
        {
          "output_type": "stream",
          "name": "stdout",
          "text": [
            "\n",
            "Test set: Average loss: 1.3632, Accuracy: 6756/10000 (67.56%)\n",
            "\n",
            "Best Test Accuracy so far: 67.69% | Patience: 1/15\n",
            "\n"
          ]
        },
        {
          "output_type": "stream",
          "name": "stderr",
          "text": [
            "Epoch 82 Loss=3.6104 Acc=62.94% LR=0.002398: 100%|██████████| 196/196 [01:55<00:00,  1.70it/s]\n"
          ]
        },
        {
          "output_type": "stream",
          "name": "stdout",
          "text": [
            "\n",
            "Test set: Average loss: 1.4259, Accuracy: 6689/10000 (66.89%)\n",
            "\n",
            "Best Test Accuracy so far: 67.69% | Patience: 2/15\n",
            "\n"
          ]
        },
        {
          "output_type": "stream",
          "name": "stderr",
          "text": [
            "Epoch 83 Loss=3.5914 Acc=64.60% LR=0.004739: 100%|██████████| 196/196 [01:55<00:00,  1.69it/s]\n"
          ]
        },
        {
          "output_type": "stream",
          "name": "stdout",
          "text": [
            "\n",
            "Test set: Average loss: 1.4156, Accuracy: 6699/10000 (66.99%)\n",
            "\n",
            "Best Test Accuracy so far: 67.69% | Patience: 3/15\n",
            "\n"
          ]
        },
        {
          "output_type": "stream",
          "name": "stderr",
          "text": [
            "Epoch 84 Loss=2.3706 Acc=63.16% LR=0.007158: 100%|██████████| 196/196 [01:55<00:00,  1.70it/s]\n"
          ]
        },
        {
          "output_type": "stream",
          "name": "stdout",
          "text": [
            "\n",
            "Test set: Average loss: 1.4351, Accuracy: 6665/10000 (66.65%)\n",
            "\n",
            "Best Test Accuracy so far: 67.69% | Patience: 4/15\n",
            "\n"
          ]
        },
        {
          "output_type": "stream",
          "name": "stderr",
          "text": [
            "Epoch 85 Loss=1.6619 Acc=64.89% LR=0.009055: 100%|██████████| 196/196 [01:55<00:00,  1.70it/s]\n"
          ]
        },
        {
          "output_type": "stream",
          "name": "stdout",
          "text": [
            "\n",
            "Test set: Average loss: 1.4442, Accuracy: 6691/10000 (66.91%)\n",
            "\n",
            "Best Test Accuracy so far: 67.69% | Patience: 5/15\n",
            "\n"
          ]
        },
        {
          "output_type": "stream",
          "name": "stderr",
          "text": [
            "Epoch 86 Loss=1.9997 Acc=65.82% LR=0.009961: 100%|██████████| 196/196 [01:55<00:00,  1.70it/s]\n"
          ]
        },
        {
          "output_type": "stream",
          "name": "stdout",
          "text": [
            "\n",
            "Test set: Average loss: 1.3389, Accuracy: 6906/10000 (69.06%)\n",
            "\n",
            "*** New best model saved! Test Accuracy: 69.06% ***\n",
            "Best Test Accuracy so far: 69.06% | Patience: 0/15\n",
            "\n"
          ]
        },
        {
          "output_type": "stream",
          "name": "stderr",
          "text": [
            "Epoch 87 Loss=2.0851 Acc=65.53% LR=0.000448: 100%|██████████| 196/196 [01:55<00:00,  1.70it/s]\n"
          ]
        },
        {
          "output_type": "stream",
          "name": "stdout",
          "text": [
            "\n",
            "Test set: Average loss: 1.3588, Accuracy: 6890/10000 (68.90%)\n",
            "\n",
            "Best Test Accuracy so far: 69.06% | Patience: 1/15\n",
            "\n"
          ]
        },
        {
          "output_type": "stream",
          "name": "stderr",
          "text": [
            "Epoch 88 Loss=2.7327 Acc=66.58% LR=0.001895: 100%|██████████| 196/196 [01:55<00:00,  1.70it/s]\n"
          ]
        },
        {
          "output_type": "stream",
          "name": "stdout",
          "text": [
            "\n",
            "Test set: Average loss: 1.3772, Accuracy: 6915/10000 (69.15%)\n",
            "\n",
            "*** New best model saved! Test Accuracy: 69.15% ***\n",
            "Best Test Accuracy so far: 69.15% | Patience: 0/15\n",
            "\n"
          ]
        },
        {
          "output_type": "stream",
          "name": "stderr",
          "text": [
            "Epoch 89 Loss=3.0693 Acc=65.68% LR=0.004122: 100%|██████████| 196/196 [01:55<00:00,  1.69it/s]\n"
          ]
        },
        {
          "output_type": "stream",
          "name": "stdout",
          "text": [
            "\n",
            "Test set: Average loss: 1.3876, Accuracy: 6795/10000 (67.95%)\n",
            "\n",
            "Best Test Accuracy so far: 69.15% | Patience: 1/15\n",
            "\n"
          ]
        },
        {
          "output_type": "stream",
          "name": "stderr",
          "text": [
            "Epoch 90 Loss=1.9209 Acc=61.83% LR=0.006580: 100%|██████████| 196/196 [01:55<00:00,  1.70it/s]\n"
          ]
        },
        {
          "output_type": "stream",
          "name": "stdout",
          "text": [
            "\n",
            "Test set: Average loss: 1.3976, Accuracy: 6800/10000 (68.00%)\n",
            "\n",
            "Best Test Accuracy so far: 69.15% | Patience: 2/15\n",
            "\n"
          ]
        },
        {
          "output_type": "stream",
          "name": "stderr",
          "text": [
            "Epoch 91 Loss=1.6441 Acc=65.30% LR=0.008658: 100%|██████████| 196/196 [01:55<00:00,  1.70it/s]\n"
          ]
        },
        {
          "output_type": "stream",
          "name": "stdout",
          "text": [
            "\n",
            "Test set: Average loss: 1.3787, Accuracy: 6761/10000 (67.61%)\n",
            "\n",
            "Best Test Accuracy so far: 69.15% | Patience: 3/15\n",
            "\n"
          ]
        },
        {
          "output_type": "stream",
          "name": "stderr",
          "text": [
            "Epoch 92 Loss=2.2123 Acc=66.79% LR=0.009844: 100%|██████████| 196/196 [01:55<00:00,  1.70it/s]\n"
          ]
        },
        {
          "output_type": "stream",
          "name": "stdout",
          "text": [
            "\n",
            "Test set: Average loss: 1.3489, Accuracy: 6956/10000 (69.56%)\n",
            "\n",
            "*** New best model saved! Test Accuracy: 69.56% ***\n",
            "Best Test Accuracy so far: 69.56% | Patience: 0/15\n",
            "\n"
          ]
        },
        {
          "output_type": "stream",
          "name": "stderr",
          "text": [
            "Epoch 93 Loss=1.8026 Acc=64.93% LR=0.000256: 100%|██████████| 196/196 [01:55<00:00,  1.70it/s]\n"
          ]
        },
        {
          "output_type": "stream",
          "name": "stdout",
          "text": [
            "\n",
            "Test set: Average loss: 1.3284, Accuracy: 6982/10000 (69.82%)\n",
            "\n",
            "*** New best model saved! Test Accuracy: 69.82% ***\n",
            "Best Test Accuracy so far: 69.82% | Patience: 0/15\n",
            "\n"
          ]
        },
        {
          "output_type": "stream",
          "name": "stderr",
          "text": [
            "Epoch 94 Loss=2.0407 Acc=65.85% LR=0.001442: 100%|██████████| 196/196 [01:55<00:00,  1.70it/s]\n"
          ]
        },
        {
          "output_type": "stream",
          "name": "stdout",
          "text": [
            "\n",
            "Test set: Average loss: 1.3445, Accuracy: 6962/10000 (69.62%)\n",
            "\n",
            "Best Test Accuracy so far: 69.82% | Patience: 1/15\n",
            "\n"
          ]
        },
        {
          "output_type": "stream",
          "name": "stderr",
          "text": [
            "Epoch 95 Loss=1.5456 Acc=66.81% LR=0.003520: 100%|██████████| 196/196 [01:55<00:00,  1.70it/s]\n"
          ]
        },
        {
          "output_type": "stream",
          "name": "stdout",
          "text": [
            "\n",
            "Test set: Average loss: 1.3672, Accuracy: 6880/10000 (68.80%)\n",
            "\n",
            "Best Test Accuracy so far: 69.82% | Patience: 2/15\n",
            "\n"
          ]
        },
        {
          "output_type": "stream",
          "name": "stderr",
          "text": [
            "Epoch 96 Loss=3.3563 Acc=64.48% LR=0.005978: 100%|██████████| 196/196 [01:55<00:00,  1.70it/s]\n"
          ]
        },
        {
          "output_type": "stream",
          "name": "stdout",
          "text": [
            "\n",
            "Test set: Average loss: 1.4739, Accuracy: 6636/10000 (66.36%)\n",
            "\n",
            "Best Test Accuracy so far: 69.82% | Patience: 3/15\n",
            "\n"
          ]
        },
        {
          "output_type": "stream",
          "name": "stderr",
          "text": [
            "Epoch 97 Loss=1.9803 Acc=65.64% LR=0.008205: 100%|██████████| 196/196 [01:55<00:00,  1.70it/s]\n"
          ]
        },
        {
          "output_type": "stream",
          "name": "stdout",
          "text": [
            "\n",
            "Test set: Average loss: 1.3855, Accuracy: 6795/10000 (67.95%)\n",
            "\n",
            "Best Test Accuracy so far: 69.82% | Patience: 4/15\n",
            "\n"
          ]
        },
        {
          "output_type": "stream",
          "name": "stderr",
          "text": [
            "Epoch 98 Loss=2.0297 Acc=67.35% LR=0.009652: 100%|██████████| 196/196 [01:55<00:00,  1.70it/s]\n"
          ]
        },
        {
          "output_type": "stream",
          "name": "stdout",
          "text": [
            "\n",
            "Test set: Average loss: 1.3343, Accuracy: 7031/10000 (70.31%)\n",
            "\n",
            "*** New best model saved! Test Accuracy: 70.31% ***\n",
            "Best Test Accuracy so far: 70.31% | Patience: 0/15\n",
            "\n"
          ]
        },
        {
          "output_type": "stream",
          "name": "stderr",
          "text": [
            "Epoch 99 Loss=1.7689 Acc=67.31% LR=0.000139: 100%|██████████| 196/196 [01:55<00:00,  1.70it/s]\n"
          ]
        },
        {
          "output_type": "stream",
          "name": "stdout",
          "text": [
            "\n",
            "Test set: Average loss: 1.3139, Accuracy: 7028/10000 (70.28%)\n",
            "\n",
            "Best Test Accuracy so far: 70.31% | Patience: 1/15\n",
            "\n"
          ]
        },
        {
          "output_type": "stream",
          "name": "stderr",
          "text": [
            "Epoch 100 Loss=1.5785 Acc=67.03% LR=0.001045: 100%|██████████| 196/196 [01:55<00:00,  1.70it/s]\n"
          ]
        },
        {
          "output_type": "stream",
          "name": "stdout",
          "text": [
            "\n",
            "Test set: Average loss: 1.3283, Accuracy: 7036/10000 (70.36%)\n",
            "\n",
            "*** New best model saved! Test Accuracy: 70.36% ***\n",
            "Best Test Accuracy so far: 70.36% | Patience: 0/15\n",
            "\n",
            "\n",
            "Training completed. Best test accuracy: 70.36%\n"
          ]
        }
      ],
      "source": [
        "# Training Loop\n",
        "print(\"\\nStarting training...\\n\")\n",
        "\n",
        "for epoch in range(1, EPOCHS + 1):\n",
        "    # Train\n",
        "    train_loss, train_acc = train(\n",
        "        model, device, train_loader, optimizer, scheduler, warmup_scheduler, scaler, epoch,\n",
        "        use_mixup=True, mixup_alpha=0.2, label_smoothing=0.1\n",
        "    )\n",
        "\n",
        "    # Test\n",
        "    test_loss, test_acc = test(model, device, test_loader)\n",
        "\n",
        "    # Record metrics\n",
        "    train_losses.append(train_loss)\n",
        "    test_losses.append(test_loss)\n",
        "    train_accuracies.append(train_acc)\n",
        "    test_accuracies.append(test_acc)\n",
        "    learning_rates.append(optimizer.param_groups[0]['lr'])\n",
        "\n",
        "    # Save best model\n",
        "    if test_acc > best_test_acc:\n",
        "        best_test_acc = test_acc\n",
        "        patience_counter = 0\n",
        "        torch.save({\n",
        "            'epoch': epoch,\n",
        "            'model_state_dict': model.state_dict(),\n",
        "            'optimizer_state_dict': optimizer.state_dict(),\n",
        "            'test_accuracy': test_acc,\n",
        "            'train_accuracy': train_acc,\n",
        "        }, os.path.join(checkpoint_dir, 'best_model.pth'))\n",
        "        print(f\"*** New best model saved! Test Accuracy: {best_test_acc:.2f}% ***\")\n",
        "    else:\n",
        "        patience_counter += 1\n",
        "\n",
        "    # Early stopping\n",
        "    if patience_counter >= patience:\n",
        "        print(f\"\\nEarly stopping triggered at epoch {epoch}. No improvement for {patience} epochs.\")\n",
        "        break\n",
        "\n",
        "    # Check if target reached\n",
        "    if test_acc >= 74.0:\n",
        "        print(f\"\\n{'=' * 70}\")\n",
        "        print(f\"Target accuracy of 74% reached at epoch {epoch}!\")\n",
        "        print(f\"Final test accuracy: {test_acc:.2f}%\")\n",
        "        print(f\"{'=' * 70}\")\n",
        "        break\n",
        "\n",
        "    print(f\"Best Test Accuracy so far: {best_test_acc:.2f}% | Patience: {patience_counter}/{patience}\\n\")\n",
        "\n",
        "print(f\"\\nTraining completed. Best test accuracy: {best_test_acc:.2f}%\")"
      ]
    },
    {
      "cell_type": "code",
      "source": [
        "from huggingface_hub import HfApi\n",
        "\n",
        "# Explicitly add the pytorch_model.bin file before pushing\n",
        "api = HfApi()\n",
        "api.upload_file(\n",
        "    path_or_fileobj=os.path.join(checkpoint_dir, 'best_model.pth'),\n",
        "    path_in_repo='best_model.pth',\n",
        "    repo_id=REPO_ID,\n",
        "    repo_type=\"model\",\n",
        ")\n",
        "\n",
        "print(f\"Model state dictionary saved locally to {os.path.join(checkpoint_dir, 'best_model.pth')} and uploaded to https://huggingface.co/{REPO_ID}\")"
      ],
      "metadata": {
        "colab": {
          "base_uri": "https://localhost:8080/",
          "height": 130,
          "referenced_widgets": [
            "3d66ae387e0e4a189c5a13ce31cc5ede",
            "674b91a839af4e26ad78db679bd9fa81",
            "6ee27bf1efe64f08a47c587f94a62a36",
            "f7952be2c8814dd2ad668160e13ba22f",
            "ac09e3fc3cf740d5bcd8d1a288689aae",
            "decc8120e8c140ff9383824095751ed2",
            "0204ffed0efa48d7a9b45145786453cc",
            "4488154e7bb545f9843936f6c669482d",
            "f4dbf51dc70143a1958768bbec5d730d",
            "eaa37de5d7a946ba9bdfe6a5b8fb8fc2",
            "c520d4c0a94a4fdaaefaa837a8b57f02",
            "897f41c8a12a4da3ac3c18cdfdb18de1",
            "7477d124a2aa49f5a0e1f66ebddbd9a2",
            "4917b5fb20cf491a80f45b895e9977d4",
            "143987cc2f0d45d184d5522601c9ab61",
            "cdddc4ebcaa740b7a91d30159a2dddb9",
            "666f28d6fb2f486f840e25be5f8741fc",
            "d034497b2c4c417992f5c7f963c82e56",
            "f7e4b9b1fa3f4a4b9900dd66f5dac624",
            "306db9d8addf4831a5030abfbce252da",
            "9988e2e7c2004d2eb6032c96ca9008a1",
            "676fa5573373481db73350694ad25048",
            "e53ea206629246c3a05bea2c3088a27b",
            "26aaa33eae9a4a1884fcfc18927077cc",
            "e58c1016db8a41459a9efedc9b2b6524",
            "17c5a535a6b045dbb1f5d769eddce38d",
            "40b49242a429470a9df44b4170633d6a",
            "ea6c87afc5214d53b94c9cc981d396ef",
            "4d75c982ad0c437289ccb1a10c0fcbbb",
            "4cdb59d4f01b48bb8a5e3b4c08e6c612",
            "e5f8f82f25ff4024a1737f587cac0fbf",
            "29d6a28e63054eaeb5bba494696e3b97",
            "115461d06507468cb900464da14fbf81"
          ]
        },
        "id": "oepl2dKIS55p",
        "outputId": "d2a8d16f-a093-4f39-8404-0ea9a6171fbd"
      },
      "execution_count": 12,
      "outputs": [
        {
          "output_type": "display_data",
          "data": {
            "text/plain": [
              "Processing Files (0 / 0)      : |          |  0.00B /  0.00B            "
            ],
            "application/vnd.jupyter.widget-view+json": {
              "version_major": 2,
              "version_minor": 0,
              "model_id": "3d66ae387e0e4a189c5a13ce31cc5ede"
            }
          },
          "metadata": {}
        },
        {
          "output_type": "display_data",
          "data": {
            "text/plain": [
              "New Data Upload               : |          |  0.00B /  0.00B            "
            ],
            "application/vnd.jupyter.widget-view+json": {
              "version_major": 2,
              "version_minor": 0,
              "model_id": "897f41c8a12a4da3ac3c18cdfdb18de1"
            }
          },
          "metadata": {}
        },
        {
          "output_type": "display_data",
          "data": {
            "text/plain": [
              "  ...rive/erav4/best_model.pth:   2%|1         | 5.55MB /  292MB            "
            ],
            "application/vnd.jupyter.widget-view+json": {
              "version_major": 2,
              "version_minor": 0,
              "model_id": "e53ea206629246c3a05bea2c3088a27b"
            }
          },
          "metadata": {}
        },
        {
          "output_type": "stream",
          "name": "stdout",
          "text": [
            "Model state dictionary saved locally to ./drive/MyDrive/erav4/best_model.pth and uploaded to https://huggingface.co/agileabhi/resnet-cifar100-custom\n"
          ]
        }
      ]
    },
    {
      "cell_type": "code",
      "metadata": {
        "colab": {
          "base_uri": "https://localhost:8080/",
          "height": 263
        },
        "id": "02b9c7bc",
        "outputId": "40a20c1f-fd6a-4f1f-d0b6-586b39255c32"
      },
      "source": [
        "# Training Loop\n",
        "print(\"\\nStarting training...\\n\")\n",
        "EPOCHS = 120\n",
        "for epoch in range(101, EPOCHS + 1):\n",
        "    # Train\n",
        "    train_loss, train_acc = train(\n",
        "        model, device, train_loader, optimizer, scheduler, warmup_scheduler, scaler, epoch,\n",
        "        use_mixup=True, mixup_alpha=0.2, label_smoothing=0.1\n",
        "    )\n",
        "\n",
        "    # Test\n",
        "    test_loss, test_acc = test(model, device, test_loader)\n",
        "\n",
        "    # Record metrics\n",
        "    train_losses.append(train_loss)\n",
        "    test_losses.append(test_loss)\n",
        "    train_accuracies.append(train_acc)\n",
        "    test_accuracies.append(test_acc)\n",
        "    learning_rates.append(optimizer.param_groups[0]['lr'])\n",
        "\n",
        "    # Save best model\n",
        "    if test_acc > best_test_acc:\n",
        "        best_test_acc = test_acc\n",
        "        patience_counter = 0\n",
        "        torch.save({\n",
        "            'epoch': epoch,\n",
        "            'model_state_dict': model.state_dict(),\n",
        "            'optimizer_state_dict': optimizer.state_dict(),\n",
        "            'test_accuracy': test_acc,\n",
        "            'train_accuracy': train_acc,\n",
        "        }, os.path.join(checkpoint_dir, 'best_model.pth'))\n",
        "        print(f\"*** New best model saved! Test Accuracy: {best_test_acc:.2f}% ***\")\n",
        "    else:\n",
        "        patience_counter += 1\n",
        "\n",
        "    # Early stopping\n",
        "    if patience_counter >= patience:\n",
        "        print(f\"\\nEarly stopping triggered at epoch {epoch}. No improvement for {patience} epochs.\")\n",
        "        break\n",
        "\n",
        "    # Check if target reached\n",
        "    if test_acc >= 74.0:\n",
        "        print(f\"\\n{'=' * 70}\")\n",
        "        print(f\"Target accuracy of 74% reached at epoch {epoch}!\")\n",
        "        print(f\"Final test accuracy: {test_acc:.2f}%\")\n",
        "        print(f\"{'=' * 70}\")\n",
        "        break\n",
        "\n",
        "    print(f\"Best Test Accuracy so far: {best_test_acc:.2f}% | Patience: {patience_counter}/{patience}\\n\")\n",
        "\n",
        "print(f\"\\nTraining completed. Best test accuracy: {best_test_acc:.2f}%\")"
      ],
      "execution_count": 6,
      "outputs": [
        {
          "output_type": "stream",
          "name": "stdout",
          "text": [
            "\n",
            "Starting training...\n",
            "\n"
          ]
        },
        {
          "output_type": "error",
          "ename": "NameError",
          "evalue": "name 'train' is not defined",
          "traceback": [
            "\u001b[0;31m---------------------------------------------------------------------------\u001b[0m",
            "\u001b[0;31mNameError\u001b[0m                                 Traceback (most recent call last)",
            "\u001b[0;32m/tmp/ipython-input-2947173378.py\u001b[0m in \u001b[0;36m<cell line: 0>\u001b[0;34m()\u001b[0m\n\u001b[1;32m      4\u001b[0m \u001b[0;32mfor\u001b[0m \u001b[0mepoch\u001b[0m \u001b[0;32min\u001b[0m \u001b[0mrange\u001b[0m\u001b[0;34m(\u001b[0m\u001b[0;36m101\u001b[0m\u001b[0;34m,\u001b[0m \u001b[0mEPOCHS\u001b[0m \u001b[0;34m+\u001b[0m \u001b[0;36m1\u001b[0m\u001b[0;34m)\u001b[0m\u001b[0;34m:\u001b[0m\u001b[0;34m\u001b[0m\u001b[0;34m\u001b[0m\u001b[0m\n\u001b[1;32m      5\u001b[0m     \u001b[0;31m# Train\u001b[0m\u001b[0;34m\u001b[0m\u001b[0;34m\u001b[0m\u001b[0m\n\u001b[0;32m----> 6\u001b[0;31m     train_loss, train_acc = train(\n\u001b[0m\u001b[1;32m      7\u001b[0m         \u001b[0mmodel\u001b[0m\u001b[0;34m,\u001b[0m \u001b[0mdevice\u001b[0m\u001b[0;34m,\u001b[0m \u001b[0mtrain_loader\u001b[0m\u001b[0;34m,\u001b[0m \u001b[0moptimizer\u001b[0m\u001b[0;34m,\u001b[0m \u001b[0mscheduler\u001b[0m\u001b[0;34m,\u001b[0m \u001b[0mwarmup_scheduler\u001b[0m\u001b[0;34m,\u001b[0m \u001b[0mscaler\u001b[0m\u001b[0;34m,\u001b[0m \u001b[0mepoch\u001b[0m\u001b[0;34m,\u001b[0m\u001b[0;34m\u001b[0m\u001b[0;34m\u001b[0m\u001b[0m\n\u001b[1;32m      8\u001b[0m         \u001b[0muse_mixup\u001b[0m\u001b[0;34m=\u001b[0m\u001b[0;32mTrue\u001b[0m\u001b[0;34m,\u001b[0m \u001b[0mmixup_alpha\u001b[0m\u001b[0;34m=\u001b[0m\u001b[0;36m0.2\u001b[0m\u001b[0;34m,\u001b[0m \u001b[0mlabel_smoothing\u001b[0m\u001b[0;34m=\u001b[0m\u001b[0;36m0.1\u001b[0m\u001b[0;34m\u001b[0m\u001b[0;34m\u001b[0m\u001b[0m\n",
            "\u001b[0;31mNameError\u001b[0m: name 'train' is not defined"
          ]
        }
      ]
    },
    {
      "cell_type": "code",
      "metadata": {
        "colab": {
          "base_uri": "https://localhost:8080/"
        },
        "outputId": "b16049c9-b582-4b4f-a368-ea81898277d9",
        "id": "rqLMxa0_kwRc"
      },
      "source": [
        "# Training Loop\n",
        "print(\"\\nStarting training...\\n\")\n",
        "EPOCHS = 160\n",
        "for epoch in range(121, EPOCHS + 1):\n",
        "    # Train\n",
        "    train_loss, train_acc = train(\n",
        "        model, device, train_loader, optimizer, scheduler, warmup_scheduler, scaler, epoch,\n",
        "        use_mixup=True, mixup_alpha=0.2, label_smoothing=0.1\n",
        "    )\n",
        "\n",
        "    # Test\n",
        "    test_loss, test_acc = test(model, device, test_loader)\n",
        "\n",
        "    # Record metrics\n",
        "    train_losses.append(train_loss)\n",
        "    test_losses.append(test_loss)\n",
        "    train_accuracies.append(train_acc)\n",
        "    test_accuracies.append(test_acc)\n",
        "    learning_rates.append(optimizer.param_groups[0]['lr'])\n",
        "\n",
        "    # Save best model\n",
        "    if test_acc > best_test_acc:\n",
        "        best_test_acc = test_acc\n",
        "        patience_counter = 0\n",
        "        torch.save({\n",
        "            'epoch': epoch,\n",
        "            'model_state_dict': model.state_dict(),\n",
        "            'optimizer_state_dict': optimizer.state_dict(),\n",
        "            'test_accuracy': test_acc,\n",
        "            'train_accuracy': train_acc,\n",
        "        }, os.path.join(checkpoint_dir, 'best_model.pth'))\n",
        "        print(f\"*** New best model saved! Test Accuracy: {best_test_acc:.2f}% ***\")\n",
        "    else:\n",
        "        patience_counter += 1\n",
        "\n",
        "    # Early stopping\n",
        "    if patience_counter >= patience:\n",
        "        print(f\"\\nEarly stopping triggered at epoch {epoch}. No improvement for {patience} epochs.\")\n",
        "        break\n",
        "\n",
        "    # Check if target reached\n",
        "    if test_acc >= 74.0:\n",
        "        print(f\"\\n{'=' * 70}\")\n",
        "        print(f\"Target accuracy of 74% reached at epoch {epoch}!\")\n",
        "        print(f\"Final test accuracy: {test_acc:.2f}%\")\n",
        "        print(f\"{'=' * 70}\")\n",
        "        break\n",
        "\n",
        "    print(f\"Best Test Accuracy so far: {best_test_acc:.2f}% | Patience: {patience_counter}/{patience}\\n\")\n",
        "\n",
        "print(f\"\\nTraining completed. Best test accuracy: {best_test_acc:.2f}%\")"
      ],
      "execution_count": null,
      "outputs": [
        {
          "output_type": "stream",
          "name": "stdout",
          "text": [
            "\n",
            "Starting training...\n",
            "\n"
          ]
        },
        {
          "output_type": "stream",
          "name": "stderr",
          "text": [
            "\r  0%|          | 0/196 [00:00<?, ?it/s]/tmp/ipython-input-1052289112.py:15: FutureWarning: `torch.cuda.amp.autocast(args...)` is deprecated. Please use `torch.amp.autocast('cuda', args...)` instead.\n",
            "  with autocast():\n",
            "Epoch 101 Loss=1.8863 Acc=67.78% LR=0.002942: 100%|██████████| 196/196 [01:56<00:00,  1.69it/s]\n"
          ]
        },
        {
          "output_type": "stream",
          "name": "stdout",
          "text": [
            "\n",
            "Test set: Average loss: 1.3696, Accuracy: 7003/10000 (70.03%)\n",
            "\n",
            "Best Test Accuracy so far: 70.36% | Patience: 1/15\n",
            "\n"
          ]
        },
        {
          "output_type": "stream",
          "name": "stderr",
          "text": [
            "Epoch 102 Loss=1.9480 Acc=67.19% LR=0.005361: 100%|██████████| 196/196 [01:55<00:00,  1.70it/s]\n"
          ]
        },
        {
          "output_type": "stream",
          "name": "stdout",
          "text": [
            "\n",
            "Test set: Average loss: 1.3684, Accuracy: 6884/10000 (68.84%)\n",
            "\n",
            "Best Test Accuracy so far: 70.36% | Patience: 2/15\n",
            "\n"
          ]
        },
        {
          "output_type": "stream",
          "name": "stderr",
          "text": [
            "Epoch 103 Loss=3.2720 Acc=69.83% LR=0.007702: 100%|██████████| 196/196 [01:55<00:00,  1.70it/s]\n"
          ]
        },
        {
          "output_type": "stream",
          "name": "stdout",
          "text": [
            "\n",
            "Test set: Average loss: 1.5264, Accuracy: 6624/10000 (66.24%)\n",
            "\n",
            "Best Test Accuracy so far: 70.36% | Patience: 3/15\n",
            "\n"
          ]
        },
        {
          "output_type": "stream",
          "name": "stderr",
          "text": [
            "Epoch 104 Loss=1.7047 Acc=67.94% LR=0.009388: 100%|██████████| 196/196 [01:55<00:00,  1.70it/s]\n"
          ]
        },
        {
          "output_type": "stream",
          "name": "stdout",
          "text": [
            "\n",
            "Test set: Average loss: 1.3573, Accuracy: 6993/10000 (69.93%)\n",
            "\n",
            "Best Test Accuracy so far: 70.36% | Patience: 4/15\n",
            "\n"
          ]
        },
        {
          "output_type": "stream",
          "name": "stderr",
          "text": [
            "Epoch 105 Loss=3.0541 Acc=69.14% LR=0.010000: 100%|██████████| 196/196 [01:54<00:00,  1.71it/s]\n"
          ]
        },
        {
          "output_type": "stream",
          "name": "stdout",
          "text": [
            "\n",
            "Test set: Average loss: 1.2980, Accuracy: 7097/10000 (70.97%)\n",
            "\n",
            "*** New best model saved! Test Accuracy: 70.97% ***\n",
            "Best Test Accuracy so far: 70.97% | Patience: 0/15\n",
            "\n"
          ]
        },
        {
          "output_type": "stream",
          "name": "stderr",
          "text": [
            "Epoch 106 Loss=1.7106 Acc=68.37% LR=0.000712: 100%|██████████| 196/196 [01:55<00:00,  1.70it/s]\n"
          ]
        },
        {
          "output_type": "stream",
          "name": "stdout",
          "text": [
            "\n",
            "Test set: Average loss: 1.3178, Accuracy: 7087/10000 (70.87%)\n",
            "\n",
            "Best Test Accuracy so far: 70.97% | Patience: 1/15\n",
            "\n"
          ]
        },
        {
          "output_type": "stream",
          "name": "stderr",
          "text": [
            "Epoch 107 Loss=1.4998 Acc=69.38% LR=0.002398: 100%|██████████| 196/196 [01:55<00:00,  1.69it/s]\n"
          ]
        },
        {
          "output_type": "stream",
          "name": "stdout",
          "text": [
            "\n",
            "Test set: Average loss: 1.3269, Accuracy: 7063/10000 (70.63%)\n",
            "\n",
            "Best Test Accuracy so far: 70.97% | Patience: 2/15\n",
            "\n"
          ]
        },
        {
          "output_type": "stream",
          "name": "stderr",
          "text": [
            "Epoch 108 Loss=2.4805 Acc=67.92% LR=0.004739: 100%|██████████| 196/196 [01:55<00:00,  1.69it/s]\n"
          ]
        },
        {
          "output_type": "stream",
          "name": "stdout",
          "text": [
            "\n",
            "Test set: Average loss: 1.3637, Accuracy: 6984/10000 (69.84%)\n",
            "\n",
            "Best Test Accuracy so far: 70.97% | Patience: 3/15\n",
            "\n"
          ]
        },
        {
          "output_type": "stream",
          "name": "stderr",
          "text": [
            "Epoch 109 Loss=1.6727 Acc=72.08% LR=0.007158: 100%|██████████| 196/196 [01:55<00:00,  1.69it/s]\n"
          ]
        },
        {
          "output_type": "stream",
          "name": "stdout",
          "text": [
            "\n",
            "Test set: Average loss: 1.3760, Accuracy: 6957/10000 (69.57%)\n",
            "\n",
            "Best Test Accuracy so far: 70.97% | Patience: 4/15\n",
            "\n"
          ]
        },
        {
          "output_type": "stream",
          "name": "stderr",
          "text": [
            "Epoch 110 Loss=1.4538 Acc=67.39% LR=0.009055: 100%|██████████| 196/196 [01:55<00:00,  1.70it/s]\n"
          ]
        },
        {
          "output_type": "stream",
          "name": "stdout",
          "text": [
            "\n",
            "Test set: Average loss: 1.3778, Accuracy: 6958/10000 (69.58%)\n",
            "\n",
            "Best Test Accuracy so far: 70.97% | Patience: 5/15\n",
            "\n"
          ]
        },
        {
          "output_type": "stream",
          "name": "stderr",
          "text": [
            "Epoch 111 Loss=2.0192 Acc=69.66% LR=0.009961: 100%|██████████| 196/196 [01:55<00:00,  1.70it/s]\n"
          ]
        },
        {
          "output_type": "stream",
          "name": "stdout",
          "text": [
            "\n",
            "Test set: Average loss: 1.2627, Accuracy: 7210/10000 (72.10%)\n",
            "\n",
            "*** New best model saved! Test Accuracy: 72.10% ***\n",
            "Best Test Accuracy so far: 72.10% | Patience: 0/15\n",
            "\n"
          ]
        },
        {
          "output_type": "stream",
          "name": "stderr",
          "text": [
            "Epoch 112 Loss=1.6566 Acc=70.07% LR=0.000448: 100%|██████████| 196/196 [01:55<00:00,  1.70it/s]\n"
          ]
        },
        {
          "output_type": "stream",
          "name": "stdout",
          "text": [
            "\n",
            "Test set: Average loss: 1.3021, Accuracy: 7152/10000 (71.52%)\n",
            "\n",
            "Best Test Accuracy so far: 72.10% | Patience: 1/15\n",
            "\n"
          ]
        },
        {
          "output_type": "stream",
          "name": "stderr",
          "text": [
            "Epoch 113 Loss=1.4627 Acc=68.93% LR=0.001895: 100%|██████████| 196/196 [01:55<00:00,  1.70it/s]\n"
          ]
        },
        {
          "output_type": "stream",
          "name": "stdout",
          "text": [
            "\n",
            "Test set: Average loss: 1.3015, Accuracy: 7156/10000 (71.56%)\n",
            "\n",
            "Best Test Accuracy so far: 72.10% | Patience: 2/15\n",
            "\n"
          ]
        },
        {
          "output_type": "stream",
          "name": "stderr",
          "text": [
            "Epoch 114 Loss=3.3178 Acc=71.24% LR=0.004122: 100%|██████████| 196/196 [01:55<00:00,  1.70it/s]\n"
          ]
        },
        {
          "output_type": "stream",
          "name": "stdout",
          "text": [
            "\n",
            "Test set: Average loss: 1.3158, Accuracy: 7114/10000 (71.14%)\n",
            "\n",
            "Best Test Accuracy so far: 72.10% | Patience: 3/15\n",
            "\n"
          ]
        },
        {
          "output_type": "stream",
          "name": "stderr",
          "text": [
            "Epoch 115 Loss=1.5387 Acc=71.23% LR=0.006580: 100%|██████████| 196/196 [01:55<00:00,  1.70it/s]\n"
          ]
        },
        {
          "output_type": "stream",
          "name": "stdout",
          "text": [
            "\n",
            "Test set: Average loss: 1.3861, Accuracy: 7053/10000 (70.53%)\n",
            "\n",
            "Best Test Accuracy so far: 72.10% | Patience: 4/15\n",
            "\n"
          ]
        },
        {
          "output_type": "stream",
          "name": "stderr",
          "text": [
            "Epoch 116 Loss=1.6006 Acc=71.32% LR=0.008658: 100%|██████████| 196/196 [01:55<00:00,  1.70it/s]\n"
          ]
        },
        {
          "output_type": "stream",
          "name": "stdout",
          "text": [
            "\n",
            "Test set: Average loss: 1.4371, Accuracy: 6860/10000 (68.60%)\n",
            "\n",
            "Best Test Accuracy so far: 72.10% | Patience: 5/15\n",
            "\n"
          ]
        },
        {
          "output_type": "stream",
          "name": "stderr",
          "text": [
            "Epoch 117 Loss=1.6468 Acc=70.35% LR=0.009844: 100%|██████████| 196/196 [01:55<00:00,  1.70it/s]\n"
          ]
        },
        {
          "output_type": "stream",
          "name": "stdout",
          "text": [
            "\n",
            "Test set: Average loss: 1.2705, Accuracy: 7207/10000 (72.07%)\n",
            "\n",
            "Best Test Accuracy so far: 72.10% | Patience: 6/15\n",
            "\n"
          ]
        },
        {
          "output_type": "stream",
          "name": "stderr",
          "text": [
            "Epoch 118 Loss=1.5609 Acc=69.88% LR=0.000256: 100%|██████████| 196/196 [01:55<00:00,  1.70it/s]\n"
          ]
        }
      ]
    },
    {
      "cell_type": "code",
      "execution_count": 38,
      "metadata": {
        "colab": {
          "base_uri": "https://localhost:8080/",
          "height": 1000
        },
        "id": "Hey5seQNzpN3",
        "outputId": "4f97f88b-bbcd-4939-d1d1-5b5d83e473ba"
      },
      "outputs": [
        {
          "output_type": "display_data",
          "data": {
            "text/plain": [
              "<Figure size 1500x1000 with 4 Axes>"
            ],
            "image/png": "[encoded data removed]"
          },
          "metadata": {}
        },
        {
          "output_type": "stream",
          "name": "stdout",
          "text": [
            "\n",
            "Final Statistics:\n",
            "Best Test Accuracy: 7.22%\n",
            "Final Train Accuracy: 4.06%\n",
            "Final Test Accuracy: 7.22%\n",
            "Final Train-Test Gap: -3.16%\n"
          ]
        }
      ],
      "source": [
        "# Plot training curves\n",
        "fig, axes = plt.subplots(2, 2, figsize=(15, 10))\n",
        "\n",
        "# Loss curves\n",
        "axes[0, 0].plot(train_losses, label='Train Loss', linewidth=2)\n",
        "axes[0, 0].plot(test_losses, label='Test Loss', linewidth=2)\n",
        "axes[0, 0].set_xlabel('Epoch')\n",
        "axes[0, 0].set_ylabel('Loss')\n",
        "axes[0, 0].set_title('Training and Test Loss')\n",
        "axes[0, 0].legend()\n",
        "axes[0, 0].grid(True)\n",
        "\n",
        "# Accuracy curves\n",
        "axes[0, 1].plot(train_accuracies, label='Train Accuracy', linewidth=2)\n",
        "axes[0, 1].plot(test_accuracies, label='Test Accuracy', linewidth=2)\n",
        "axes[0, 1].axhline(y=74, color='r', linestyle='--', label='Target (74%)')\n",
        "axes[0, 1].set_xlabel('Epoch')\n",
        "axes[0, 1].set_ylabel('Accuracy (%)')\n",
        "axes[0, 1].set_title('Training and Test Accuracy')\n",
        "axes[0, 1].legend()\n",
        "axes[0, 1].grid(True)\n",
        "\n",
        "# Learning rate\n",
        "axes[1, 0].plot(learning_rates, linewidth=2, color='green')\n",
        "axes[1, 0].set_xlabel('Epoch')\n",
        "axes[1, 0].set_ylabel('Learning Rate')\n",
        "axes[1, 0].set_title('Learning Rate Schedule')\n",
        "axes[1, 0].grid(True)\n",
        "\n",
        "# Gap between train and test accuracy (overfitting indicator)\n",
        "accuracy_gap = [train - test for train, test in zip(train_accuracies, test_accuracies)]\n",
        "axes[1, 1].plot(accuracy_gap, linewidth=2, color='orange')\n",
        "axes[1, 1].set_xlabel('Epoch')\n",
        "axes[1, 1].set_ylabel('Accuracy Gap (%)')\n",
        "axes[1, 1].set_title('Train-Test Accuracy Gap (Overfitting Indicator)')\n",
        "axes[1, 1].grid(True)\n",
        "\n",
        "plt.tight_layout()\n",
        "plt.savefig('training_curves.png', dpi=300, bbox_inches='tight')\n",
        "plt.show()\n",
        "\n",
        "print(f\"\\nFinal Statistics:\")\n",
        "print(f\"Best Test Accuracy: {best_test_acc:.2f}%\")\n",
        "print(f\"Final Train Accuracy: {train_accuracies[-1]:.2f}%\")\n",
        "print(f\"Final Test Accuracy: {test_accuracies[-1]:.2f}%\")\n",
        "print(f\"Final Train-Test Gap: {accuracy_gap[-1]:.2f}%\")"
      ]
    },
    {
      "cell_type": "code",
      "execution_count": null,
      "metadata": {
        "colab": {
          "base_uri": "https://localhost:8080/"
        },
        "id": "EEo6NqCIzpN3",
        "outputId": "97fe2a60-3f3e-4d7e-8135-4a24a0ffa554"
      },
      "outputs": [
        {
          "output_type": "stream",
          "name": "stdout",
          "text": [
            "Loaded best model from epoch 1 with test accuracy: 6.60%\n",
            "\n",
            "Test set: Average loss: 4.1397, Accuracy: 660/10000 (6.60%)\n",
            "\n",
            "\n",
            "Final Test Accuracy: 6.60%\n"
          ]
        }
      ],
      "source": [
        "# Load best model and evaluate\n",
        "checkpoint = torch.load(os.path.join(checkpoint_dir, 'best_model.pth'))\n",
        "model.load_state_dict(checkpoint['model_state_dict'])\n",
        "print(f\"Loaded best model from epoch {checkpoint['epoch']} with test accuracy: {checkpoint['test_accuracy']:.2f}%\")\n",
        "\n",
        "# Final evaluation\n",
        "test_loss, test_acc = test(model, device, test_loader)\n",
        "print(f\"\\nFinal Test Accuracy: {test_acc:.2f}%\")"
      ]
    }
  ],
  "metadata": {
    "kernelspec": {
      "display_name": "Python 3",
      "name": "python3"
    },
    "language_info": {
      "codemirror_mode": {
        "name": "ipython",
        "version": 3
      },
      "file_extension": ".py",
      "mimetype": "text/x-python",
      "name": "python",
      "nbconvert_exporter": "python",
      "pygments_lexer": "ipython3",
      "version": "3.8.10"
    },
    "colab": {
      "provenance": [],
      "gpuType": "T4"
    },
    "accelerator": "GPU",
    "widgets": {
      "application/vnd.jupyter.widget-state+json": {
        "3d66ae387e0e4a189c5a13ce31cc5ede": {
          "model_module": "@jupyter-widgets/controls",
          "model_name": "HBoxModel",
          "model_module_version": "1.5.0",
          "state": {
            "_dom_classes": [],
            "_model_module": "@jupyter-widgets/controls",
            "_model_module_version": "1.5.0",
            "_model_name": "HBoxModel",
            "_view_count": null,
            "_view_module": "@jupyter-widgets/controls",
            "_view_module_version": "1.5.0",
            "_view_name": "HBoxView",
            "box_style": "",
            "children": [
              "IPY_MODEL_674b91a839af4e26ad78db679bd9fa81",
              "IPY_MODEL_6ee27bf1efe64f08a47c587f94a62a36",
              "IPY_MODEL_f7952be2c8814dd2ad668160e13ba22f"
            ],
            "layout": "IPY_MODEL_ac09e3fc3cf740d5bcd8d1a288689aae"
          }
        },
        "674b91a839af4e26ad78db679bd9fa81": {
          "model_module": "@jupyter-widgets/controls",
          "model_name": "HTMLModel",
          "model_module_version": "1.5.0",
          "state": {
            "_dom_classes": [],
            "_model_module": "@jupyter-widgets/controls",
            "_model_module_version": "1.5.0",
            "_model_name": "HTMLModel",
            "_view_count": null,
            "_view_module": "@jupyter-widgets/controls",
            "_view_module_version": "1.5.0",
            "_view_name": "HTMLView",
            "description": "",
            "description_tooltip": null,
            "layout": "IPY_MODEL_decc8120e8c140ff9383824095751ed2",
            "placeholder": "​",
            "style": "IPY_MODEL_0204ffed0efa48d7a9b45145786453cc",
            "value": "Processing Files (1 / 1)      : 100%"
          }
        },
        "6ee27bf1efe64f08a47c587f94a62a36": {
          "model_module": "@jupyter-widgets/controls",
          "model_name": "FloatProgressModel",
          "model_module_version": "1.5.0",
          "state": {
            "_dom_classes": [],
            "_model_module": "@jupyter-widgets/controls",
            "_model_module_version": "1.5.0",
            "_model_name": "FloatProgressModel",
            "_view_count": null,
            "_view_module": "@jupyter-widgets/controls",
            "_view_module_version": "1.5.0",
            "_view_name": "ProgressView",
            "bar_style": "success",
            "description": "",
            "description_tooltip": null,
            "layout": "IPY_MODEL_4488154e7bb545f9843936f6c669482d",
            "max": 1,
            "min": 0,
            "orientation": "horizontal",
            "style": "IPY_MODEL_f4dbf51dc70143a1958768bbec5d730d",
            "value": 1
          }
        },
        "f7952be2c8814dd2ad668160e13ba22f": {
          "model_module": "@jupyter-widgets/controls",
          "model_name": "HTMLModel",
          "model_module_version": "1.5.0",
          "state": {
            "_dom_classes": [],
            "_model_module": "@jupyter-widgets/controls",
            "_model_module_version": "1.5.0",
            "_model_name": "HTMLModel",
            "_view_count": null,
            "_view_module": "@jupyter-widgets/controls",
            "_view_module_version": "1.5.0",
            "_view_name": "HTMLView",
            "description": "",
            "description_tooltip": null,
            "layout": "IPY_MODEL_eaa37de5d7a946ba9bdfe6a5b8fb8fc2",
            "placeholder": "​",
            "style": "IPY_MODEL_c520d4c0a94a4fdaaefaa837a8b57f02",
            "value": "  292MB /  292MB, 60.9MB/s  "
          }
        },
        "ac09e3fc3cf740d5bcd8d1a288689aae": {
          "model_module": "@jupyter-widgets/base",
          "model_name": "LayoutModel",
          "model_module_version": "1.2.0",
          "state": {
            "_model_module": "@jupyter-widgets/base",
            "_model_module_version": "1.2.0",
            "_model_name": "LayoutModel",
            "_view_count": null,
            "_view_module": "@jupyter-widgets/base",
            "_view_module_version": "1.2.0",
            "_view_name": "LayoutView",
            "align_content": null,
            "align_items": null,
            "align_self": null,
            "border": null,
            "bottom": null,
            "display": null,
            "flex": null,
            "flex_flow": null,
            "grid_area": null,
            "grid_auto_columns": null,
            "grid_auto_flow": null,
            "grid_auto_rows": null,
            "grid_column": null,
            "grid_gap": null,
            "grid_row": null,
            "grid_template_areas": null,
            "grid_template_columns": null,
            "grid_template_rows": null,
            "height": null,
            "justify_content": null,
            "justify_items": null,
            "left": null,
            "margin": null,
            "max_height": null,
            "max_width": null,
            "min_height": null,
            "min_width": null,
            "object_fit": null,
            "object_position": null,
            "order": null,
            "overflow": null,
            "overflow_x": null,
            "overflow_y": null,
            "padding": null,
            "right": null,
            "top": null,
            "visibility": null,
            "width": null
          }
        },
        "decc8120e8c140ff9383824095751ed2": {
          "model_module": "@jupyter-widgets/base",
          "model_name": "LayoutModel",
          "model_module_version": "1.2.0",
          "state": {
            "_model_module": "@jupyter-widgets/base",
            "_model_module_version": "1.2.0",
            "_model_name": "LayoutModel",
            "_view_count": null,
            "_view_module": "@jupyter-widgets/base",
            "_view_module_version": "1.2.0",
            "_view_name": "LayoutView",
            "align_content": null,
            "align_items": null,
            "align_self": null,
            "border": null,
            "bottom": null,
            "display": null,
            "flex": null,
            "flex_flow": null,
            "grid_area": null,
            "grid_auto_columns": null,
            "grid_auto_flow": null,
            "grid_auto_rows": null,
            "grid_column": null,
            "grid_gap": null,
            "grid_row": null,
            "grid_template_areas": null,
            "grid_template_columns": null,
            "grid_template_rows": null,
            "height": null,
            "justify_content": null,
            "justify_items": null,
            "left": null,
            "margin": null,
            "max_height": null,
            "max_width": null,
            "min_height": null,
            "min_width": null,
            "object_fit": null,
            "object_position": null,
            "order": null,
            "overflow": null,
            "overflow_x": null,
            "overflow_y": null,
            "padding": null,
            "right": null,
            "top": null,
            "visibility": null,
            "width": null
          }
        },
        "0204ffed0efa48d7a9b45145786453cc": {
          "model_module": "@jupyter-widgets/controls",
          "model_name": "DescriptionStyleModel",
          "model_module_version": "1.5.0",
          "state": {
            "_model_module": "@jupyter-widgets/controls",
            "_model_module_version": "1.5.0",
            "_model_name": "DescriptionStyleModel",
            "_view_count": null,
            "_view_module": "@jupyter-widgets/base",
            "_view_module_version": "1.2.0",
            "_view_name": "StyleView",
            "description_width": ""
          }
        },
        "4488154e7bb545f9843936f6c669482d": {
          "model_module": "@jupyter-widgets/base",
          "model_name": "LayoutModel",
          "model_module_version": "1.2.0",
          "state": {
            "_model_module": "@jupyter-widgets/base",
            "_model_module_version": "1.2.0",
            "_model_name": "LayoutModel",
            "_view_count": null,
            "_view_module": "@jupyter-widgets/base",
            "_view_module_version": "1.2.0",
            "_view_name": "LayoutView",
            "align_content": null,
            "align_items": null,
            "align_self": null,
            "border": null,
            "bottom": null,
            "display": null,
            "flex": null,
            "flex_flow": null,
            "grid_area": null,
            "grid_auto_columns": null,
            "grid_auto_flow": null,
            "grid_auto_rows": null,
            "grid_column": null,
            "grid_gap": null,
            "grid_row": null,
            "grid_template_areas": null,
            "grid_template_columns": null,
            "grid_template_rows": null,
            "height": null,
            "justify_content": null,
            "justify_items": null,
            "left": null,
            "margin": null,
            "max_height": null,
            "max_width": null,
            "min_height": null,
            "min_width": null,
            "object_fit": null,
            "object_position": null,
            "order": null,
            "overflow": null,
            "overflow_x": null,
            "overflow_y": null,
            "padding": null,
            "right": null,
            "top": null,
            "visibility": null,
            "width": "20px"
          }
        },
        "f4dbf51dc70143a1958768bbec5d730d": {
          "model_module": "@jupyter-widgets/controls",
          "model_name": "ProgressStyleModel",
          "model_module_version": "1.5.0",
          "state": {
            "_model_module": "@jupyter-widgets/controls",
            "_model_module_version": "1.5.0",
            "_model_name": "ProgressStyleModel",
            "_view_count": null,
            "_view_module": "@jupyter-widgets/base",
            "_view_module_version": "1.2.0",
            "_view_name": "StyleView",
            "bar_color": null,
            "description_width": ""
          }
        },
        "eaa37de5d7a946ba9bdfe6a5b8fb8fc2": {
          "model_module": "@jupyter-widgets/base",
          "model_name": "LayoutModel",
          "model_module_version": "1.2.0",
          "state": {
            "_model_module": "@jupyter-widgets/base",
            "_model_module_version": "1.2.0",
            "_model_name": "LayoutModel",
            "_view_count": null,
            "_view_module": "@jupyter-widgets/base",
            "_view_module_version": "1.2.0",
            "_view_name": "LayoutView",
            "align_content": null,
            "align_items": null,
            "align_self": null,
            "border": null,
            "bottom": null,
            "display": null,
            "flex": null,
            "flex_flow": null,
            "grid_area": null,
            "grid_auto_columns": null,
            "grid_auto_flow": null,
            "grid_auto_rows": null,
            "grid_column": null,
            "grid_gap": null,
            "grid_row": null,
            "grid_template_areas": null,
            "grid_template_columns": null,
            "grid_template_rows": null,
            "height": null,
            "justify_content": null,
            "justify_items": null,
            "left": null,
            "margin": null,
            "max_height": null,
            "max_width": null,
            "min_height": null,
            "min_width": null,
            "object_fit": null,
            "object_position": null,
            "order": null,
            "overflow": null,
            "overflow_x": null,
            "overflow_y": null,
            "padding": null,
            "right": null,
            "top": null,
            "visibility": null,
            "width": null
          }
        },
        "c520d4c0a94a4fdaaefaa837a8b57f02": {
          "model_module": "@jupyter-widgets/controls",
          "model_name": "DescriptionStyleModel",
          "model_module_version": "1.5.0",
          "state": {
            "_model_module": "@jupyter-widgets/controls",
            "_model_module_version": "1.5.0",
            "_model_name": "DescriptionStyleModel",
            "_view_count": null,
            "_view_module": "@jupyter-widgets/base",
            "_view_module_version": "1.2.0",
            "_view_name": "StyleView",
            "description_width": ""
          }
        },
        "897f41c8a12a4da3ac3c18cdfdb18de1": {
          "model_module": "@jupyter-widgets/controls",
          "model_name": "HBoxModel",
          "model_module_version": "1.5.0",
          "state": {
            "_dom_classes": [],
            "_model_module": "@jupyter-widgets/controls",
            "_model_module_version": "1.5.0",
            "_model_name": "HBoxModel",
            "_view_count": null,
            "_view_module": "@jupyter-widgets/controls",
            "_view_module_version": "1.5.0",
            "_view_name": "HBoxView",
            "box_style": "",
            "children": [
              "IPY_MODEL_7477d124a2aa49f5a0e1f66ebddbd9a2",
              "IPY_MODEL_4917b5fb20cf491a80f45b895e9977d4",
              "IPY_MODEL_143987cc2f0d45d184d5522601c9ab61"
            ],
            "layout": "IPY_MODEL_cdddc4ebcaa740b7a91d30159a2dddb9"
          }
        },
        "7477d124a2aa49f5a0e1f66ebddbd9a2": {
          "model_module": "@jupyter-widgets/controls",
          "model_name": "HTMLModel",
          "model_module_version": "1.5.0",
          "state": {
            "_dom_classes": [],
            "_model_module": "@jupyter-widgets/controls",
            "_model_module_version": "1.5.0",
            "_model_name": "HTMLModel",
            "_view_count": null,
            "_view_module": "@jupyter-widgets/controls",
            "_view_module_version": "1.5.0",
            "_view_name": "HTMLView",
            "description": "",
            "description_tooltip": null,
            "layout": "IPY_MODEL_666f28d6fb2f486f840e25be5f8741fc",
            "placeholder": "​",
            "style": "IPY_MODEL_d034497b2c4c417992f5c7f963c82e56",
            "value": "New Data Upload               : 100%"
          }
        },
        "4917b5fb20cf491a80f45b895e9977d4": {
          "model_module": "@jupyter-widgets/controls",
          "model_name": "FloatProgressModel",
          "model_module_version": "1.5.0",
          "state": {
            "_dom_classes": [],
            "_model_module": "@jupyter-widgets/controls",
            "_model_module_version": "1.5.0",
            "_model_name": "FloatProgressModel",
            "_view_count": null,
            "_view_module": "@jupyter-widgets/controls",
            "_view_module_version": "1.5.0",
            "_view_name": "ProgressView",
            "bar_style": "success",
            "description": "",
            "description_tooltip": null,
            "layout": "IPY_MODEL_f7e4b9b1fa3f4a4b9900dd66f5dac624",
            "max": 1,
            "min": 0,
            "orientation": "horizontal",
            "style": "IPY_MODEL_306db9d8addf4831a5030abfbce252da",
            "value": 1
          }
        },
        "143987cc2f0d45d184d5522601c9ab61": {
          "model_module": "@jupyter-widgets/controls",
          "model_name": "HTMLModel",
          "model_module_version": "1.5.0",
          "state": {
            "_dom_classes": [],
            "_model_module": "@jupyter-widgets/controls",
            "_model_module_version": "1.5.0",
            "_model_name": "HTMLModel",
            "_view_count": null,
            "_view_module": "@jupyter-widgets/controls",
            "_view_module_version": "1.5.0",
            "_view_name": "HTMLView",
            "description": "",
            "description_tooltip": null,
            "layout": "IPY_MODEL_9988e2e7c2004d2eb6032c96ca9008a1",
            "placeholder": "​",
            "style": "IPY_MODEL_676fa5573373481db73350694ad25048",
            "value": "  292MB /  292MB, 60.9MB/s  "
          }
        },
        "cdddc4ebcaa740b7a91d30159a2dddb9": {
          "model_module": "@jupyter-widgets/base",
          "model_name": "LayoutModel",
          "model_module_version": "1.2.0",
          "state": {
            "_model_module": "@jupyter-widgets/base",
            "_model_module_version": "1.2.0",
            "_model_name": "LayoutModel",
            "_view_count": null,
            "_view_module": "@jupyter-widgets/base",
            "_view_module_version": "1.2.0",
            "_view_name": "LayoutView",
            "align_content": null,
            "align_items": null,
            "align_self": null,
            "border": null,
            "bottom": null,
            "display": null,
            "flex": null,
            "flex_flow": null,
            "grid_area": null,
            "grid_auto_columns": null,
            "grid_auto_flow": null,
            "grid_auto_rows": null,
            "grid_column": null,
            "grid_gap": null,
            "grid_row": null,
            "grid_template_areas": null,
            "grid_template_columns": null,
            "grid_template_rows": null,
            "height": null,
            "justify_content": null,
            "justify_items": null,
            "left": null,
            "margin": null,
            "max_height": null,
            "max_width": null,
            "min_height": null,
            "min_width": null,
            "object_fit": null,
            "object_position": null,
            "order": null,
            "overflow": null,
            "overflow_x": null,
            "overflow_y": null,
            "padding": null,
            "right": null,
            "top": null,
            "visibility": null,
            "width": null
          }
        },
        "666f28d6fb2f486f840e25be5f8741fc": {
          "model_module": "@jupyter-widgets/base",
          "model_name": "LayoutModel",
          "model_module_version": "1.2.0",
          "state": {
            "_model_module": "@jupyter-widgets/base",
            "_model_module_version": "1.2.0",
            "_model_name": "LayoutModel",
            "_view_count": null,
            "_view_module": "@jupyter-widgets/base",
            "_view_module_version": "1.2.0",
            "_view_name": "LayoutView",
            "align_content": null,
            "align_items": null,
            "align_self": null,
            "border": null,
            "bottom": null,
            "display": null,
            "flex": null,
            "flex_flow": null,
            "grid_area": null,
            "grid_auto_columns": null,
            "grid_auto_flow": null,
            "grid_auto_rows": null,
            "grid_column": null,
            "grid_gap": null,
            "grid_row": null,
            "grid_template_areas": null,
            "grid_template_columns": null,
            "grid_template_rows": null,
            "height": null,
            "justify_content": null,
            "justify_items": null,
            "left": null,
            "margin": null,
            "max_height": null,
            "max_width": null,
            "min_height": null,
            "min_width": null,
            "object_fit": null,
            "object_position": null,
            "order": null,
            "overflow": null,
            "overflow_x": null,
            "overflow_y": null,
            "padding": null,
            "right": null,
            "top": null,
            "visibility": null,
            "width": null
          }
        },
        "d034497b2c4c417992f5c7f963c82e56": {
          "model_module": "@jupyter-widgets/controls",
          "model_name": "DescriptionStyleModel",
          "model_module_version": "1.5.0",
          "state": {
            "_model_module": "@jupyter-widgets/controls",
            "_model_module_version": "1.5.0",
            "_model_name": "DescriptionStyleModel",
            "_view_count": null,
            "_view_module": "@jupyter-widgets/base",
            "_view_module_version": "1.2.0",
            "_view_name": "StyleView",
            "description_width": ""
          }
        },
        "f7e4b9b1fa3f4a4b9900dd66f5dac624": {
          "model_module": "@jupyter-widgets/base",
          "model_name": "LayoutModel",
          "model_module_version": "1.2.0",
          "state": {
            "_model_module": "@jupyter-widgets/base",
            "_model_module_version": "1.2.0",
            "_model_name": "LayoutModel",
            "_view_count": null,
            "_view_module": "@jupyter-widgets/base",
            "_view_module_version": "1.2.0",
            "_view_name": "LayoutView",
            "align_content": null,
            "align_items": null,
            "align_self": null,
            "border": null,
            "bottom": null,
            "display": null,
            "flex": null,
            "flex_flow": null,
            "grid_area": null,
            "grid_auto_columns": null,
            "grid_auto_flow": null,
            "grid_auto_rows": null,
            "grid_column": null,
            "grid_gap": null,
            "grid_row": null,
            "grid_template_areas": null,
            "grid_template_columns": null,
            "grid_template_rows": null,
            "height": null,
            "justify_content": null,
            "justify_items": null,
            "left": null,
            "margin": null,
            "max_height": null,
            "max_width": null,
            "min_height": null,
            "min_width": null,
            "object_fit": null,
            "object_position": null,
            "order": null,
            "overflow": null,
            "overflow_x": null,
            "overflow_y": null,
            "padding": null,
            "right": null,
            "top": null,
            "visibility": null,
            "width": "20px"
          }
        },
        "306db9d8addf4831a5030abfbce252da": {
          "model_module": "@jupyter-widgets/controls",
          "model_name": "ProgressStyleModel",
          "model_module_version": "1.5.0",
          "state": {
            "_model_module": "@jupyter-widgets/controls",
            "_model_module_version": "1.5.0",
            "_model_name": "ProgressStyleModel",
            "_view_count": null,
            "_view_module": "@jupyter-widgets/base",
            "_view_module_version": "1.2.0",
            "_view_name": "StyleView",
            "bar_color": null,
            "description_width": ""
          }
        },
        "9988e2e7c2004d2eb6032c96ca9008a1": {
          "model_module": "@jupyter-widgets/base",
          "model_name": "LayoutModel",
          "model_module_version": "1.2.0",
          "state": {
            "_model_module": "@jupyter-widgets/base",
            "_model_module_version": "1.2.0",
            "_model_name": "LayoutModel",
            "_view_count": null,
            "_view_module": "@jupyter-widgets/base",
            "_view_module_version": "1.2.0",
            "_view_name": "LayoutView",
            "align_content": null,
            "align_items": null,
            "align_self": null,
            "border": null,
            "bottom": null,
            "display": null,
            "flex": null,
            "flex_flow": null,
            "grid_area": null,
            "grid_auto_columns": null,
            "grid_auto_flow": null,
            "grid_auto_rows": null,
            "grid_column": null,
            "grid_gap": null,
            "grid_row": null,
            "grid_template_areas": null,
            "grid_template_columns": null,
            "grid_template_rows": null,
            "height": null,
            "justify_content": null,
            "justify_items": null,
            "left": null,
            "margin": null,
            "max_height": null,
            "max_width": null,
            "min_height": null,
            "min_width": null,
            "object_fit": null,
            "object_position": null,
            "order": null,
            "overflow": null,
            "overflow_x": null,
            "overflow_y": null,
            "padding": null,
            "right": null,
            "top": null,
            "visibility": null,
            "width": null
          }
        },
        "676fa5573373481db73350694ad25048": {
          "model_module": "@jupyter-widgets/controls",
          "model_name": "DescriptionStyleModel",
          "model_module_version": "1.5.0",
          "state": {
            "_model_module": "@jupyter-widgets/controls",
            "_model_module_version": "1.5.0",
            "_model_name": "DescriptionStyleModel",
            "_view_count": null,
            "_view_module": "@jupyter-widgets/base",
            "_view_module_version": "1.2.0",
            "_view_name": "StyleView",
            "description_width": ""
          }
        },
        "e53ea206629246c3a05bea2c3088a27b": {
          "model_module": "@jupyter-widgets/controls",
          "model_name": "HBoxModel",
          "model_module_version": "1.5.0",
          "state": {
            "_dom_classes": [],
            "_model_module": "@jupyter-widgets/controls",
            "_model_module_version": "1.5.0",
            "_model_name": "HBoxModel",
            "_view_count": null,
            "_view_module": "@jupyter-widgets/controls",
            "_view_module_version": "1.5.0",
            "_view_name": "HBoxView",
            "box_style": "",
            "children": [
              "IPY_MODEL_26aaa33eae9a4a1884fcfc18927077cc",
              "IPY_MODEL_e58c1016db8a41459a9efedc9b2b6524",
              "IPY_MODEL_17c5a535a6b045dbb1f5d769eddce38d"
            ],
            "layout": "IPY_MODEL_40b49242a429470a9df44b4170633d6a"
          }
        },
        "26aaa33eae9a4a1884fcfc18927077cc": {
          "model_module": "@jupyter-widgets/controls",
          "model_name": "HTMLModel",
          "model_module_version": "1.5.0",
          "state": {
            "_dom_classes": [],
            "_model_module": "@jupyter-widgets/controls",
            "_model_module_version": "1.5.0",
            "_model_name": "HTMLModel",
            "_view_count": null,
            "_view_module": "@jupyter-widgets/controls",
            "_view_module_version": "1.5.0",
            "_view_name": "HTMLView",
            "description": "",
            "description_tooltip": null,
            "layout": "IPY_MODEL_ea6c87afc5214d53b94c9cc981d396ef",
            "placeholder": "​",
            "style": "IPY_MODEL_4d75c982ad0c437289ccb1a10c0fcbbb",
            "value": "  ...rive/erav4/best_model.pth: 100%"
          }
        },
        "e58c1016db8a41459a9efedc9b2b6524": {
          "model_module": "@jupyter-widgets/controls",
          "model_name": "FloatProgressModel",
          "model_module_version": "1.5.0",
          "state": {
            "_dom_classes": [],
            "_model_module": "@jupyter-widgets/controls",
            "_model_module_version": "1.5.0",
            "_model_name": "FloatProgressModel",
            "_view_count": null,
            "_view_module": "@jupyter-widgets/controls",
            "_view_module_version": "1.5.0",
            "_view_name": "ProgressView",
            "bar_style": "success",
            "description": "",
            "description_tooltip": null,
            "layout": "IPY_MODEL_4cdb59d4f01b48bb8a5e3b4c08e6c612",
            "max": 292445500,
            "min": 0,
            "orientation": "horizontal",
            "style": "IPY_MODEL_e5f8f82f25ff4024a1737f587cac0fbf",
            "value": 292445500
          }
        },
        "17c5a535a6b045dbb1f5d769eddce38d": {
          "model_module": "@jupyter-widgets/controls",
          "model_name": "HTMLModel",
          "model_module_version": "1.5.0",
          "state": {
            "_dom_classes": [],
            "_model_module": "@jupyter-widgets/controls",
            "_model_module_version": "1.5.0",
            "_model_name": "HTMLModel",
            "_view_count": null,
            "_view_module": "@jupyter-widgets/controls",
            "_view_module_version": "1.5.0",
            "_view_name": "HTMLView",
            "description": "",
            "description_tooltip": null,
            "layout": "IPY_MODEL_29d6a28e63054eaeb5bba494696e3b97",
            "placeholder": "​",
            "style": "IPY_MODEL_115461d06507468cb900464da14fbf81",
            "value": "  292MB /  292MB            "
          }
        },
        "40b49242a429470a9df44b4170633d6a": {
          "model_module": "@jupyter-widgets/base",
          "model_name": "LayoutModel",
          "model_module_version": "1.2.0",
          "state": {
            "_model_module": "@jupyter-widgets/base",
            "_model_module_version": "1.2.0",
            "_model_name": "LayoutModel",
            "_view_count": null,
            "_view_module": "@jupyter-widgets/base",
            "_view_module_version": "1.2.0",
            "_view_name": "LayoutView",
            "align_content": null,
            "align_items": null,
            "align_self": null,
            "border": null,
            "bottom": null,
            "display": null,
            "flex": null,
            "flex_flow": null,
            "grid_area": null,
            "grid_auto_columns": null,
            "grid_auto_flow": null,
            "grid_auto_rows": null,
            "grid_column": null,
            "grid_gap": null,
            "grid_row": null,
            "grid_template_areas": null,
            "grid_template_columns": null,
            "grid_template_rows": null,
            "height": null,
            "justify_content": null,
            "justify_items": null,
            "left": null,
            "margin": null,
            "max_height": null,
            "max_width": null,
            "min_height": null,
            "min_width": null,
            "object_fit": null,
            "object_position": null,
            "order": null,
            "overflow": null,
            "overflow_x": null,
            "overflow_y": null,
            "padding": null,
            "right": null,
            "top": null,
            "visibility": null,
            "width": null
          }
        },
        "ea6c87afc5214d53b94c9cc981d396ef": {
          "model_module": "@jupyter-widgets/base",
          "model_name": "LayoutModel",
          "model_module_version": "1.2.0",
          "state": {
            "_model_module": "@jupyter-widgets/base",
            "_model_module_version": "1.2.0",
            "_model_name": "LayoutModel",
            "_view_count": null,
            "_view_module": "@jupyter-widgets/base",
            "_view_module_version": "1.2.0",
            "_view_name": "LayoutView",
            "align_content": null,
            "align_items": null,
            "align_self": null,
            "border": null,
            "bottom": null,
            "display": null,
            "flex": null,
            "flex_flow": null,
            "grid_area": null,
            "grid_auto_columns": null,
            "grid_auto_flow": null,
            "grid_auto_rows": null,
            "grid_column": null,
            "grid_gap": null,
            "grid_row": null,
            "grid_template_areas": null,
            "grid_template_columns": null,
            "grid_template_rows": null,
            "height": null,
            "justify_content": null,
            "justify_items": null,
            "left": null,
            "margin": null,
            "max_height": null,
            "max_width": null,
            "min_height": null,
            "min_width": null,
            "object_fit": null,
            "object_position": null,
            "order": null,
            "overflow": null,
            "overflow_x": null,
            "overflow_y": null,
            "padding": null,
            "right": null,
            "top": null,
            "visibility": null,
            "width": null
          }
        },
        "4d75c982ad0c437289ccb1a10c0fcbbb": {
          "model_module": "@jupyter-widgets/controls",
          "model_name": "DescriptionStyleModel",
          "model_module_version": "1.5.0",
          "state": {
            "_model_module": "@jupyter-widgets/controls",
            "_model_module_version": "1.5.0",
            "_model_name": "DescriptionStyleModel",
            "_view_count": null,
            "_view_module": "@jupyter-widgets/base",
            "_view_module_version": "1.2.0",
            "_view_name": "StyleView",
            "description_width": ""
          }
        },
        "4cdb59d4f01b48bb8a5e3b4c08e6c612": {
          "model_module": "@jupyter-widgets/base",
          "model_name": "LayoutModel",
          "model_module_version": "1.2.0",
          "state": {
            "_model_module": "@jupyter-widgets/base",
            "_model_module_version": "1.2.0",
            "_model_name": "LayoutModel",
            "_view_count": null,
            "_view_module": "@jupyter-widgets/base",
            "_view_module_version": "1.2.0",
            "_view_name": "LayoutView",
            "align_content": null,
            "align_items": null,
            "align_self": null,
            "border": null,
            "bottom": null,
            "display": null,
            "flex": null,
            "flex_flow": null,
            "grid_area": null,
            "grid_auto_columns": null,
            "grid_auto_flow": null,
            "grid_auto_rows": null,
            "grid_column": null,
            "grid_gap": null,
            "grid_row": null,
            "grid_template_areas": null,
            "grid_template_columns": null,
            "grid_template_rows": null,
            "height": null,
            "justify_content": null,
            "justify_items": null,
            "left": null,
            "margin": null,
            "max_height": null,
            "max_width": null,
            "min_height": null,
            "min_width": null,
            "object_fit": null,
            "object_position": null,
            "order": null,
            "overflow": null,
            "overflow_x": null,
            "overflow_y": null,
            "padding": null,
            "right": null,
            "top": null,
            "visibility": null,
            "width": null
          }
        },
        "e5f8f82f25ff4024a1737f587cac0fbf": {
          "model_module": "@jupyter-widgets/controls",
          "model_name": "ProgressStyleModel",
          "model_module_version": "1.5.0",
          "state": {
            "_model_module": "@jupyter-widgets/controls",
            "_model_module_version": "1.5.0",
            "_model_name": "ProgressStyleModel",
            "_view_count": null,
            "_view_module": "@jupyter-widgets/base",
            "_view_module_version": "1.2.0",
            "_view_name": "StyleView",
            "bar_color": null,
            "description_width": ""
          }
        },
        "29d6a28e63054eaeb5bba494696e3b97": {
          "model_module": "@jupyter-widgets/base",
          "model_name": "LayoutModel",
          "model_module_version": "1.2.0",
          "state": {
            "_model_module": "@jupyter-widgets/base",
            "_model_module_version": "1.2.0",
            "_model_name": "LayoutModel",
            "_view_count": null,
            "_view_module": "@jupyter-widgets/base",
            "_view_module_version": "1.2.0",
            "_view_name": "LayoutView",
            "align_content": null,
            "align_items": null,
            "align_self": null,
            "border": null,
            "bottom": null,
            "display": null,
            "flex": null,
            "flex_flow": null,
            "grid_area": null,
            "grid_auto_columns": null,
            "grid_auto_flow": null,
            "grid_auto_rows": null,
            "grid_column": null,
            "grid_gap": null,
            "grid_row": null,
            "grid_template_areas": null,
            "grid_template_columns": null,
            "grid_template_rows": null,
            "height": null,
            "justify_content": null,
            "justify_items": null,
            "left": null,
            "margin": null,
            "max_height": null,
            "max_width": null,
            "min_height": null,
            "min_width": null,
            "object_fit": null,
            "object_position": null,
            "order": null,
            "overflow": null,
            "overflow_x": null,
            "overflow_y": null,
            "padding": null,
            "right": null,
            "top": null,
            "visibility": null,
            "width": null
          }
        },
        "115461d06507468cb900464da14fbf81": {
          "model_module": "@jupyter-widgets/controls",
          "model_name": "DescriptionStyleModel",
          "model_module_version": "1.5.0",
          "state": {
            "_model_module": "@jupyter-widgets/controls",
            "_model_module_version": "1.5.0",
            "_model_name": "DescriptionStyleModel",
            "_view_count": null,
            "_view_module": "@jupyter-widgets/base",
            "_view_module_version": "1.2.0",
            "_view_name": "StyleView",
            "description_width": ""
          }
        }
      }
    }
  },
  "nbformat": 4,
  "nbformat_minor": 0
}