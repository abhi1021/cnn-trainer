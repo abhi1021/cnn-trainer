{
 "nbformat": 4,
 "nbformat_minor": 0,
 "metadata": {
  "colab": {
   "provenance": []
  },
  "kernelspec": {
   "name": "python3",
   "display_name": "Python 3"
  },
  "accelerator": "GPU"
 },
 "cells": [
  {
   "cell_type": "markdown",
   "metadata": {
    "id": "aO-7t1Y7-hV4"
   },
   "source": [
    "# Import Libraries"
   ]
  },
  {
   "cell_type": "code",
   "metadata": {
    "id": "8kH16rnZ7wt_"
   },
   "source": [
    "from __future__ import print_function\n",
    "import torch\n",
    "import torch.nn as nn\n",
    "import torch.nn.functional as F\n",
    "import torch.optim as optim\n",
    "from torchvision import datasets, transforms"
   ],
   "execution_count": null,
   "outputs": []
  },
  {
   "cell_type": "markdown",
   "metadata": {
    "id": "ky3f_Odl-7um"
   },
   "source": [
    "## Data Transformations\n",
    "\n",
    "We first start with defining our data transformations. We need to think what our data is and how can we augment it to correct represent images which it might not see otherwise.\n"
   ]
  },
  {
   "cell_type": "code",
   "metadata": {
    "id": "YtssFUKb-jqx"
   },
   "source": [
    "# Train Phase transformations\n",
    "train_transforms = transforms.Compose([\n",
    "                                      #  transforms.Resize((28, 28)),\n",
    "                                      #  transforms.ColorJitter(brightness=0.10, contrast=0.1, saturation=0.10, hue=0.1),\n",
    "                                       transforms.RandomRotation((-7.0, 7.0), fill=(1,)),\n",
    "                                       transforms.RandomAffine(0, translate=(0.07, 0.07)),\n",
    "                                       transforms.ToTensor(),\n",
    "                                       transforms.Normalize((0.1307,), (0.3081,)) # The mean and std have to be sequences (e.g., tuples), therefore you should add a comma after the values.\n",
    "                                       # Note the difference between (0.1307) and (0.1307,)\n",
    "                                       ])\n",
    "\n",
    "# Test Phase transformations\n",
    "test_transforms = transforms.Compose([\n",
    "                                      #  transforms.Resize((28, 28)),\n",
    "                                      #  transforms.ColorJitter(brightness=0.10, contrast=0.1, saturation=0.10, hue=0.1),\n",
    "                                       transforms.ToTensor(),\n",
    "                                       transforms.Normalize((0.1307,), (0.3081,))\n",
    "                                       ])\n"
   ],
   "execution_count": null,
   "outputs": []
  },
  {
   "cell_type": "markdown",
   "metadata": {
    "id": "oQciFYo2B1mO"
   },
   "source": [
    "# Dataset and Creating Train/Test Split"
   ]
  },
  {
   "cell_type": "code",
   "metadata": {
    "id": "_4A84rlfDA23",
    "colab": {
     "base_uri": "https://localhost:8080/"
    },
    "outputId": "eed25272-16c8-45c9-a948-b25811c04ab1"
   },
   "source": [
    "train = datasets.MNIST('./data', train=True, download=True, transform=train_transforms)\n",
    "test = datasets.MNIST('./data', train=False, download=True, transform=test_transforms)"
   ],
   "execution_count": null,
   "outputs": [
    {
     "output_type": "stream",
     "name": "stderr",
     "text": [
      "100%|██████████| 9.91M/9.91M [00:00<00:00, 18.7MB/s]\n",
      "100%|██████████| 28.9k/28.9k [00:00<00:00, 495kB/s]\n",
      "100%|██████████| 1.65M/1.65M [00:00<00:00, 4.59MB/s]\n",
      "100%|██████████| 4.54k/4.54k [00:00<00:00, 20.8MB/s]\n"
     ]
    }
   ]
  },
  {
   "cell_type": "markdown",
   "metadata": {
    "id": "qgldp_3-Dn0c"
   },
   "source": [
    "# Dataloader Arguments & Test/Train Dataloaders\n"
   ]
  },
  {
   "cell_type": "code",
   "metadata": {
    "id": "C8OLDR79DrHG",
    "outputId": "9e9e8a59-b4b4-4398-fdbb-c8a43d12fdbd",
    "colab": {
     "base_uri": "https://localhost:8080/"
    }
   },
   "source": [
    "SEED = 1\n",
    "\n",
    "# CUDA?\n",
    "cuda = torch.cuda.is_available()\n",
    "print(\"CUDA Available?\", cuda)\n",
    "\n",
    "# For reproducibility\n",
    "torch.manual_seed(SEED)\n",
    "\n",
    "if cuda:\n",
    "    torch.cuda.manual_seed(SEED)\n",
    "\n",
    "# dataloader arguments - something you'll fetch these from cmdprmt\n",
    "dataloader_args = dict(shuffle=True, batch_size=128, num_workers=4, pin_memory=True) if cuda else dict(shuffle=True, batch_size=64)\n",
    "\n",
    "# train dataloader\n",
    "train_loader = torch.utils.data.DataLoader(train, **dataloader_args)\n",
    "\n",
    "# test dataloader\n",
    "test_loader = torch.utils.data.DataLoader(test, **dataloader_args)"
   ],
   "execution_count": null,
   "outputs": [
    {
     "output_type": "stream",
     "name": "stdout",
     "text": [
      "CUDA Available? True\n"
     ]
    },
    {
     "output_type": "stream",
     "name": "stderr",
     "text": [
      "/usr/local/lib/python3.12/dist-packages/torch/utils/data/dataloader.py:627: UserWarning: This DataLoader will create 4 worker processes in total. Our suggested max number of worker in current system is 2, which is smaller than what this DataLoader is going to create. Please be aware that excessive worker creation might get DataLoader running slow or even freeze, lower the worker number to avoid potential slowness/freeze if necessary.\n",
      "  warnings.warn(\n"
     ]
    }
   ]
  },
  {
   "cell_type": "markdown",
   "metadata": {
    "id": "ubQL3H6RJL3h"
   },
   "source": [
    "# The model\n",
    "Let's start with the model we first saw"
   ]
  },
  {
   "cell_type": "code",
   "metadata": {
    "id": "7FXQlB9kH1ov"
   },
   "source": [
    "import torch.nn.functional as F\n",
    "dropout_value = 0.1\n",
    "class Net(nn.Module):\n",
    "    def __init__(self):\n",
    "        super(Net, self).__init__()\n",
    "        # Input Block\n",
    "        self.convblock1 = nn.Sequential(\n",
    "            nn.Conv2d(in_channels=1, out_channels=8, kernel_size=(3, 3), padding=0, bias=False),\n",
    "            nn.ReLU(),\n",
    "            nn.BatchNorm2d(8),\n",
    "            nn.Dropout(dropout_value)\n",
    "        ) # output_size = 26\n",
    "\n",
    "        # CONVOLUTION BLOCK 1\n",
    "        self.convblock2 = nn.Sequential(\n",
    "            nn.Conv2d(in_channels=8, out_channels=16, kernel_size=(3, 3), padding=0, bias=False),\n",
    "            nn.ReLU(),\n",
    "            nn.BatchNorm2d(16),\n",
    "            nn.Dropout(dropout_value)\n",
    "        ) # output_size = 24\n",
    "\n",
    "        # TRANSITION BLOCK 1\n",
    "        self.convblock3 = nn.Sequential(\n",
    "            nn.Conv2d(in_channels=16, out_channels=8, kernel_size=(1, 1), padding=0, bias=False),\n",
    "        ) # output_size = 24\n",
    "        self.pool1 = nn.MaxPool2d(2, 2) # output_size = 12\n",
    "\n",
    "        # CONVOLUTION BLOCK 2\n",
    "        self.convblock4 = nn.Sequential(\n",
    "            nn.Conv2d(in_channels=8, out_channels=8, kernel_size=(3, 3), padding=0, bias=False),\n",
    "            nn.ReLU(),\n",
    "            nn.BatchNorm2d(8),\n",
    "            nn.Dropout(dropout_value)\n",
    "        ) # output_size = 10\n",
    "        self.convblock5 = nn.Sequential(\n",
    "            nn.Conv2d(in_channels=8, out_channels=8, kernel_size=(3, 3), padding=0, bias=False),\n",
    "            nn.ReLU(),\n",
    "            nn.BatchNorm2d(8),\n",
    "            nn.Dropout(dropout_value)\n",
    "        ) # output_size = 8\n",
    "        self.convblock6 = nn.Sequential(\n",
    "            nn.Conv2d(in_channels=8, out_channels=8, kernel_size=(3, 3), padding=0, bias=False),\n",
    "            nn.ReLU(),\n",
    "            nn.BatchNorm2d(8),\n",
    "            nn.Dropout(dropout_value)\n",
    "        ) # output_size = 6\n",
    "        self.convblock7 = nn.Sequential(\n",
    "            nn.Conv2d(in_channels=8, out_channels=16, kernel_size=(3, 3), padding=1, bias=False),\n",
    "            nn.ReLU(),\n",
    "            nn.BatchNorm2d(16),\n",
    "            nn.Dropout(dropout_value)\n",
    "        ) # output_size = 6\n",
    "        self.convblock8 = nn.Sequential(\n",
    "            nn.Conv2d(in_channels=16, out_channels=16, kernel_size=(3, 3), padding=1, bias=False),\n",
    "            nn.ReLU(),\n",
    "            nn.BatchNorm2d(16),\n",
    "            nn.Dropout(dropout_value)\n",
    "        ) # output_size = 6\n",
    "\n",
    "        # OUTPUT BLOCK\n",
    "        self.gap = nn.Sequential(\n",
    "            nn.AvgPool2d(kernel_size=6)\n",
    "        ) # output_size = 1\n",
    "\n",
    "        self.convblock9 = nn.Sequential(\n",
    "            nn.Conv2d(in_channels=16, out_channels=10, kernel_size=(1, 1), padding=0, bias=False),\n",
    "            # nn.BatchNorm2d(10),\n",
    "            # nn.ReLU(),\n",
    "            # nn.Dropout(dropout_value)\n",
    "        )\n",
    "\n",
    "\n",
    "        self.dropout = nn.Dropout(dropout_value)\n",
    "\n",
    "    def forward(self, x):\n",
    "        x = self.convblock1(x)\n",
    "        x = self.convblock2(x)\n",
    "        x = self.convblock3(x)\n",
    "        x = self.pool1(x)\n",
    "        x = self.convblock4(x)\n",
    "        x = self.convblock5(x)\n",
    "        x = self.convblock6(x)\n",
    "        x = self.convblock7(x)\n",
    "        x = self.convblock8(x)\n",
    "        x = self.gap(x)\n",
    "        x = self.convblock9(x)\n",
    "\n",
    "        x = x.view(-1, 10)\n",
    "        return F.log_softmax(x, dim=-1)"
   ],
   "execution_count": null,
   "outputs": []
  },
  {
   "cell_type": "markdown",
   "metadata": {
    "id": "M3-vp8X9LCWo"
   },
   "source": [
    "# Model Params\n",
    "Can't emphasize on how important viewing Model Summary is.\n",
    "Unfortunately, there is no in-built model visualizer, so we have to take external help"
   ]
  },
  {
   "cell_type": "code",
   "metadata": {
    "id": "5skB97zIJQQe",
    "outputId": "d1445d47-10b1-4af9-bba3-7a42d1535403",
    "colab": {
     "base_uri": "https://localhost:8080/"
    }
   },
   "source": [
    "from torchsummary import summary\n",
    "use_cuda = torch.cuda.is_available()\n",
    "device = torch.device(\"cuda\" if use_cuda else \"cpu\")\n",
    "print(device)\n",
    "model = Net().to(device)\n",
    "summary(model, input_size=(1, 28, 28))"
   ],
   "execution_count": null,
   "outputs": [
    {
     "output_type": "stream",
     "name": "stdout",
     "text": [
      "cuda\n",
      "----------------------------------------------------------------\n",
      "        Layer (type)               Output Shape         Param #\n",
      "================================================================\n",
      "            Conv2d-1            [-1, 8, 26, 26]              72\n",
      "              ReLU-2            [-1, 8, 26, 26]               0\n",
      "       BatchNorm2d-3            [-1, 8, 26, 26]              16\n",
      "           Dropout-4            [-1, 8, 26, 26]               0\n",
      "            Conv2d-5           [-1, 16, 24, 24]           1,152\n",
      "              ReLU-6           [-1, 16, 24, 24]               0\n",
      "       BatchNorm2d-7           [-1, 16, 24, 24]              32\n",
      "           Dropout-8           [-1, 16, 24, 24]               0\n",
      "            Conv2d-9            [-1, 8, 24, 24]             128\n",
      "        MaxPool2d-10            [-1, 8, 12, 12]               0\n",
      "           Conv2d-11            [-1, 8, 10, 10]             576\n",
      "             ReLU-12            [-1, 8, 10, 10]               0\n",
      "      BatchNorm2d-13            [-1, 8, 10, 10]              16\n",
      "          Dropout-14            [-1, 8, 10, 10]               0\n",
      "           Conv2d-15              [-1, 8, 8, 8]             576\n",
      "             ReLU-16              [-1, 8, 8, 8]               0\n",
      "      BatchNorm2d-17              [-1, 8, 8, 8]              16\n",
      "          Dropout-18              [-1, 8, 8, 8]               0\n",
      "           Conv2d-19              [-1, 8, 6, 6]             576\n",
      "             ReLU-20              [-1, 8, 6, 6]               0\n",
      "      BatchNorm2d-21              [-1, 8, 6, 6]              16\n",
      "          Dropout-22              [-1, 8, 6, 6]               0\n",
      "           Conv2d-23             [-1, 16, 6, 6]           1,152\n",
      "             ReLU-24             [-1, 16, 6, 6]               0\n",
      "      BatchNorm2d-25             [-1, 16, 6, 6]              32\n",
      "          Dropout-26             [-1, 16, 6, 6]               0\n",
      "           Conv2d-27             [-1, 16, 6, 6]           2,304\n",
      "             ReLU-28             [-1, 16, 6, 6]               0\n",
      "      BatchNorm2d-29             [-1, 16, 6, 6]              32\n",
      "          Dropout-30             [-1, 16, 6, 6]               0\n",
      "        AvgPool2d-31             [-1, 16, 1, 1]               0\n",
      "           Conv2d-32             [-1, 10, 1, 1]             160\n",
      "================================================================\n",
      "Total params: 6,856\n",
      "Trainable params: 6,856\n",
      "Non-trainable params: 0\n",
      "----------------------------------------------------------------\n",
      "Input size (MB): 0.00\n",
      "Forward/backward pass size (MB): 0.57\n",
      "Params size (MB): 0.03\n",
      "Estimated Total Size (MB): 0.60\n",
      "----------------------------------------------------------------\n"
     ]
    }
   ]
  },
  {
   "cell_type": "markdown",
   "metadata": {
    "id": "1__x_SbrL7z3"
   },
   "source": [
    "# Training and Testing\n",
    "\n",
    "Looking at logs can be boring, so we'll introduce **tqdm** progressbar to get cooler logs.\n",
    "\n",
    "Let's write train and test functions"
   ]
  },
  {
   "cell_type": "code",
   "metadata": {
    "id": "fbkF2nN_LYIb"
   },
   "source": [
    "from tqdm import tqdm\n",
    "\n",
    "train_losses = []\n",
    "test_losses = []\n",
    "train_acc = []\n",
    "test_acc = []\n",
    "\n",
    "def train(model, device, train_loader, optimizer, epoch):\n",
    "  model.train()\n",
    "  pbar = tqdm(train_loader)\n",
    "  correct = 0\n",
    "  processed = 0\n",
    "  for batch_idx, (data, target) in enumerate(pbar):\n",
    "    # get samples\n",
    "    data, target = data.to(device), target.to(device)\n",
    "\n",
    "    # Init\n",
    "    optimizer.zero_grad()\n",
    "    # In PyTorch, we need to set the gradients to zero before starting to do backpropragation because PyTorch accumulates the gradients on subsequent backward passes.\n",
    "    # Because of this, when you start your training loop, ideally you should zero out the gradients so that you do the parameter update correctly.\n",
    "\n",
    "    # Predict\n",
    "    y_pred = model(data)\n",
    "\n",
    "    # Calculate loss\n",
    "    loss = F.nll_loss(y_pred, target)\n",
    "    train_losses.append(loss)\n",
    "\n",
    "    # Backpropagation\n",
    "    loss.backward()\n",
    "    optimizer.step()\n",
    "\n",
    "    # Update pbar-tqdm\n",
    "\n",
    "    pred = y_pred.argmax(dim=1, keepdim=True)  # get the index of the max log-probability\n",
    "    correct += pred.eq(target.view_as(pred)).sum().item()\n",
    "    processed += len(data)\n",
    "\n",
    "    pbar.set_description(desc= f'Loss={loss.item()} Batch_id={batch_idx} Accuracy={100*correct/processed:0.2f}')\n",
    "    train_acc.append(100*correct/processed)\n",
    "\n",
    "def test(model, device, test_loader):\n",
    "    model.eval()\n",
    "    test_loss = 0\n",
    "    correct = 0\n",
    "    with torch.no_grad():\n",
    "        for data, target in test_loader:\n",
    "            data, target = data.to(device), target.to(device)\n",
    "            output = model(data)\n",
    "            test_loss += F.nll_loss(output, target, reduction='sum').item()  # sum up batch loss\n",
    "            pred = output.argmax(dim=1, keepdim=True)  # get the index of the max log-probability\n",
    "            correct += pred.eq(target.view_as(pred)).sum().item()\n",
    "\n",
    "    test_loss /= len(test_loader.dataset)\n",
    "    test_losses.append(test_loss)\n",
    "\n",
    "    print('\\nTest set: Average loss: {:.4f}, Accuracy: {}/{} ({:.2f}%)\\n'.format(\n",
    "        test_loss, correct, len(test_loader.dataset),\n",
    "        100. * correct / len(test_loader.dataset)))\n",
    "\n",
    "    test_acc.append(100. * correct / len(test_loader.dataset))"
   ],
   "execution_count": null,
   "outputs": []
  },
  {
   "cell_type": "code",
   "metadata": {
    "id": "aE5Le6FYHhc8",
    "outputId": "b01e51f6-9b2f-4179-aa54-42b7c9c32354",
    "colab": {
     "base_uri": "https://localhost:8080/",
     "height": 1000
    }
   },
   "source": [
    "from torch.optim.lr_scheduler import StepLR\n",
    "from torch.optim.lr_scheduler import OneCycleLR\n",
    "\n",
    "model =  Net().to(device)\n",
    "optimizer = optim.SGD(model.parameters(), lr=0.01, momentum=0.9)\n",
    "# OneCycleLR\n",
    "scheduler = OneCycleLR(\n",
    "    optimizer,\n",
    "    max_lr=0.05,\n",
    "    steps_per_epoch=len(train_loader),\n",
    "    epochs=15\n",
    ")\n",
    "\n",
    "\n",
    "EPOCHS = 20\n",
    "for epoch in range(EPOCHS):\n",
    "    print(\"EPOCH:\", epoch)\n",
    "    train(model, device, train_loader, optimizer, epoch)\n",
    "    scheduler.step()\n",
    "    test(model, device, test_loader)"
   ],
   "execution_count": null,
   "outputs": [
    {
     "output_type": "stream",
     "name": "stdout",
     "text": [
      "EPOCH: 0\n"
     ]
    },
    {
     "output_type": "stream",
     "name": "stderr",
     "text": [
      "Loss=0.3167599141597748 Batch_id=468 Accuracy=70.61: 100%|██████████| 469/469 [00:21<00:00, 21.97it/s]\n"
     ]
    },
    {
     "output_type": "stream",
     "name": "stdout",
     "text": [
      "\n",
      "Test set: Average loss: 0.2584, Accuracy: 9351/10000 (93.51%)\n",
      "\n",
      "EPOCH: 1\n"
     ]
    },
    {
     "output_type": "stream",
     "name": "stderr",
     "text": [
      "Loss=0.4017540514469147 Batch_id=468 Accuracy=93.49: 100%|██████████| 469/469 [00:21<00:00, 21.95it/s]\n"
     ]
    },
    {
     "output_type": "stream",
     "name": "stdout",
     "text": [
      "\n",
      "Test set: Average loss: 0.0952, Accuracy: 9734/10000 (97.34%)\n",
      "\n",
      "EPOCH: 2\n"
     ]
    },
    {
     "output_type": "stream",
     "name": "stderr",
     "text": [
      "Loss=0.09514430910348892 Batch_id=468 Accuracy=95.37: 100%|██████████| 469/469 [00:21<00:00, 22.03it/s]\n"
     ]
    },
    {
     "output_type": "stream",
     "name": "stdout",
     "text": [
      "\n",
      "Test set: Average loss: 0.0763, Accuracy: 9782/10000 (97.82%)\n",
      "\n",
      "EPOCH: 3\n"
     ]
    },
    {
     "output_type": "stream",
     "name": "stderr",
     "text": [
      "Loss=0.19389384984970093 Batch_id=468 Accuracy=96.03: 100%|██████████| 469/469 [00:20<00:00, 23.20it/s]\n"
     ]
    },
    {
     "output_type": "stream",
     "name": "stdout",
     "text": [
      "\n",
      "Test set: Average loss: 0.0630, Accuracy: 9803/10000 (98.03%)\n",
      "\n",
      "EPOCH: 4\n"
     ]
    },
    {
     "output_type": "stream",
     "name": "stderr",
     "text": [
      "Loss=0.14936822652816772 Batch_id=468 Accuracy=96.54: 100%|██████████| 469/469 [00:20<00:00, 22.69it/s]\n"
     ]
    },
    {
     "output_type": "stream",
     "name": "stdout",
     "text": [
      "\n",
      "Test set: Average loss: 0.0521, Accuracy: 9842/10000 (98.42%)\n",
      "\n",
      "EPOCH: 5\n"
     ]
    },
    {
     "output_type": "stream",
     "name": "stderr",
     "text": [
      "Loss=0.11870890855789185 Batch_id=468 Accuracy=96.96: 100%|██████████| 469/469 [00:21<00:00, 22.01it/s]\n"
     ]
    },
    {
     "output_type": "stream",
     "name": "stdout",
     "text": [
      "\n",
      "Test set: Average loss: 0.0389, Accuracy: 9880/10000 (98.80%)\n",
      "\n",
      "EPOCH: 6\n"
     ]
    },
    {
     "output_type": "stream",
     "name": "stderr",
     "text": [
      "Loss=0.133355975151062 Batch_id=468 Accuracy=97.03: 100%|██████████| 469/469 [00:21<00:00, 22.10it/s]\n"
     ]
    },
    {
     "output_type": "stream",
     "name": "stdout",
     "text": [
      "\n",
      "Test set: Average loss: 0.0409, Accuracy: 9865/10000 (98.65%)\n",
      "\n",
      "EPOCH: 7\n"
     ]
    },
    {
     "output_type": "stream",
     "name": "stderr",
     "text": [
      "Loss=0.21623478829860687 Batch_id=468 Accuracy=97.26: 100%|██████████| 469/469 [00:20<00:00, 22.84it/s]\n"
     ]
    },
    {
     "output_type": "stream",
     "name": "stdout",
     "text": [
      "\n",
      "Test set: Average loss: 0.0413, Accuracy: 9857/10000 (98.57%)\n",
      "\n",
      "EPOCH: 8\n"
     ]
    },
    {
     "output_type": "stream",
     "name": "stderr",
     "text": [
      "Loss=0.09057340770959854 Batch_id=468 Accuracy=97.54: 100%|██████████| 469/469 [00:20<00:00, 23.19it/s]\n"
     ]
    },
    {
     "output_type": "stream",
     "name": "stdout",
     "text": [
      "\n",
      "Test set: Average loss: 0.0371, Accuracy: 9877/10000 (98.77%)\n",
      "\n",
      "EPOCH: 9\n"
     ]
    },
    {
     "output_type": "stream",
     "name": "stderr",
     "text": [
      "Loss=0.030926382169127464 Batch_id=468 Accuracy=97.51: 100%|██████████| 469/469 [00:21<00:00, 21.65it/s]\n"
     ]
    },
    {
     "output_type": "stream",
     "name": "stdout",
     "text": [
      "\n",
      "Test set: Average loss: 0.0360, Accuracy: 9882/10000 (98.82%)\n",
      "\n",
      "EPOCH: 10\n"
     ]
    },
    {
     "output_type": "stream",
     "name": "stderr",
     "text": [
      "Loss=0.06182975322008133 Batch_id=288 Accuracy=97.70:  62%|██████▏   | 289/469 [00:13<00:08, 21.17it/s]\n"
     ]
    },
    {
     "output_type": "error",
     "ename": "KeyboardInterrupt",
     "evalue": "",
     "traceback": [
      "\u001B[0;31m---------------------------------------------------------------------------\u001B[0m",
      "\u001B[0;31mKeyboardInterrupt\u001B[0m                         Traceback (most recent call last)",
      "\u001B[0;32m/tmp/ipython-input-714221852.py\u001B[0m in \u001B[0;36m<cell line: 0>\u001B[0;34m()\u001B[0m\n\u001B[1;32m     16\u001B[0m \u001B[0;32mfor\u001B[0m \u001B[0mepoch\u001B[0m \u001B[0;32min\u001B[0m \u001B[0mrange\u001B[0m\u001B[0;34m(\u001B[0m\u001B[0mEPOCHS\u001B[0m\u001B[0;34m)\u001B[0m\u001B[0;34m:\u001B[0m\u001B[0;34m\u001B[0m\u001B[0;34m\u001B[0m\u001B[0m\n\u001B[1;32m     17\u001B[0m     \u001B[0mprint\u001B[0m\u001B[0;34m(\u001B[0m\u001B[0;34m\"EPOCH:\"\u001B[0m\u001B[0;34m,\u001B[0m \u001B[0mepoch\u001B[0m\u001B[0;34m)\u001B[0m\u001B[0;34m\u001B[0m\u001B[0;34m\u001B[0m\u001B[0m\n\u001B[0;32m---> 18\u001B[0;31m     \u001B[0mtrain\u001B[0m\u001B[0;34m(\u001B[0m\u001B[0mmodel\u001B[0m\u001B[0;34m,\u001B[0m \u001B[0mdevice\u001B[0m\u001B[0;34m,\u001B[0m \u001B[0mtrain_loader\u001B[0m\u001B[0;34m,\u001B[0m \u001B[0moptimizer\u001B[0m\u001B[0;34m,\u001B[0m \u001B[0mepoch\u001B[0m\u001B[0;34m)\u001B[0m\u001B[0;34m\u001B[0m\u001B[0;34m\u001B[0m\u001B[0m\n\u001B[0m\u001B[1;32m     19\u001B[0m     \u001B[0mscheduler\u001B[0m\u001B[0;34m.\u001B[0m\u001B[0mstep\u001B[0m\u001B[0;34m(\u001B[0m\u001B[0;34m)\u001B[0m\u001B[0;34m\u001B[0m\u001B[0;34m\u001B[0m\u001B[0m\n\u001B[1;32m     20\u001B[0m     \u001B[0mtest\u001B[0m\u001B[0;34m(\u001B[0m\u001B[0mmodel\u001B[0m\u001B[0;34m,\u001B[0m \u001B[0mdevice\u001B[0m\u001B[0;34m,\u001B[0m \u001B[0mtest_loader\u001B[0m\u001B[0;34m)\u001B[0m\u001B[0;34m\u001B[0m\u001B[0;34m\u001B[0m\u001B[0m\n",
      "\u001B[0;32m/tmp/ipython-input-2103444728.py\u001B[0m in \u001B[0;36mtrain\u001B[0;34m(model, device, train_loader, optimizer, epoch)\u001B[0m\n\u001B[1;32m     28\u001B[0m \u001B[0;34m\u001B[0m\u001B[0m\n\u001B[1;32m     29\u001B[0m     \u001B[0;31m# Backpropagation\u001B[0m\u001B[0;34m\u001B[0m\u001B[0;34m\u001B[0m\u001B[0m\n\u001B[0;32m---> 30\u001B[0;31m     \u001B[0mloss\u001B[0m\u001B[0;34m.\u001B[0m\u001B[0mbackward\u001B[0m\u001B[0;34m(\u001B[0m\u001B[0;34m)\u001B[0m\u001B[0;34m\u001B[0m\u001B[0;34m\u001B[0m\u001B[0m\n\u001B[0m\u001B[1;32m     31\u001B[0m     \u001B[0moptimizer\u001B[0m\u001B[0;34m.\u001B[0m\u001B[0mstep\u001B[0m\u001B[0;34m(\u001B[0m\u001B[0;34m)\u001B[0m\u001B[0;34m\u001B[0m\u001B[0;34m\u001B[0m\u001B[0m\n\u001B[1;32m     32\u001B[0m \u001B[0;34m\u001B[0m\u001B[0m\n",
      "\u001B[0;32m/usr/local/lib/python3.12/dist-packages/torch/_tensor.py\u001B[0m in \u001B[0;36mbackward\u001B[0;34m(self, gradient, retain_graph, create_graph, inputs)\u001B[0m\n\u001B[1;32m    645\u001B[0m                 \u001B[0minputs\u001B[0m\u001B[0;34m=\u001B[0m\u001B[0minputs\u001B[0m\u001B[0;34m,\u001B[0m\u001B[0;34m\u001B[0m\u001B[0;34m\u001B[0m\u001B[0m\n\u001B[1;32m    646\u001B[0m             )\n\u001B[0;32m--> 647\u001B[0;31m         torch.autograd.backward(\n\u001B[0m\u001B[1;32m    648\u001B[0m             \u001B[0mself\u001B[0m\u001B[0;34m,\u001B[0m \u001B[0mgradient\u001B[0m\u001B[0;34m,\u001B[0m \u001B[0mretain_graph\u001B[0m\u001B[0;34m,\u001B[0m \u001B[0mcreate_graph\u001B[0m\u001B[0;34m,\u001B[0m \u001B[0minputs\u001B[0m\u001B[0;34m=\u001B[0m\u001B[0minputs\u001B[0m\u001B[0;34m\u001B[0m\u001B[0;34m\u001B[0m\u001B[0m\n\u001B[1;32m    649\u001B[0m         )\n",
      "\u001B[0;32m/usr/local/lib/python3.12/dist-packages/torch/autograd/__init__.py\u001B[0m in \u001B[0;36mbackward\u001B[0;34m(tensors, grad_tensors, retain_graph, create_graph, grad_variables, inputs)\u001B[0m\n\u001B[1;32m    352\u001B[0m     \u001B[0;31m# some Python versions print out the first line of a multi-line function\u001B[0m\u001B[0;34m\u001B[0m\u001B[0;34m\u001B[0m\u001B[0m\n\u001B[1;32m    353\u001B[0m     \u001B[0;31m# calls in the traceback and some print out the last line\u001B[0m\u001B[0;34m\u001B[0m\u001B[0;34m\u001B[0m\u001B[0m\n\u001B[0;32m--> 354\u001B[0;31m     _engine_run_backward(\n\u001B[0m\u001B[1;32m    355\u001B[0m         \u001B[0mtensors\u001B[0m\u001B[0;34m,\u001B[0m\u001B[0;34m\u001B[0m\u001B[0;34m\u001B[0m\u001B[0m\n\u001B[1;32m    356\u001B[0m         \u001B[0mgrad_tensors_\u001B[0m\u001B[0;34m,\u001B[0m\u001B[0;34m\u001B[0m\u001B[0;34m\u001B[0m\u001B[0m\n",
      "\u001B[0;32m/usr/local/lib/python3.12/dist-packages/torch/autograd/graph.py\u001B[0m in \u001B[0;36m_engine_run_backward\u001B[0;34m(t_outputs, *args, **kwargs)\u001B[0m\n\u001B[1;32m    827\u001B[0m         \u001B[0munregister_hooks\u001B[0m \u001B[0;34m=\u001B[0m \u001B[0m_register_logging_hooks_on_whole_graph\u001B[0m\u001B[0;34m(\u001B[0m\u001B[0mt_outputs\u001B[0m\u001B[0;34m)\u001B[0m\u001B[0;34m\u001B[0m\u001B[0;34m\u001B[0m\u001B[0m\n\u001B[1;32m    828\u001B[0m     \u001B[0;32mtry\u001B[0m\u001B[0;34m:\u001B[0m\u001B[0;34m\u001B[0m\u001B[0;34m\u001B[0m\u001B[0m\n\u001B[0;32m--> 829\u001B[0;31m         return Variable._execution_engine.run_backward(  # Calls into the C++ engine to run the backward pass\n\u001B[0m\u001B[1;32m    830\u001B[0m             \u001B[0mt_outputs\u001B[0m\u001B[0;34m,\u001B[0m \u001B[0;34m*\u001B[0m\u001B[0margs\u001B[0m\u001B[0;34m,\u001B[0m \u001B[0;34m**\u001B[0m\u001B[0mkwargs\u001B[0m\u001B[0;34m\u001B[0m\u001B[0;34m\u001B[0m\u001B[0m\n\u001B[1;32m    831\u001B[0m         )  # Calls into the C++ engine to run the backward pass\n",
      "\u001B[0;31mKeyboardInterrupt\u001B[0m: "
     ]
    }
   ]
  },
  {
   "cell_type": "markdown",
   "metadata": {
    "id": "drokW8wWODKq"
   },
   "source": [
    "# Let's Train and test our model\n",
    "\n",
    "This time let's add a scheduler for out LR."
   ]
  },
  {
   "cell_type": "code",
   "metadata": {
    "id": "87RaqGSEOWDe",
    "outputId": "5d317b93-077b-4aa8-f340-439340a1bb27",
    "colab": {
     "base_uri": "https://localhost:8080/",
     "height": 625
    }
   },
   "source": [
    "%matplotlib inline\n",
    "import matplotlib.pyplot as plt\n",
    "\n",
    "fig, axs = plt.subplots(2,2,figsize=(15,10))\n",
    "axs[0, 0].plot(train_losses)\n",
    "axs[0, 0].set_title(\"Training Loss\")\n",
    "axs[1, 0].plot(train_acc[4000:])\n",
    "axs[1, 0].set_title(\"Training Accuracy\")\n",
    "axs[0, 1].plot(test_losses)\n",
    "axs[0, 1].set_title(\"Test Loss\")\n",
    "axs[1, 1].plot(test_acc)\n",
    "axs[1, 1].set_title(\"Test Accuracy\")"
   ],
   "execution_count": null,
   "outputs": [
    {
     "output_type": "execute_result",
     "data": {
      "text/plain": [
       "Text(0.5, 1.0, 'Test Accuracy')"
      ]
     },
     "metadata": {
      "tags": []
     },
     "execution_count": 9
    },
    {
     "output_type": "display_data",
     "data": {
      "image/png": "[encoded data removed]",
      "text/plain": [
       "<Figure size 1080x720 with 4 Axes>"
      ]
     },
     "metadata": {
      "tags": []
     }
    }
   ]
  },
  {
   "cell_type": "code",
   "source": [
    "import albumentations as A\n",
    "from albumentations.pytorch import ToTensorV2\n",
    "import numpy as np\n",
    "\n",
    "class AlbumentationsTransforms:\n",
    "    def __init__(self, mean, std):\n",
    "        self.aug = A.Compose([\n",
    "            A.HorizontalFlip(p=0.5),\n",
    "            A.ShiftScaleRotate(shift_limit=0.0625, scale_limit=0.1, rotate_limit=7, p=0.5),\n",
    "            A.CoarseDropout(\n",
    "                max_holes=1, max_height=16, max_width=16,\n",
    "                min_holes=1, min_height=16, min_width=16,\n",
    "                fill_value=mean,\n",
    "                mask_fill_value=None,\n",
    "                p=0.5\n",
    "            ),\n",
    "            A.Normalize(mean=mean, std=std),\n",
    "            ToTensorV2()\n",
    "        ])\n",
    "\n",
    "    def __call__(self, image):\n",
    "        image = np.array(image)\n",
    "        return self.aug(image=image)[\"image\"]"
   ],
   "metadata": {
    "id": "rXLl1rDsTY3X"
   },
   "execution_count": null,
   "outputs": []
  },
  {
   "cell_type": "code",
   "source": [
    "mean = (0.4914, 0.4822, 0.4465)\n",
    "std = (0.2023, 0.1994, 0.2010)"
   ],
   "metadata": {
    "id": "w_fwYgjyUxtP"
   },
   "execution_count": null,
   "outputs": []
  },
  {
   "cell_type": "code",
   "source": [
    "from torchvision import datasets\n",
    "from torch.utils.data import DataLoader\n",
    "\n",
    "train_transforms = AlbumentationsTransforms(mean=mean, std=std)\n",
    "\n",
    "test_transforms = A.Compose([\n",
    "    A.Normalize(mean=mean, std=std),\n",
    "    ToTensorV2()\n",
    "])\n",
    "\n",
    "class TestTransformWrapper:\n",
    "    def __init__(self, aug):\n",
    "        self.aug = aug\n",
    "\n",
    "    def __call__(self, img):\n",
    "        img = np.array(img)\n",
    "        return self.aug(image=img)[\"image\"]\n",
    "\n",
    "# Load datasets\n",
    "train_dataset = datasets.CIFAR10('./data', train=True, download=True, transform=train_transforms)\n",
    "test_dataset = datasets.CIFAR10('./data', train=False, download=True, transform=TestTransformWrapper(test_transforms))\n",
    "\n",
    "train_loader = DataLoader(train_dataset, batch_size=128, shuffle=True)\n",
    "test_loader = DataLoader(test_dataset, batch_size=128, shuffle=False)"
   ],
   "metadata": {
    "colab": {
     "base_uri": "https://localhost:8080/"
    },
    "id": "Q8Z1KswdT55I",
    "outputId": "805f0dfa-4459-4ae6-c934-7c9f2c7c6f10"
   },
   "execution_count": null,
   "outputs": [
    {
     "output_type": "stream",
     "name": "stderr",
     "text": [
      "/usr/local/lib/python3.12/dist-packages/albumentations/core/validation.py:114: UserWarning: ShiftScaleRotate is a special case of Affine transform. Please use Affine transform instead.\n",
      "  original_init(self, **validated_kwargs)\n",
      "/tmp/ipython-input-3076466830.py:10: UserWarning: Argument(s) 'max_holes, max_height, max_width, min_holes, min_height, min_width, fill_value, mask_fill_value' are not valid for transform CoarseDropout\n",
      "  A.CoarseDropout(\n",
      "100%|██████████| 170M/170M [00:06<00:00, 26.0MB/s]\n"
     ]
    }
   ]
  },
  {
   "cell_type": "code",
   "source": [
    "import torch\n",
    "import torch.nn as nn\n",
    "import torch.nn.functional as F\n",
    "import torch.optim as optim\n",
    "from torchvision import datasets, transforms\n",
    "from torch.optim.lr_scheduler import OneCycleLR\n",
    "from tqdm import tqdm\n",
    "\n",
    "# ------------------------------\n",
    "# Data Augmentation\n",
    "# ------------------------------\n",
    "train_transforms = transforms.Compose([\n",
    "    transforms.RandomRotation((-7.0, 7.0), fill=(1,)),   # small rotations\n",
    "    transforms.RandomAffine(0, translate=(0.1, 0.1)),    # slight translations\n",
    "    transforms.ToTensor(),\n",
    "    transforms.Normalize((0.1307,), (0.3081,))\n",
    "])\n",
    "\n",
    "test_transforms = transforms.Compose([\n",
    "    transforms.ToTensor(),\n",
    "    transforms.Normalize((0.1307,), (0.3081,))\n",
    "])\n",
    "\n",
    "train_dataset = datasets.CIFAR10('./data', train=True, download=True, transform=train_transforms)\n",
    "test_dataset = datasets.CIFAR10('./data', train=False, download=True, transform=test_transforms)\n",
    "\n",
    "train_loader = torch.utils.data.DataLoader(train_dataset, batch_size=128, shuffle=True)\n",
    "test_loader = torch.utils.data.DataLoader(test_dataset, batch_size=128, shuffle=False)\n",
    "\n"
   ],
   "metadata": {
    "colab": {
     "base_uri": "https://localhost:8080/"
    },
    "id": "oyUGrPqCVGdJ",
    "outputId": "7b0f404f-eee3-4668-b167-5b98ca6d14e8"
   },
   "execution_count": null,
   "outputs": [
    {
     "output_type": "stream",
     "name": "stderr",
     "text": [
      "100%|██████████| 170M/170M [00:03<00:00, 42.9MB/s]\n"
     ]
    }
   ]
  },
  {
   "cell_type": "code",
   "source": [
    "import matplotlib.pyplot as plt\n",
    "import numpy as np\n",
    "\n",
    "batch_data, batch_label = next(iter(train_loader))\n",
    "\n",
    "fig = plt.figure()\n",
    "\n",
    "for i in range(12):\n",
    "  plt.subplot(3,4,i+1)\n",
    "  plt.tight_layout()\n",
    "  # CIFAR images are 3 channels, need to transpose for matplotlib\n",
    "  plt.imshow(np.transpose(batch_data[i].numpy(), (1, 2, 0)))\n",
    "  plt.title(batch_label[i].item())\n",
    "  plt.xticks([])\n",
    "  plt.yticks([])"
   ],
   "metadata": {
    "colab": {
     "base_uri": "https://localhost:8080/",
     "height": 697
    },
    "id": "6SryXIofWEzh",
    "outputId": "87a14cda-167b-466c-d16d-44439af8151f"
   },
   "execution_count": null,
   "outputs": [
    {
     "output_type": "stream",
     "name": "stderr",
     "text": [
      "WARNING:matplotlib.image:Clipping input data to the valid range for imshow with RGB data ([0..1] for floats or [0..255] for integers). Got range [-2.2412534..2.494703].\n",
      "WARNING:matplotlib.image:Clipping input data to the valid range for imshow with RGB data ([0..1] for floats or [0..255] for integers). Got range [-2.4290657..2.7537313].\n",
      "WARNING:matplotlib.image:Clipping input data to the valid range for imshow with RGB data ([0..1] for floats or [0..255] for integers). Got range [-1.651248..2.2427874].\n",
      "WARNING:matplotlib.image:Clipping input data to the valid range for imshow with RGB data ([0..1] for floats or [0..255] for integers). Got range [-2.4290657..2.4753182].\n",
      "WARNING:matplotlib.image:Clipping input data to the valid range for imshow with RGB data ([0..1] for floats or [0..255] for integers). Got range [-2.4290657..2.7537313].\n",
      "WARNING:matplotlib.image:Clipping input data to the valid range for imshow with RGB data ([0..1] for floats or [0..255] for integers). Got range [-1.6751049..2.4559333].\n",
      "WARNING:matplotlib.image:Clipping input data to the valid range for imshow with RGB data ([0..1] for floats or [0..255] for integers). Got range [-2.4290657..1.99283].\n",
      "WARNING:matplotlib.image:Clipping input data to the valid range for imshow with RGB data ([0..1] for floats or [0..255] for integers). Got range [-2.4290657..2.2039294].\n",
      "WARNING:matplotlib.image:Clipping input data to the valid range for imshow with RGB data ([0..1] for floats or [0..255] for integers). Got range [-2.4290657..2.461077].\n",
      "WARNING:matplotlib.image:Clipping input data to the valid range for imshow with RGB data ([0..1] for floats or [0..255] for integers). Got range [-2.0413675..2.7147107].\n",
      "WARNING:matplotlib.image:Clipping input data to the valid range for imshow with RGB data ([0..1] for floats or [0..255] for integers). Got range [-2.4290657..2.734221].\n",
      "WARNING:matplotlib.image:Clipping input data to the valid range for imshow with RGB data ([0..1] for floats or [0..255] for integers). Got range [-1.9265838..2.6366696].\n"
     ]
    },
    {
     "output_type": "display_data",
     "data": {
      "text/plain": [
       "<Figure size 640x480 with 12 Axes>"
      ],
      "image/png": "[encoded data removed]"
     },
     "metadata": {}
    }
   ]
  },
  {
   "cell_type": "code",
   "source": [],
   "metadata": {
    "id": "C2nQDvO-i7--"
   },
   "execution_count": null,
   "outputs": []
  },
  {
   "cell_type": "code",
   "source": [
    "import torch.nn as nn\n",
    "import torch.nn.functional as F\n",
    "# ------------------------------\n",
    "# Model Definition\n",
    "# ------------------------------\n",
    "dropout_value = 0.05\n",
    "\n",
    "class Net(nn.Module):\n",
    "    def __init__(self):\n",
    "        super(Net, self).__init__()\n",
    "        # Input Block 32 X 32\n",
    "        self.convblock1 = nn.Sequential(\n",
    "            nn.Conv2d(in_channels=3, out_channels=32, kernel_size=(3, 3), padding=0, bias=False),\n",
    "            nn.ReLU(),\n",
    "            nn.BatchNorm2d(32),\n",
    "            nn.Dropout(dropout_value)\n",
    "        ) # output_size = 30\n",
    "\n",
    "        # CONVOLUTION BLOCK 1\n",
    "        self.convblock2 = nn.Sequential(\n",
    "            nn.Conv2d(in_channels=32, out_channels=64, kernel_size=(3, 3), padding=0, bias=False),\n",
    "            nn.ReLU(),\n",
    "            nn.BatchNorm2d(64),\n",
    "            nn.Dropout(dropout_value)\n",
    "        ) # output_size = 28\n",
    "\n",
    "        # New Convolution Block (moved)\n",
    "        self.convblock_new = nn.Sequential(\n",
    "            nn.Conv2d(in_channels=64, out_channels=64, kernel_size=(3, 3), padding=0, bias=False, dilation=2),\n",
    "            nn.ReLU(),\n",
    "            nn.BatchNorm2d(64),\n",
    "            nn.Dropout(dropout_value)\n",
    "        ) # output_size = 24\n",
    "\n",
    "\n",
    "        # TRANSITION BLOCK 1 (using 1x1 conv for channel reduction)\n",
    "        self.convblock3 = nn.Sequential(\n",
    "            nn.Conv2d(in_channels=64, out_channels=32, kernel_size=(1, 1), padding=0, bias=False),\n",
    "        ) # output_size = 24\n",
    "\n",
    "\n",
    "        # CONVOLUTION BLOCK 2\n",
    "        self.convblock4 = nn.Sequential(\n",
    "            nn.Conv2d(in_channels=32, out_channels=64, kernel_size=(3, 3), padding=0, bias=False),\n",
    "            nn.ReLU(),\n",
    "            nn.BatchNorm2d(64),\n",
    "            nn.Dropout(dropout_value)\n",
    "        ) # output_size = 22\n",
    "        self.convblock5 = nn.Sequential(\n",
    "            nn.Conv2d(in_channels=64, out_channels=64, kernel_size=(3, 3), padding=0, bias=False),\n",
    "            nn.ReLU(),\n",
    "            nn.BatchNorm2d(64),\n",
    "            nn.Dropout(dropout_value)\n",
    "        ) # output_size = 20\n",
    "        self.convblock6 = nn.Sequential(\n",
    "            nn.Conv2d(in_channels=64, out_channels=64, kernel_size=(3, 3), padding=0, bias=False, stride=2),\n",
    "            nn.ReLU(),\n",
    "            nn.BatchNorm2d(64),\n",
    "            nn.Dropout(dropout_value)\n",
    "        ) # output_size = 10\n",
    "\n",
    "\n",
    "        # TRANSITION BLOCK 2 (using 1x1 conv and average pooling for size reduction)\n",
    "        self.convblock7 = nn.Sequential(\n",
    "            nn.Conv2d(in_channels=64, out_channels=32, kernel_size=(1, 1), padding=0, bias=False),\n",
    "        ) # output_size = 10\n",
    "        self.avgpool2 = nn.AvgPool2d(2, 2) # output_size = 5\n",
    "\n",
    "        # CONVOLUTION BLOCK 3\n",
    "        self.convblock8 = nn.Sequential(\n",
    "            nn.Conv2d(in_channels=32, out_channels=64, kernel_size=(3, 3), padding=1, bias=False),\n",
    "            nn.ReLU(),\n",
    "            nn.BatchNorm2d(64),\n",
    "            nn.Dropout(dropout_value)\n",
    "        ) # output_size = 5\n",
    "        self.convblock9 = nn.Sequential(\n",
    "            nn.Conv2d(in_channels=64, out_channels=64, kernel_size=(3, 3), padding=1, bias=False),\n",
    "            nn.ReLU(),\n",
    "            nn.BatchNorm2d(64),\n",
    "            nn.Dropout(dropout_value)\n",
    "        ) # output_size = 4\n",
    "\n",
    "\n",
    "        # GLOBAL AVERAGE POOLING\n",
    "        self.gap = nn.Sequential(\n",
    "            nn.AvgPool2d(kernel_size=4) # output_size = 1\n",
    "        )\n",
    "\n",
    "        # OUTPUT BLOCK\n",
    "        self.convblock11 = nn.Sequential(\n",
    "            nn.Conv2d(in_channels=64, out_channels=10, kernel_size=(1, 1), padding=0, bias=False),\n",
    "        )\n",
    "\n",
    "\n",
    "    def forward(self, x):\n",
    "        x = self.convblock1(x)\n",
    "        x = self.convblock2(x)\n",
    "        x = self.convblock_new(x) # New Convolution Block (moved)\n",
    "        x = self.convblock3(x) # Transition with 1x1 conv\n",
    "        x = self.convblock4(x)\n",
    "        x = self.convblock5(x)\n",
    "        x = self.convblock6(x)\n",
    "        x = self.convblock7(x) # Transition with 1x1 conv\n",
    "        x = self.avgpool2(x)    # Average pooling\n",
    "        x = self.convblock8(x)\n",
    "        x = self.convblock9(x)\n",
    "        x = self.gap(x)\n",
    "        x = self.convblock11(x)\n",
    "\n",
    "\n",
    "        x = x.view(-1, 10)\n",
    "        return F.log_softmax(x, dim=-1)"
   ],
   "metadata": {
    "id": "-D9-4MrAZ7kO"
   },
   "execution_count": null,
   "outputs": []
  },
  {
   "cell_type": "code",
   "source": [
    "import torch\n",
    "from torchsummary import summary\n",
    "use_cuda = torch.cuda.is_available()\n",
    "device = torch.device(\"cuda\" if use_cuda else \"cpu\")\n",
    "print(device)\n",
    "model = Net().to(device)\n",
    "summary(model, input_size=(3, 32, 32))"
   ],
   "metadata": {
    "colab": {
     "base_uri": "https://localhost:8080/"
    },
    "id": "Km4vMCxOZ6cG",
    "outputId": "11fc470b-2e3a-4565-ae84-801031fe5065"
   },
   "execution_count": null,
   "outputs": [
    {
     "output_type": "stream",
     "name": "stdout",
     "text": [
      "cuda\n",
      "----------------------------------------------------------------\n",
      "        Layer (type)               Output Shape         Param #\n",
      "================================================================\n",
      "            Conv2d-1           [-1, 32, 30, 30]             864\n",
      "              ReLU-2           [-1, 32, 30, 30]               0\n",
      "       BatchNorm2d-3           [-1, 32, 30, 30]              64\n",
      "           Dropout-4           [-1, 32, 30, 30]               0\n",
      "            Conv2d-5           [-1, 64, 28, 28]          18,432\n",
      "              ReLU-6           [-1, 64, 28, 28]               0\n",
      "       BatchNorm2d-7           [-1, 64, 28, 28]             128\n",
      "           Dropout-8           [-1, 64, 28, 28]               0\n",
      "            Conv2d-9           [-1, 64, 24, 24]          36,864\n",
      "             ReLU-10           [-1, 64, 24, 24]               0\n",
      "      BatchNorm2d-11           [-1, 64, 24, 24]             128\n",
      "          Dropout-12           [-1, 64, 24, 24]               0\n",
      "           Conv2d-13           [-1, 32, 24, 24]           2,048\n",
      "           Conv2d-14           [-1, 64, 22, 22]          18,432\n",
      "             ReLU-15           [-1, 64, 22, 22]               0\n",
      "      BatchNorm2d-16           [-1, 64, 22, 22]             128\n",
      "          Dropout-17           [-1, 64, 22, 22]               0\n",
      "           Conv2d-18           [-1, 64, 20, 20]          36,864\n",
      "             ReLU-19           [-1, 64, 20, 20]               0\n",
      "      BatchNorm2d-20           [-1, 64, 20, 20]             128\n",
      "          Dropout-21           [-1, 64, 20, 20]               0\n",
      "           Conv2d-22             [-1, 64, 9, 9]          36,864\n",
      "             ReLU-23             [-1, 64, 9, 9]               0\n",
      "      BatchNorm2d-24             [-1, 64, 9, 9]             128\n",
      "          Dropout-25             [-1, 64, 9, 9]               0\n",
      "           Conv2d-26             [-1, 32, 9, 9]           2,048\n",
      "        AvgPool2d-27             [-1, 32, 4, 4]               0\n",
      "           Conv2d-28             [-1, 64, 4, 4]          18,432\n",
      "             ReLU-29             [-1, 64, 4, 4]               0\n",
      "      BatchNorm2d-30             [-1, 64, 4, 4]             128\n",
      "          Dropout-31             [-1, 64, 4, 4]               0\n",
      "           Conv2d-32             [-1, 64, 4, 4]          36,864\n",
      "             ReLU-33             [-1, 64, 4, 4]               0\n",
      "      BatchNorm2d-34             [-1, 64, 4, 4]             128\n",
      "          Dropout-35             [-1, 64, 4, 4]               0\n",
      "        AvgPool2d-36             [-1, 64, 1, 1]               0\n",
      "           Conv2d-37             [-1, 10, 1, 1]             640\n",
      "================================================================\n",
      "Total params: 209,312\n",
      "Trainable params: 209,312\n",
      "Non-trainable params: 0\n",
      "----------------------------------------------------------------\n",
      "Input size (MB): 0.01\n",
      "Forward/backward pass size (MB): 5.65\n",
      "Params size (MB): 0.80\n",
      "Estimated Total Size (MB): 6.46\n",
      "----------------------------------------------------------------\n"
     ]
    }
   ]
  },
  {
   "cell_type": "code",
   "source": [],
   "metadata": {
    "id": "tDGhjRoIaAYR"
   },
   "execution_count": null,
   "outputs": []
  },
  {
   "cell_type": "code",
   "metadata": {
    "id": "wjO3RK9UEnvF",
    "colab": {
     "base_uri": "https://localhost:8080/"
    },
    "outputId": "46be120c-3bb4-47d5-9f08-a94cab6daad1"
   },
   "source": [
    "\n",
    "import torch.optim as optim\n",
    "from torch.optim.lr_scheduler import OneCycleLR\n",
    "from tqdm import tqdm\n",
    "\n",
    "# ------------------------------\n",
    "# Training & Testing\n",
    "# ------------------------------\n",
    "def train(model, device, train_loader, optimizer, scheduler, epoch):\n",
    "    model.train()\n",
    "    pbar = tqdm(train_loader)\n",
    "    correct = 0\n",
    "    processed = 0\n",
    "    for batch_idx, (data, target) in enumerate(pbar):\n",
    "        data, target = data.to(device), target.to(device)\n",
    "        optimizer.zero_grad()\n",
    "        y_pred = model(data)\n",
    "        loss = F.nll_loss(y_pred, target)\n",
    "        loss.backward()\n",
    "        optimizer.step()\n",
    "        scheduler.step()\n",
    "\n",
    "        pred = y_pred.argmax(dim=1, keepdim=True)\n",
    "        correct += pred.eq(target.view_as(pred)).sum().item()\n",
    "        processed += len(data)\n",
    "        pbar.set_description(f\"Epoch {epoch} Loss={loss.item():.4f} Acc={100*correct/processed:.2f}\")\n",
    "\n",
    "def test(model, device, test_loader):\n",
    "    model.eval()\n",
    "    test_loss = 0\n",
    "    correct = 0\n",
    "    with torch.no_grad():\n",
    "        for data, target in test_loader:\n",
    "            data, target = data.to(device), target.to(device)\n",
    "            output = model(data)\n",
    "            test_loss += F.nll_loss(output, target, reduction='sum').item()\n",
    "            pred = output.argmax(dim=1, keepdim=True)\n",
    "            correct += pred.eq(target.view_as(pred)).sum().item()\n",
    "    test_loss /= len(test_loader.dataset)\n",
    "    acc = 100. * correct / len(test_loader.dataset)\n",
    "    print(f\"\\nTest set: Average loss: {test_loss:.4f}, Accuracy: {correct}/{len(test_loader.dataset)} ({acc:.2f}%)\\n\")\n",
    "    return acc\n",
    "\n",
    "# ------------------------------\n",
    "# Run Training\n",
    "# ------------------------------\n",
    "device = torch.device(\"cuda\" if torch.cuda.is_available() else \"cpu\")\n",
    "model = Net().to(device)\n",
    "optimizer = optim.SGD(model.parameters(), lr=0.01, momentum=0.9, weight_decay=1e-4)\n",
    "\n",
    "# OneCycleLR\n",
    "scheduler = OneCycleLR(\n",
    "    optimizer,\n",
    "    max_lr=0.05,\n",
    "    steps_per_epoch=len(train_loader),\n",
    "    epochs=25\n",
    ")\n",
    "\n",
    "EPOCHS = 25\n",
    "for epoch in range(1, EPOCHS+1):\n",
    "    train(model, device, train_loader, optimizer, scheduler, epoch)\n",
    "    acc = test(model, device, test_loader)\n"
   ],
   "execution_count": null,
   "outputs": [
    {
     "output_type": "stream",
     "name": "stderr",
     "text": [
      "Epoch 1 Loss=1.5075 Acc=40.50: 100%|██████████| 391/391 [00:33<00:00, 11.67it/s]\n"
     ]
    },
    {
     "output_type": "stream",
     "name": "stdout",
     "text": [
      "\n",
      "Test set: Average loss: 1.2963, Accuracy: 5365/10000 (53.65%)\n",
      "\n"
     ]
    },
    {
     "output_type": "stream",
     "name": "stderr",
     "text": [
      "Epoch 2 Loss=1.1769 Acc=54.67: 100%|██████████| 391/391 [00:32<00:00, 11.87it/s]\n"
     ]
    },
    {
     "output_type": "stream",
     "name": "stdout",
     "text": [
      "\n",
      "Test set: Average loss: 1.0872, Accuracy: 6143/10000 (61.43%)\n",
      "\n"
     ]
    },
    {
     "output_type": "stream",
     "name": "stderr",
     "text": [
      "Epoch 3 Loss=0.8407 Acc=60.71: 100%|██████████| 391/391 [00:33<00:00, 11.67it/s]\n"
     ]
    },
    {
     "output_type": "stream",
     "name": "stdout",
     "text": [
      "\n",
      "Test set: Average loss: 1.1174, Accuracy: 6205/10000 (62.05%)\n",
      "\n"
     ]
    },
    {
     "output_type": "stream",
     "name": "stderr",
     "text": [
      "Epoch 4 Loss=0.8591 Acc=64.91: 100%|██████████| 391/391 [00:33<00:00, 11.73it/s]\n"
     ]
    },
    {
     "output_type": "stream",
     "name": "stdout",
     "text": [
      "\n",
      "Test set: Average loss: 0.9112, Accuracy: 6807/10000 (68.07%)\n",
      "\n"
     ]
    },
    {
     "output_type": "stream",
     "name": "stderr",
     "text": [
      "Epoch 5 Loss=0.7056 Acc=68.08: 100%|██████████| 391/391 [00:33<00:00, 11.68it/s]\n"
     ]
    },
    {
     "output_type": "stream",
     "name": "stdout",
     "text": [
      "\n",
      "Test set: Average loss: 0.8480, Accuracy: 7103/10000 (71.03%)\n",
      "\n"
     ]
    },
    {
     "output_type": "stream",
     "name": "stderr",
     "text": [
      "Epoch 6 Loss=0.5915 Acc=70.65: 100%|██████████| 391/391 [00:33<00:00, 11.74it/s]\n"
     ]
    },
    {
     "output_type": "stream",
     "name": "stdout",
     "text": [
      "\n",
      "Test set: Average loss: 0.7493, Accuracy: 7380/10000 (73.80%)\n",
      "\n"
     ]
    },
    {
     "output_type": "stream",
     "name": "stderr",
     "text": [
      "Epoch 7 Loss=0.8077 Acc=72.44: 100%|██████████| 391/391 [00:33<00:00, 11.80it/s]\n"
     ]
    },
    {
     "output_type": "stream",
     "name": "stdout",
     "text": [
      "\n",
      "Test set: Average loss: 0.7186, Accuracy: 7480/10000 (74.80%)\n",
      "\n"
     ]
    },
    {
     "output_type": "stream",
     "name": "stderr",
     "text": [
      "Epoch 8 Loss=0.6494 Acc=74.26: 100%|██████████| 391/391 [00:33<00:00, 11.51it/s]\n"
     ]
    },
    {
     "output_type": "stream",
     "name": "stdout",
     "text": [
      "\n",
      "Test set: Average loss: 0.7002, Accuracy: 7580/10000 (75.80%)\n",
      "\n"
     ]
    },
    {
     "output_type": "stream",
     "name": "stderr",
     "text": [
      "Epoch 9 Loss=0.7174 Acc=75.37: 100%|██████████| 391/391 [00:32<00:00, 11.86it/s]\n"
     ]
    },
    {
     "output_type": "stream",
     "name": "stdout",
     "text": [
      "\n",
      "Test set: Average loss: 0.6899, Accuracy: 7621/10000 (76.21%)\n",
      "\n"
     ]
    },
    {
     "output_type": "stream",
     "name": "stderr",
     "text": [
      "Epoch 10 Loss=0.7466 Acc=76.61: 100%|██████████| 391/391 [00:32<00:00, 11.91it/s]\n"
     ]
    },
    {
     "output_type": "stream",
     "name": "stdout",
     "text": [
      "\n",
      "Test set: Average loss: 0.6545, Accuracy: 7781/10000 (77.81%)\n",
      "\n"
     ]
    },
    {
     "output_type": "stream",
     "name": "stderr",
     "text": [
      "Epoch 11 Loss=0.6659 Acc=77.47: 100%|██████████| 391/391 [00:32<00:00, 11.95it/s]\n"
     ]
    },
    {
     "output_type": "stream",
     "name": "stdout",
     "text": [
      "\n",
      "Test set: Average loss: 0.6256, Accuracy: 7839/10000 (78.39%)\n",
      "\n"
     ]
    },
    {
     "output_type": "stream",
     "name": "stderr",
     "text": [
      "Epoch 12 Loss=0.7288 Acc=78.30: 100%|██████████| 391/391 [00:33<00:00, 11.82it/s]\n"
     ]
    },
    {
     "output_type": "stream",
     "name": "stdout",
     "text": [
      "\n",
      "Test set: Average loss: 0.6180, Accuracy: 7849/10000 (78.49%)\n",
      "\n"
     ]
    },
    {
     "output_type": "stream",
     "name": "stderr",
     "text": [
      "Epoch 13 Loss=0.6060 Acc=79.23: 100%|██████████| 391/391 [00:32<00:00, 11.86it/s]\n"
     ]
    },
    {
     "output_type": "stream",
     "name": "stdout",
     "text": [
      "\n",
      "Test set: Average loss: 0.5909, Accuracy: 7993/10000 (79.93%)\n",
      "\n"
     ]
    },
    {
     "output_type": "stream",
     "name": "stderr",
     "text": [
      "Epoch 14 Loss=0.5001 Acc=79.72: 100%|██████████| 391/391 [00:32<00:00, 11.88it/s]\n"
     ]
    },
    {
     "output_type": "stream",
     "name": "stdout",
     "text": [
      "\n",
      "Test set: Average loss: 0.5671, Accuracy: 8054/10000 (80.54%)\n",
      "\n"
     ]
    },
    {
     "output_type": "stream",
     "name": "stderr",
     "text": [
      "Epoch 15 Loss=0.4497 Acc=80.43: 100%|██████████| 391/391 [00:33<00:00, 11.84it/s]\n"
     ]
    },
    {
     "output_type": "stream",
     "name": "stdout",
     "text": [
      "\n",
      "Test set: Average loss: 0.5665, Accuracy: 8070/10000 (80.70%)\n",
      "\n"
     ]
    },
    {
     "output_type": "stream",
     "name": "stderr",
     "text": [
      "Epoch 16 Loss=0.5949 Acc=80.96: 100%|██████████| 391/391 [00:33<00:00, 11.67it/s]\n"
     ]
    },
    {
     "output_type": "stream",
     "name": "stdout",
     "text": [
      "\n",
      "Test set: Average loss: 0.5329, Accuracy: 8186/10000 (81.86%)\n",
      "\n"
     ]
    },
    {
     "output_type": "stream",
     "name": "stderr",
     "text": [
      "Epoch 17 Loss=0.6001 Acc=81.94: 100%|██████████| 391/391 [00:32<00:00, 11.96it/s]\n"
     ]
    },
    {
     "output_type": "stream",
     "name": "stdout",
     "text": [
      "\n",
      "Test set: Average loss: 0.5291, Accuracy: 8183/10000 (81.83%)\n",
      "\n"
     ]
    },
    {
     "output_type": "stream",
     "name": "stderr",
     "text": [
      "Epoch 18 Loss=0.4064 Acc=82.64: 100%|██████████| 391/391 [00:32<00:00, 12.11it/s]\n"
     ]
    },
    {
     "output_type": "stream",
     "name": "stdout",
     "text": [
      "\n",
      "Test set: Average loss: 0.5105, Accuracy: 8242/10000 (82.42%)\n",
      "\n"
     ]
    },
    {
     "output_type": "stream",
     "name": "stderr",
     "text": [
      "Epoch 19 Loss=0.5963 Acc=83.36: 100%|██████████| 391/391 [00:32<00:00, 11.93it/s]\n"
     ]
    },
    {
     "output_type": "stream",
     "name": "stdout",
     "text": [
      "\n",
      "Test set: Average loss: 0.5119, Accuracy: 8256/10000 (82.56%)\n",
      "\n"
     ]
    },
    {
     "output_type": "stream",
     "name": "stderr",
     "text": [
      "Epoch 20 Loss=0.4362 Acc=83.97: 100%|██████████| 391/391 [00:33<00:00, 11.83it/s]\n"
     ]
    },
    {
     "output_type": "stream",
     "name": "stdout",
     "text": [
      "\n",
      "Test set: Average loss: 0.4883, Accuracy: 8339/10000 (83.39%)\n",
      "\n"
     ]
    },
    {
     "output_type": "stream",
     "name": "stderr",
     "text": [
      "Epoch 21 Loss=0.5688 Acc=84.92: 100%|██████████| 391/391 [00:33<00:00, 11.81it/s]\n"
     ]
    },
    {
     "output_type": "stream",
     "name": "stdout",
     "text": [
      "\n",
      "Test set: Average loss: 0.4649, Accuracy: 8425/10000 (84.25%)\n",
      "\n"
     ]
    },
    {
     "output_type": "stream",
     "name": "stderr",
     "text": [
      "Epoch 22 Loss=0.4413 Acc=85.59: 100%|██████████| 391/391 [00:33<00:00, 11.78it/s]\n"
     ]
    },
    {
     "output_type": "stream",
     "name": "stdout",
     "text": [
      "\n",
      "Test set: Average loss: 0.4606, Accuracy: 8432/10000 (84.32%)\n",
      "\n"
     ]
    },
    {
     "output_type": "stream",
     "name": "stderr",
     "text": [
      "Epoch 23 Loss=0.4496 Acc=86.48: 100%|██████████| 391/391 [00:33<00:00, 11.85it/s]\n"
     ]
    },
    {
     "output_type": "stream",
     "name": "stdout",
     "text": [
      "\n",
      "Test set: Average loss: 0.4443, Accuracy: 8502/10000 (85.02%)\n",
      "\n"
     ]
    },
    {
     "output_type": "stream",
     "name": "stderr",
     "text": [
      "Epoch 24 Loss=0.3145 Acc=87.09: 100%|██████████| 391/391 [00:33<00:00, 11.78it/s]\n"
     ]
    },
    {
     "output_type": "stream",
     "name": "stdout",
     "text": [
      "\n",
      "Test set: Average loss: 0.4415, Accuracy: 8490/10000 (84.90%)\n",
      "\n"
     ]
    },
    {
     "output_type": "stream",
     "name": "stderr",
     "text": [
      "Epoch 25 Loss=0.5632 Acc=87.45: 100%|██████████| 391/391 [00:33<00:00, 11.69it/s]\n"
     ]
    },
    {
     "output_type": "stream",
     "name": "stdout",
     "text": [
      "\n",
      "Test set: Average loss: 0.4401, Accuracy: 8500/10000 (85.00%)\n",
      "\n"
     ]
    }
   ]
  },
  {
   "cell_type": "code",
   "source": [
    "import torch.nn as nn\n",
    "import torch.nn.functional as F\n",
    "# ------------------------------\n",
    "# Model Definition\n",
    "# ------------------------------\n",
    "dropout_value = 0.05\n",
    "\n",
    "class Net(nn.Module):\n",
    "    def __init__(self):\n",
    "        super(Net, self).__init__()\n",
    "        # Input: 32x32x3, RF=1\n",
    "\n",
    "        # BLOCK 1\n",
    "        self.convblock1 = nn.Sequential(\n",
    "            nn.Conv2d(3, 32, kernel_size=3, padding=0, bias=False), # 30x30x32, RF=3\n",
    "            nn.ReLU(),\n",
    "            nn.BatchNorm2d(32),\n",
    "            nn.Dropout(dropout_value)\n",
    "        )\n",
    "\n",
    "        # BLOCK 2\n",
    "        self.convblock2 = nn.Sequential(\n",
    "            nn.Conv2d(32, 64, kernel_size=3, padding=0, bias=False), # 28x28x64, RF=5\n",
    "            nn.ReLU(),\n",
    "            nn.BatchNorm2d(64),\n",
    "            nn.Dropout(dropout_value)\n",
    "        )\n",
    "\n",
    "        # BLOCK 3 (Dilation=2)\n",
    "        self.convblock_new = nn.Sequential(\n",
    "            nn.Conv2d(64, 64, kernel_size=3, padding=0, dilation=2, bias=False), # 24x24x64, RF=9\n",
    "            nn.ReLU(),\n",
    "            nn.BatchNorm2d(64),\n",
    "            nn.Dropout(dropout_value)\n",
    "        )\n",
    "\n",
    "        # TRANSITION 1\n",
    "        self.convblock3 = nn.Sequential(\n",
    "            nn.Conv2d(64, 32, kernel_size=1, padding=0, bias=False), # 24x24x32, RF=9\n",
    "        )\n",
    "\n",
    "        # BLOCK 4 (Depthwise + Pointwise)\n",
    "        self.convblock4 = nn.Sequential(\n",
    "            # Depthwise Convolution\n",
    "            nn.Conv2d(32, 32, kernel_size=3, padding=1, groups=32, bias=False), # 24x24x32, RF=11\n",
    "            nn.ReLU(),\n",
    "            nn.BatchNorm2d(32),\n",
    "            # Pointwise Convolution\n",
    "            nn.Conv2d(32, 64, kernel_size=1, padding=0, bias=False), # 24x24x64, RF=11\n",
    "            nn.ReLU(),\n",
    "            nn.BatchNorm2d(64),\n",
    "            nn.Dropout(dropout_value)\n",
    "        )\n",
    "\n",
    "        # BLOCK 5\n",
    "        self.convblock5 = nn.Sequential(\n",
    "            nn.Conv2d(64, 64, kernel_size=3, padding=0, bias=False), # 22x22x64, RF=13\n",
    "            nn.ReLU(),\n",
    "            nn.BatchNorm2d(64),\n",
    "            nn.Dropout(dropout_value)\n",
    "        )\n",
    "\n",
    "        # BLOCK 6 (Stride=2)\n",
    "        self.convblock6 = nn.Sequential(\n",
    "            nn.Conv2d(64, 64, kernel_size=3, padding=0, stride=2, bias=False), # 10x10x64, RF=17\n",
    "            nn.ReLU(),\n",
    "            nn.BatchNorm2d(64),\n",
    "            nn.Dropout(dropout_value)\n",
    "        )\n",
    "\n",
    "        # TRANSITION 2\n",
    "        self.convblock7 = nn.Sequential(\n",
    "            nn.Conv2d(64, 32, kernel_size=1, padding=0, bias=False), # 10x10x32, RF=17\n",
    "        )\n",
    "        self.avgpool2 = nn.AvgPool2d(2, 2) # 5x5x32, RF=21\n",
    "\n",
    "        # BLOCK 7\n",
    "        self.convblock8 = nn.Sequential(\n",
    "            nn.Conv2d(32, 64, kernel_size=3, padding=1, bias=False), # 5x5x64, RF=25\n",
    "            nn.ReLU(),\n",
    "            nn.BatchNorm2d(64),\n",
    "            nn.Dropout(dropout_value)\n",
    "        )\n",
    "\n",
    "        # BLOCK 8\n",
    "        self.convblock9 = nn.Sequential(\n",
    "            nn.Conv2d(64, 64, kernel_size=3, padding=1, bias=False), # 5x5x64, RF=29\n",
    "            nn.ReLU(),\n",
    "            nn.BatchNorm2d(64),\n",
    "            nn.Dropout(dropout_value)\n",
    "        )\n",
    "\n",
    "        # GAP\n",
    "        self.gap = nn.AvgPool2d(kernel_size=5) # 1x1x64, RF= (covers full)\n",
    "\n",
    "        # OUTPUT\n",
    "        self.convblock11 = nn.Conv2d(64, 10, kernel_size=1, padding=0, bias=False) # 1x1x10\n",
    "\n",
    "    def forward(self, x):\n",
    "        x = self.convblock1(x)  # 30x30x32\n",
    "        x = self.convblock2(x)  # 28x28x64\n",
    "        x = self.convblock_new(x) # 24x24x64\n",
    "        x = self.convblock3(x)  # 24x24x32\n",
    "        x = self.convblock4(x)  # 24x24x64\n",
    "        x = self.convblock5(x)  # 22x22x64\n",
    "        x = self.convblock6(x)  # 10x10x64\n",
    "        x = self.convblock7(x)  # 10x10x32\n",
    "        x = self.avgpool2(x)    # 5x5x32\n",
    "        x = self.convblock8(x)  # 5x5x64\n",
    "        x = self.convblock9(x)  # 5x5x64\n",
    "        x = self.gap(x)         # 1x1x64\n",
    "        x = self.convblock11(x) # 1x1x10\n",
    "        x = x.view(-1, 10)\n",
    "        return F.log_softmax(x, dim=-1)\n",
    "\n",
    "import torch\n",
    "from torchsummary import summary\n",
    "use_cuda = torch.cuda.is_available()\n",
    "device = torch.device(\"cuda\" if use_cuda else \"cpu\")\n",
    "print(device)\n",
    "model = Net().to(device)\n",
    "summary(model, input_size=(3, 32, 32))"
   ],
   "metadata": {
    "colab": {
     "base_uri": "https://localhost:8080/"
    },
    "id": "ThrZxOuWgRlm",
    "outputId": "7b529851-7a71-4c48-9c05-e8673b64398e"
   },
   "execution_count": null,
   "outputs": [
    {
     "output_type": "stream",
     "name": "stdout",
     "text": [
      "cuda\n",
      "----------------------------------------------------------------\n",
      "        Layer (type)               Output Shape         Param #\n",
      "================================================================\n",
      "            Conv2d-1           [-1, 32, 30, 30]             864\n",
      "              ReLU-2           [-1, 32, 30, 30]               0\n",
      "       BatchNorm2d-3           [-1, 32, 30, 30]              64\n",
      "           Dropout-4           [-1, 32, 30, 30]               0\n",
      "            Conv2d-5           [-1, 64, 28, 28]          18,432\n",
      "              ReLU-6           [-1, 64, 28, 28]               0\n",
      "       BatchNorm2d-7           [-1, 64, 28, 28]             128\n",
      "           Dropout-8           [-1, 64, 28, 28]               0\n",
      "            Conv2d-9           [-1, 64, 24, 24]          36,864\n",
      "             ReLU-10           [-1, 64, 24, 24]               0\n",
      "      BatchNorm2d-11           [-1, 64, 24, 24]             128\n",
      "          Dropout-12           [-1, 64, 24, 24]               0\n",
      "           Conv2d-13           [-1, 32, 24, 24]           2,048\n",
      "           Conv2d-14           [-1, 32, 24, 24]             288\n",
      "             ReLU-15           [-1, 32, 24, 24]               0\n",
      "      BatchNorm2d-16           [-1, 32, 24, 24]              64\n",
      "           Conv2d-17           [-1, 64, 24, 24]           2,048\n",
      "             ReLU-18           [-1, 64, 24, 24]               0\n",
      "      BatchNorm2d-19           [-1, 64, 24, 24]             128\n",
      "          Dropout-20           [-1, 64, 24, 24]               0\n",
      "           Conv2d-21           [-1, 64, 22, 22]          36,864\n",
      "             ReLU-22           [-1, 64, 22, 22]               0\n",
      "      BatchNorm2d-23           [-1, 64, 22, 22]             128\n",
      "          Dropout-24           [-1, 64, 22, 22]               0\n",
      "           Conv2d-25           [-1, 64, 10, 10]          36,864\n",
      "             ReLU-26           [-1, 64, 10, 10]               0\n",
      "      BatchNorm2d-27           [-1, 64, 10, 10]             128\n",
      "          Dropout-28           [-1, 64, 10, 10]               0\n",
      "           Conv2d-29           [-1, 32, 10, 10]           2,048\n",
      "        AvgPool2d-30             [-1, 32, 5, 5]               0\n",
      "           Conv2d-31             [-1, 64, 5, 5]          18,432\n",
      "             ReLU-32             [-1, 64, 5, 5]               0\n",
      "      BatchNorm2d-33             [-1, 64, 5, 5]             128\n",
      "          Dropout-34             [-1, 64, 5, 5]               0\n",
      "           Conv2d-35             [-1, 64, 5, 5]          36,864\n",
      "             ReLU-36             [-1, 64, 5, 5]               0\n",
      "      BatchNorm2d-37             [-1, 64, 5, 5]             128\n",
      "          Dropout-38             [-1, 64, 5, 5]               0\n",
      "        AvgPool2d-39             [-1, 64, 1, 1]               0\n",
      "           Conv2d-40             [-1, 10, 1, 1]             640\n",
      "================================================================\n",
      "Total params: 193,280\n",
      "Trainable params: 193,280\n",
      "Non-trainable params: 0\n",
      "----------------------------------------------------------------\n",
      "Input size (MB): 0.01\n",
      "Forward/backward pass size (MB): 6.49\n",
      "Params size (MB): 0.74\n",
      "Estimated Total Size (MB): 7.24\n",
      "----------------------------------------------------------------\n"
     ]
    }
   ]
  },
  {
   "cell_type": "code",
   "source": [
    "\n",
    "import torch.optim as optim\n",
    "from torch.optim.lr_scheduler import OneCycleLR\n",
    "from tqdm import tqdm\n",
    "\n",
    "# ------------------------------\n",
    "# Training & Testing\n",
    "# ------------------------------\n",
    "def train(model, device, train_loader, optimizer, scheduler, epoch):\n",
    "    model.train()\n",
    "    pbar = tqdm(train_loader)\n",
    "    correct = 0\n",
    "    processed = 0\n",
    "    for batch_idx, (data, target) in enumerate(pbar):\n",
    "        data, target = data.to(device), target.to(device)\n",
    "        optimizer.zero_grad()\n",
    "        y_pred = model(data)\n",
    "        loss = F.nll_loss(y_pred, target)\n",
    "        loss.backward()\n",
    "        optimizer.step()\n",
    "        scheduler.step()\n",
    "\n",
    "        pred = y_pred.argmax(dim=1, keepdim=True)\n",
    "        correct += pred.eq(target.view_as(pred)).sum().item()\n",
    "        processed += len(data)\n",
    "        pbar.set_description(f\"Epoch {epoch} Loss={loss.item():.4f} Acc={100*correct/processed:.2f}\")\n",
    "\n",
    "def test(model, device, test_loader):\n",
    "    model.eval()\n",
    "    test_loss = 0\n",
    "    correct = 0\n",
    "    with torch.no_grad():\n",
    "        for data, target in test_loader:\n",
    "            data, target = data.to(device), target.to(device)\n",
    "            output = model(data)\n",
    "            test_loss += F.nll_loss(output, target, reduction='sum').item()\n",
    "            pred = output.argmax(dim=1, keepdim=True)\n",
    "            correct += pred.eq(target.view_as(pred)).sum().item()\n",
    "    test_loss /= len(test_loader.dataset)\n",
    "    acc = 100. * correct / len(test_loader.dataset)\n",
    "    print(f\"\\nTest set: Average loss: {test_loss:.4f}, Accuracy: {correct}/{len(test_loader.dataset)} ({acc:.2f}%)\\n\")\n",
    "    return acc\n",
    "\n",
    "# ------------------------------\n",
    "# Run Training\n",
    "# ------------------------------\n",
    "device = torch.device(\"cuda\" if torch.cuda.is_available() else \"cpu\")\n",
    "model = Net().to(device)\n",
    "optimizer = optim.SGD(model.parameters(), lr=0.01, momentum=0.9, weight_decay=1e-4)\n",
    "\n",
    "# OneCycleLR\n",
    "scheduler = OneCycleLR(\n",
    "    optimizer,\n",
    "    max_lr=0.05,\n",
    "    steps_per_epoch=len(train_loader),\n",
    "    epochs=30\n",
    ")\n",
    "\n",
    "EPOCHS = 30\n",
    "for epoch in range(1, EPOCHS+1):\n",
    "    train(model, device, train_loader, optimizer, scheduler, epoch)\n",
    "    acc = test(model, device, test_loader)\n"
   ],
   "metadata": {
    "colab": {
     "base_uri": "https://localhost:8080/",
     "height": 1000
    },
    "id": "jeY-z8bNgamr",
    "outputId": "f2a09c2d-69ca-4b62-d7a0-43a308c5705a"
   },
   "execution_count": null,
   "outputs": [
    {
     "output_type": "stream",
     "name": "stderr",
     "text": [
      "Epoch 1 Loss=1.4220 Acc=41.15: 100%|██████████| 391/391 [00:35<00:00, 11.04it/s]\n"
     ]
    },
    {
     "output_type": "stream",
     "name": "stdout",
     "text": [
      "\n",
      "Test set: Average loss: 1.2715, Accuracy: 5331/10000 (53.31%)\n",
      "\n"
     ]
    },
    {
     "output_type": "stream",
     "name": "stderr",
     "text": [
      "Epoch 2 Loss=1.0143 Acc=57.39: 100%|██████████| 391/391 [00:34<00:00, 11.44it/s]\n"
     ]
    },
    {
     "output_type": "stream",
     "name": "stdout",
     "text": [
      "\n",
      "Test set: Average loss: 1.0213, Accuracy: 6332/10000 (63.32%)\n",
      "\n"
     ]
    },
    {
     "output_type": "stream",
     "name": "stderr",
     "text": [
      "Epoch 3 Loss=0.9173 Acc=63.33: 100%|██████████| 391/391 [00:34<00:00, 11.27it/s]\n"
     ]
    },
    {
     "output_type": "stream",
     "name": "stdout",
     "text": [
      "\n",
      "Test set: Average loss: 0.9125, Accuracy: 6809/10000 (68.09%)\n",
      "\n"
     ]
    },
    {
     "output_type": "stream",
     "name": "stderr",
     "text": [
      "Epoch 4 Loss=0.8813 Acc=67.53: 100%|██████████| 391/391 [00:33<00:00, 11.56it/s]\n"
     ]
    },
    {
     "output_type": "stream",
     "name": "stdout",
     "text": [
      "\n",
      "Test set: Average loss: 0.8370, Accuracy: 7018/10000 (70.18%)\n",
      "\n"
     ]
    },
    {
     "output_type": "stream",
     "name": "stderr",
     "text": [
      "Epoch 5 Loss=0.7782 Acc=70.44: 100%|██████████| 391/391 [00:33<00:00, 11.73it/s]\n"
     ]
    },
    {
     "output_type": "stream",
     "name": "stdout",
     "text": [
      "\n",
      "Test set: Average loss: 0.7630, Accuracy: 7307/10000 (73.07%)\n",
      "\n"
     ]
    },
    {
     "output_type": "stream",
     "name": "stderr",
     "text": [
      "Epoch 6 Loss=0.7961 Acc=72.53: 100%|██████████| 391/391 [00:33<00:00, 11.74it/s]\n"
     ]
    },
    {
     "output_type": "stream",
     "name": "stdout",
     "text": [
      "\n",
      "Test set: Average loss: 0.7005, Accuracy: 7562/10000 (75.62%)\n",
      "\n"
     ]
    },
    {
     "output_type": "stream",
     "name": "stderr",
     "text": [
      "Epoch 7 Loss=0.7221 Acc=74.38: 100%|██████████| 391/391 [00:33<00:00, 11.84it/s]\n"
     ]
    },
    {
     "output_type": "stream",
     "name": "stdout",
     "text": [
      "\n",
      "Test set: Average loss: 0.6787, Accuracy: 7633/10000 (76.33%)\n",
      "\n"
     ]
    },
    {
     "output_type": "stream",
     "name": "stderr",
     "text": [
      "Epoch 8 Loss=0.7983 Acc=75.92: 100%|██████████| 391/391 [00:32<00:00, 12.07it/s]\n"
     ]
    },
    {
     "output_type": "stream",
     "name": "stdout",
     "text": [
      "\n",
      "Test set: Average loss: 0.6331, Accuracy: 7785/10000 (77.85%)\n",
      "\n"
     ]
    },
    {
     "output_type": "stream",
     "name": "stderr",
     "text": [
      "Epoch 9 Loss=0.5234 Acc=77.05: 100%|██████████| 391/391 [00:32<00:00, 11.96it/s]\n"
     ]
    },
    {
     "output_type": "stream",
     "name": "stdout",
     "text": [
      "\n",
      "Test set: Average loss: 0.6103, Accuracy: 7902/10000 (79.02%)\n",
      "\n"
     ]
    },
    {
     "output_type": "stream",
     "name": "stderr",
     "text": [
      "Epoch 10 Loss=0.7570 Acc=78.08: 100%|██████████| 391/391 [00:32<00:00, 11.88it/s]\n"
     ]
    },
    {
     "output_type": "stream",
     "name": "stdout",
     "text": [
      "\n",
      "Test set: Average loss: 0.6013, Accuracy: 7888/10000 (78.88%)\n",
      "\n"
     ]
    },
    {
     "output_type": "stream",
     "name": "stderr",
     "text": [
      "Epoch 11 Loss=0.7804 Acc=78.77: 100%|██████████| 391/391 [00:33<00:00, 11.53it/s]\n"
     ]
    },
    {
     "output_type": "stream",
     "name": "stdout",
     "text": [
      "\n",
      "Test set: Average loss: 0.5693, Accuracy: 7972/10000 (79.72%)\n",
      "\n"
     ]
    },
    {
     "output_type": "stream",
     "name": "stderr",
     "text": [
      "Epoch 12 Loss=0.4297 Acc=79.70: 100%|██████████| 391/391 [00:33<00:00, 11.69it/s]\n"
     ]
    },
    {
     "output_type": "stream",
     "name": "stdout",
     "text": [
      "\n",
      "Test set: Average loss: 0.5517, Accuracy: 8073/10000 (80.73%)\n",
      "\n"
     ]
    },
    {
     "output_type": "stream",
     "name": "stderr",
     "text": [
      "Epoch 13 Loss=0.5064 Acc=80.49: 100%|██████████| 391/391 [00:33<00:00, 11.74it/s]\n"
     ]
    },
    {
     "output_type": "stream",
     "name": "stdout",
     "text": [
      "\n",
      "Test set: Average loss: 0.5549, Accuracy: 8062/10000 (80.62%)\n",
      "\n"
     ]
    },
    {
     "output_type": "stream",
     "name": "stderr",
     "text": [
      "Epoch 14 Loss=0.4753 Acc=81.09: 100%|██████████| 391/391 [00:33<00:00, 11.80it/s]\n"
     ]
    },
    {
     "output_type": "stream",
     "name": "stdout",
     "text": [
      "\n",
      "Test set: Average loss: 0.5348, Accuracy: 8140/10000 (81.40%)\n",
      "\n"
     ]
    },
    {
     "output_type": "stream",
     "name": "stderr",
     "text": [
      "Epoch 15 Loss=0.6564 Acc=81.89: 100%|██████████| 391/391 [00:33<00:00, 11.79it/s]\n"
     ]
    },
    {
     "output_type": "stream",
     "name": "stdout",
     "text": [
      "\n",
      "Test set: Average loss: 0.5368, Accuracy: 8112/10000 (81.12%)\n",
      "\n"
     ]
    },
    {
     "output_type": "stream",
     "name": "stderr",
     "text": [
      "Epoch 16 Loss=0.4568 Acc=82.26: 100%|██████████| 391/391 [00:33<00:00, 11.71it/s]\n"
     ]
    },
    {
     "output_type": "stream",
     "name": "stdout",
     "text": [
      "\n",
      "Test set: Average loss: 0.5065, Accuracy: 8240/10000 (82.40%)\n",
      "\n"
     ]
    },
    {
     "output_type": "stream",
     "name": "stderr",
     "text": [
      "Epoch 17 Loss=0.4696 Acc=82.75: 100%|██████████| 391/391 [00:33<00:00, 11.73it/s]\n"
     ]
    },
    {
     "output_type": "stream",
     "name": "stdout",
     "text": [
      "\n",
      "Test set: Average loss: 0.5135, Accuracy: 8241/10000 (82.41%)\n",
      "\n"
     ]
    },
    {
     "output_type": "stream",
     "name": "stderr",
     "text": [
      "Epoch 18 Loss=0.4571 Acc=83.46: 100%|██████████| 391/391 [00:33<00:00, 11.70it/s]\n"
     ]
    },
    {
     "output_type": "stream",
     "name": "stdout",
     "text": [
      "\n",
      "Test set: Average loss: 0.5092, Accuracy: 8243/10000 (82.43%)\n",
      "\n"
     ]
    },
    {
     "output_type": "stream",
     "name": "stderr",
     "text": [
      "Epoch 19 Loss=0.5373 Acc=83.80: 100%|██████████| 391/391 [00:33<00:00, 11.52it/s]\n"
     ]
    },
    {
     "output_type": "stream",
     "name": "stdout",
     "text": [
      "\n",
      "Test set: Average loss: 0.4832, Accuracy: 8307/10000 (83.07%)\n",
      "\n"
     ]
    },
    {
     "output_type": "stream",
     "name": "stderr",
     "text": [
      "Epoch 20 Loss=0.5746 Acc=84.43: 100%|██████████| 391/391 [00:33<00:00, 11.82it/s]\n"
     ]
    },
    {
     "output_type": "stream",
     "name": "stdout",
     "text": [
      "\n",
      "Test set: Average loss: 0.4676, Accuracy: 8398/10000 (83.98%)\n",
      "\n"
     ]
    },
    {
     "output_type": "stream",
     "name": "stderr",
     "text": [
      "Epoch 21 Loss=0.4396 Acc=84.99: 100%|██████████| 391/391 [00:32<00:00, 11.92it/s]\n"
     ]
    },
    {
     "output_type": "stream",
     "name": "stdout",
     "text": [
      "\n",
      "Test set: Average loss: 0.4657, Accuracy: 8397/10000 (83.97%)\n",
      "\n"
     ]
    },
    {
     "output_type": "stream",
     "name": "stderr",
     "text": [
      "Epoch 22 Loss=0.3789 Acc=85.20: 100%|██████████| 391/391 [00:32<00:00, 11.88it/s]\n"
     ]
    },
    {
     "output_type": "stream",
     "name": "stdout",
     "text": [
      "\n",
      "Test set: Average loss: 0.4603, Accuracy: 8427/10000 (84.27%)\n",
      "\n"
     ]
    },
    {
     "output_type": "stream",
     "name": "stderr",
     "text": [
      "Epoch 23 Loss=0.4840 Acc=85.94: 100%|██████████| 391/391 [00:33<00:00, 11.79it/s]\n"
     ]
    },
    {
     "output_type": "stream",
     "name": "stdout",
     "text": [
      "\n",
      "Test set: Average loss: 0.4331, Accuracy: 8511/10000 (85.11%)\n",
      "\n"
     ]
    },
    {
     "output_type": "stream",
     "name": "stderr",
     "text": [
      "Epoch 24 Loss=0.3760 Acc=86.71: 100%|██████████| 391/391 [00:33<00:00, 11.63it/s]\n"
     ]
    },
    {
     "output_type": "stream",
     "name": "stdout",
     "text": [
      "\n",
      "Test set: Average loss: 0.4372, Accuracy: 8491/10000 (84.91%)\n",
      "\n"
     ]
    },
    {
     "output_type": "stream",
     "name": "stderr",
     "text": [
      "Epoch 25 Loss=0.3361 Acc=87.18:  57%|█████▋    | 223/391 [00:19<00:14, 11.51it/s]\n"
     ]
    },
    {
     "output_type": "error",
     "ename": "KeyboardInterrupt",
     "evalue": "",
     "traceback": [
      "\u001B[0;31m---------------------------------------------------------------------------\u001B[0m",
      "\u001B[0;31mKeyboardInterrupt\u001B[0m                         Traceback (most recent call last)",
      "\u001B[0;32m/tmp/ipython-input-1772514884.py\u001B[0m in \u001B[0;36m<cell line: 0>\u001B[0;34m()\u001B[0m\n\u001B[1;32m     58\u001B[0m \u001B[0mEPOCHS\u001B[0m \u001B[0;34m=\u001B[0m \u001B[0;36m30\u001B[0m\u001B[0;34m\u001B[0m\u001B[0;34m\u001B[0m\u001B[0m\n\u001B[1;32m     59\u001B[0m \u001B[0;32mfor\u001B[0m \u001B[0mepoch\u001B[0m \u001B[0;32min\u001B[0m \u001B[0mrange\u001B[0m\u001B[0;34m(\u001B[0m\u001B[0;36m1\u001B[0m\u001B[0;34m,\u001B[0m \u001B[0mEPOCHS\u001B[0m\u001B[0;34m+\u001B[0m\u001B[0;36m1\u001B[0m\u001B[0;34m)\u001B[0m\u001B[0;34m:\u001B[0m\u001B[0;34m\u001B[0m\u001B[0;34m\u001B[0m\u001B[0m\n\u001B[0;32m---> 60\u001B[0;31m     \u001B[0mtrain\u001B[0m\u001B[0;34m(\u001B[0m\u001B[0mmodel\u001B[0m\u001B[0;34m,\u001B[0m \u001B[0mdevice\u001B[0m\u001B[0;34m,\u001B[0m \u001B[0mtrain_loader\u001B[0m\u001B[0;34m,\u001B[0m \u001B[0moptimizer\u001B[0m\u001B[0;34m,\u001B[0m \u001B[0mscheduler\u001B[0m\u001B[0;34m,\u001B[0m \u001B[0mepoch\u001B[0m\u001B[0;34m)\u001B[0m\u001B[0;34m\u001B[0m\u001B[0;34m\u001B[0m\u001B[0m\n\u001B[0m\u001B[1;32m     61\u001B[0m     \u001B[0macc\u001B[0m \u001B[0;34m=\u001B[0m \u001B[0mtest\u001B[0m\u001B[0;34m(\u001B[0m\u001B[0mmodel\u001B[0m\u001B[0;34m,\u001B[0m \u001B[0mdevice\u001B[0m\u001B[0;34m,\u001B[0m \u001B[0mtest_loader\u001B[0m\u001B[0;34m)\u001B[0m\u001B[0;34m\u001B[0m\u001B[0;34m\u001B[0m\u001B[0m\n",
      "\u001B[0;32m/tmp/ipython-input-1772514884.py\u001B[0m in \u001B[0;36mtrain\u001B[0;34m(model, device, train_loader, optimizer, scheduler, epoch)\u001B[0m\n\u001B[1;32m     21\u001B[0m \u001B[0;34m\u001B[0m\u001B[0m\n\u001B[1;32m     22\u001B[0m         \u001B[0mpred\u001B[0m \u001B[0;34m=\u001B[0m \u001B[0my_pred\u001B[0m\u001B[0;34m.\u001B[0m\u001B[0margmax\u001B[0m\u001B[0;34m(\u001B[0m\u001B[0mdim\u001B[0m\u001B[0;34m=\u001B[0m\u001B[0;36m1\u001B[0m\u001B[0;34m,\u001B[0m \u001B[0mkeepdim\u001B[0m\u001B[0;34m=\u001B[0m\u001B[0;32mTrue\u001B[0m\u001B[0;34m)\u001B[0m\u001B[0;34m\u001B[0m\u001B[0;34m\u001B[0m\u001B[0m\n\u001B[0;32m---> 23\u001B[0;31m         \u001B[0mcorrect\u001B[0m \u001B[0;34m+=\u001B[0m \u001B[0mpred\u001B[0m\u001B[0;34m.\u001B[0m\u001B[0meq\u001B[0m\u001B[0;34m(\u001B[0m\u001B[0mtarget\u001B[0m\u001B[0;34m.\u001B[0m\u001B[0mview_as\u001B[0m\u001B[0;34m(\u001B[0m\u001B[0mpred\u001B[0m\u001B[0;34m)\u001B[0m\u001B[0;34m)\u001B[0m\u001B[0;34m.\u001B[0m\u001B[0msum\u001B[0m\u001B[0;34m(\u001B[0m\u001B[0;34m)\u001B[0m\u001B[0;34m.\u001B[0m\u001B[0mitem\u001B[0m\u001B[0;34m(\u001B[0m\u001B[0;34m)\u001B[0m\u001B[0;34m\u001B[0m\u001B[0;34m\u001B[0m\u001B[0m\n\u001B[0m\u001B[1;32m     24\u001B[0m         \u001B[0mprocessed\u001B[0m \u001B[0;34m+=\u001B[0m \u001B[0mlen\u001B[0m\u001B[0;34m(\u001B[0m\u001B[0mdata\u001B[0m\u001B[0;34m)\u001B[0m\u001B[0;34m\u001B[0m\u001B[0;34m\u001B[0m\u001B[0m\n\u001B[1;32m     25\u001B[0m         \u001B[0mpbar\u001B[0m\u001B[0;34m.\u001B[0m\u001B[0mset_description\u001B[0m\u001B[0;34m(\u001B[0m\u001B[0;34mf\"Epoch {epoch} Loss={loss.item():.4f} Acc={100*correct/processed:.2f}\"\u001B[0m\u001B[0;34m)\u001B[0m\u001B[0;34m\u001B[0m\u001B[0;34m\u001B[0m\u001B[0m\n",
      "\u001B[0;31mKeyboardInterrupt\u001B[0m: "
     ]
    }
   ]
  },
  {
   "cell_type": "code",
   "source": [
    "fig, axs = plt.subplots(2,2,figsize=(15,10))\n",
    "axs[0, 0].plot(train_losses)\n",
    "axs[0, 0].set_title(\"Training Loss\")\n",
    "axs[1, 0].plot(train_acc)\n",
    "axs[1, 0].set_title(\"Training Accuracy\")\n",
    "axs[0, 1].plot(test_losses)\n",
    "axs[0, 1].set_title(\"Test Loss\")\n",
    "axs[1, 1].plot(test_acc)\n",
    "axs[1, 1].set_title(\"Test Accuracy\")"
   ],
   "metadata": {
    "colab": {
     "base_uri": "https://localhost:8080/",
     "height": 1000
    },
    "id": "xn928OT5ir5_",
    "outputId": "e8707a37-6af3-449a-e404-bee968d3d130"
   },
   "execution_count": null,
   "outputs": [
    {
     "output_type": "error",
     "ename": "NameError",
     "evalue": "name 'train_losses' is not defined",
     "traceback": [
      "\u001B[0;31m---------------------------------------------------------------------------\u001B[0m",
      "\u001B[0;31mNameError\u001B[0m                                 Traceback (most recent call last)",
      "\u001B[0;32m/tmp/ipython-input-3054428689.py\u001B[0m in \u001B[0;36m<cell line: 0>\u001B[0;34m()\u001B[0m\n\u001B[1;32m      1\u001B[0m \u001B[0mfig\u001B[0m\u001B[0;34m,\u001B[0m \u001B[0maxs\u001B[0m \u001B[0;34m=\u001B[0m \u001B[0mplt\u001B[0m\u001B[0;34m.\u001B[0m\u001B[0msubplots\u001B[0m\u001B[0;34m(\u001B[0m\u001B[0;36m2\u001B[0m\u001B[0;34m,\u001B[0m\u001B[0;36m2\u001B[0m\u001B[0;34m,\u001B[0m\u001B[0mfigsize\u001B[0m\u001B[0;34m=\u001B[0m\u001B[0;34m(\u001B[0m\u001B[0;36m15\u001B[0m\u001B[0;34m,\u001B[0m\u001B[0;36m10\u001B[0m\u001B[0;34m)\u001B[0m\u001B[0;34m)\u001B[0m\u001B[0;34m\u001B[0m\u001B[0;34m\u001B[0m\u001B[0m\n\u001B[0;32m----> 2\u001B[0;31m \u001B[0maxs\u001B[0m\u001B[0;34m[\u001B[0m\u001B[0;36m0\u001B[0m\u001B[0;34m,\u001B[0m \u001B[0;36m0\u001B[0m\u001B[0;34m]\u001B[0m\u001B[0;34m.\u001B[0m\u001B[0mplot\u001B[0m\u001B[0;34m(\u001B[0m\u001B[0mtrain_losses\u001B[0m\u001B[0;34m)\u001B[0m\u001B[0;34m\u001B[0m\u001B[0;34m\u001B[0m\u001B[0m\n\u001B[0m\u001B[1;32m      3\u001B[0m \u001B[0maxs\u001B[0m\u001B[0;34m[\u001B[0m\u001B[0;36m0\u001B[0m\u001B[0;34m,\u001B[0m \u001B[0;36m0\u001B[0m\u001B[0;34m]\u001B[0m\u001B[0;34m.\u001B[0m\u001B[0mset_title\u001B[0m\u001B[0;34m(\u001B[0m\u001B[0;34m\"Training Loss\"\u001B[0m\u001B[0;34m)\u001B[0m\u001B[0;34m\u001B[0m\u001B[0;34m\u001B[0m\u001B[0m\n\u001B[1;32m      4\u001B[0m \u001B[0maxs\u001B[0m\u001B[0;34m[\u001B[0m\u001B[0;36m1\u001B[0m\u001B[0;34m,\u001B[0m \u001B[0;36m0\u001B[0m\u001B[0;34m]\u001B[0m\u001B[0;34m.\u001B[0m\u001B[0mplot\u001B[0m\u001B[0;34m(\u001B[0m\u001B[0mtrain_acc\u001B[0m\u001B[0;34m)\u001B[0m\u001B[0;34m\u001B[0m\u001B[0;34m\u001B[0m\u001B[0m\n\u001B[1;32m      5\u001B[0m \u001B[0maxs\u001B[0m\u001B[0;34m[\u001B[0m\u001B[0;36m1\u001B[0m\u001B[0;34m,\u001B[0m \u001B[0;36m0\u001B[0m\u001B[0;34m]\u001B[0m\u001B[0;34m.\u001B[0m\u001B[0mset_title\u001B[0m\u001B[0;34m(\u001B[0m\u001B[0;34m\"Training Accuracy\"\u001B[0m\u001B[0;34m)\u001B[0m\u001B[0;34m\u001B[0m\u001B[0;34m\u001B[0m\u001B[0m\n",
      "\u001B[0;31mNameError\u001B[0m: name 'train_losses' is not defined"
     ]
    },
    {
     "output_type": "display_data",
     "data": {
      "text/plain": [
       "<Figure size 1500x1000 with 4 Axes>"
      ],
      "image/png": "[encoded data removed]"
     },
     "metadata": {}
    }
   ]
  },
  {
   "cell_type": "code",
   "source": [
    "import torch.nn as nn\n",
    "import torch.nn.functional as F\n",
    "# ------------------------------\n",
    "# Model Definition\n",
    "# ------------------------------\n",
    "dropout_value = 0.05\n",
    "class Net(nn.Module):\n",
    "    def __init__(self):\n",
    "        super(Net, self).__init__()\n",
    "\n",
    "        # CONVOLUTION BLOCK 1 (C1) — RF: 3 → 9\n",
    "        self.c1 = nn.Sequential(\n",
    "            nn.Conv2d(3, 32, kernel_size=3, padding=0, bias=False),   # 32x32x3 → 30x30x32, RF=3\n",
    "            nn.ReLU(),\n",
    "            nn.BatchNorm2d(32),\n",
    "            nn.Dropout(dropout_value),\n",
    "\n",
    "            nn.Conv2d(32, 64, kernel_size=3, padding=0, bias=False),  # 30x30x32 → 28x28x64, RF=5\n",
    "            nn.ReLU(),\n",
    "            nn.BatchNorm2d(64),\n",
    "            nn.Dropout(dropout_value),\n",
    "\n",
    "            nn.Conv2d(64, 64, kernel_size=3, padding=0, dilation=2, bias=False),  # 28x28x64 → 24x24x64, RF=9\n",
    "            nn.ReLU(),\n",
    "            nn.BatchNorm2d(64),\n",
    "            nn.Dropout(dropout_value),\n",
    "\n",
    "            nn.Conv2d(64, 32, kernel_size=1, padding=0, bias=False),  # 24x24x64 → 24x24x32\n",
    "        )\n",
    "\n",
    "        # CONVOLUTION BLOCK 2 (C2) — RF: 11 → 17\n",
    "        self.c2 = nn.Sequential(\n",
    "            nn.Conv2d(32, 32, kernel_size=3, padding=1, groups=32, bias=False),  # Depthwise → 24x24x32, RF=11\n",
    "            nn.ReLU(),\n",
    "            nn.BatchNorm2d(32),\n",
    "\n",
    "            nn.Conv2d(32, 64, kernel_size=1, padding=0, bias=False),  # Pointwise → 24x24x64, RF=11\n",
    "            nn.ReLU(),\n",
    "            nn.BatchNorm2d(64),\n",
    "            nn.Dropout(dropout_value),\n",
    "\n",
    "            nn.Conv2d(64, 64, kernel_size=3, padding=0, bias=False),  # 24x24x64 → 22x22x64, RF=13\n",
    "            nn.ReLU(),\n",
    "            nn.BatchNorm2d(64),\n",
    "            nn.Dropout(dropout_value),\n",
    "\n",
    "            nn.Conv2d(64, 64, kernel_size=3, padding=0, stride=2, bias=False),  # 22x22x64 → 10x10x64, RF=17\n",
    "            nn.ReLU(),\n",
    "            nn.BatchNorm2d(64),\n",
    "            nn.Dropout(dropout_value),\n",
    "        )\n",
    "\n",
    "        # CONVOLUTION BLOCK 3 (C3) — RF: 21 → 29\n",
    "        self.c3 = nn.Sequential(\n",
    "            nn.Conv2d(64, 32, kernel_size=1, padding=0, bias=False),  # 10x10x64 → 10x10x32, RF=17\n",
    "            nn.AvgPool2d(2, 2),                                       # 10x10x32 → 5x5x32, RF=21\n",
    "\n",
    "            nn.Conv2d(32, 64, kernel_size=3, padding=1, bias=False),  # 5x5x32 → 5x5x64, RF=25\n",
    "            nn.ReLU(),\n",
    "            nn.BatchNorm2d(64),\n",
    "            nn.Dropout(dropout_value),\n",
    "\n",
    "            nn.Conv2d(64, 64, kernel_size=3, padding=1, bias=False),  # 5x5x64 → 5x5x64, RF=29\n",
    "            nn.ReLU(),\n",
    "            nn.BatchNorm2d(64),\n",
    "            nn.Dropout(dropout_value),\n",
    "        )\n",
    "\n",
    "        # CONVOLUTION BLOCK 4 (C4) — RF: 44\n",
    "        self.c4 = nn.Sequential(\n",
    "            nn.AvgPool2d(kernel_size=5)  # 5x5x64 → 1x1x64, RF=44 (covers full input)\n",
    "        )\n",
    "\n",
    "        # OUTPUT BLOCK\n",
    "        self.output = nn.Sequential(\n",
    "            nn.Conv2d(64, 10, kernel_size=1, padding=0, bias=False)  # 1x1x64 → 1x1x10\n",
    "        )\n",
    "\n",
    "    def forward(self, x):\n",
    "        x = self.c1(x)       # → 24x24x32\n",
    "        x = self.c2(x)       # → 10x10x64\n",
    "        x = self.c3(x)       # → 5x5 → 1x1x64\n",
    "        x = self.c4(x)       # → 1x1x64\n",
    "        x = self.output(x)   # → 1x1x10\n",
    "        x = x.view(-1, 10)\n",
    "        return F.log_softmax(x, dim=-1)\n",
    "\n",
    "import torch\n",
    "from torchsummary import summary\n",
    "use_cuda = torch.cuda.is_available()\n",
    "device = torch.device(\"cuda\" if use_cuda else \"cpu\")\n",
    "print(device)\n",
    "model = Net().to(device)\n",
    "summary(model, input_size=(3, 32, 32))"
   ],
   "metadata": {
    "colab": {
     "base_uri": "https://localhost:8080/"
    },
    "id": "IxkyRrIT9-jz",
    "outputId": "45a98038-50ac-4fe8-863c-95a24b2005c5"
   },
   "execution_count": null,
   "outputs": [
    {
     "output_type": "stream",
     "name": "stdout",
     "text": [
      "cuda\n",
      "----------------------------------------------------------------\n",
      "        Layer (type)               Output Shape         Param #\n",
      "================================================================\n",
      "            Conv2d-1           [-1, 32, 30, 30]             864\n",
      "              ReLU-2           [-1, 32, 30, 30]               0\n",
      "       BatchNorm2d-3           [-1, 32, 30, 30]              64\n",
      "           Dropout-4           [-1, 32, 30, 30]               0\n",
      "            Conv2d-5           [-1, 64, 28, 28]          18,432\n",
      "              ReLU-6           [-1, 64, 28, 28]               0\n",
      "       BatchNorm2d-7           [-1, 64, 28, 28]             128\n",
      "           Dropout-8           [-1, 64, 28, 28]               0\n",
      "            Conv2d-9           [-1, 64, 24, 24]          36,864\n",
      "             ReLU-10           [-1, 64, 24, 24]               0\n",
      "      BatchNorm2d-11           [-1, 64, 24, 24]             128\n",
      "          Dropout-12           [-1, 64, 24, 24]               0\n",
      "           Conv2d-13           [-1, 32, 24, 24]           2,048\n",
      "           Conv2d-14           [-1, 32, 24, 24]             288\n",
      "             ReLU-15           [-1, 32, 24, 24]               0\n",
      "      BatchNorm2d-16           [-1, 32, 24, 24]              64\n",
      "           Conv2d-17           [-1, 64, 24, 24]           2,048\n",
      "             ReLU-18           [-1, 64, 24, 24]               0\n",
      "      BatchNorm2d-19           [-1, 64, 24, 24]             128\n",
      "          Dropout-20           [-1, 64, 24, 24]               0\n",
      "           Conv2d-21           [-1, 64, 22, 22]          36,864\n",
      "             ReLU-22           [-1, 64, 22, 22]               0\n",
      "      BatchNorm2d-23           [-1, 64, 22, 22]             128\n",
      "          Dropout-24           [-1, 64, 22, 22]               0\n",
      "           Conv2d-25           [-1, 64, 10, 10]          36,864\n",
      "             ReLU-26           [-1, 64, 10, 10]               0\n",
      "      BatchNorm2d-27           [-1, 64, 10, 10]             128\n",
      "          Dropout-28           [-1, 64, 10, 10]               0\n",
      "           Conv2d-29           [-1, 32, 10, 10]           2,048\n",
      "        AvgPool2d-30             [-1, 32, 5, 5]               0\n",
      "           Conv2d-31             [-1, 64, 5, 5]          18,432\n",
      "             ReLU-32             [-1, 64, 5, 5]               0\n",
      "      BatchNorm2d-33             [-1, 64, 5, 5]             128\n",
      "          Dropout-34             [-1, 64, 5, 5]               0\n",
      "           Conv2d-35             [-1, 64, 5, 5]          36,864\n",
      "             ReLU-36             [-1, 64, 5, 5]               0\n",
      "      BatchNorm2d-37             [-1, 64, 5, 5]             128\n",
      "          Dropout-38             [-1, 64, 5, 5]               0\n",
      "        AvgPool2d-39             [-1, 64, 1, 1]               0\n",
      "           Conv2d-40             [-1, 10, 1, 1]             640\n",
      "================================================================\n",
      "Total params: 193,280\n",
      "Trainable params: 193,280\n",
      "Non-trainable params: 0\n",
      "----------------------------------------------------------------\n",
      "Input size (MB): 0.01\n",
      "Forward/backward pass size (MB): 6.49\n",
      "Params size (MB): 0.74\n",
      "Estimated Total Size (MB): 7.24\n",
      "----------------------------------------------------------------\n"
     ]
    }
   ]
  },
  {
   "cell_type": "code",
   "source": [
    "\n",
    "import torch.optim as optim\n",
    "from torch.optim.lr_scheduler import OneCycleLR\n",
    "from tqdm import tqdm\n",
    "\n",
    "# ------------------------------\n",
    "# Training & Testing\n",
    "# ------------------------------\n",
    "def train(model, device, train_loader, optimizer, scheduler, epoch):\n",
    "    model.train()\n",
    "    pbar = tqdm(train_loader)\n",
    "    correct = 0\n",
    "    processed = 0\n",
    "    for batch_idx, (data, target) in enumerate(pbar):\n",
    "        data, target = data.to(device), target.to(device)\n",
    "        optimizer.zero_grad()\n",
    "        y_pred = model(data)\n",
    "        loss = F.nll_loss(y_pred, target)\n",
    "        loss.backward()\n",
    "        optimizer.step()\n",
    "        scheduler.step()\n",
    "\n",
    "        pred = y_pred.argmax(dim=1, keepdim=True)\n",
    "        correct += pred.eq(target.view_as(pred)).sum().item()\n",
    "        processed += len(data)\n",
    "        pbar.set_description(f\"Epoch {epoch} Loss={loss.item():.4f} Acc={100*correct/processed:.2f}\")\n",
    "\n",
    "def test(model, device, test_loader):\n",
    "    model.eval()\n",
    "    test_loss = 0\n",
    "    correct = 0\n",
    "    with torch.no_grad():\n",
    "        for data, target in test_loader:\n",
    "            data, target = data.to(device), target.to(device)\n",
    "            output = model(data)\n",
    "            test_loss += F.nll_loss(output, target, reduction='sum').item()\n",
    "            pred = output.argmax(dim=1, keepdim=True)\n",
    "            correct += pred.eq(target.view_as(pred)).sum().item()\n",
    "    test_loss /= len(test_loader.dataset)\n",
    "    acc = 100. * correct / len(test_loader.dataset)\n",
    "    print(f\"\\nTest set: Average loss: {test_loss:.4f}, Accuracy: {correct}/{len(test_loader.dataset)} ({acc:.2f}%)\\n\")\n",
    "    return acc\n",
    "\n",
    "# ------------------------------\n",
    "# Run Training\n",
    "# ------------------------------\n",
    "device = torch.device(\"cuda\" if torch.cuda.is_available() else \"cpu\")\n",
    "model = Net().to(device)\n",
    "optimizer = optim.SGD(model.parameters(), lr=0.01, momentum=0.9, weight_decay=1e-4)\n",
    "\n",
    "# OneCycleLR\n",
    "scheduler = OneCycleLR(\n",
    "    optimizer,\n",
    "    max_lr=0.05,\n",
    "    steps_per_epoch=len(train_loader),\n",
    "    epochs=30\n",
    ")\n",
    "\n",
    "EPOCHS = 30\n",
    "for epoch in range(1, EPOCHS+1):\n",
    "    train(model, device, train_loader, optimizer, scheduler, epoch)\n",
    "    acc = test(model, device, test_loader)\n"
   ],
   "metadata": {
    "colab": {
     "base_uri": "https://localhost:8080/"
    },
    "id": "zha0sqqi-R-J",
    "outputId": "0a279739-7bcd-4975-a910-41641da9c397"
   },
   "execution_count": null,
   "outputs": [
    {
     "output_type": "stream",
     "name": "stderr",
     "text": [
      "Epoch 1 Loss=1.2894 Acc=41.61: 100%|██████████| 391/391 [00:35<00:00, 10.88it/s]\n"
     ]
    },
    {
     "output_type": "stream",
     "name": "stdout",
     "text": [
      "\n",
      "Test set: Average loss: 1.2453, Accuracy: 5507/10000 (55.07%)\n",
      "\n"
     ]
    },
    {
     "output_type": "stream",
     "name": "stderr",
     "text": [
      "Epoch 2 Loss=1.1974 Acc=57.29: 100%|██████████| 391/391 [00:34<00:00, 11.50it/s]\n"
     ]
    },
    {
     "output_type": "stream",
     "name": "stdout",
     "text": [
      "\n",
      "Test set: Average loss: 1.0588, Accuracy: 6184/10000 (61.84%)\n",
      "\n"
     ]
    },
    {
     "output_type": "stream",
     "name": "stderr",
     "text": [
      "Epoch 3 Loss=1.2359 Acc=63.20: 100%|██████████| 391/391 [00:33<00:00, 11.62it/s]\n"
     ]
    },
    {
     "output_type": "stream",
     "name": "stdout",
     "text": [
      "\n",
      "Test set: Average loss: 0.9969, Accuracy: 6522/10000 (65.22%)\n",
      "\n"
     ]
    },
    {
     "output_type": "stream",
     "name": "stderr",
     "text": [
      "Epoch 4 Loss=1.1301 Acc=67.32: 100%|██████████| 391/391 [00:33<00:00, 11.56it/s]\n"
     ]
    },
    {
     "output_type": "stream",
     "name": "stdout",
     "text": [
      "\n",
      "Test set: Average loss: 0.8256, Accuracy: 7113/10000 (71.13%)\n",
      "\n"
     ]
    },
    {
     "output_type": "stream",
     "name": "stderr",
     "text": [
      "Epoch 5 Loss=0.9605 Acc=70.21: 100%|██████████| 391/391 [00:37<00:00, 10.30it/s]\n"
     ]
    },
    {
     "output_type": "stream",
     "name": "stdout",
     "text": [
      "\n",
      "Test set: Average loss: 0.7894, Accuracy: 7240/10000 (72.40%)\n",
      "\n"
     ]
    },
    {
     "output_type": "stream",
     "name": "stderr",
     "text": [
      "Epoch 6 Loss=0.6668 Acc=72.46: 100%|██████████| 391/391 [00:33<00:00, 11.60it/s]\n"
     ]
    },
    {
     "output_type": "stream",
     "name": "stdout",
     "text": [
      "\n",
      "Test set: Average loss: 0.7311, Accuracy: 7437/10000 (74.37%)\n",
      "\n"
     ]
    },
    {
     "output_type": "stream",
     "name": "stderr",
     "text": [
      "Epoch 7 Loss=0.7755 Acc=73.89: 100%|██████████| 391/391 [00:36<00:00, 10.80it/s]\n"
     ]
    },
    {
     "output_type": "stream",
     "name": "stdout",
     "text": [
      "\n",
      "Test set: Average loss: 0.6951, Accuracy: 7624/10000 (76.24%)\n",
      "\n"
     ]
    },
    {
     "output_type": "stream",
     "name": "stderr",
     "text": [
      "Epoch 8 Loss=0.5864 Acc=75.85: 100%|██████████| 391/391 [00:34<00:00, 11.49it/s]\n"
     ]
    },
    {
     "output_type": "stream",
     "name": "stdout",
     "text": [
      "\n",
      "Test set: Average loss: 0.6362, Accuracy: 7767/10000 (77.67%)\n",
      "\n"
     ]
    },
    {
     "output_type": "stream",
     "name": "stderr",
     "text": [
      "Epoch 9 Loss=0.5895 Acc=76.79: 100%|██████████| 391/391 [00:34<00:00, 11.42it/s]\n"
     ]
    },
    {
     "output_type": "stream",
     "name": "stdout",
     "text": [
      "\n",
      "Test set: Average loss: 0.6237, Accuracy: 7857/10000 (78.57%)\n",
      "\n"
     ]
    },
    {
     "output_type": "stream",
     "name": "stderr",
     "text": [
      "Epoch 10 Loss=0.4804 Acc=78.26: 100%|██████████| 391/391 [00:34<00:00, 11.41it/s]\n"
     ]
    },
    {
     "output_type": "stream",
     "name": "stdout",
     "text": [
      "\n",
      "Test set: Average loss: 0.5944, Accuracy: 7927/10000 (79.27%)\n",
      "\n"
     ]
    },
    {
     "output_type": "stream",
     "name": "stderr",
     "text": [
      "Epoch 11 Loss=0.7880 Acc=78.86: 100%|██████████| 391/391 [00:34<00:00, 11.40it/s]\n"
     ]
    },
    {
     "output_type": "stream",
     "name": "stdout",
     "text": [
      "\n",
      "Test set: Average loss: 0.5817, Accuracy: 7990/10000 (79.90%)\n",
      "\n"
     ]
    },
    {
     "output_type": "stream",
     "name": "stderr",
     "text": [
      "Epoch 12 Loss=0.5641 Acc=79.84: 100%|██████████| 391/391 [00:34<00:00, 11.21it/s]\n"
     ]
    },
    {
     "output_type": "stream",
     "name": "stdout",
     "text": [
      "\n",
      "Test set: Average loss: 0.5676, Accuracy: 8056/10000 (80.56%)\n",
      "\n"
     ]
    },
    {
     "output_type": "stream",
     "name": "stderr",
     "text": [
      "Epoch 13 Loss=0.5475 Acc=80.45: 100%|██████████| 391/391 [00:35<00:00, 11.10it/s]\n"
     ]
    },
    {
     "output_type": "stream",
     "name": "stdout",
     "text": [
      "\n",
      "Test set: Average loss: 0.5388, Accuracy: 8188/10000 (81.88%)\n",
      "\n"
     ]
    },
    {
     "output_type": "stream",
     "name": "stderr",
     "text": [
      "Epoch 14 Loss=0.4938 Acc=81.16: 100%|██████████| 391/391 [00:34<00:00, 11.44it/s]\n"
     ]
    },
    {
     "output_type": "stream",
     "name": "stdout",
     "text": [
      "\n",
      "Test set: Average loss: 0.5317, Accuracy: 8172/10000 (81.72%)\n",
      "\n"
     ]
    },
    {
     "output_type": "stream",
     "name": "stderr",
     "text": [
      "Epoch 15 Loss=0.3596 Acc=81.51: 100%|██████████| 391/391 [00:37<00:00, 10.31it/s]\n"
     ]
    },
    {
     "output_type": "stream",
     "name": "stdout",
     "text": [
      "\n",
      "Test set: Average loss: 0.5274, Accuracy: 8165/10000 (81.65%)\n",
      "\n"
     ]
    },
    {
     "output_type": "stream",
     "name": "stderr",
     "text": [
      "Epoch 16 Loss=0.3903 Acc=82.47: 100%|██████████| 391/391 [00:36<00:00, 10.60it/s]\n"
     ]
    },
    {
     "output_type": "stream",
     "name": "stdout",
     "text": [
      "\n",
      "Test set: Average loss: 0.4904, Accuracy: 8313/10000 (83.13%)\n",
      "\n"
     ]
    },
    {
     "output_type": "stream",
     "name": "stderr",
     "text": [
      "Epoch 17 Loss=0.4814 Acc=82.73: 100%|██████████| 391/391 [00:33<00:00, 11.59it/s]\n"
     ]
    },
    {
     "output_type": "stream",
     "name": "stdout",
     "text": [
      "\n",
      "Test set: Average loss: 0.4875, Accuracy: 8296/10000 (82.96%)\n",
      "\n"
     ]
    },
    {
     "output_type": "stream",
     "name": "stderr",
     "text": [
      "Epoch 18 Loss=0.5352 Acc=83.27: 100%|██████████| 391/391 [00:33<00:00, 11.60it/s]\n"
     ]
    },
    {
     "output_type": "stream",
     "name": "stdout",
     "text": [
      "\n",
      "Test set: Average loss: 0.5051, Accuracy: 8303/10000 (83.03%)\n",
      "\n"
     ]
    },
    {
     "output_type": "stream",
     "name": "stderr",
     "text": [
      "Epoch 19 Loss=0.4681 Acc=83.84: 100%|██████████| 391/391 [00:34<00:00, 11.19it/s]\n"
     ]
    },
    {
     "output_type": "stream",
     "name": "stdout",
     "text": [
      "\n",
      "Test set: Average loss: 0.4723, Accuracy: 8394/10000 (83.94%)\n",
      "\n"
     ]
    },
    {
     "output_type": "stream",
     "name": "stderr",
     "text": [
      "Epoch 20 Loss=0.3308 Acc=84.31: 100%|██████████| 391/391 [00:33<00:00, 11.62it/s]\n"
     ]
    },
    {
     "output_type": "stream",
     "name": "stdout",
     "text": [
      "\n",
      "Test set: Average loss: 0.4732, Accuracy: 8398/10000 (83.98%)\n",
      "\n"
     ]
    },
    {
     "output_type": "stream",
     "name": "stderr",
     "text": [
      "Epoch 21 Loss=0.6557 Acc=84.89: 100%|██████████| 391/391 [00:33<00:00, 11.62it/s]\n"
     ]
    },
    {
     "output_type": "stream",
     "name": "stdout",
     "text": [
      "\n",
      "Test set: Average loss: 0.4662, Accuracy: 8414/10000 (84.14%)\n",
      "\n"
     ]
    },
    {
     "output_type": "stream",
     "name": "stderr",
     "text": [
      "Epoch 22 Loss=0.3532 Acc=85.34: 100%|██████████| 391/391 [00:33<00:00, 11.71it/s]\n"
     ]
    },
    {
     "output_type": "stream",
     "name": "stdout",
     "text": [
      "\n",
      "Test set: Average loss: 0.4514, Accuracy: 8487/10000 (84.87%)\n",
      "\n"
     ]
    },
    {
     "output_type": "stream",
     "name": "stderr",
     "text": [
      "Epoch 23 Loss=0.3095 Acc=85.71: 100%|██████████| 391/391 [00:33<00:00, 11.52it/s]\n"
     ]
    },
    {
     "output_type": "stream",
     "name": "stdout",
     "text": [
      "\n",
      "Test set: Average loss: 0.4381, Accuracy: 8479/10000 (84.79%)\n",
      "\n"
     ]
    },
    {
     "output_type": "stream",
     "name": "stderr",
     "text": [
      "Epoch 24 Loss=0.3466 Acc=86.58: 100%|██████████| 391/391 [00:33<00:00, 11.71it/s]\n"
     ]
    },
    {
     "output_type": "stream",
     "name": "stdout",
     "text": [
      "\n",
      "Test set: Average loss: 0.4238, Accuracy: 8558/10000 (85.58%)\n",
      "\n"
     ]
    },
    {
     "output_type": "stream",
     "name": "stderr",
     "text": [
      "Epoch 25 Loss=0.3084 Acc=87.29: 100%|██████████| 391/391 [00:33<00:00, 11.60it/s]\n"
     ]
    },
    {
     "output_type": "stream",
     "name": "stdout",
     "text": [
      "\n",
      "Test set: Average loss: 0.4067, Accuracy: 8608/10000 (86.08%)\n",
      "\n"
     ]
    },
    {
     "output_type": "stream",
     "name": "stderr",
     "text": [
      "Epoch 26 Loss=0.4132 Acc=87.89: 100%|██████████| 391/391 [00:33<00:00, 11.63it/s]\n"
     ]
    },
    {
     "output_type": "stream",
     "name": "stdout",
     "text": [
      "\n",
      "Test set: Average loss: 0.4061, Accuracy: 8634/10000 (86.34%)\n",
      "\n"
     ]
    },
    {
     "output_type": "stream",
     "name": "stderr",
     "text": [
      "Epoch 27 Loss=0.3834 Acc=88.27: 100%|██████████| 391/391 [00:33<00:00, 11.61it/s]\n"
     ]
    },
    {
     "output_type": "stream",
     "name": "stdout",
     "text": [
      "\n",
      "Test set: Average loss: 0.4006, Accuracy: 8654/10000 (86.54%)\n",
      "\n"
     ]
    },
    {
     "output_type": "stream",
     "name": "stderr",
     "text": [
      "Epoch 28 Loss=0.3412 Acc=88.87: 100%|██████████| 391/391 [00:33<00:00, 11.69it/s]\n"
     ]
    },
    {
     "output_type": "stream",
     "name": "stdout",
     "text": [
      "\n",
      "Test set: Average loss: 0.3910, Accuracy: 8663/10000 (86.63%)\n",
      "\n"
     ]
    },
    {
     "output_type": "stream",
     "name": "stderr",
     "text": [
      "Epoch 29 Loss=0.2414 Acc=89.15: 100%|██████████| 391/391 [00:33<00:00, 11.74it/s]\n"
     ]
    },
    {
     "output_type": "stream",
     "name": "stdout",
     "text": [
      "\n",
      "Test set: Average loss: 0.3860, Accuracy: 8695/10000 (86.95%)\n",
      "\n"
     ]
    },
    {
     "output_type": "stream",
     "name": "stderr",
     "text": [
      "Epoch 30 Loss=0.3222 Acc=89.55: 100%|██████████| 391/391 [00:33<00:00, 11.57it/s]\n"
     ]
    },
    {
     "output_type": "stream",
     "name": "stdout",
     "text": [
      "\n",
      "Test set: Average loss: 0.3850, Accuracy: 8701/10000 (87.01%)\n",
      "\n"
     ]
    }
   ]
  },
  {
   "cell_type": "code",
   "source": [
    "import torch.nn as nn\n",
    "import torch.nn.functional as F\n",
    "# ------------------------------\n",
    "# Model Definition\n",
    "# ------------------------------\n",
    "dropout_value = 0.05\n",
    "\n",
    "class Net(nn.Module):\n",
    "    def __init__(self):\n",
    "        super(Net, self).__init__()\n",
    "\n",
    "        # CONVOLUTION BLOCK 1 (C1) — RF: 9\n",
    "        self.c1 = nn.Sequential(\n",
    "            nn.Conv2d(3, 32, kernel_size=3, padding=0, bias=False),  # 32x32 → 30x30, RF=3\n",
    "            nn.ReLU(),\n",
    "            nn.BatchNorm2d(32),\n",
    "            nn.Dropout(dropout_value),\n",
    "\n",
    "            nn.Conv2d(32, 64, kernel_size=3, padding=0, bias=False), # 30x30 → 28x28, RF=5\n",
    "            nn.ReLU(),\n",
    "            nn.BatchNorm2d(64),\n",
    "            nn.Dropout(dropout_value),\n",
    "\n",
    "            nn.Conv2d(64, 64, kernel_size=3, padding=0, dilation=2, bias=False), # 28x28 → 24x24, RF=9\n",
    "            nn.ReLU(),\n",
    "            nn.BatchNorm2d(64),\n",
    "            nn.Dropout(dropout_value)\n",
    "        )\n",
    "\n",
    "        # CONVOLUTION BLOCK 2 (C2) — RF: 13\n",
    "        self.c2 = nn.Sequential(\n",
    "            nn.Conv2d(64, 32, kernel_size=1, padding=0, bias=False), # 24x24 → 24x24, RF=9\n",
    "            nn.Conv2d(32, 32, kernel_size=3, padding=1, groups=32, bias=False),  # Depthwise, RF=11\n",
    "            nn.ReLU(),\n",
    "            nn.BatchNorm2d(32),\n",
    "\n",
    "            nn.Conv2d(32, 64, kernel_size=1, padding=0, bias=False),  # Pointwise, RF=11\n",
    "            nn.ReLU(),\n",
    "            nn.BatchNorm2d(64),\n",
    "            nn.Dropout(dropout_value),\n",
    "\n",
    "            nn.Conv2d(64, 64, kernel_size=3, padding=0, bias=False), # 24x24 → 22x22, RF=13\n",
    "            nn.ReLU(),\n",
    "            nn.BatchNorm2d(64),\n",
    "            nn.Dropout(dropout_value)\n",
    "        )\n",
    "\n",
    "        # CONVOLUTION BLOCK 3 (C3) — RF: 21\n",
    "        self.c3 = nn.Sequential(\n",
    "            nn.Conv2d(64, 64, kernel_size=3, padding=0, stride=2, bias=False), # 22x22 → 10x10, RF=17\n",
    "            nn.ReLU(),\n",
    "            nn.BatchNorm2d(64),\n",
    "            nn.Dropout(dropout_value),\n",
    "\n",
    "            nn.Conv2d(64, 32, kernel_size=1, padding=0, bias=False), # 10x10 → 10x10, RF=17\n",
    "            nn.AvgPool2d(2, 2)  # 10x10 → 5x5, RF=21\n",
    "        )\n",
    "\n",
    "        # CONVOLUTION BLOCK 4 (C4) — RF: 44\n",
    "        self.c4 = nn.Sequential(\n",
    "            nn.Conv2d(32, 64, kernel_size=3, padding=1, bias=False),  # 5x5 → 5x5, RF=25\n",
    "            nn.ReLU(),\n",
    "            nn.BatchNorm2d(64),\n",
    "            nn.Dropout(dropout_value),\n",
    "\n",
    "            nn.Conv2d(64, 64, kernel_size=3, padding=1, bias=False),  # 5x5 → 5x5, RF=29\n",
    "            nn.ReLU(),\n",
    "            nn.BatchNorm2d(64),\n",
    "            nn.Dropout(dropout_value),\n",
    "\n",
    "            nn.AvgPool2d(kernel_size=5)  # 5x5 → 1x1, RF=44\n",
    "        )\n",
    "\n",
    "        # OUTPUT BLOCK (O) — 1x1x10\n",
    "        self.output = nn.Conv2d(64, 10, kernel_size=1, padding=0, bias=False)\n",
    "\n",
    "    def forward(self, x):\n",
    "        x = self.c1(x)       # → 24x24x64\n",
    "        x = self.c2(x)       # → 22x22x64\n",
    "        x = self.c3(x)       # → 5x5x32\n",
    "        x = self.c4(x)       # → 1x1x64\n",
    "        x = self.output(x)   # → 1x1x10\n",
    "        x = x.view(-1, 10)\n",
    "        return F.log_softmax(x, dim=-1)\n",
    "\n",
    "import torch\n",
    "from torchsummary import summary\n",
    "use_cuda = torch.cuda.is_available()\n",
    "device = torch.device(\"cuda\" if use_cuda else \"cpu\")\n",
    "print(device)\n",
    "model = Net().to(device)\n",
    "summary(model, input_size=(3, 32, 32))"
   ],
   "metadata": {
    "colab": {
     "base_uri": "https://localhost:8080/"
    },
    "id": "HqSqB4VvATct",
    "outputId": "864ce6d7-b537-4a86-9693-de40d1d15475"
   },
   "execution_count": null,
   "outputs": [
    {
     "output_type": "stream",
     "name": "stdout",
     "text": [
      "cuda\n",
      "----------------------------------------------------------------\n",
      "        Layer (type)               Output Shape         Param #\n",
      "================================================================\n",
      "            Conv2d-1           [-1, 32, 30, 30]             864\n",
      "              ReLU-2           [-1, 32, 30, 30]               0\n",
      "       BatchNorm2d-3           [-1, 32, 30, 30]              64\n",
      "           Dropout-4           [-1, 32, 30, 30]               0\n",
      "            Conv2d-5           [-1, 64, 28, 28]          18,432\n",
      "              ReLU-6           [-1, 64, 28, 28]               0\n",
      "       BatchNorm2d-7           [-1, 64, 28, 28]             128\n",
      "           Dropout-8           [-1, 64, 28, 28]               0\n",
      "            Conv2d-9           [-1, 64, 24, 24]          36,864\n",
      "             ReLU-10           [-1, 64, 24, 24]               0\n",
      "      BatchNorm2d-11           [-1, 64, 24, 24]             128\n",
      "          Dropout-12           [-1, 64, 24, 24]               0\n",
      "           Conv2d-13           [-1, 32, 24, 24]           2,048\n",
      "           Conv2d-14           [-1, 32, 24, 24]             288\n",
      "             ReLU-15           [-1, 32, 24, 24]               0\n",
      "      BatchNorm2d-16           [-1, 32, 24, 24]              64\n",
      "           Conv2d-17           [-1, 64, 24, 24]           2,048\n",
      "             ReLU-18           [-1, 64, 24, 24]               0\n",
      "      BatchNorm2d-19           [-1, 64, 24, 24]             128\n",
      "          Dropout-20           [-1, 64, 24, 24]               0\n",
      "           Conv2d-21           [-1, 64, 22, 22]          36,864\n",
      "             ReLU-22           [-1, 64, 22, 22]               0\n",
      "      BatchNorm2d-23           [-1, 64, 22, 22]             128\n",
      "          Dropout-24           [-1, 64, 22, 22]               0\n",
      "           Conv2d-25           [-1, 64, 10, 10]          36,864\n",
      "             ReLU-26           [-1, 64, 10, 10]               0\n",
      "      BatchNorm2d-27           [-1, 64, 10, 10]             128\n",
      "          Dropout-28           [-1, 64, 10, 10]               0\n",
      "           Conv2d-29           [-1, 32, 10, 10]           2,048\n",
      "        AvgPool2d-30             [-1, 32, 5, 5]               0\n",
      "           Conv2d-31             [-1, 64, 5, 5]          18,432\n",
      "             ReLU-32             [-1, 64, 5, 5]               0\n",
      "      BatchNorm2d-33             [-1, 64, 5, 5]             128\n",
      "          Dropout-34             [-1, 64, 5, 5]               0\n",
      "           Conv2d-35             [-1, 64, 5, 5]          36,864\n",
      "             ReLU-36             [-1, 64, 5, 5]               0\n",
      "      BatchNorm2d-37             [-1, 64, 5, 5]             128\n",
      "          Dropout-38             [-1, 64, 5, 5]               0\n",
      "        AvgPool2d-39             [-1, 64, 1, 1]               0\n",
      "           Conv2d-40             [-1, 10, 1, 1]             640\n",
      "================================================================\n",
      "Total params: 193,280\n",
      "Trainable params: 193,280\n",
      "Non-trainable params: 0\n",
      "----------------------------------------------------------------\n",
      "Input size (MB): 0.01\n",
      "Forward/backward pass size (MB): 6.49\n",
      "Params size (MB): 0.74\n",
      "Estimated Total Size (MB): 7.24\n",
      "----------------------------------------------------------------\n"
     ]
    }
   ]
  },
  {
   "cell_type": "code",
   "source": [],
   "metadata": {
    "id": "Ij9urWhNAYAB"
   },
   "execution_count": null,
   "outputs": []
  }
 ]
}
