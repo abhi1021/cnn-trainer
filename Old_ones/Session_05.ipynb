{
 "nbformat": 4,
 "nbformat_minor": 0,
 "metadata": {
  "colab": {
   "provenance": [],
   "gpuType": "T4"
  },
  "kernelspec": {
   "name": "python3",
   "display_name": "Python 3"
  },
  "language_info": {
   "name": "python"
  },
  "accelerator": "GPU",
  "gpuClass": "standard"
 },
 "cells": [
  {
   "cell_type": "markdown",
   "source": [
    "CODE BLOCK: 1"
   ],
   "metadata": {
    "id": "n09vaEgP6pLj"
   }
  },
  {
   "cell_type": "code",
   "execution_count": 2,
   "metadata": {
    "id": "6PlbomWY3RSq"
   },
   "outputs": [],
   "source": [
    "import torch\n",
    "import torch.nn as nn\n",
    "import torch.nn.functional as F\n",
    "import torch.optim as optim\n",
    "from torchvision import datasets, transforms"
   ]
  },
  {
   "cell_type": "markdown",
   "source": [
    "CODE BLOCK: 2"
   ],
   "metadata": {
    "id": "VjBHHQVA6sXt"
   }
  },
  {
   "cell_type": "code",
   "source": [
    "# CUDA?\n",
    "cuda = torch.cuda.is_available()\n",
    "print(\"CUDA Available?\", cuda)"
   ],
   "metadata": {
    "colab": {
     "base_uri": "https://localhost:8080/"
    },
    "id": "94BxVVBP3WwS",
    "outputId": "54f80120-7715-46bf-c3f6-3470390aae28"
   },
   "execution_count": 3,
   "outputs": [
    {
     "output_type": "stream",
     "name": "stdout",
     "text": [
      "CUDA Available? True\n"
     ]
    }
   ]
  },
  {
   "cell_type": "markdown",
   "source": [
    "CODE BLOCK: 3"
   ],
   "metadata": {
    "id": "3UHq59Sw6tmW"
   }
  },
  {
   "cell_type": "code",
   "source": [
    "# Train data transformations\n",
    "train_transforms = transforms.Compose([\n",
    "    transforms.RandomApply([transforms.CenterCrop(22), ], p=0.1),\n",
    "    transforms.Resize((28, 28)),\n",
    "    transforms.RandomRotation((-15., 15.), fill=0),\n",
    "    transforms.ToTensor(),\n",
    "    transforms.Normalize((0.1407,), (0.4081,)),\n",
    "    ])\n",
    "\n",
    "# Test data transformations\n",
    "test_transforms = transforms.Compose([\n",
    "    transforms.ToTensor(),\n",
    "    transforms.Normalize((0.1407,), (0.4081,))\n",
    "    ])"
   ],
   "metadata": {
    "id": "KpshQ2Ug38m2"
   },
   "execution_count": 4,
   "outputs": []
  },
  {
   "cell_type": "markdown",
   "source": [
    "CODE BLOCK: 4"
   ],
   "metadata": {
    "id": "zQm17pM46zHL"
   }
  },
  {
   "cell_type": "code",
   "source": [
    "train_data = datasets.MNIST('../data', train=True, download=True, transform=train_transforms)\n",
    "test_data = datasets.MNIST('../data', train=False, download=True, transform=train_transforms)"
   ],
   "metadata": {
    "id": "JB79ZYW13-AO",
    "colab": {
     "base_uri": "https://localhost:8080/"
    },
    "outputId": "bbeef08e-9121-4eb8-f428-67d79413dc4e"
   },
   "execution_count": 5,
   "outputs": [
    {
     "output_type": "stream",
     "name": "stderr",
     "text": [
      "100%|██████████| 9.91M/9.91M [00:00<00:00, 58.4MB/s]\n",
      "100%|██████████| 28.9k/28.9k [00:00<00:00, 1.04MB/s]\n",
      "100%|██████████| 1.65M/1.65M [00:00<00:00, 14.4MB/s]\n",
      "100%|██████████| 4.54k/4.54k [00:00<00:00, 8.50MB/s]\n"
     ]
    }
   ]
  },
  {
   "cell_type": "markdown",
   "source": [
    "CODE BLOCK: 5"
   ],
   "metadata": {
    "id": "_PKSHxto6116"
   }
  },
  {
   "cell_type": "code",
   "source": [
    "batch_size = 64\n",
    "\n",
    "train_kwargs = {'batch_size': batch_size, 'shuffle': True, 'num_workers': 2, 'pin_memory': True}\n",
    "test_kwargs = {'batch_size': batch_size, 'shuffle': False, 'num_workers': 2, 'pin_memory': True}\n",
    "\n",
    "train_loader = torch.utils.data.DataLoader(train_data, **train_kwargs)\n",
    "test_loader = torch.utils.data.DataLoader(test_data, **test_kwargs)\n"
   ],
   "metadata": {
    "id": "avCKK1uL4A68"
   },
   "execution_count": 6,
   "outputs": []
  },
  {
   "cell_type": "markdown",
   "source": [
    "CODE BLOCK: 6"
   ],
   "metadata": {
    "id": "Hi_0rfq56-29"
   }
  },
  {
   "cell_type": "code",
   "source": [
    "import matplotlib.pyplot as plt\n",
    "\n",
    "batch_data, batch_label = next(iter(train_loader))\n",
    "\n",
    "fig = plt.figure()\n",
    "\n",
    "for i in range(12):\n",
    "  plt.subplot(3,4,i+1)\n",
    "  plt.tight_layout()\n",
    "  plt.imshow(batch_data[i].squeeze(0), cmap='gray')\n",
    "  plt.title(batch_label[i].item())\n",
    "  plt.xticks([])\n",
    "  plt.yticks([])"
   ],
   "metadata": {
    "colab": {
     "base_uri": "https://localhost:8080/",
     "height": 463
    },
    "id": "Hx7QkLcw4Epc",
    "outputId": "b42a4a5d-7956-4d1b-9c6d-64a4ce765273"
   },
   "execution_count": 7,
   "outputs": [
    {
     "output_type": "display_data",
     "data": {
      "text/plain": [
       "<Figure size 640x480 with 12 Axes>"
      ],
      "image/png": "[encoded data removed]"
     },
     "metadata": {}
    }
   ]
  },
  {
   "cell_type": "code",
   "source": [
    "\n",
    "from tqdm import tqdm\n",
    "\n",
    "def GetCorrectPredCount(pPrediction, pLabels):\n",
    "  return pPrediction.argmax(dim=1).eq(pLabels).sum().item()\n",
    "\n",
    "def train(model, device, train_loader, optimizer, criterion):\n",
    "  model.train()\n",
    "  pbar = tqdm(train_loader)\n",
    "\n",
    "  train_loss = 0\n",
    "  correct = 0\n",
    "  processed = 0\n",
    "\n",
    "  for batch_idx, (data, target) in enumerate(pbar):\n",
    "    data, target = data.to(device), target.to(device)\n",
    "    optimizer.zero_grad()\n",
    "\n",
    "    # Predict\n",
    "    pred = model(data)\n",
    "\n",
    "    # Calculate loss\n",
    "    loss = criterion(pred, target)\n",
    "    train_loss+=loss.item()\n",
    "\n",
    "    # Backpropagation\n",
    "    loss.backward()\n",
    "    optimizer.step()\n",
    "\n",
    "    correct += GetCorrectPredCount(pred, target)\n",
    "    processed += len(data)\n",
    "\n",
    "    pbar.set_description(desc= f'Train: Loss={loss.item():0.4f} Batch_id={batch_idx} Accuracy={100*correct/processed:0.2f}')\n",
    "\n",
    "  train_acc.append(100*correct/processed)\n",
    "  train_losses.append(train_loss/len(train_loader))\n",
    "\n",
    "def test(model, device, test_loader, criterion):\n",
    "    model.eval()\n",
    "\n",
    "    test_loss = 0\n",
    "    correct = 0\n",
    "\n",
    "    with torch.no_grad():\n",
    "        for batch_idx, (data, target) in enumerate(test_loader):\n",
    "            data, target = data.to(device), target.to(device)\n",
    "\n",
    "            output = model(data)\n",
    "            test_loss += criterion(output, target).item()  # sum up batch loss\n",
    "\n",
    "            correct += GetCorrectPredCount(output, target)\n",
    "\n",
    "\n",
    "    test_loss /= len(test_loader.dataset)\n",
    "    test_acc.append(100. * correct / len(test_loader.dataset))\n",
    "    test_losses.append(test_loss)\n",
    "\n",
    "    print('Test set: Average loss: {:.4f}, Accuracy: {}/{} ({:.2f}%)\\n'.format(\n",
    "        test_loss, correct, len(test_loader.dataset),\n",
    "        100. * correct / len(test_loader.dataset)))\n",
    "\n"
   ],
   "metadata": {
    "id": "TWj7w2n2kPxJ"
   },
   "execution_count": 8,
   "outputs": []
  },
  {
   "cell_type": "markdown",
   "source": [
    "CODE BLOCK: 7"
   ],
   "metadata": {
    "id": "y3XbVJSb7Aee"
   }
  },
  {
   "metadata": {},
   "cell_type": "markdown",
   "source": "FINAL MODEL"
  },
  {
   "cell_type": "code",
   "source": [
    "class Net(nn.Module):\n",
    "    #This defines the structure of the NN.\n",
    "    def __init__(self):\n",
    "        super(Net, self).__init__()\n",
    "        #28X28\n",
    "        self.conv1 = nn.Conv2d(1, 16, kernel_size=3) # 26X26X16\n",
    "        self.bn1 = nn.BatchNorm2d(16)   # 26x26X16\n",
    "        self.conv2 = nn.Conv2d(16, 16, kernel_size=3) # 24X24X16\n",
    "        self.bn2 = nn.BatchNorm2d(16)   # 24X24X16\n",
    "        self.pool1 = nn.MaxPool2d(2, 2) # 12X12X16\n",
    "        self.conv3 = nn.Conv2d(16, 16, kernel_size=3) # 10X10X32\n",
    "        self.bn3 = nn.BatchNorm2d(16)   # 10X10X32\n",
    "        self.conv4 = nn.Conv2d(16, 32, kernel_size=3) # 8X8X32\n",
    "        self.bn4 = nn.BatchNorm2d(32)   # 8X8X32\n",
    "        self.pool2 = nn.MaxPool2d(2, 2) # 4X4X32\n",
    "        self.conv5 = nn.Conv2d(32, 8, kernel_size=1) # 4X4X4 ??\n",
    "        self.conv6 = nn.Conv2d(8, 16, kernel_size=3, padding=1) # 4X4X8\n",
    "        self.bn6 = nn.BatchNorm2d(16)   # 4X4X8\n",
    "        self.conv7 = nn.Conv2d(16, 16, kernel_size=3, padding=0) # 2X2X16\n",
    "        self.bn7 = nn.BatchNorm2d(16)   # 2X2X16\n",
    "        self.fc1 = nn.Linear(16*2*2, 40)\n",
    "        self.drop = nn.Dropout(p=0.1)\n",
    "        self.fc2 = nn.Linear(40, 10)\n",
    "\n",
    "    def forward(self, x):\n",
    "        x = F.relu(self.bn1(self.conv1(x)), 2)\n",
    "        x = F.relu(self.bn2(self.conv2(x)), 2)\n",
    "        x = self.pool1(x)\n",
    "        x = F.relu(self.bn3(self.conv3(x)), 2)\n",
    "        x = F.relu(self.bn4(self.conv4(x)), 2)\n",
    "        x = self.pool2(x)\n",
    "        x = self.conv5(x)\n",
    "        x = F.relu(self.bn6(self.conv6(x)), 2)\n",
    "        x = F.relu(self.bn7(self.conv7(x)), 2)\n",
    "        x = x.view(-1,16*2*2)\n",
    "        x = self.drop(F.relu(self.fc1(x)))\n",
    "        x = self.fc2(x)\n",
    "        return F.log_softmax(x, dim=1)\n",
    "\n",
    "# Data to plot accuracy and loss graphs\n",
    "train_losses = []\n",
    "test_losses = []\n",
    "train_acc = []\n",
    "test_acc = []\n",
    "\n",
    "\n",
    "!pip install torchsummary\n",
    "from torchsummary import summary\n",
    "use_cuda = torch.cuda.is_available()\n",
    "device = torch.device(\"cuda\" if use_cuda else \"cpu\")\n",
    "model = Net().to(device)\n",
    "summary(model, input_size=(1, 28, 28))\n",
    "\n",
    "test_incorrect_pred = {'images': [], 'ground_truths': [], 'predicted_vals': []}\n",
    "\n",
    "device = torch.device(\"cuda\" if torch.cuda.is_available() else \"cpu\")\n",
    "model = Net().to(device)\n",
    "optimizer = optim.Adam(model.parameters(), lr=0.001)\n",
    "scheduler = optim.lr_scheduler.StepLR(optimizer, step_size=15, gamma=0.1)\n",
    "# New Line\n",
    "criterion = nn.CrossEntropyLoss()\n",
    "num_epochs = 20\n",
    "\n",
    "for epoch in range(1, num_epochs+1):\n",
    "  print(f'Epoch {epoch}')\n",
    "  train(model, device, train_loader, optimizer, criterion)\n",
    "  test(model, device, train_loader, criterion)\n",
    "  scheduler.step()\n",
    "\n",
    "fig, axs = plt.subplots(2,2,figsize=(15,10))\n",
    "axs[0, 0].plot(train_losses)\n",
    "axs[0, 0].set_title(\"Training Loss\")\n",
    "axs[1, 0].plot(train_acc)\n",
    "axs[1, 0].set_title(\"Training Accuracy\")\n",
    "axs[0, 1].plot(test_losses)\n",
    "axs[0, 1].set_title(\"Test Loss\")\n",
    "axs[1, 1].plot(test_acc)\n",
    "axs[1, 1].set_title(\"Test Accuracy\")"
   ],
   "metadata": {
    "colab": {
     "base_uri": "https://localhost:8080/",
     "height": 1000
    },
    "id": "3PDfu-eDzBM-",
    "outputId": "9cd944e2-9502-4d1a-bb74-a88d4fc2f768"
   },
   "execution_count": 9,
   "outputs": [
    {
     "output_type": "stream",
     "name": "stdout",
     "text": [
      "Requirement already satisfied: torchsummary in /usr/local/lib/python3.12/dist-packages (1.5.1)\n",
      "----------------------------------------------------------------\n",
      "        Layer (type)               Output Shape         Param #\n",
      "================================================================\n",
      "            Conv2d-1           [-1, 16, 26, 26]             160\n",
      "       BatchNorm2d-2           [-1, 16, 26, 26]              32\n",
      "            Conv2d-3           [-1, 16, 24, 24]           2,320\n",
      "       BatchNorm2d-4           [-1, 16, 24, 24]              32\n",
      "         MaxPool2d-5           [-1, 16, 12, 12]               0\n",
      "            Conv2d-6           [-1, 16, 10, 10]           2,320\n",
      "       BatchNorm2d-7           [-1, 16, 10, 10]              32\n",
      "            Conv2d-8             [-1, 32, 8, 8]           4,640\n",
      "       BatchNorm2d-9             [-1, 32, 8, 8]              64\n",
      "        MaxPool2d-10             [-1, 32, 4, 4]               0\n",
      "           Conv2d-11              [-1, 8, 4, 4]             264\n",
      "           Conv2d-12             [-1, 16, 4, 4]           1,168\n",
      "      BatchNorm2d-13             [-1, 16, 4, 4]              32\n",
      "           Conv2d-14             [-1, 16, 2, 2]           2,320\n",
      "      BatchNorm2d-15             [-1, 16, 2, 2]              32\n",
      "           Linear-16                   [-1, 40]           2,600\n",
      "          Dropout-17                   [-1, 40]               0\n",
      "           Linear-18                   [-1, 10]             410\n",
      "================================================================\n",
      "Total params: 16,426\n",
      "Trainable params: 16,426\n",
      "Non-trainable params: 0\n",
      "----------------------------------------------------------------\n",
      "Input size (MB): 0.00\n",
      "Forward/backward pass size (MB): 0.39\n",
      "Params size (MB): 0.06\n",
      "Estimated Total Size (MB): 0.46\n",
      "----------------------------------------------------------------\n",
      "Epoch 1\n"
     ]
    },
    {
     "output_type": "stream",
     "name": "stderr",
     "text": [
      "Train: Loss=0.0182 Batch_id=937 Accuracy=93.04: 100%|██████████| 938/938 [00:23<00:00, 39.61it/s]\n"
     ]
    },
    {
     "output_type": "stream",
     "name": "stdout",
     "text": [
      "Test set: Average loss: 0.0014, Accuracy: 58417/60000 (97.36%)\n",
      "\n",
      "Epoch 2\n"
     ]
    },
    {
     "output_type": "stream",
     "name": "stderr",
     "text": [
      "Train: Loss=0.0070 Batch_id=937 Accuracy=97.67: 100%|██████████| 938/938 [00:23<00:00, 40.61it/s]\n"
     ]
    },
    {
     "output_type": "stream",
     "name": "stdout",
     "text": [
      "Test set: Average loss: 0.0010, Accuracy: 58814/60000 (98.02%)\n",
      "\n",
      "Epoch 3\n"
     ]
    },
    {
     "output_type": "stream",
     "name": "stderr",
     "text": [
      "Train: Loss=0.0797 Batch_id=937 Accuracy=98.19: 100%|██████████| 938/938 [00:22<00:00, 41.75it/s]\n"
     ]
    },
    {
     "output_type": "stream",
     "name": "stdout",
     "text": [
      "Test set: Average loss: 0.0008, Accuracy: 59006/60000 (98.34%)\n",
      "\n",
      "Epoch 4\n"
     ]
    },
    {
     "output_type": "stream",
     "name": "stderr",
     "text": [
      "Train: Loss=0.1583 Batch_id=937 Accuracy=98.39: 100%|██████████| 938/938 [00:23<00:00, 40.76it/s]\n"
     ]
    },
    {
     "output_type": "stream",
     "name": "stdout",
     "text": [
      "Test set: Average loss: 0.0007, Accuracy: 59089/60000 (98.48%)\n",
      "\n",
      "Epoch 5\n"
     ]
    },
    {
     "output_type": "stream",
     "name": "stderr",
     "text": [
      "Train: Loss=0.2148 Batch_id=937 Accuracy=98.60: 100%|██████████| 938/938 [00:23<00:00, 40.12it/s]\n"
     ]
    },
    {
     "output_type": "stream",
     "name": "stdout",
     "text": [
      "Test set: Average loss: 0.0006, Accuracy: 59208/60000 (98.68%)\n",
      "\n",
      "Epoch 6\n"
     ]
    },
    {
     "output_type": "stream",
     "name": "stderr",
     "text": [
      "Train: Loss=0.0086 Batch_id=937 Accuracy=98.65: 100%|██████████| 938/938 [00:23<00:00, 40.24it/s]\n"
     ]
    },
    {
     "output_type": "stream",
     "name": "stdout",
     "text": [
      "Test set: Average loss: 0.0005, Accuracy: 59390/60000 (98.98%)\n",
      "\n",
      "Epoch 7\n"
     ]
    },
    {
     "output_type": "stream",
     "name": "stderr",
     "text": [
      "Train: Loss=0.0184 Batch_id=937 Accuracy=98.74: 100%|██████████| 938/938 [00:22<00:00, 42.12it/s]\n"
     ]
    },
    {
     "output_type": "stream",
     "name": "stdout",
     "text": [
      "Test set: Average loss: 0.0005, Accuracy: 59377/60000 (98.96%)\n",
      "\n",
      "Epoch 8\n"
     ]
    },
    {
     "output_type": "stream",
     "name": "stderr",
     "text": [
      "Train: Loss=0.0067 Batch_id=937 Accuracy=98.70: 100%|██████████| 938/938 [00:23<00:00, 40.43it/s]\n"
     ]
    },
    {
     "output_type": "stream",
     "name": "stdout",
     "text": [
      "Test set: Average loss: 0.0005, Accuracy: 59376/60000 (98.96%)\n",
      "\n",
      "Epoch 9\n"
     ]
    },
    {
     "output_type": "stream",
     "name": "stderr",
     "text": [
      "Train: Loss=0.0288 Batch_id=937 Accuracy=98.81: 100%|██████████| 938/938 [00:23<00:00, 40.42it/s]\n"
     ]
    },
    {
     "output_type": "stream",
     "name": "stdout",
     "text": [
      "Test set: Average loss: 0.0004, Accuracy: 59457/60000 (99.09%)\n",
      "\n",
      "Epoch 10\n"
     ]
    },
    {
     "output_type": "stream",
     "name": "stderr",
     "text": [
      "Train: Loss=0.0219 Batch_id=937 Accuracy=98.87: 100%|██████████| 938/938 [00:23<00:00, 40.28it/s]\n"
     ]
    },
    {
     "output_type": "stream",
     "name": "stdout",
     "text": [
      "Test set: Average loss: 0.0004, Accuracy: 59466/60000 (99.11%)\n",
      "\n",
      "Epoch 11\n"
     ]
    },
    {
     "output_type": "stream",
     "name": "stderr",
     "text": [
      "Train: Loss=0.0122 Batch_id=937 Accuracy=98.95: 100%|██████████| 938/938 [00:22<00:00, 41.98it/s]\n"
     ]
    },
    {
     "output_type": "stream",
     "name": "stdout",
     "text": [
      "Test set: Average loss: 0.0005, Accuracy: 59439/60000 (99.06%)\n",
      "\n",
      "Epoch 12\n"
     ]
    },
    {
     "output_type": "stream",
     "name": "stderr",
     "text": [
      "Train: Loss=0.0644 Batch_id=937 Accuracy=99.00: 100%|██████████| 938/938 [00:23<00:00, 40.39it/s]\n"
     ]
    },
    {
     "output_type": "stream",
     "name": "stdout",
     "text": [
      "Test set: Average loss: 0.0004, Accuracy: 59520/60000 (99.20%)\n",
      "\n",
      "Epoch 13\n"
     ]
    },
    {
     "output_type": "stream",
     "name": "stderr",
     "text": [
      "Train: Loss=0.0292 Batch_id=937 Accuracy=99.02: 100%|██████████| 938/938 [00:22<00:00, 40.82it/s]\n"
     ]
    },
    {
     "output_type": "stream",
     "name": "stdout",
     "text": [
      "Test set: Average loss: 0.0004, Accuracy: 59520/60000 (99.20%)\n",
      "\n",
      "Epoch 14\n"
     ]
    },
    {
     "output_type": "stream",
     "name": "stderr",
     "text": [
      "Train: Loss=0.0026 Batch_id=937 Accuracy=99.00: 100%|██████████| 938/938 [00:22<00:00, 40.82it/s]\n"
     ]
    },
    {
     "output_type": "stream",
     "name": "stdout",
     "text": [
      "Test set: Average loss: 0.0005, Accuracy: 59424/60000 (99.04%)\n",
      "\n",
      "Epoch 15\n"
     ]
    },
    {
     "output_type": "stream",
     "name": "stderr",
     "text": [
      "Train: Loss=0.0098 Batch_id=937 Accuracy=99.08: 100%|██████████| 938/938 [00:22<00:00, 41.07it/s]\n"
     ]
    },
    {
     "output_type": "stream",
     "name": "stdout",
     "text": [
      "Test set: Average loss: 0.0004, Accuracy: 59568/60000 (99.28%)\n",
      "\n",
      "Epoch 16\n"
     ]
    },
    {
     "output_type": "stream",
     "name": "stderr",
     "text": [
      "Train: Loss=0.0304 Batch_id=937 Accuracy=99.30: 100%|██████████| 938/938 [00:22<00:00, 41.62it/s]\n"
     ]
    },
    {
     "output_type": "stream",
     "name": "stdout",
     "text": [
      "Test set: Average loss: 0.0003, Accuracy: 59681/60000 (99.47%)\n",
      "\n",
      "Epoch 17\n"
     ]
    },
    {
     "output_type": "stream",
     "name": "stderr",
     "text": [
      "Train: Loss=0.1447 Batch_id=937 Accuracy=99.41: 100%|██████████| 938/938 [00:23<00:00, 40.56it/s]\n"
     ]
    },
    {
     "output_type": "stream",
     "name": "stdout",
     "text": [
      "Test set: Average loss: 0.0002, Accuracy: 59709/60000 (99.52%)\n",
      "\n",
      "Epoch 18\n"
     ]
    },
    {
     "output_type": "stream",
     "name": "stderr",
     "text": [
      "Train: Loss=0.0009 Batch_id=937 Accuracy=99.49: 100%|██████████| 938/938 [00:22<00:00, 40.98it/s]\n"
     ]
    },
    {
     "output_type": "stream",
     "name": "stdout",
     "text": [
      "Test set: Average loss: 0.0002, Accuracy: 59727/60000 (99.55%)\n",
      "\n",
      "Epoch 19\n"
     ]
    },
    {
     "output_type": "stream",
     "name": "stderr",
     "text": [
      "Train: Loss=0.0045 Batch_id=937 Accuracy=99.47: 100%|██████████| 938/938 [00:23<00:00, 40.42it/s]\n"
     ]
    },
    {
     "output_type": "stream",
     "name": "stdout",
     "text": [
      "Test set: Average loss: 0.0002, Accuracy: 59751/60000 (99.58%)\n",
      "\n",
      "Epoch 20\n"
     ]
    },
    {
     "output_type": "stream",
     "name": "stderr",
     "text": [
      "Train: Loss=0.0411 Batch_id=937 Accuracy=99.47: 100%|██████████| 938/938 [00:22<00:00, 41.89it/s]\n"
     ]
    },
    {
     "output_type": "stream",
     "name": "stdout",
     "text": [
      "Test set: Average loss: 0.0002, Accuracy: 59733/60000 (99.56%)\n",
      "\n"
     ]
    },
    {
     "output_type": "execute_result",
     "data": {
      "text/plain": [
       "Text(0.5, 1.0, 'Test Accuracy')"
      ]
     },
     "metadata": {},
     "execution_count": 9
    },
    {
     "output_type": "display_data",
     "data": {
      "text/plain": [
       "<Figure size 1500x1000 with 4 Axes>"
      ],
      "image/png": "[encoded data removed]"
     },
     "metadata": {}
    }
   ]
  }
 ]
}
